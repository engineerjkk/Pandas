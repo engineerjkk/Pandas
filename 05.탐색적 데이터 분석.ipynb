{
 "cells": [
  {
   "cell_type": "markdown",
   "metadata": {},
   "source": [
    "# 5주차"
   ]
  },
  {
   "cell_type": "markdown",
   "metadata": {},
   "source": [
    "# 탐색적 데이터 분석"
   ]
  },
  {
   "cell_type": "markdown",
   "metadata": {},
   "source": [
    "https://www.fueleconomy.gov/feg/download.shtml"
   ]
  },
  {
   "cell_type": "markdown",
   "metadata": {},
   "source": [
    "# 개요  \n",
    "데이터를 확보한 뒤 가장 먼저 할 일은 탐색적 데이터 분석(Exploratory Data Analysis)입니다. 아래의 데이터를 활용하도록 합니다. "
   ]
  },
  {
   "cell_type": "code",
   "execution_count": 1,
   "metadata": {},
   "outputs": [],
   "source": [
    "import pandas as pd\n",
    "import numpy as np"
   ]
  },
  {
   "cell_type": "markdown",
   "metadata": {},
   "source": [
    "경고가 뜨네요. 데이터 타입이 mixed 타입이어서 그런데요. 어차피 저희는 이 데이터 타입을 곧 처리해 줄 거니까요! 괜찮습니다.   \n",
    "### 그리고 fueleco는 자동차들에 대해 연비가 얼마나 좋은지를 나타내는 것입니다"
   ]
  },
  {
   "cell_type": "code",
   "execution_count": 2,
   "metadata": {},
   "outputs": [
    {
     "name": "stderr",
     "output_type": "stream",
     "text": [
      "C:\\Users\\rkdwn\\anaconda3\\lib\\site-packages\\IPython\\core\\interactiveshell.py:3146: DtypeWarning: Columns (70,71,72,73,74,76,79) have mixed types.Specify dtype option on import or set low_memory=False.\n",
      "  has_raised = await self.run_ast_nodes(code_ast.body, cell_name,\n"
     ]
    },
    {
     "data": {
      "text/html": [
       "<div>\n",
       "<style scoped>\n",
       "    .dataframe tbody tr th:only-of-type {\n",
       "        vertical-align: middle;\n",
       "    }\n",
       "\n",
       "    .dataframe tbody tr th {\n",
       "        vertical-align: top;\n",
       "    }\n",
       "\n",
       "    .dataframe thead th {\n",
       "        text-align: right;\n",
       "    }\n",
       "</style>\n",
       "<table border=\"1\" class=\"dataframe\">\n",
       "  <thead>\n",
       "    <tr style=\"text-align: right;\">\n",
       "      <th></th>\n",
       "      <th>barrels08</th>\n",
       "      <th>barrelsA08</th>\n",
       "      <th>charge120</th>\n",
       "      <th>charge240</th>\n",
       "      <th>city08</th>\n",
       "      <th>city08U</th>\n",
       "      <th>cityA08</th>\n",
       "      <th>cityA08U</th>\n",
       "      <th>cityCD</th>\n",
       "      <th>cityE</th>\n",
       "      <th>...</th>\n",
       "      <th>mfrCode</th>\n",
       "      <th>c240Dscr</th>\n",
       "      <th>charge240b</th>\n",
       "      <th>c240bDscr</th>\n",
       "      <th>createdOn</th>\n",
       "      <th>modifiedOn</th>\n",
       "      <th>startStop</th>\n",
       "      <th>phevCity</th>\n",
       "      <th>phevHwy</th>\n",
       "      <th>phevComb</th>\n",
       "    </tr>\n",
       "  </thead>\n",
       "  <tbody>\n",
       "    <tr>\n",
       "      <th>0</th>\n",
       "      <td>15.695714</td>\n",
       "      <td>0.0</td>\n",
       "      <td>0.0</td>\n",
       "      <td>0.0</td>\n",
       "      <td>19</td>\n",
       "      <td>0.0</td>\n",
       "      <td>0</td>\n",
       "      <td>0.0</td>\n",
       "      <td>0.0</td>\n",
       "      <td>0.0</td>\n",
       "      <td>...</td>\n",
       "      <td>NaN</td>\n",
       "      <td>NaN</td>\n",
       "      <td>0.0</td>\n",
       "      <td>NaN</td>\n",
       "      <td>Tue Jan 01 00:00:00 EST 2013</td>\n",
       "      <td>Tue Jan 01 00:00:00 EST 2013</td>\n",
       "      <td>NaN</td>\n",
       "      <td>0</td>\n",
       "      <td>0</td>\n",
       "      <td>0</td>\n",
       "    </tr>\n",
       "    <tr>\n",
       "      <th>1</th>\n",
       "      <td>29.964545</td>\n",
       "      <td>0.0</td>\n",
       "      <td>0.0</td>\n",
       "      <td>0.0</td>\n",
       "      <td>9</td>\n",
       "      <td>0.0</td>\n",
       "      <td>0</td>\n",
       "      <td>0.0</td>\n",
       "      <td>0.0</td>\n",
       "      <td>0.0</td>\n",
       "      <td>...</td>\n",
       "      <td>NaN</td>\n",
       "      <td>NaN</td>\n",
       "      <td>0.0</td>\n",
       "      <td>NaN</td>\n",
       "      <td>Tue Jan 01 00:00:00 EST 2013</td>\n",
       "      <td>Tue Jan 01 00:00:00 EST 2013</td>\n",
       "      <td>NaN</td>\n",
       "      <td>0</td>\n",
       "      <td>0</td>\n",
       "      <td>0</td>\n",
       "    </tr>\n",
       "    <tr>\n",
       "      <th>2</th>\n",
       "      <td>12.207778</td>\n",
       "      <td>0.0</td>\n",
       "      <td>0.0</td>\n",
       "      <td>0.0</td>\n",
       "      <td>23</td>\n",
       "      <td>0.0</td>\n",
       "      <td>0</td>\n",
       "      <td>0.0</td>\n",
       "      <td>0.0</td>\n",
       "      <td>0.0</td>\n",
       "      <td>...</td>\n",
       "      <td>NaN</td>\n",
       "      <td>NaN</td>\n",
       "      <td>0.0</td>\n",
       "      <td>NaN</td>\n",
       "      <td>Tue Jan 01 00:00:00 EST 2013</td>\n",
       "      <td>Tue Jan 01 00:00:00 EST 2013</td>\n",
       "      <td>NaN</td>\n",
       "      <td>0</td>\n",
       "      <td>0</td>\n",
       "      <td>0</td>\n",
       "    </tr>\n",
       "    <tr>\n",
       "      <th>3</th>\n",
       "      <td>29.964545</td>\n",
       "      <td>0.0</td>\n",
       "      <td>0.0</td>\n",
       "      <td>0.0</td>\n",
       "      <td>10</td>\n",
       "      <td>0.0</td>\n",
       "      <td>0</td>\n",
       "      <td>0.0</td>\n",
       "      <td>0.0</td>\n",
       "      <td>0.0</td>\n",
       "      <td>...</td>\n",
       "      <td>NaN</td>\n",
       "      <td>NaN</td>\n",
       "      <td>0.0</td>\n",
       "      <td>NaN</td>\n",
       "      <td>Tue Jan 01 00:00:00 EST 2013</td>\n",
       "      <td>Tue Jan 01 00:00:00 EST 2013</td>\n",
       "      <td>NaN</td>\n",
       "      <td>0</td>\n",
       "      <td>0</td>\n",
       "      <td>0</td>\n",
       "    </tr>\n",
       "    <tr>\n",
       "      <th>4</th>\n",
       "      <td>17.347895</td>\n",
       "      <td>0.0</td>\n",
       "      <td>0.0</td>\n",
       "      <td>0.0</td>\n",
       "      <td>17</td>\n",
       "      <td>0.0</td>\n",
       "      <td>0</td>\n",
       "      <td>0.0</td>\n",
       "      <td>0.0</td>\n",
       "      <td>0.0</td>\n",
       "      <td>...</td>\n",
       "      <td>NaN</td>\n",
       "      <td>NaN</td>\n",
       "      <td>0.0</td>\n",
       "      <td>NaN</td>\n",
       "      <td>Tue Jan 01 00:00:00 EST 2013</td>\n",
       "      <td>Tue Jan 01 00:00:00 EST 2013</td>\n",
       "      <td>NaN</td>\n",
       "      <td>0</td>\n",
       "      <td>0</td>\n",
       "      <td>0</td>\n",
       "    </tr>\n",
       "    <tr>\n",
       "      <th>...</th>\n",
       "      <td>...</td>\n",
       "      <td>...</td>\n",
       "      <td>...</td>\n",
       "      <td>...</td>\n",
       "      <td>...</td>\n",
       "      <td>...</td>\n",
       "      <td>...</td>\n",
       "      <td>...</td>\n",
       "      <td>...</td>\n",
       "      <td>...</td>\n",
       "      <td>...</td>\n",
       "      <td>...</td>\n",
       "      <td>...</td>\n",
       "      <td>...</td>\n",
       "      <td>...</td>\n",
       "      <td>...</td>\n",
       "      <td>...</td>\n",
       "      <td>...</td>\n",
       "      <td>...</td>\n",
       "      <td>...</td>\n",
       "      <td>...</td>\n",
       "    </tr>\n",
       "    <tr>\n",
       "      <th>43413</th>\n",
       "      <td>14.982273</td>\n",
       "      <td>0.0</td>\n",
       "      <td>0.0</td>\n",
       "      <td>0.0</td>\n",
       "      <td>19</td>\n",
       "      <td>0.0</td>\n",
       "      <td>0</td>\n",
       "      <td>0.0</td>\n",
       "      <td>0.0</td>\n",
       "      <td>0.0</td>\n",
       "      <td>...</td>\n",
       "      <td>NaN</td>\n",
       "      <td>NaN</td>\n",
       "      <td>0.0</td>\n",
       "      <td>NaN</td>\n",
       "      <td>Tue Jan 01 00:00:00 EST 2013</td>\n",
       "      <td>Tue Jan 01 00:00:00 EST 2013</td>\n",
       "      <td>NaN</td>\n",
       "      <td>0</td>\n",
       "      <td>0</td>\n",
       "      <td>0</td>\n",
       "    </tr>\n",
       "    <tr>\n",
       "      <th>43414</th>\n",
       "      <td>14.330870</td>\n",
       "      <td>0.0</td>\n",
       "      <td>0.0</td>\n",
       "      <td>0.0</td>\n",
       "      <td>20</td>\n",
       "      <td>0.0</td>\n",
       "      <td>0</td>\n",
       "      <td>0.0</td>\n",
       "      <td>0.0</td>\n",
       "      <td>0.0</td>\n",
       "      <td>...</td>\n",
       "      <td>NaN</td>\n",
       "      <td>NaN</td>\n",
       "      <td>0.0</td>\n",
       "      <td>NaN</td>\n",
       "      <td>Tue Jan 01 00:00:00 EST 2013</td>\n",
       "      <td>Tue Jan 01 00:00:00 EST 2013</td>\n",
       "      <td>NaN</td>\n",
       "      <td>0</td>\n",
       "      <td>0</td>\n",
       "      <td>0</td>\n",
       "    </tr>\n",
       "    <tr>\n",
       "      <th>43415</th>\n",
       "      <td>15.695714</td>\n",
       "      <td>0.0</td>\n",
       "      <td>0.0</td>\n",
       "      <td>0.0</td>\n",
       "      <td>18</td>\n",
       "      <td>0.0</td>\n",
       "      <td>0</td>\n",
       "      <td>0.0</td>\n",
       "      <td>0.0</td>\n",
       "      <td>0.0</td>\n",
       "      <td>...</td>\n",
       "      <td>NaN</td>\n",
       "      <td>NaN</td>\n",
       "      <td>0.0</td>\n",
       "      <td>NaN</td>\n",
       "      <td>Tue Jan 01 00:00:00 EST 2013</td>\n",
       "      <td>Tue Jan 01 00:00:00 EST 2013</td>\n",
       "      <td>NaN</td>\n",
       "      <td>0</td>\n",
       "      <td>0</td>\n",
       "      <td>0</td>\n",
       "    </tr>\n",
       "    <tr>\n",
       "      <th>43416</th>\n",
       "      <td>15.695714</td>\n",
       "      <td>0.0</td>\n",
       "      <td>0.0</td>\n",
       "      <td>0.0</td>\n",
       "      <td>18</td>\n",
       "      <td>0.0</td>\n",
       "      <td>0</td>\n",
       "      <td>0.0</td>\n",
       "      <td>0.0</td>\n",
       "      <td>0.0</td>\n",
       "      <td>...</td>\n",
       "      <td>NaN</td>\n",
       "      <td>NaN</td>\n",
       "      <td>0.0</td>\n",
       "      <td>NaN</td>\n",
       "      <td>Tue Jan 01 00:00:00 EST 2013</td>\n",
       "      <td>Tue Jan 01 00:00:00 EST 2013</td>\n",
       "      <td>NaN</td>\n",
       "      <td>0</td>\n",
       "      <td>0</td>\n",
       "      <td>0</td>\n",
       "    </tr>\n",
       "    <tr>\n",
       "      <th>43417</th>\n",
       "      <td>18.311667</td>\n",
       "      <td>0.0</td>\n",
       "      <td>0.0</td>\n",
       "      <td>0.0</td>\n",
       "      <td>16</td>\n",
       "      <td>0.0</td>\n",
       "      <td>0</td>\n",
       "      <td>0.0</td>\n",
       "      <td>0.0</td>\n",
       "      <td>0.0</td>\n",
       "      <td>...</td>\n",
       "      <td>NaN</td>\n",
       "      <td>NaN</td>\n",
       "      <td>0.0</td>\n",
       "      <td>NaN</td>\n",
       "      <td>Tue Jan 01 00:00:00 EST 2013</td>\n",
       "      <td>Tue Jan 01 00:00:00 EST 2013</td>\n",
       "      <td>NaN</td>\n",
       "      <td>0</td>\n",
       "      <td>0</td>\n",
       "      <td>0</td>\n",
       "    </tr>\n",
       "  </tbody>\n",
       "</table>\n",
       "<p>43418 rows × 83 columns</p>\n",
       "</div>"
      ],
      "text/plain": [
       "       barrels08  barrelsA08  charge120  charge240  city08  city08U  cityA08  \\\n",
       "0      15.695714         0.0        0.0        0.0      19      0.0        0   \n",
       "1      29.964545         0.0        0.0        0.0       9      0.0        0   \n",
       "2      12.207778         0.0        0.0        0.0      23      0.0        0   \n",
       "3      29.964545         0.0        0.0        0.0      10      0.0        0   \n",
       "4      17.347895         0.0        0.0        0.0      17      0.0        0   \n",
       "...          ...         ...        ...        ...     ...      ...      ...   \n",
       "43413  14.982273         0.0        0.0        0.0      19      0.0        0   \n",
       "43414  14.330870         0.0        0.0        0.0      20      0.0        0   \n",
       "43415  15.695714         0.0        0.0        0.0      18      0.0        0   \n",
       "43416  15.695714         0.0        0.0        0.0      18      0.0        0   \n",
       "43417  18.311667         0.0        0.0        0.0      16      0.0        0   \n",
       "\n",
       "       cityA08U  cityCD  cityE  ...  mfrCode  c240Dscr  charge240b  c240bDscr  \\\n",
       "0           0.0     0.0    0.0  ...      NaN       NaN         0.0        NaN   \n",
       "1           0.0     0.0    0.0  ...      NaN       NaN         0.0        NaN   \n",
       "2           0.0     0.0    0.0  ...      NaN       NaN         0.0        NaN   \n",
       "3           0.0     0.0    0.0  ...      NaN       NaN         0.0        NaN   \n",
       "4           0.0     0.0    0.0  ...      NaN       NaN         0.0        NaN   \n",
       "...         ...     ...    ...  ...      ...       ...         ...        ...   \n",
       "43413       0.0     0.0    0.0  ...      NaN       NaN         0.0        NaN   \n",
       "43414       0.0     0.0    0.0  ...      NaN       NaN         0.0        NaN   \n",
       "43415       0.0     0.0    0.0  ...      NaN       NaN         0.0        NaN   \n",
       "43416       0.0     0.0    0.0  ...      NaN       NaN         0.0        NaN   \n",
       "43417       0.0     0.0    0.0  ...      NaN       NaN         0.0        NaN   \n",
       "\n",
       "                          createdOn                    modifiedOn  startStop  \\\n",
       "0      Tue Jan 01 00:00:00 EST 2013  Tue Jan 01 00:00:00 EST 2013        NaN   \n",
       "1      Tue Jan 01 00:00:00 EST 2013  Tue Jan 01 00:00:00 EST 2013        NaN   \n",
       "2      Tue Jan 01 00:00:00 EST 2013  Tue Jan 01 00:00:00 EST 2013        NaN   \n",
       "3      Tue Jan 01 00:00:00 EST 2013  Tue Jan 01 00:00:00 EST 2013        NaN   \n",
       "4      Tue Jan 01 00:00:00 EST 2013  Tue Jan 01 00:00:00 EST 2013        NaN   \n",
       "...                             ...                           ...        ...   \n",
       "43413  Tue Jan 01 00:00:00 EST 2013  Tue Jan 01 00:00:00 EST 2013        NaN   \n",
       "43414  Tue Jan 01 00:00:00 EST 2013  Tue Jan 01 00:00:00 EST 2013        NaN   \n",
       "43415  Tue Jan 01 00:00:00 EST 2013  Tue Jan 01 00:00:00 EST 2013        NaN   \n",
       "43416  Tue Jan 01 00:00:00 EST 2013  Tue Jan 01 00:00:00 EST 2013        NaN   \n",
       "43417  Tue Jan 01 00:00:00 EST 2013  Tue Jan 01 00:00:00 EST 2013        NaN   \n",
       "\n",
       "       phevCity  phevHwy  phevComb  \n",
       "0             0        0         0  \n",
       "1             0        0         0  \n",
       "2             0        0         0  \n",
       "3             0        0         0  \n",
       "4             0        0         0  \n",
       "...         ...      ...       ...  \n",
       "43413         0        0         0  \n",
       "43414         0        0         0  \n",
       "43415         0        0         0  \n",
       "43416         0        0         0  \n",
       "43417         0        0         0  \n",
       "\n",
       "[43418 rows x 83 columns]"
      ]
     },
     "execution_count": 2,
     "metadata": {},
     "output_type": "execute_result"
    }
   ],
   "source": [
    "fueleco=pd.read_csv('data/vehicles.csv.zip')\n",
    "fueleco"
   ]
  },
  {
   "cell_type": "code",
   "execution_count": 7,
   "metadata": {},
   "outputs": [
    {
     "data": {
      "text/html": [
       "<div>\n",
       "<style scoped>\n",
       "    .dataframe tbody tr th:only-of-type {\n",
       "        vertical-align: middle;\n",
       "    }\n",
       "\n",
       "    .dataframe tbody tr th {\n",
       "        vertical-align: top;\n",
       "    }\n",
       "\n",
       "    .dataframe thead th {\n",
       "        text-align: right;\n",
       "    }\n",
       "</style>\n",
       "<table border=\"1\" class=\"dataframe\">\n",
       "  <thead>\n",
       "    <tr style=\"text-align: right;\">\n",
       "      <th></th>\n",
       "      <th>barrels08</th>\n",
       "      <th>barrelsA08</th>\n",
       "      <th>charge120</th>\n",
       "      <th>charge240</th>\n",
       "      <th>city08</th>\n",
       "      <th>city08U</th>\n",
       "      <th>cityA08</th>\n",
       "      <th>cityA08U</th>\n",
       "      <th>cityCD</th>\n",
       "      <th>cityE</th>\n",
       "      <th>...</th>\n",
       "      <th>mfrCode</th>\n",
       "      <th>c240Dscr</th>\n",
       "      <th>charge240b</th>\n",
       "      <th>c240bDscr</th>\n",
       "      <th>createdOn</th>\n",
       "      <th>modifiedOn</th>\n",
       "      <th>startStop</th>\n",
       "      <th>phevCity</th>\n",
       "      <th>phevHwy</th>\n",
       "      <th>phevComb</th>\n",
       "    </tr>\n",
       "  </thead>\n",
       "  <tbody>\n",
       "    <tr>\n",
       "      <th>0</th>\n",
       "      <td>15.695714</td>\n",
       "      <td>0.0</td>\n",
       "      <td>0.0</td>\n",
       "      <td>0.0</td>\n",
       "      <td>19</td>\n",
       "      <td>0.0</td>\n",
       "      <td>0</td>\n",
       "      <td>0.0</td>\n",
       "      <td>0.0</td>\n",
       "      <td>0.0</td>\n",
       "      <td>...</td>\n",
       "      <td>NaN</td>\n",
       "      <td>NaN</td>\n",
       "      <td>0.0</td>\n",
       "      <td>NaN</td>\n",
       "      <td>Tue Jan 01 00:00:00 EST 2013</td>\n",
       "      <td>Tue Jan 01 00:00:00 EST 2013</td>\n",
       "      <td>NaN</td>\n",
       "      <td>0</td>\n",
       "      <td>0</td>\n",
       "      <td>0</td>\n",
       "    </tr>\n",
       "    <tr>\n",
       "      <th>1</th>\n",
       "      <td>29.964545</td>\n",
       "      <td>0.0</td>\n",
       "      <td>0.0</td>\n",
       "      <td>0.0</td>\n",
       "      <td>9</td>\n",
       "      <td>0.0</td>\n",
       "      <td>0</td>\n",
       "      <td>0.0</td>\n",
       "      <td>0.0</td>\n",
       "      <td>0.0</td>\n",
       "      <td>...</td>\n",
       "      <td>NaN</td>\n",
       "      <td>NaN</td>\n",
       "      <td>0.0</td>\n",
       "      <td>NaN</td>\n",
       "      <td>Tue Jan 01 00:00:00 EST 2013</td>\n",
       "      <td>Tue Jan 01 00:00:00 EST 2013</td>\n",
       "      <td>NaN</td>\n",
       "      <td>0</td>\n",
       "      <td>0</td>\n",
       "      <td>0</td>\n",
       "    </tr>\n",
       "    <tr>\n",
       "      <th>2</th>\n",
       "      <td>12.207778</td>\n",
       "      <td>0.0</td>\n",
       "      <td>0.0</td>\n",
       "      <td>0.0</td>\n",
       "      <td>23</td>\n",
       "      <td>0.0</td>\n",
       "      <td>0</td>\n",
       "      <td>0.0</td>\n",
       "      <td>0.0</td>\n",
       "      <td>0.0</td>\n",
       "      <td>...</td>\n",
       "      <td>NaN</td>\n",
       "      <td>NaN</td>\n",
       "      <td>0.0</td>\n",
       "      <td>NaN</td>\n",
       "      <td>Tue Jan 01 00:00:00 EST 2013</td>\n",
       "      <td>Tue Jan 01 00:00:00 EST 2013</td>\n",
       "      <td>NaN</td>\n",
       "      <td>0</td>\n",
       "      <td>0</td>\n",
       "      <td>0</td>\n",
       "    </tr>\n",
       "    <tr>\n",
       "      <th>3</th>\n",
       "      <td>29.964545</td>\n",
       "      <td>0.0</td>\n",
       "      <td>0.0</td>\n",
       "      <td>0.0</td>\n",
       "      <td>10</td>\n",
       "      <td>0.0</td>\n",
       "      <td>0</td>\n",
       "      <td>0.0</td>\n",
       "      <td>0.0</td>\n",
       "      <td>0.0</td>\n",
       "      <td>...</td>\n",
       "      <td>NaN</td>\n",
       "      <td>NaN</td>\n",
       "      <td>0.0</td>\n",
       "      <td>NaN</td>\n",
       "      <td>Tue Jan 01 00:00:00 EST 2013</td>\n",
       "      <td>Tue Jan 01 00:00:00 EST 2013</td>\n",
       "      <td>NaN</td>\n",
       "      <td>0</td>\n",
       "      <td>0</td>\n",
       "      <td>0</td>\n",
       "    </tr>\n",
       "    <tr>\n",
       "      <th>4</th>\n",
       "      <td>17.347895</td>\n",
       "      <td>0.0</td>\n",
       "      <td>0.0</td>\n",
       "      <td>0.0</td>\n",
       "      <td>17</td>\n",
       "      <td>0.0</td>\n",
       "      <td>0</td>\n",
       "      <td>0.0</td>\n",
       "      <td>0.0</td>\n",
       "      <td>0.0</td>\n",
       "      <td>...</td>\n",
       "      <td>NaN</td>\n",
       "      <td>NaN</td>\n",
       "      <td>0.0</td>\n",
       "      <td>NaN</td>\n",
       "      <td>Tue Jan 01 00:00:00 EST 2013</td>\n",
       "      <td>Tue Jan 01 00:00:00 EST 2013</td>\n",
       "      <td>NaN</td>\n",
       "      <td>0</td>\n",
       "      <td>0</td>\n",
       "      <td>0</td>\n",
       "    </tr>\n",
       "  </tbody>\n",
       "</table>\n",
       "<p>5 rows × 83 columns</p>\n",
       "</div>"
      ],
      "text/plain": [
       "   barrels08  barrelsA08  charge120  charge240  city08  city08U  cityA08  \\\n",
       "0  15.695714         0.0        0.0        0.0      19      0.0        0   \n",
       "1  29.964545         0.0        0.0        0.0       9      0.0        0   \n",
       "2  12.207778         0.0        0.0        0.0      23      0.0        0   \n",
       "3  29.964545         0.0        0.0        0.0      10      0.0        0   \n",
       "4  17.347895         0.0        0.0        0.0      17      0.0        0   \n",
       "\n",
       "   cityA08U  cityCD  cityE  ...  mfrCode  c240Dscr  charge240b  c240bDscr  \\\n",
       "0       0.0     0.0    0.0  ...      NaN       NaN         0.0        NaN   \n",
       "1       0.0     0.0    0.0  ...      NaN       NaN         0.0        NaN   \n",
       "2       0.0     0.0    0.0  ...      NaN       NaN         0.0        NaN   \n",
       "3       0.0     0.0    0.0  ...      NaN       NaN         0.0        NaN   \n",
       "4       0.0     0.0    0.0  ...      NaN       NaN         0.0        NaN   \n",
       "\n",
       "                      createdOn                    modifiedOn  startStop  \\\n",
       "0  Tue Jan 01 00:00:00 EST 2013  Tue Jan 01 00:00:00 EST 2013        NaN   \n",
       "1  Tue Jan 01 00:00:00 EST 2013  Tue Jan 01 00:00:00 EST 2013        NaN   \n",
       "2  Tue Jan 01 00:00:00 EST 2013  Tue Jan 01 00:00:00 EST 2013        NaN   \n",
       "3  Tue Jan 01 00:00:00 EST 2013  Tue Jan 01 00:00:00 EST 2013        NaN   \n",
       "4  Tue Jan 01 00:00:00 EST 2013  Tue Jan 01 00:00:00 EST 2013        NaN   \n",
       "\n",
       "   phevCity  phevHwy  phevComb  \n",
       "0         0        0         0  \n",
       "1         0        0         0  \n",
       "2         0        0         0  \n",
       "3         0        0         0  \n",
       "4         0        0         0  \n",
       "\n",
       "[5 rows x 83 columns]"
      ]
     },
     "execution_count": 7,
     "metadata": {},
     "output_type": "execute_result"
    }
   ],
   "source": [
    "fueleco.head()"
   ]
  },
  {
   "cell_type": "code",
   "execution_count": 3,
   "metadata": {},
   "outputs": [
    {
     "data": {
      "text/plain": [
       "(43418, 83)"
      ]
     },
     "execution_count": 3,
     "metadata": {},
     "output_type": "execute_result"
    }
   ],
   "source": [
    "fueleco.shape"
   ]
  },
  {
   "cell_type": "code",
   "execution_count": 4,
   "metadata": {},
   "outputs": [
    {
     "name": "stdout",
     "output_type": "stream",
     "text": [
      "<class 'pandas.core.frame.DataFrame'>\n",
      "RangeIndex: 43418 entries, 0 to 43417\n",
      "Data columns (total 83 columns):\n",
      " #   Column           Non-Null Count  Dtype  \n",
      "---  ------           --------------  -----  \n",
      " 0   barrels08        43418 non-null  float64\n",
      " 1   barrelsA08       43418 non-null  float64\n",
      " 2   charge120        43418 non-null  float64\n",
      " 3   charge240        43418 non-null  float64\n",
      " 4   city08           43418 non-null  int64  \n",
      " 5   city08U          43418 non-null  float64\n",
      " 6   cityA08          43418 non-null  int64  \n",
      " 7   cityA08U         43418 non-null  float64\n",
      " 8   cityCD           43418 non-null  float64\n",
      " 9   cityE            43418 non-null  float64\n",
      " 10  cityUF           43418 non-null  float64\n",
      " 11  co2              43418 non-null  int64  \n",
      " 12  co2A             43418 non-null  int64  \n",
      " 13  co2TailpipeAGpm  43418 non-null  float64\n",
      " 14  co2TailpipeGpm   43418 non-null  float64\n",
      " 15  comb08           43418 non-null  int64  \n",
      " 16  comb08U          43418 non-null  float64\n",
      " 17  combA08          43418 non-null  int64  \n",
      " 18  combA08U         43418 non-null  float64\n",
      " 19  combE            43418 non-null  float64\n",
      " 20  combinedCD       43418 non-null  float64\n",
      " 21  combinedUF       43418 non-null  float64\n",
      " 22  cylinders        43139 non-null  float64\n",
      " 23  displ            43141 non-null  float64\n",
      " 24  drive            42232 non-null  object \n",
      " 25  engId            43418 non-null  int64  \n",
      " 26  eng_dscr         26887 non-null  object \n",
      " 27  feScore          43418 non-null  int64  \n",
      " 28  fuelCost08       43418 non-null  int64  \n",
      " 29  fuelCostA08      43418 non-null  int64  \n",
      " 30  fuelType         43418 non-null  object \n",
      " 31  fuelType1        43418 non-null  object \n",
      " 32  ghgScore         43418 non-null  int64  \n",
      " 33  ghgScoreA        43418 non-null  int64  \n",
      " 34  highway08        43418 non-null  int64  \n",
      " 35  highway08U       43418 non-null  float64\n",
      " 36  highwayA08       43418 non-null  int64  \n",
      " 37  highwayA08U      43418 non-null  float64\n",
      " 38  highwayCD        43418 non-null  float64\n",
      " 39  highwayE         43418 non-null  float64\n",
      " 40  highwayUF        43418 non-null  float64\n",
      " 41  hlv              43418 non-null  int64  \n",
      " 42  hpv              43418 non-null  int64  \n",
      " 43  id               43418 non-null  int64  \n",
      " 44  lv2              43418 non-null  int64  \n",
      " 45  lv4              43418 non-null  int64  \n",
      " 46  make             43418 non-null  object \n",
      " 47  model            43418 non-null  object \n",
      " 48  mpgData          43400 non-null  object \n",
      " 49  phevBlended      43418 non-null  bool   \n",
      " 50  pv2              43418 non-null  int64  \n",
      " 51  pv4              43418 non-null  int64  \n",
      " 52  range            43418 non-null  int64  \n",
      " 53  rangeCity        43418 non-null  float64\n",
      " 54  rangeCityA       43418 non-null  float64\n",
      " 55  rangeHwy         43418 non-null  float64\n",
      " 56  rangeHwyA        43418 non-null  float64\n",
      " 57  trany            43407 non-null  object \n",
      " 58  UCity            43418 non-null  float64\n",
      " 59  UCityA           43418 non-null  float64\n",
      " 60  UHighway         43418 non-null  float64\n",
      " 61  UHighwayA        43418 non-null  float64\n",
      " 62  VClass           43418 non-null  object \n",
      " 63  year             43418 non-null  int64  \n",
      " 64  youSaveSpend     43418 non-null  int64  \n",
      " 65  guzzler          2558 non-null   object \n",
      " 66  trans_dscr       15044 non-null  object \n",
      " 67  tCharger         8143 non-null   object \n",
      " 68  sCharger         916 non-null    object \n",
      " 69  atvType          3987 non-null   object \n",
      " 70  fuelType2        1731 non-null   object \n",
      " 71  rangeA           1726 non-null   object \n",
      " 72  evMotor          1221 non-null   object \n",
      " 73  mfrCode          12610 non-null  object \n",
      " 74  c240Dscr         114 non-null    object \n",
      " 75  charge240b       43418 non-null  float64\n",
      " 76  c240bDscr        108 non-null    object \n",
      " 77  createdOn        43418 non-null  object \n",
      " 78  modifiedOn       43418 non-null  object \n",
      " 79  startStop        11729 non-null  object \n",
      " 80  phevCity         43418 non-null  int64  \n",
      " 81  phevHwy          43418 non-null  int64  \n",
      " 82  phevComb         43418 non-null  int64  \n",
      "dtypes: bool(1), float64(32), int64(27), object(23)\n",
      "memory usage: 27.2+ MB\n"
     ]
    }
   ],
   "source": [
    "fueleco.info()"
   ]
  },
  {
   "cell_type": "markdown",
   "metadata": {},
   "source": [
    "수치형 데이터를 표현할 때에는 ojbect에는 적용되지 않습니다 !"
   ]
  },
  {
   "cell_type": "code",
   "execution_count": 4,
   "metadata": {},
   "outputs": [
    {
     "data": {
      "text/plain": [
       "barrels08             17.132865\n",
       "barrelsA08             0.221869\n",
       "charge120              0.000000\n",
       "charge240              0.066276\n",
       "city08                18.654521\n",
       "city08U                6.916080\n",
       "cityA08                0.780805\n",
       "cityA08U               0.643413\n",
       "cityCD                 0.000497\n",
       "cityE                  0.471792\n",
       "cityUF                 0.002569\n",
       "co2                  103.802639\n",
       "co2A                   5.910291\n",
       "co2TailpipeAGpm       17.214588\n",
       "co2TailpipeGpm       462.204800\n",
       "comb08                20.894997\n",
       "comb08U                7.685601\n",
       "combA08                0.836888\n",
       "combA08U               0.678080\n",
       "combE                  0.479632\n",
       "combinedCD             0.005301\n",
       "combinedUF             0.002543\n",
       "cylinders              5.710865\n",
       "displ                  3.284699\n",
       "engId               7752.441913\n",
       "feScore                0.592197\n",
       "fuelCost08          2400.533189\n",
       "fuelCostA08           83.403197\n",
       "ghgScore               0.592588\n",
       "ghgScoreA             -0.921346\n",
       "highway08             24.770556\n",
       "highway08U             9.017856\n",
       "highwayA08             0.936708\n",
       "highwayA08U            0.745880\n",
       "highwayCD              0.000254\n",
       "highwayE               0.489570\n",
       "highwayUF              0.002509\n",
       "hlv                    1.979732\n",
       "hpv                   10.095329\n",
       "id                 21847.215579\n",
       "lv2                    1.782602\n",
       "lv4                    6.039868\n",
       "phevBlended            0.003754\n",
       "pv2                   13.395642\n",
       "pv4                   33.535884\n",
       "range                  1.184278\n",
       "rangeCity              1.167129\n",
       "rangeCityA             0.143378\n",
       "rangeHwy               1.100554\n",
       "rangeHwyA              0.133410\n",
       "UCity                 23.613608\n",
       "UCityA                 1.028003\n",
       "UHighway              34.274373\n",
       "UHighwayA              1.270942\n",
       "year                2002.536022\n",
       "youSaveSpend       -3992.174904\n",
       "charge240b             0.014105\n",
       "phevCity               0.229836\n",
       "phevHwy                0.231563\n",
       "phevComb               0.229628\n",
       "dtype: float64"
      ]
     },
     "execution_count": 4,
     "metadata": {},
     "output_type": "execute_result"
    }
   ],
   "source": [
    "#평균, 표준편차를 확인해 보겠습니다.\n",
    "fueleco.mean()"
   ]
  },
  {
   "cell_type": "markdown",
   "metadata": {},
   "source": [
    "여기서 std는 표준편차를 말하죠. 얼마나 데이터가 옆으로 퍼져나갔는가 말이에요"
   ]
  },
  {
   "cell_type": "code",
   "execution_count": 5,
   "metadata": {},
   "outputs": [
    {
     "data": {
      "text/plain": [
       "barrels08     4.678481\n",
       "barrelsA08    1.142116\n",
       "charge120     0.000000\n",
       "charge240     0.739613\n",
       "city08        8.750168\n",
       "dtype: float64"
      ]
     },
     "execution_count": 5,
     "metadata": {},
     "output_type": "execute_result"
    }
   ],
   "source": [
    "fueleco.std().head()"
   ]
  },
  {
   "cell_type": "markdown",
   "metadata": {},
   "source": [
    "percentile과 동일한 quantile입니다. 이것의 범위들을 알려주죠."
   ]
  },
  {
   "cell_type": "code",
   "execution_count": 8,
   "metadata": {},
   "outputs": [
    {
     "data": {
      "text/html": [
       "<div>\n",
       "<style scoped>\n",
       "    .dataframe tbody tr th:only-of-type {\n",
       "        vertical-align: middle;\n",
       "    }\n",
       "\n",
       "    .dataframe tbody tr th {\n",
       "        vertical-align: top;\n",
       "    }\n",
       "\n",
       "    .dataframe thead th {\n",
       "        text-align: right;\n",
       "    }\n",
       "</style>\n",
       "<table border=\"1\" class=\"dataframe\">\n",
       "  <thead>\n",
       "    <tr style=\"text-align: right;\">\n",
       "      <th></th>\n",
       "      <th>0.00</th>\n",
       "      <th>0.25</th>\n",
       "      <th>0.50</th>\n",
       "      <th>0.75</th>\n",
       "      <th>1.00</th>\n",
       "    </tr>\n",
       "  </thead>\n",
       "  <tbody>\n",
       "    <tr>\n",
       "      <th>barrels08</th>\n",
       "      <td>0.06</td>\n",
       "      <td>14.330870</td>\n",
       "      <td>16.48050</td>\n",
       "      <td>19.388824</td>\n",
       "      <td>47.087143</td>\n",
       "    </tr>\n",
       "    <tr>\n",
       "      <th>barrelsA08</th>\n",
       "      <td>0.00</td>\n",
       "      <td>0.000000</td>\n",
       "      <td>0.00000</td>\n",
       "      <td>0.000000</td>\n",
       "      <td>18.311667</td>\n",
       "    </tr>\n",
       "    <tr>\n",
       "      <th>charge120</th>\n",
       "      <td>0.00</td>\n",
       "      <td>0.000000</td>\n",
       "      <td>0.00000</td>\n",
       "      <td>0.000000</td>\n",
       "      <td>0.000000</td>\n",
       "    </tr>\n",
       "    <tr>\n",
       "      <th>charge240</th>\n",
       "      <td>0.00</td>\n",
       "      <td>0.000000</td>\n",
       "      <td>0.00000</td>\n",
       "      <td>0.000000</td>\n",
       "      <td>15.300000</td>\n",
       "    </tr>\n",
       "    <tr>\n",
       "      <th>city08</th>\n",
       "      <td>6.00</td>\n",
       "      <td>15.000000</td>\n",
       "      <td>17.00000</td>\n",
       "      <td>21.000000</td>\n",
       "      <td>150.000000</td>\n",
       "    </tr>\n",
       "    <tr>\n",
       "      <th>city08U</th>\n",
       "      <td>0.00</td>\n",
       "      <td>0.000000</td>\n",
       "      <td>0.00000</td>\n",
       "      <td>15.877425</td>\n",
       "      <td>150.195800</td>\n",
       "    </tr>\n",
       "    <tr>\n",
       "      <th>cityA08</th>\n",
       "      <td>0.00</td>\n",
       "      <td>0.000000</td>\n",
       "      <td>0.00000</td>\n",
       "      <td>0.000000</td>\n",
       "      <td>145.000000</td>\n",
       "    </tr>\n",
       "    <tr>\n",
       "      <th>cityA08U</th>\n",
       "      <td>0.00</td>\n",
       "      <td>0.000000</td>\n",
       "      <td>0.00000</td>\n",
       "      <td>0.000000</td>\n",
       "      <td>145.083500</td>\n",
       "    </tr>\n",
       "    <tr>\n",
       "      <th>cityCD</th>\n",
       "      <td>0.00</td>\n",
       "      <td>0.000000</td>\n",
       "      <td>0.00000</td>\n",
       "      <td>0.000000</td>\n",
       "      <td>5.350000</td>\n",
       "    </tr>\n",
       "    <tr>\n",
       "      <th>cityE</th>\n",
       "      <td>0.00</td>\n",
       "      <td>0.000000</td>\n",
       "      <td>0.00000</td>\n",
       "      <td>0.000000</td>\n",
       "      <td>122.000000</td>\n",
       "    </tr>\n",
       "    <tr>\n",
       "      <th>cityUF</th>\n",
       "      <td>0.00</td>\n",
       "      <td>0.000000</td>\n",
       "      <td>0.00000</td>\n",
       "      <td>0.000000</td>\n",
       "      <td>0.927000</td>\n",
       "    </tr>\n",
       "    <tr>\n",
       "      <th>co2</th>\n",
       "      <td>-1.00</td>\n",
       "      <td>-1.000000</td>\n",
       "      <td>-1.00000</td>\n",
       "      <td>228.000000</td>\n",
       "      <td>893.000000</td>\n",
       "    </tr>\n",
       "    <tr>\n",
       "      <th>co2A</th>\n",
       "      <td>-1.00</td>\n",
       "      <td>-1.000000</td>\n",
       "      <td>-1.00000</td>\n",
       "      <td>-1.000000</td>\n",
       "      <td>713.000000</td>\n",
       "    </tr>\n",
       "    <tr>\n",
       "      <th>co2TailpipeAGpm</th>\n",
       "      <td>0.00</td>\n",
       "      <td>0.000000</td>\n",
       "      <td>0.00000</td>\n",
       "      <td>0.000000</td>\n",
       "      <td>713.000000</td>\n",
       "    </tr>\n",
       "    <tr>\n",
       "      <th>co2TailpipeGpm</th>\n",
       "      <td>0.00</td>\n",
       "      <td>386.391304</td>\n",
       "      <td>444.35000</td>\n",
       "      <td>522.764706</td>\n",
       "      <td>1269.571429</td>\n",
       "    </tr>\n",
       "    <tr>\n",
       "      <th>comb08</th>\n",
       "      <td>7.00</td>\n",
       "      <td>17.000000</td>\n",
       "      <td>20.00000</td>\n",
       "      <td>23.000000</td>\n",
       "      <td>142.000000</td>\n",
       "    </tr>\n",
       "    <tr>\n",
       "      <th>comb08U</th>\n",
       "      <td>0.00</td>\n",
       "      <td>0.000000</td>\n",
       "      <td>0.00000</td>\n",
       "      <td>18.305775</td>\n",
       "      <td>141.951200</td>\n",
       "    </tr>\n",
       "    <tr>\n",
       "      <th>combA08</th>\n",
       "      <td>0.00</td>\n",
       "      <td>0.000000</td>\n",
       "      <td>0.00000</td>\n",
       "      <td>0.000000</td>\n",
       "      <td>133.000000</td>\n",
       "    </tr>\n",
       "    <tr>\n",
       "      <th>combA08U</th>\n",
       "      <td>0.00</td>\n",
       "      <td>0.000000</td>\n",
       "      <td>0.00000</td>\n",
       "      <td>0.000000</td>\n",
       "      <td>133.266200</td>\n",
       "    </tr>\n",
       "    <tr>\n",
       "      <th>combE</th>\n",
       "      <td>0.00</td>\n",
       "      <td>0.000000</td>\n",
       "      <td>0.00000</td>\n",
       "      <td>0.000000</td>\n",
       "      <td>121.000000</td>\n",
       "    </tr>\n",
       "    <tr>\n",
       "      <th>combinedCD</th>\n",
       "      <td>0.00</td>\n",
       "      <td>0.000000</td>\n",
       "      <td>0.00000</td>\n",
       "      <td>0.000000</td>\n",
       "      <td>45.000000</td>\n",
       "    </tr>\n",
       "    <tr>\n",
       "      <th>combinedUF</th>\n",
       "      <td>0.00</td>\n",
       "      <td>0.000000</td>\n",
       "      <td>0.00000</td>\n",
       "      <td>0.000000</td>\n",
       "      <td>0.920000</td>\n",
       "    </tr>\n",
       "    <tr>\n",
       "      <th>cylinders</th>\n",
       "      <td>2.00</td>\n",
       "      <td>4.000000</td>\n",
       "      <td>6.00000</td>\n",
       "      <td>6.000000</td>\n",
       "      <td>16.000000</td>\n",
       "    </tr>\n",
       "    <tr>\n",
       "      <th>displ</th>\n",
       "      <td>0.00</td>\n",
       "      <td>2.200000</td>\n",
       "      <td>3.00000</td>\n",
       "      <td>4.300000</td>\n",
       "      <td>8.400000</td>\n",
       "    </tr>\n",
       "    <tr>\n",
       "      <th>engId</th>\n",
       "      <td>0.00</td>\n",
       "      <td>0.000000</td>\n",
       "      <td>164.00000</td>\n",
       "      <td>4122.000000</td>\n",
       "      <td>69102.000000</td>\n",
       "    </tr>\n",
       "    <tr>\n",
       "      <th>feScore</th>\n",
       "      <td>-1.00</td>\n",
       "      <td>-1.000000</td>\n",
       "      <td>-1.00000</td>\n",
       "      <td>2.000000</td>\n",
       "      <td>10.000000</td>\n",
       "    </tr>\n",
       "    <tr>\n",
       "      <th>fuelCost08</th>\n",
       "      <td>450.00</td>\n",
       "      <td>1950.000000</td>\n",
       "      <td>2400.00000</td>\n",
       "      <td>2800.000000</td>\n",
       "      <td>7550.000000</td>\n",
       "    </tr>\n",
       "    <tr>\n",
       "      <th>fuelCostA08</th>\n",
       "      <td>0.00</td>\n",
       "      <td>0.000000</td>\n",
       "      <td>0.00000</td>\n",
       "      <td>0.000000</td>\n",
       "      <td>3750.000000</td>\n",
       "    </tr>\n",
       "    <tr>\n",
       "      <th>ghgScore</th>\n",
       "      <td>-1.00</td>\n",
       "      <td>-1.000000</td>\n",
       "      <td>-1.00000</td>\n",
       "      <td>2.000000</td>\n",
       "      <td>10.000000</td>\n",
       "    </tr>\n",
       "    <tr>\n",
       "      <th>ghgScoreA</th>\n",
       "      <td>-1.00</td>\n",
       "      <td>-1.000000</td>\n",
       "      <td>-1.00000</td>\n",
       "      <td>-1.000000</td>\n",
       "      <td>8.000000</td>\n",
       "    </tr>\n",
       "    <tr>\n",
       "      <th>highway08</th>\n",
       "      <td>9.00</td>\n",
       "      <td>20.000000</td>\n",
       "      <td>24.00000</td>\n",
       "      <td>28.000000</td>\n",
       "      <td>133.000000</td>\n",
       "    </tr>\n",
       "    <tr>\n",
       "      <th>highway08U</th>\n",
       "      <td>0.00</td>\n",
       "      <td>0.000000</td>\n",
       "      <td>0.00000</td>\n",
       "      <td>22.388650</td>\n",
       "      <td>133.026300</td>\n",
       "    </tr>\n",
       "    <tr>\n",
       "      <th>highwayA08</th>\n",
       "      <td>0.00</td>\n",
       "      <td>0.000000</td>\n",
       "      <td>0.00000</td>\n",
       "      <td>0.000000</td>\n",
       "      <td>121.000000</td>\n",
       "    </tr>\n",
       "    <tr>\n",
       "      <th>highwayA08U</th>\n",
       "      <td>0.00</td>\n",
       "      <td>0.000000</td>\n",
       "      <td>0.00000</td>\n",
       "      <td>0.000000</td>\n",
       "      <td>121.200500</td>\n",
       "    </tr>\n",
       "    <tr>\n",
       "      <th>highwayCD</th>\n",
       "      <td>0.00</td>\n",
       "      <td>0.000000</td>\n",
       "      <td>0.00000</td>\n",
       "      <td>0.000000</td>\n",
       "      <td>4.060000</td>\n",
       "    </tr>\n",
       "    <tr>\n",
       "      <th>highwayE</th>\n",
       "      <td>0.00</td>\n",
       "      <td>0.000000</td>\n",
       "      <td>0.00000</td>\n",
       "      <td>0.000000</td>\n",
       "      <td>120.000000</td>\n",
       "    </tr>\n",
       "    <tr>\n",
       "      <th>highwayUF</th>\n",
       "      <td>0.00</td>\n",
       "      <td>0.000000</td>\n",
       "      <td>0.00000</td>\n",
       "      <td>0.000000</td>\n",
       "      <td>0.910000</td>\n",
       "    </tr>\n",
       "    <tr>\n",
       "      <th>hlv</th>\n",
       "      <td>0.00</td>\n",
       "      <td>0.000000</td>\n",
       "      <td>0.00000</td>\n",
       "      <td>0.000000</td>\n",
       "      <td>49.000000</td>\n",
       "    </tr>\n",
       "    <tr>\n",
       "      <th>hpv</th>\n",
       "      <td>0.00</td>\n",
       "      <td>0.000000</td>\n",
       "      <td>0.00000</td>\n",
       "      <td>0.000000</td>\n",
       "      <td>195.000000</td>\n",
       "    </tr>\n",
       "    <tr>\n",
       "      <th>id</th>\n",
       "      <td>1.00</td>\n",
       "      <td>10855.250000</td>\n",
       "      <td>21713.50000</td>\n",
       "      <td>32862.750000</td>\n",
       "      <td>43821.000000</td>\n",
       "    </tr>\n",
       "    <tr>\n",
       "      <th>lv2</th>\n",
       "      <td>0.00</td>\n",
       "      <td>0.000000</td>\n",
       "      <td>0.00000</td>\n",
       "      <td>0.000000</td>\n",
       "      <td>41.000000</td>\n",
       "    </tr>\n",
       "    <tr>\n",
       "      <th>lv4</th>\n",
       "      <td>0.00</td>\n",
       "      <td>0.000000</td>\n",
       "      <td>0.00000</td>\n",
       "      <td>13.000000</td>\n",
       "      <td>55.000000</td>\n",
       "    </tr>\n",
       "    <tr>\n",
       "      <th>phevBlended</th>\n",
       "      <td>0.00</td>\n",
       "      <td>0.000000</td>\n",
       "      <td>0.00000</td>\n",
       "      <td>0.000000</td>\n",
       "      <td>1.000000</td>\n",
       "    </tr>\n",
       "    <tr>\n",
       "      <th>pv2</th>\n",
       "      <td>0.00</td>\n",
       "      <td>0.000000</td>\n",
       "      <td>0.00000</td>\n",
       "      <td>0.000000</td>\n",
       "      <td>194.000000</td>\n",
       "    </tr>\n",
       "    <tr>\n",
       "      <th>pv4</th>\n",
       "      <td>0.00</td>\n",
       "      <td>0.000000</td>\n",
       "      <td>0.00000</td>\n",
       "      <td>91.000000</td>\n",
       "      <td>192.000000</td>\n",
       "    </tr>\n",
       "    <tr>\n",
       "      <th>range</th>\n",
       "      <td>0.00</td>\n",
       "      <td>0.000000</td>\n",
       "      <td>0.00000</td>\n",
       "      <td>0.000000</td>\n",
       "      <td>402.000000</td>\n",
       "    </tr>\n",
       "    <tr>\n",
       "      <th>rangeCity</th>\n",
       "      <td>0.00</td>\n",
       "      <td>0.000000</td>\n",
       "      <td>0.00000</td>\n",
       "      <td>0.000000</td>\n",
       "      <td>416.200000</td>\n",
       "    </tr>\n",
       "    <tr>\n",
       "      <th>rangeCityA</th>\n",
       "      <td>0.00</td>\n",
       "      <td>0.000000</td>\n",
       "      <td>0.00000</td>\n",
       "      <td>0.000000</td>\n",
       "      <td>135.280000</td>\n",
       "    </tr>\n",
       "    <tr>\n",
       "      <th>rangeHwy</th>\n",
       "      <td>0.00</td>\n",
       "      <td>0.000000</td>\n",
       "      <td>0.00000</td>\n",
       "      <td>0.000000</td>\n",
       "      <td>383.800000</td>\n",
       "    </tr>\n",
       "    <tr>\n",
       "      <th>rangeHwyA</th>\n",
       "      <td>0.00</td>\n",
       "      <td>0.000000</td>\n",
       "      <td>0.00000</td>\n",
       "      <td>0.000000</td>\n",
       "      <td>114.760000</td>\n",
       "    </tr>\n",
       "    <tr>\n",
       "      <th>UCity</th>\n",
       "      <td>0.00</td>\n",
       "      <td>18.400000</td>\n",
       "      <td>21.63995</td>\n",
       "      <td>26.000000</td>\n",
       "      <td>224.800000</td>\n",
       "    </tr>\n",
       "    <tr>\n",
       "      <th>UCityA</th>\n",
       "      <td>0.00</td>\n",
       "      <td>0.000000</td>\n",
       "      <td>0.00000</td>\n",
       "      <td>0.000000</td>\n",
       "      <td>207.262200</td>\n",
       "    </tr>\n",
       "    <tr>\n",
       "      <th>UHighway</th>\n",
       "      <td>0.00</td>\n",
       "      <td>27.751750</td>\n",
       "      <td>33.30000</td>\n",
       "      <td>39.095825</td>\n",
       "      <td>187.100000</td>\n",
       "    </tr>\n",
       "    <tr>\n",
       "      <th>UHighwayA</th>\n",
       "      <td>0.00</td>\n",
       "      <td>0.000000</td>\n",
       "      <td>0.00000</td>\n",
       "      <td>0.000000</td>\n",
       "      <td>173.143600</td>\n",
       "    </tr>\n",
       "    <tr>\n",
       "      <th>year</th>\n",
       "      <td>1984.00</td>\n",
       "      <td>1992.000000</td>\n",
       "      <td>2003.00000</td>\n",
       "      <td>2013.000000</td>\n",
       "      <td>2022.000000</td>\n",
       "    </tr>\n",
       "    <tr>\n",
       "      <th>youSaveSpend</th>\n",
       "      <td>-29750.00</td>\n",
       "      <td>-6000.000000</td>\n",
       "      <td>-4000.00000</td>\n",
       "      <td>-1750.000000</td>\n",
       "      <td>5750.000000</td>\n",
       "    </tr>\n",
       "    <tr>\n",
       "      <th>charge240b</th>\n",
       "      <td>0.00</td>\n",
       "      <td>0.000000</td>\n",
       "      <td>0.00000</td>\n",
       "      <td>0.000000</td>\n",
       "      <td>9.600000</td>\n",
       "    </tr>\n",
       "    <tr>\n",
       "      <th>phevCity</th>\n",
       "      <td>0.00</td>\n",
       "      <td>0.000000</td>\n",
       "      <td>0.00000</td>\n",
       "      <td>0.000000</td>\n",
       "      <td>97.000000</td>\n",
       "    </tr>\n",
       "    <tr>\n",
       "      <th>phevHwy</th>\n",
       "      <td>0.00</td>\n",
       "      <td>0.000000</td>\n",
       "      <td>0.00000</td>\n",
       "      <td>0.000000</td>\n",
       "      <td>81.000000</td>\n",
       "    </tr>\n",
       "    <tr>\n",
       "      <th>phevComb</th>\n",
       "      <td>0.00</td>\n",
       "      <td>0.000000</td>\n",
       "      <td>0.00000</td>\n",
       "      <td>0.000000</td>\n",
       "      <td>88.000000</td>\n",
       "    </tr>\n",
       "  </tbody>\n",
       "</table>\n",
       "</div>"
      ],
      "text/plain": [
       "                     0.00          0.25         0.50          0.75  \\\n",
       "barrels08            0.06     14.330870     16.48050     19.388824   \n",
       "barrelsA08           0.00      0.000000      0.00000      0.000000   \n",
       "charge120            0.00      0.000000      0.00000      0.000000   \n",
       "charge240            0.00      0.000000      0.00000      0.000000   \n",
       "city08               6.00     15.000000     17.00000     21.000000   \n",
       "city08U              0.00      0.000000      0.00000     15.877425   \n",
       "cityA08              0.00      0.000000      0.00000      0.000000   \n",
       "cityA08U             0.00      0.000000      0.00000      0.000000   \n",
       "cityCD               0.00      0.000000      0.00000      0.000000   \n",
       "cityE                0.00      0.000000      0.00000      0.000000   \n",
       "cityUF               0.00      0.000000      0.00000      0.000000   \n",
       "co2                 -1.00     -1.000000     -1.00000    228.000000   \n",
       "co2A                -1.00     -1.000000     -1.00000     -1.000000   \n",
       "co2TailpipeAGpm      0.00      0.000000      0.00000      0.000000   \n",
       "co2TailpipeGpm       0.00    386.391304    444.35000    522.764706   \n",
       "comb08               7.00     17.000000     20.00000     23.000000   \n",
       "comb08U              0.00      0.000000      0.00000     18.305775   \n",
       "combA08              0.00      0.000000      0.00000      0.000000   \n",
       "combA08U             0.00      0.000000      0.00000      0.000000   \n",
       "combE                0.00      0.000000      0.00000      0.000000   \n",
       "combinedCD           0.00      0.000000      0.00000      0.000000   \n",
       "combinedUF           0.00      0.000000      0.00000      0.000000   \n",
       "cylinders            2.00      4.000000      6.00000      6.000000   \n",
       "displ                0.00      2.200000      3.00000      4.300000   \n",
       "engId                0.00      0.000000    164.00000   4122.000000   \n",
       "feScore             -1.00     -1.000000     -1.00000      2.000000   \n",
       "fuelCost08         450.00   1950.000000   2400.00000   2800.000000   \n",
       "fuelCostA08          0.00      0.000000      0.00000      0.000000   \n",
       "ghgScore            -1.00     -1.000000     -1.00000      2.000000   \n",
       "ghgScoreA           -1.00     -1.000000     -1.00000     -1.000000   \n",
       "highway08            9.00     20.000000     24.00000     28.000000   \n",
       "highway08U           0.00      0.000000      0.00000     22.388650   \n",
       "highwayA08           0.00      0.000000      0.00000      0.000000   \n",
       "highwayA08U          0.00      0.000000      0.00000      0.000000   \n",
       "highwayCD            0.00      0.000000      0.00000      0.000000   \n",
       "highwayE             0.00      0.000000      0.00000      0.000000   \n",
       "highwayUF            0.00      0.000000      0.00000      0.000000   \n",
       "hlv                  0.00      0.000000      0.00000      0.000000   \n",
       "hpv                  0.00      0.000000      0.00000      0.000000   \n",
       "id                   1.00  10855.250000  21713.50000  32862.750000   \n",
       "lv2                  0.00      0.000000      0.00000      0.000000   \n",
       "lv4                  0.00      0.000000      0.00000     13.000000   \n",
       "phevBlended          0.00      0.000000      0.00000      0.000000   \n",
       "pv2                  0.00      0.000000      0.00000      0.000000   \n",
       "pv4                  0.00      0.000000      0.00000     91.000000   \n",
       "range                0.00      0.000000      0.00000      0.000000   \n",
       "rangeCity            0.00      0.000000      0.00000      0.000000   \n",
       "rangeCityA           0.00      0.000000      0.00000      0.000000   \n",
       "rangeHwy             0.00      0.000000      0.00000      0.000000   \n",
       "rangeHwyA            0.00      0.000000      0.00000      0.000000   \n",
       "UCity                0.00     18.400000     21.63995     26.000000   \n",
       "UCityA               0.00      0.000000      0.00000      0.000000   \n",
       "UHighway             0.00     27.751750     33.30000     39.095825   \n",
       "UHighwayA            0.00      0.000000      0.00000      0.000000   \n",
       "year              1984.00   1992.000000   2003.00000   2013.000000   \n",
       "youSaveSpend    -29750.00  -6000.000000  -4000.00000  -1750.000000   \n",
       "charge240b           0.00      0.000000      0.00000      0.000000   \n",
       "phevCity             0.00      0.000000      0.00000      0.000000   \n",
       "phevHwy              0.00      0.000000      0.00000      0.000000   \n",
       "phevComb             0.00      0.000000      0.00000      0.000000   \n",
       "\n",
       "                         1.00  \n",
       "barrels08           47.087143  \n",
       "barrelsA08          18.311667  \n",
       "charge120            0.000000  \n",
       "charge240           15.300000  \n",
       "city08             150.000000  \n",
       "city08U            150.195800  \n",
       "cityA08            145.000000  \n",
       "cityA08U           145.083500  \n",
       "cityCD               5.350000  \n",
       "cityE              122.000000  \n",
       "cityUF               0.927000  \n",
       "co2                893.000000  \n",
       "co2A               713.000000  \n",
       "co2TailpipeAGpm    713.000000  \n",
       "co2TailpipeGpm    1269.571429  \n",
       "comb08             142.000000  \n",
       "comb08U            141.951200  \n",
       "combA08            133.000000  \n",
       "combA08U           133.266200  \n",
       "combE              121.000000  \n",
       "combinedCD          45.000000  \n",
       "combinedUF           0.920000  \n",
       "cylinders           16.000000  \n",
       "displ                8.400000  \n",
       "engId            69102.000000  \n",
       "feScore             10.000000  \n",
       "fuelCost08        7550.000000  \n",
       "fuelCostA08       3750.000000  \n",
       "ghgScore            10.000000  \n",
       "ghgScoreA            8.000000  \n",
       "highway08          133.000000  \n",
       "highway08U         133.026300  \n",
       "highwayA08         121.000000  \n",
       "highwayA08U        121.200500  \n",
       "highwayCD            4.060000  \n",
       "highwayE           120.000000  \n",
       "highwayUF            0.910000  \n",
       "hlv                 49.000000  \n",
       "hpv                195.000000  \n",
       "id               43821.000000  \n",
       "lv2                 41.000000  \n",
       "lv4                 55.000000  \n",
       "phevBlended          1.000000  \n",
       "pv2                194.000000  \n",
       "pv4                192.000000  \n",
       "range              402.000000  \n",
       "rangeCity          416.200000  \n",
       "rangeCityA         135.280000  \n",
       "rangeHwy           383.800000  \n",
       "rangeHwyA          114.760000  \n",
       "UCity              224.800000  \n",
       "UCityA             207.262200  \n",
       "UHighway           187.100000  \n",
       "UHighwayA          173.143600  \n",
       "year              2022.000000  \n",
       "youSaveSpend      5750.000000  \n",
       "charge240b           9.600000  \n",
       "phevCity            97.000000  \n",
       "phevHwy             81.000000  \n",
       "phevComb            88.000000  "
      ]
     },
     "execution_count": 8,
     "metadata": {},
     "output_type": "execute_result"
    }
   ],
   "source": [
    "fueleco.quantile([0,.25,.5,.75,1]).T"
   ]
  },
  {
   "cell_type": "code",
   "execution_count": 7,
   "metadata": {
    "scrolled": true
   },
   "outputs": [
    {
     "data": {
      "text/html": [
       "<div>\n",
       "<style scoped>\n",
       "    .dataframe tbody tr th:only-of-type {\n",
       "        vertical-align: middle;\n",
       "    }\n",
       "\n",
       "    .dataframe tbody tr th {\n",
       "        vertical-align: top;\n",
       "    }\n",
       "\n",
       "    .dataframe thead th {\n",
       "        text-align: right;\n",
       "    }\n",
       "</style>\n",
       "<table border=\"1\" class=\"dataframe\">\n",
       "  <thead>\n",
       "    <tr style=\"text-align: right;\">\n",
       "      <th></th>\n",
       "      <th>count</th>\n",
       "      <th>mean</th>\n",
       "      <th>std</th>\n",
       "      <th>min</th>\n",
       "      <th>25%</th>\n",
       "      <th>50%</th>\n",
       "      <th>75%</th>\n",
       "      <th>max</th>\n",
       "    </tr>\n",
       "  </thead>\n",
       "  <tbody>\n",
       "    <tr>\n",
       "      <th>barrels08</th>\n",
       "      <td>43418.0</td>\n",
       "      <td>17.132865</td>\n",
       "      <td>4.678481</td>\n",
       "      <td>0.06</td>\n",
       "      <td>14.33087</td>\n",
       "      <td>16.4805</td>\n",
       "      <td>19.388824</td>\n",
       "      <td>47.087143</td>\n",
       "    </tr>\n",
       "    <tr>\n",
       "      <th>barrelsA08</th>\n",
       "      <td>43418.0</td>\n",
       "      <td>0.221869</td>\n",
       "      <td>1.142116</td>\n",
       "      <td>0.00</td>\n",
       "      <td>0.00000</td>\n",
       "      <td>0.0000</td>\n",
       "      <td>0.000000</td>\n",
       "      <td>18.311667</td>\n",
       "    </tr>\n",
       "    <tr>\n",
       "      <th>charge120</th>\n",
       "      <td>43418.0</td>\n",
       "      <td>0.000000</td>\n",
       "      <td>0.000000</td>\n",
       "      <td>0.00</td>\n",
       "      <td>0.00000</td>\n",
       "      <td>0.0000</td>\n",
       "      <td>0.000000</td>\n",
       "      <td>0.000000</td>\n",
       "    </tr>\n",
       "    <tr>\n",
       "      <th>charge240</th>\n",
       "      <td>43418.0</td>\n",
       "      <td>0.066276</td>\n",
       "      <td>0.739613</td>\n",
       "      <td>0.00</td>\n",
       "      <td>0.00000</td>\n",
       "      <td>0.0000</td>\n",
       "      <td>0.000000</td>\n",
       "      <td>15.300000</td>\n",
       "    </tr>\n",
       "    <tr>\n",
       "      <th>city08</th>\n",
       "      <td>43418.0</td>\n",
       "      <td>18.654521</td>\n",
       "      <td>8.750168</td>\n",
       "      <td>6.00</td>\n",
       "      <td>15.00000</td>\n",
       "      <td>17.0000</td>\n",
       "      <td>21.000000</td>\n",
       "      <td>150.000000</td>\n",
       "    </tr>\n",
       "  </tbody>\n",
       "</table>\n",
       "</div>"
      ],
      "text/plain": [
       "              count       mean       std   min       25%      50%        75%  \\\n",
       "barrels08   43418.0  17.132865  4.678481  0.06  14.33087  16.4805  19.388824   \n",
       "barrelsA08  43418.0   0.221869  1.142116  0.00   0.00000   0.0000   0.000000   \n",
       "charge120   43418.0   0.000000  0.000000  0.00   0.00000   0.0000   0.000000   \n",
       "charge240   43418.0   0.066276  0.739613  0.00   0.00000   0.0000   0.000000   \n",
       "city08      43418.0  18.654521  8.750168  6.00  15.00000  17.0000  21.000000   \n",
       "\n",
       "                   max  \n",
       "barrels08    47.087143  \n",
       "barrelsA08   18.311667  \n",
       "charge120     0.000000  \n",
       "charge240    15.300000  \n",
       "city08      150.000000  "
      ]
     },
     "execution_count": 7,
     "metadata": {},
     "output_type": "execute_result"
    }
   ],
   "source": [
    "#하지만 위의 모든 것을 describe 한방으로 해결\n",
    "fueleco.describe().T.head()"
   ]
  },
  {
   "cell_type": "code",
   "execution_count": 11,
   "metadata": {
    "scrolled": true
   },
   "outputs": [
    {
     "data": {
      "text/html": [
       "<div>\n",
       "<style scoped>\n",
       "    .dataframe tbody tr th:only-of-type {\n",
       "        vertical-align: middle;\n",
       "    }\n",
       "\n",
       "    .dataframe tbody tr th {\n",
       "        vertical-align: top;\n",
       "    }\n",
       "\n",
       "    .dataframe thead th {\n",
       "        text-align: right;\n",
       "    }\n",
       "</style>\n",
       "<table border=\"1\" class=\"dataframe\">\n",
       "  <thead>\n",
       "    <tr style=\"text-align: right;\">\n",
       "      <th></th>\n",
       "      <th>count</th>\n",
       "      <th>unique</th>\n",
       "      <th>top</th>\n",
       "      <th>freq</th>\n",
       "    </tr>\n",
       "  </thead>\n",
       "  <tbody>\n",
       "    <tr>\n",
       "      <th>drive</th>\n",
       "      <td>42232</td>\n",
       "      <td>7</td>\n",
       "      <td>Front-Wheel Drive</td>\n",
       "      <td>14776</td>\n",
       "    </tr>\n",
       "    <tr>\n",
       "      <th>eng_dscr</th>\n",
       "      <td>26887</td>\n",
       "      <td>562</td>\n",
       "      <td>(FFS)</td>\n",
       "      <td>8827</td>\n",
       "    </tr>\n",
       "    <tr>\n",
       "      <th>fuelType</th>\n",
       "      <td>43418</td>\n",
       "      <td>14</td>\n",
       "      <td>Regular</td>\n",
       "      <td>27381</td>\n",
       "    </tr>\n",
       "    <tr>\n",
       "      <th>fuelType1</th>\n",
       "      <td>43418</td>\n",
       "      <td>6</td>\n",
       "      <td>Regular Gasoline</td>\n",
       "      <td>28828</td>\n",
       "    </tr>\n",
       "    <tr>\n",
       "      <th>make</th>\n",
       "      <td>43418</td>\n",
       "      <td>139</td>\n",
       "      <td>Chevrolet</td>\n",
       "      <td>4159</td>\n",
       "    </tr>\n",
       "    <tr>\n",
       "      <th>model</th>\n",
       "      <td>43418</td>\n",
       "      <td>4375</td>\n",
       "      <td>F150 Pickup 2WD</td>\n",
       "      <td>226</td>\n",
       "    </tr>\n",
       "    <tr>\n",
       "      <th>mpgData</th>\n",
       "      <td>43400</td>\n",
       "      <td>2</td>\n",
       "      <td>N</td>\n",
       "      <td>29726</td>\n",
       "    </tr>\n",
       "    <tr>\n",
       "      <th>trany</th>\n",
       "      <td>43407</td>\n",
       "      <td>40</td>\n",
       "      <td>Automatic 4-spd</td>\n",
       "      <td>11048</td>\n",
       "    </tr>\n",
       "    <tr>\n",
       "      <th>VClass</th>\n",
       "      <td>43418</td>\n",
       "      <td>34</td>\n",
       "      <td>Compact Cars</td>\n",
       "      <td>6086</td>\n",
       "    </tr>\n",
       "    <tr>\n",
       "      <th>guzzler</th>\n",
       "      <td>2558</td>\n",
       "      <td>3</td>\n",
       "      <td>G</td>\n",
       "      <td>1579</td>\n",
       "    </tr>\n",
       "    <tr>\n",
       "      <th>trans_dscr</th>\n",
       "      <td>15044</td>\n",
       "      <td>52</td>\n",
       "      <td>CLKUP</td>\n",
       "      <td>7809</td>\n",
       "    </tr>\n",
       "    <tr>\n",
       "      <th>tCharger</th>\n",
       "      <td>8143</td>\n",
       "      <td>1</td>\n",
       "      <td>T</td>\n",
       "      <td>8143</td>\n",
       "    </tr>\n",
       "    <tr>\n",
       "      <th>sCharger</th>\n",
       "      <td>916</td>\n",
       "      <td>1</td>\n",
       "      <td>S</td>\n",
       "      <td>916</td>\n",
       "    </tr>\n",
       "    <tr>\n",
       "      <th>atvType</th>\n",
       "      <td>3987</td>\n",
       "      <td>8</td>\n",
       "      <td>FFV</td>\n",
       "      <td>1479</td>\n",
       "    </tr>\n",
       "    <tr>\n",
       "      <th>fuelType2</th>\n",
       "      <td>1731</td>\n",
       "      <td>4</td>\n",
       "      <td>E85</td>\n",
       "      <td>1479</td>\n",
       "    </tr>\n",
       "    <tr>\n",
       "      <th>rangeA</th>\n",
       "      <td>1726</td>\n",
       "      <td>235</td>\n",
       "      <td>290</td>\n",
       "      <td>74</td>\n",
       "    </tr>\n",
       "    <tr>\n",
       "      <th>evMotor</th>\n",
       "      <td>1221</td>\n",
       "      <td>211</td>\n",
       "      <td>288V Ni-MH</td>\n",
       "      <td>138</td>\n",
       "    </tr>\n",
       "    <tr>\n",
       "      <th>mfrCode</th>\n",
       "      <td>12610</td>\n",
       "      <td>50</td>\n",
       "      <td>GMX</td>\n",
       "      <td>1802</td>\n",
       "    </tr>\n",
       "    <tr>\n",
       "      <th>c240Dscr</th>\n",
       "      <td>114</td>\n",
       "      <td>5</td>\n",
       "      <td>standard charger</td>\n",
       "      <td>103</td>\n",
       "    </tr>\n",
       "    <tr>\n",
       "      <th>c240bDscr</th>\n",
       "      <td>108</td>\n",
       "      <td>7</td>\n",
       "      <td>80 amp dual charger</td>\n",
       "      <td>55</td>\n",
       "    </tr>\n",
       "    <tr>\n",
       "      <th>createdOn</th>\n",
       "      <td>43418</td>\n",
       "      <td>356</td>\n",
       "      <td>Tue Jan 01 00:00:00 EST 2013</td>\n",
       "      <td>34194</td>\n",
       "    </tr>\n",
       "    <tr>\n",
       "      <th>modifiedOn</th>\n",
       "      <td>43418</td>\n",
       "      <td>218</td>\n",
       "      <td>Tue Jan 01 00:00:00 EST 2013</td>\n",
       "      <td>29175</td>\n",
       "    </tr>\n",
       "    <tr>\n",
       "      <th>startStop</th>\n",
       "      <td>11729</td>\n",
       "      <td>2</td>\n",
       "      <td>N</td>\n",
       "      <td>7146</td>\n",
       "    </tr>\n",
       "  </tbody>\n",
       "</table>\n",
       "</div>"
      ],
      "text/plain": [
       "            count unique                           top   freq\n",
       "drive       42232      7             Front-Wheel Drive  14776\n",
       "eng_dscr    26887    562                         (FFS)   8827\n",
       "fuelType    43418     14                       Regular  27381\n",
       "fuelType1   43418      6              Regular Gasoline  28828\n",
       "make        43418    139                     Chevrolet   4159\n",
       "model       43418   4375               F150 Pickup 2WD    226\n",
       "mpgData     43400      2                             N  29726\n",
       "trany       43407     40               Automatic 4-spd  11048\n",
       "VClass      43418     34                  Compact Cars   6086\n",
       "guzzler      2558      3                             G   1579\n",
       "trans_dscr  15044     52                         CLKUP   7809\n",
       "tCharger     8143      1                             T   8143\n",
       "sCharger      916      1                             S    916\n",
       "atvType      3987      8                           FFV   1479\n",
       "fuelType2    1731      4                           E85   1479\n",
       "rangeA       1726    235                           290     74\n",
       "evMotor      1221    211                    288V Ni-MH    138\n",
       "mfrCode     12610     50                           GMX   1802\n",
       "c240Dscr      114      5              standard charger    103\n",
       "c240bDscr     108      7           80 amp dual charger     55\n",
       "createdOn   43418    356  Tue Jan 01 00:00:00 EST 2013  34194\n",
       "modifiedOn  43418    218  Tue Jan 01 00:00:00 EST 2013  29175\n",
       "startStop   11729      2                             N   7146"
      ]
     },
     "execution_count": 11,
     "metadata": {},
     "output_type": "execute_result"
    }
   ],
   "source": [
    "#object 타입은, include 활용합니다.\n",
    "fueleco.describe(include=object).T"
   ]
  },
  {
   "cell_type": "markdown",
   "metadata": {},
   "source": [
    "# 2. 데이터 타입 다시 생각해봅시다."
   ]
  },
  {
   "cell_type": "markdown",
   "metadata": {},
   "source": [
    "우리는 dtype,select_dtype,info 등을 통해 데이터 타입을 확인하고, 메모리 사용을 줄이기 위한 타입 캐스팅(형변환)에 대해 배웠죠. 여기서는 형변환에 대해  좀 더 자세히 알아보도록 하겠습니다.  \n",
    "\n",
    "pandas는 csv 파일을 읽을 때, 데이터 타입을 추론해서 가져옵니다. 아래와 같이 말입니다.  \n",
    "\n",
    "- 열의 모든 값이 정수 같을 때 -> int64\n",
    "- 열의 모든 값이 (부동)소수점수 같을 때 ->float64\n",
    "- 숫자처럼 보이는데 결측치(NA/NULL)이 있을 때 -> float64\n",
    "- true/false 로 나뉠 때 -> bool\n",
    "- 날짜 형태 -> datetimes (parse_dates 설정 시)\n",
    "- 이 외에 -> object\n",
    "\n",
    "그러니까, float로 dtype이 결정되었다면 다음 세 경우 중 하나입니다. \n",
    "\n",
    "- 정말(부동)소수점수이거나\n",
    "- 정말(부통)소수점수이거나 with na\n",
    "- 정수인데 na 값이 있거나\n",
    "\n",
    "여기서 object는 또 다음과 같이 접근할 수 있죠.\n",
    "\n",
    "- 문자열\n",
    "- 범주형\n",
    "- (수치로 표현된) 범주형\n",
    "- 수치로 들어왔지만 문자형으로 로드한 것 \n",
    "\n",
    "object 컬럼 중 수치형으로 변경할 수 있다면, 사이즈를 많이 줄일 수 있겠죠.  \n",
    "위를 유념하면서 fueleco를 다시 보겠습니다.\n"
   ]
  },
  {
   "cell_type": "markdown",
   "metadata": {},
   "source": [
    "# dtype 카운트하기"
   ]
  },
  {
   "cell_type": "code",
   "execution_count": 9,
   "metadata": {},
   "outputs": [
    {
     "data": {
      "text/plain": [
       "float64    32\n",
       "int64      27\n",
       "object     23\n",
       "bool        1\n",
       "dtype: int64"
      ]
     },
     "execution_count": 9,
     "metadata": {},
     "output_type": "execute_result"
    }
   ],
   "source": [
    "fueleco.dtypes.value_counts()"
   ]
  },
  {
   "cell_type": "code",
   "execution_count": 10,
   "metadata": {
    "scrolled": true
   },
   "outputs": [
    {
     "data": {
      "text/html": [
       "<div>\n",
       "<style scoped>\n",
       "    .dataframe tbody tr th:only-of-type {\n",
       "        vertical-align: middle;\n",
       "    }\n",
       "\n",
       "    .dataframe tbody tr th {\n",
       "        vertical-align: top;\n",
       "    }\n",
       "\n",
       "    .dataframe thead th {\n",
       "        text-align: right;\n",
       "    }\n",
       "</style>\n",
       "<table border=\"1\" class=\"dataframe\">\n",
       "  <thead>\n",
       "    <tr style=\"text-align: right;\">\n",
       "      <th></th>\n",
       "      <th>count</th>\n",
       "      <th>mean</th>\n",
       "      <th>std</th>\n",
       "      <th>min</th>\n",
       "      <th>25%</th>\n",
       "      <th>50%</th>\n",
       "      <th>75%</th>\n",
       "      <th>max</th>\n",
       "    </tr>\n",
       "  </thead>\n",
       "  <tbody>\n",
       "    <tr>\n",
       "      <th>city08</th>\n",
       "      <td>43418.0</td>\n",
       "      <td>18.654521</td>\n",
       "      <td>8.750168</td>\n",
       "      <td>6.0</td>\n",
       "      <td>15.00</td>\n",
       "      <td>17.0</td>\n",
       "      <td>21.00</td>\n",
       "      <td>150.0</td>\n",
       "    </tr>\n",
       "    <tr>\n",
       "      <th>cityA08</th>\n",
       "      <td>43418.0</td>\n",
       "      <td>0.780805</td>\n",
       "      <td>6.050073</td>\n",
       "      <td>0.0</td>\n",
       "      <td>0.00</td>\n",
       "      <td>0.0</td>\n",
       "      <td>0.00</td>\n",
       "      <td>145.0</td>\n",
       "    </tr>\n",
       "    <tr>\n",
       "      <th>co2</th>\n",
       "      <td>43418.0</td>\n",
       "      <td>103.802639</td>\n",
       "      <td>185.336192</td>\n",
       "      <td>-1.0</td>\n",
       "      <td>-1.00</td>\n",
       "      <td>-1.0</td>\n",
       "      <td>228.00</td>\n",
       "      <td>893.0</td>\n",
       "    </tr>\n",
       "    <tr>\n",
       "      <th>co2A</th>\n",
       "      <td>43418.0</td>\n",
       "      <td>5.910291</td>\n",
       "      <td>57.330146</td>\n",
       "      <td>-1.0</td>\n",
       "      <td>-1.00</td>\n",
       "      <td>-1.0</td>\n",
       "      <td>-1.00</td>\n",
       "      <td>713.0</td>\n",
       "    </tr>\n",
       "    <tr>\n",
       "      <th>comb08</th>\n",
       "      <td>43418.0</td>\n",
       "      <td>20.894997</td>\n",
       "      <td>8.401355</td>\n",
       "      <td>7.0</td>\n",
       "      <td>17.00</td>\n",
       "      <td>20.0</td>\n",
       "      <td>23.00</td>\n",
       "      <td>142.0</td>\n",
       "    </tr>\n",
       "    <tr>\n",
       "      <th>combA08</th>\n",
       "      <td>43418.0</td>\n",
       "      <td>0.836888</td>\n",
       "      <td>6.034436</td>\n",
       "      <td>0.0</td>\n",
       "      <td>0.00</td>\n",
       "      <td>0.0</td>\n",
       "      <td>0.00</td>\n",
       "      <td>133.0</td>\n",
       "    </tr>\n",
       "    <tr>\n",
       "      <th>engId</th>\n",
       "      <td>43418.0</td>\n",
       "      <td>7752.441913</td>\n",
       "      <td>16894.286167</td>\n",
       "      <td>0.0</td>\n",
       "      <td>0.00</td>\n",
       "      <td>164.0</td>\n",
       "      <td>4122.00</td>\n",
       "      <td>69102.0</td>\n",
       "    </tr>\n",
       "    <tr>\n",
       "      <th>feScore</th>\n",
       "      <td>43418.0</td>\n",
       "      <td>0.592197</td>\n",
       "      <td>2.843539</td>\n",
       "      <td>-1.0</td>\n",
       "      <td>-1.00</td>\n",
       "      <td>-1.0</td>\n",
       "      <td>2.00</td>\n",
       "      <td>10.0</td>\n",
       "    </tr>\n",
       "    <tr>\n",
       "      <th>fuelCost08</th>\n",
       "      <td>43418.0</td>\n",
       "      <td>2400.533189</td>\n",
       "      <td>671.690218</td>\n",
       "      <td>450.0</td>\n",
       "      <td>1950.00</td>\n",
       "      <td>2400.0</td>\n",
       "      <td>2800.00</td>\n",
       "      <td>7550.0</td>\n",
       "    </tr>\n",
       "    <tr>\n",
       "      <th>fuelCostA08</th>\n",
       "      <td>43418.0</td>\n",
       "      <td>83.403197</td>\n",
       "      <td>442.658866</td>\n",
       "      <td>0.0</td>\n",
       "      <td>0.00</td>\n",
       "      <td>0.0</td>\n",
       "      <td>0.00</td>\n",
       "      <td>3750.0</td>\n",
       "    </tr>\n",
       "    <tr>\n",
       "      <th>ghgScore</th>\n",
       "      <td>43418.0</td>\n",
       "      <td>0.592588</td>\n",
       "      <td>2.847598</td>\n",
       "      <td>-1.0</td>\n",
       "      <td>-1.00</td>\n",
       "      <td>-1.0</td>\n",
       "      <td>2.00</td>\n",
       "      <td>10.0</td>\n",
       "    </tr>\n",
       "    <tr>\n",
       "      <th>ghgScoreA</th>\n",
       "      <td>43418.0</td>\n",
       "      <td>-0.921346</td>\n",
       "      <td>0.654744</td>\n",
       "      <td>-1.0</td>\n",
       "      <td>-1.00</td>\n",
       "      <td>-1.0</td>\n",
       "      <td>-1.00</td>\n",
       "      <td>8.0</td>\n",
       "    </tr>\n",
       "    <tr>\n",
       "      <th>highway08</th>\n",
       "      <td>43418.0</td>\n",
       "      <td>24.770556</td>\n",
       "      <td>8.283938</td>\n",
       "      <td>9.0</td>\n",
       "      <td>20.00</td>\n",
       "      <td>24.0</td>\n",
       "      <td>28.00</td>\n",
       "      <td>133.0</td>\n",
       "    </tr>\n",
       "    <tr>\n",
       "      <th>highwayA08</th>\n",
       "      <td>43418.0</td>\n",
       "      <td>0.936708</td>\n",
       "      <td>6.186028</td>\n",
       "      <td>0.0</td>\n",
       "      <td>0.00</td>\n",
       "      <td>0.0</td>\n",
       "      <td>0.00</td>\n",
       "      <td>121.0</td>\n",
       "    </tr>\n",
       "    <tr>\n",
       "      <th>hlv</th>\n",
       "      <td>43418.0</td>\n",
       "      <td>1.979732</td>\n",
       "      <td>5.912546</td>\n",
       "      <td>0.0</td>\n",
       "      <td>0.00</td>\n",
       "      <td>0.0</td>\n",
       "      <td>0.00</td>\n",
       "      <td>49.0</td>\n",
       "    </tr>\n",
       "    <tr>\n",
       "      <th>hpv</th>\n",
       "      <td>43418.0</td>\n",
       "      <td>10.095329</td>\n",
       "      <td>27.853542</td>\n",
       "      <td>0.0</td>\n",
       "      <td>0.00</td>\n",
       "      <td>0.0</td>\n",
       "      <td>0.00</td>\n",
       "      <td>195.0</td>\n",
       "    </tr>\n",
       "    <tr>\n",
       "      <th>id</th>\n",
       "      <td>43418.0</td>\n",
       "      <td>21847.215579</td>\n",
       "      <td>12676.718530</td>\n",
       "      <td>1.0</td>\n",
       "      <td>10855.25</td>\n",
       "      <td>21713.5</td>\n",
       "      <td>32862.75</td>\n",
       "      <td>43821.0</td>\n",
       "    </tr>\n",
       "    <tr>\n",
       "      <th>lv2</th>\n",
       "      <td>43418.0</td>\n",
       "      <td>1.782602</td>\n",
       "      <td>4.331941</td>\n",
       "      <td>0.0</td>\n",
       "      <td>0.00</td>\n",
       "      <td>0.0</td>\n",
       "      <td>0.00</td>\n",
       "      <td>41.0</td>\n",
       "    </tr>\n",
       "    <tr>\n",
       "      <th>lv4</th>\n",
       "      <td>43418.0</td>\n",
       "      <td>6.039868</td>\n",
       "      <td>9.566007</td>\n",
       "      <td>0.0</td>\n",
       "      <td>0.00</td>\n",
       "      <td>0.0</td>\n",
       "      <td>13.00</td>\n",
       "      <td>55.0</td>\n",
       "    </tr>\n",
       "    <tr>\n",
       "      <th>pv2</th>\n",
       "      <td>43418.0</td>\n",
       "      <td>13.395642</td>\n",
       "      <td>30.946350</td>\n",
       "      <td>0.0</td>\n",
       "      <td>0.00</td>\n",
       "      <td>0.0</td>\n",
       "      <td>0.00</td>\n",
       "      <td>194.0</td>\n",
       "    </tr>\n",
       "    <tr>\n",
       "      <th>pv4</th>\n",
       "      <td>43418.0</td>\n",
       "      <td>33.535884</td>\n",
       "      <td>45.993292</td>\n",
       "      <td>0.0</td>\n",
       "      <td>0.00</td>\n",
       "      <td>0.0</td>\n",
       "      <td>91.00</td>\n",
       "      <td>192.0</td>\n",
       "    </tr>\n",
       "    <tr>\n",
       "      <th>range</th>\n",
       "      <td>43418.0</td>\n",
       "      <td>1.184278</td>\n",
       "      <td>16.726704</td>\n",
       "      <td>0.0</td>\n",
       "      <td>0.00</td>\n",
       "      <td>0.0</td>\n",
       "      <td>0.00</td>\n",
       "      <td>402.0</td>\n",
       "    </tr>\n",
       "    <tr>\n",
       "      <th>year</th>\n",
       "      <td>43418.0</td>\n",
       "      <td>2002.536022</td>\n",
       "      <td>11.650912</td>\n",
       "      <td>1984.0</td>\n",
       "      <td>1992.00</td>\n",
       "      <td>2003.0</td>\n",
       "      <td>2013.00</td>\n",
       "      <td>2022.0</td>\n",
       "    </tr>\n",
       "    <tr>\n",
       "      <th>youSaveSpend</th>\n",
       "      <td>43418.0</td>\n",
       "      <td>-3992.174904</td>\n",
       "      <td>3369.439953</td>\n",
       "      <td>-29750.0</td>\n",
       "      <td>-6000.00</td>\n",
       "      <td>-4000.0</td>\n",
       "      <td>-1750.00</td>\n",
       "      <td>5750.0</td>\n",
       "    </tr>\n",
       "    <tr>\n",
       "      <th>phevCity</th>\n",
       "      <td>43418.0</td>\n",
       "      <td>0.229836</td>\n",
       "      <td>3.526150</td>\n",
       "      <td>0.0</td>\n",
       "      <td>0.00</td>\n",
       "      <td>0.0</td>\n",
       "      <td>0.00</td>\n",
       "      <td>97.0</td>\n",
       "    </tr>\n",
       "    <tr>\n",
       "      <th>phevHwy</th>\n",
       "      <td>43418.0</td>\n",
       "      <td>0.231563</td>\n",
       "      <td>3.405325</td>\n",
       "      <td>0.0</td>\n",
       "      <td>0.00</td>\n",
       "      <td>0.0</td>\n",
       "      <td>0.00</td>\n",
       "      <td>81.0</td>\n",
       "    </tr>\n",
       "    <tr>\n",
       "      <th>phevComb</th>\n",
       "      <td>43418.0</td>\n",
       "      <td>0.229628</td>\n",
       "      <td>3.449732</td>\n",
       "      <td>0.0</td>\n",
       "      <td>0.00</td>\n",
       "      <td>0.0</td>\n",
       "      <td>0.00</td>\n",
       "      <td>88.0</td>\n",
       "    </tr>\n",
       "  </tbody>\n",
       "</table>\n",
       "</div>"
      ],
      "text/plain": [
       "                count          mean           std      min       25%      50%  \\\n",
       "city08        43418.0     18.654521      8.750168      6.0     15.00     17.0   \n",
       "cityA08       43418.0      0.780805      6.050073      0.0      0.00      0.0   \n",
       "co2           43418.0    103.802639    185.336192     -1.0     -1.00     -1.0   \n",
       "co2A          43418.0      5.910291     57.330146     -1.0     -1.00     -1.0   \n",
       "comb08        43418.0     20.894997      8.401355      7.0     17.00     20.0   \n",
       "combA08       43418.0      0.836888      6.034436      0.0      0.00      0.0   \n",
       "engId         43418.0   7752.441913  16894.286167      0.0      0.00    164.0   \n",
       "feScore       43418.0      0.592197      2.843539     -1.0     -1.00     -1.0   \n",
       "fuelCost08    43418.0   2400.533189    671.690218    450.0   1950.00   2400.0   \n",
       "fuelCostA08   43418.0     83.403197    442.658866      0.0      0.00      0.0   \n",
       "ghgScore      43418.0      0.592588      2.847598     -1.0     -1.00     -1.0   \n",
       "ghgScoreA     43418.0     -0.921346      0.654744     -1.0     -1.00     -1.0   \n",
       "highway08     43418.0     24.770556      8.283938      9.0     20.00     24.0   \n",
       "highwayA08    43418.0      0.936708      6.186028      0.0      0.00      0.0   \n",
       "hlv           43418.0      1.979732      5.912546      0.0      0.00      0.0   \n",
       "hpv           43418.0     10.095329     27.853542      0.0      0.00      0.0   \n",
       "id            43418.0  21847.215579  12676.718530      1.0  10855.25  21713.5   \n",
       "lv2           43418.0      1.782602      4.331941      0.0      0.00      0.0   \n",
       "lv4           43418.0      6.039868      9.566007      0.0      0.00      0.0   \n",
       "pv2           43418.0     13.395642     30.946350      0.0      0.00      0.0   \n",
       "pv4           43418.0     33.535884     45.993292      0.0      0.00      0.0   \n",
       "range         43418.0      1.184278     16.726704      0.0      0.00      0.0   \n",
       "year          43418.0   2002.536022     11.650912   1984.0   1992.00   2003.0   \n",
       "youSaveSpend  43418.0  -3992.174904   3369.439953 -29750.0  -6000.00  -4000.0   \n",
       "phevCity      43418.0      0.229836      3.526150      0.0      0.00      0.0   \n",
       "phevHwy       43418.0      0.231563      3.405325      0.0      0.00      0.0   \n",
       "phevComb      43418.0      0.229628      3.449732      0.0      0.00      0.0   \n",
       "\n",
       "                   75%      max  \n",
       "city08           21.00    150.0  \n",
       "cityA08           0.00    145.0  \n",
       "co2             228.00    893.0  \n",
       "co2A             -1.00    713.0  \n",
       "comb08           23.00    142.0  \n",
       "combA08           0.00    133.0  \n",
       "engId          4122.00  69102.0  \n",
       "feScore           2.00     10.0  \n",
       "fuelCost08     2800.00   7550.0  \n",
       "fuelCostA08       0.00   3750.0  \n",
       "ghgScore          2.00     10.0  \n",
       "ghgScoreA        -1.00      8.0  \n",
       "highway08        28.00    133.0  \n",
       "highwayA08        0.00    121.0  \n",
       "hlv               0.00     49.0  \n",
       "hpv               0.00    195.0  \n",
       "id            32862.75  43821.0  \n",
       "lv2               0.00     41.0  \n",
       "lv4              13.00     55.0  \n",
       "pv2               0.00    194.0  \n",
       "pv4              91.00    192.0  \n",
       "range             0.00    402.0  \n",
       "year           2013.00   2022.0  \n",
       "youSaveSpend  -1750.00   5750.0  \n",
       "phevCity          0.00     97.0  \n",
       "phevHwy           0.00     81.0  \n",
       "phevComb          0.00     88.0  "
      ]
     },
     "execution_count": 10,
     "metadata": {},
     "output_type": "execute_result"
    }
   ],
   "source": [
    "#먼저 int 부터 보겠습니다.\n",
    "#int는 최대/최소 범위를 본 뒤 적당하게 줄이면 되곘죠?\n",
    "\n",
    "fueleco.describe(include=np.int64).T"
   ]
  },
  {
   "cell_type": "code",
   "execution_count": null,
   "metadata": {},
   "outputs": [],
   "source": [
    "#여기서 다시 상기하는 int 사이즈 보는 법\n",
    "np.iinfo(np.int16)\n",
    "#float은 np.finfo(np.float16)"
   ]
  },
  {
   "cell_type": "markdown",
   "metadata": {},
   "source": [
    "32767보다 작은 컬럼이 많지만 여기서는 두개, city08과 comb08을 바꾸어보겠습니다.  \n",
    "책의 결과가 더 작은 이유는 데이터가 더 작기 때문입니다. (최신 데이터가 추가되어서 그렇습니다.)"
   ]
  },
  {
   "cell_type": "code",
   "execution_count": 15,
   "metadata": {},
   "outputs": [
    {
     "name": "stdout",
     "output_type": "stream",
     "text": [
      "<class 'pandas.core.frame.DataFrame'>\n",
      "RangeIndex: 43418 entries, 0 to 43417\n",
      "Data columns (total 2 columns):\n",
      " #   Column  Non-Null Count  Dtype\n",
      "---  ------  --------------  -----\n",
      " 0   city08  43418 non-null  int16\n",
      " 1   comb08  43418 non-null  int16\n",
      "dtypes: int16(2)\n",
      "memory usage: 169.7 KB\n"
     ]
    }
   ],
   "source": [
    "(\n",
    "    fueleco[['city08','comb08']]\n",
    "    .assign(city08=fueleco.city08.astype(np.int16),\n",
    "           comb08=fueleco.comb08.astype(np.int16))\n",
    "    .info(memory_usage='deep')\n",
    ")"
   ]
  },
  {
   "cell_type": "markdown",
   "metadata": {},
   "source": [
    "수지형은 이제 익숙해 졌습니다. 이제 object(문자같은 문자아닌 문자같은컬럼!)을 보겠습니다.  \n",
    "object를 카테고리로 바꾸기 위해서는 cardinality(고유값의 수)가 적을 수록 좋습니다.  \n",
    "nunique를 사용하도록 하겠습니다.  \n",
    "여기서는 make와 model을 보도록 하겠습니다.  "
   ]
  },
  {
   "cell_type": "markdown",
   "metadata": {},
   "source": [
    "메이커인 브랜드 수"
   ]
  },
  {
   "cell_type": "code",
   "execution_count": 16,
   "metadata": {},
   "outputs": [
    {
     "data": {
      "text/plain": [
       "139"
      ]
     },
     "execution_count": 16,
     "metadata": {},
     "output_type": "execute_result"
    }
   ],
   "source": [
    "fueleco.make.nunique()"
   ]
  },
  {
   "cell_type": "markdown",
   "metadata": {},
   "source": [
    "모델의 수이죠. 당연히 모델 수가 더 많겠죠?"
   ]
  },
  {
   "cell_type": "code",
   "execution_count": 127,
   "metadata": {},
   "outputs": [
    {
     "data": {
      "text/plain": [
       "4375"
      ]
     },
     "execution_count": 127,
     "metadata": {},
     "output_type": "execute_result"
    }
   ],
   "source": [
    "len(fueleco.model.unique())"
   ]
  },
  {
   "cell_type": "markdown",
   "metadata": {},
   "source": [
    "메이커가 가지고있는 메모리를 세어봅시다."
   ]
  },
  {
   "cell_type": "code",
   "execution_count": 19,
   "metadata": {},
   "outputs": [
    {
     "data": {
      "text/plain": [
       "2750506"
      ]
     },
     "execution_count": 19,
     "metadata": {},
     "output_type": "execute_result"
    }
   ],
   "source": [
    "fueleco.make.memory_usage(deep=True)"
   ]
  },
  {
   "cell_type": "markdown",
   "metadata": {},
   "source": [
    "전체가 4.3만개 정도 되니, make를 카테고리로 바꿀 때 효과가 model보다 훨씬 뛰어날 것입니다."
   ]
  },
  {
   "cell_type": "code",
   "execution_count": 21,
   "metadata": {},
   "outputs": [
    {
     "data": {
      "text/plain": [
       "Index       128\n",
       "make     101447\n",
       "dtype: int64"
      ]
     },
     "execution_count": 21,
     "metadata": {},
     "output_type": "execute_result"
    }
   ],
   "source": [
    "(\n",
    "    fueleco[['make']]\n",
    "    .assign(make=fueleco.make.astype('category'))\n",
    "    .memory_usage(deep=True)\n",
    ")"
   ]
  },
  {
   "cell_type": "markdown",
   "metadata": {},
   "source": [
    "무려 3%로 줄어들었군요  \n",
    "즉 object를 category로 바꿀 때 극적인 효과를 볼 수 있다 입니다."
   ]
  },
  {
   "cell_type": "code",
   "execution_count": 23,
   "metadata": {},
   "outputs": [
    {
     "data": {
      "text/plain": [
       "0.0365"
      ]
     },
     "execution_count": 23,
     "metadata": {},
     "output_type": "execute_result"
    }
   ],
   "source": [
    "round(100495/2750506,4)"
   ]
  },
  {
   "cell_type": "code",
   "execution_count": 24,
   "metadata": {},
   "outputs": [
    {
     "data": {
      "text/plain": [
       "2971599"
      ]
     },
     "execution_count": 24,
     "metadata": {},
     "output_type": "execute_result"
    }
   ],
   "source": [
    "fueleco.model.memory_usage(deep=True)"
   ]
  },
  {
   "cell_type": "code",
   "execution_count": 25,
   "metadata": {},
   "outputs": [
    {
     "data": {
      "text/plain": [
       "Index       128\n",
       "model    557598\n",
       "dtype: int64"
      ]
     },
     "execution_count": 25,
     "metadata": {},
     "output_type": "execute_result"
    }
   ],
   "source": [
    "(\n",
    "    fueleco[['model']]\n",
    "    .assign(model=fueleco.model.astype('category'))\n",
    "    .memory_usage(deep=True)\n",
    ")"
   ]
  },
  {
   "cell_type": "markdown",
   "metadata": {},
   "source": [
    "model은 17%정도가 되는군요"
   ]
  },
  {
   "cell_type": "code",
   "execution_count": 27,
   "metadata": {},
   "outputs": [
    {
     "data": {
      "text/plain": [
       "0.177"
      ]
     },
     "execution_count": 27,
     "metadata": {},
     "output_type": "execute_result"
    }
   ],
   "source": [
    "round(525894/2971599,4)"
   ]
  },
  {
   "cell_type": "markdown",
   "metadata": {},
   "source": [
    "# 그림을 그려보겠습니다. "
   ]
  },
  {
   "cell_type": "markdown",
   "metadata": {},
   "source": [
    "숫자로만 보는 것은 한계가 있으니 그림을 그려보도록 하죠.  \n",
    "시각화는 EDA에서 중요한 작업으로, 데이터 이해에 큰 도움이 됩니다.  \n",
    "이 때 도출한 시사점들은, 향후 데이터 분석의 방향을 잡는 역할을 하죠.  \n",
    "오늘은 가장 기본적인 그림을 그려주는 matplotlib과 seaborn을 활용하겠습니다.  \n",
    "먼저 object 형태의 열 중 하나를 선택해 그려보겠습니다.  "
   ]
  },
  {
   "cell_type": "code",
   "execution_count": 28,
   "metadata": {},
   "outputs": [
    {
     "data": {
      "text/plain": [
       "Index(['drive', 'eng_dscr', 'fuelType', 'fuelType1', 'make', 'model',\n",
       "       'mpgData', 'trany', 'VClass', 'guzzler', 'trans_dscr', 'tCharger',\n",
       "       'sCharger', 'atvType', 'fuelType2', 'rangeA', 'evMotor', 'mfrCode',\n",
       "       'c240Dscr', 'c240bDscr', 'createdOn', 'modifiedOn', 'startStop'],\n",
       "      dtype='object')"
      ]
     },
     "execution_count": 28,
     "metadata": {},
     "output_type": "execute_result"
    }
   ],
   "source": [
    "fueleco.select_dtypes(object).columns"
   ]
  },
  {
   "cell_type": "code",
   "execution_count": 30,
   "metadata": {},
   "outputs": [
    {
     "data": {
      "text/plain": [
       "7"
      ]
     },
     "execution_count": 30,
     "metadata": {},
     "output_type": "execute_result"
    }
   ],
   "source": [
    "#drive를 선택해서 보겠습니다. \n",
    "fueleco.drive.nunique()"
   ]
  },
  {
   "cell_type": "code",
   "execution_count": 31,
   "metadata": {},
   "outputs": [
    {
     "data": {
      "text/plain": [
       "Front-Wheel Drive             14776\n",
       "Rear-Wheel Drive              14409\n",
       "4-Wheel or All-Wheel Drive     6645\n",
       "All-Wheel Drive                3788\n",
       "4-Wheel Drive                  1788\n",
       "2-Wheel Drive                   507\n",
       "Part-time 4-Wheel Drive         319\n",
       "Name: drive, dtype: int64"
      ]
     },
     "execution_count": 31,
     "metadata": {},
     "output_type": "execute_result"
    }
   ],
   "source": [
    "fueleco.drive.value_counts()"
   ]
  },
  {
   "cell_type": "markdown",
   "metadata": {},
   "source": [
    "결측치가 몇개나 있는지 확인해 보겠습니다."
   ]
  },
  {
   "cell_type": "code",
   "execution_count": 32,
   "metadata": {},
   "outputs": [
    {
     "data": {
      "text/plain": [
       "1186"
      ]
     },
     "execution_count": 32,
     "metadata": {},
     "output_type": "execute_result"
    }
   ],
   "source": [
    "fueleco.drive.isna().sum()"
   ]
  },
  {
   "cell_type": "markdown",
   "metadata": {},
   "source": [
    "원래 값 대비해서 결측치가 몇 개가 있는지 알기 위해서 mean을 붙입니다. 즉 결측치의 퍼센테이지를 구하는것이 되겠죠?\n",
    "(1+0+0)/3=0.33 일테니까요"
   ]
  },
  {
   "cell_type": "code",
   "execution_count": 33,
   "metadata": {},
   "outputs": [
    {
     "data": {
      "text/plain": [
       "2.7315859781657377"
      ]
     },
     "execution_count": 33,
     "metadata": {},
     "output_type": "execute_result"
    }
   ],
   "source": [
    "fueleco.drive.isna().mean()*100"
   ]
  },
  {
   "cell_type": "code",
   "execution_count": 34,
   "metadata": {},
   "outputs": [
    {
     "data": {
      "text/plain": [
       "Front-Wheel Drive             14776\n",
       "Rear-Wheel Drive              14409\n",
       "4-Wheel or All-Wheel Drive     6645\n",
       "All-Wheel Drive                3788\n",
       "4-Wheel Drive                  1788\n",
       "2-Wheel Drive                   507\n",
       "Part-time 4-Wheel Drive         319\n",
       "Name: drive, dtype: int64"
      ]
     },
     "execution_count": 34,
     "metadata": {},
     "output_type": "execute_result"
    }
   ],
   "source": [
    "fueleco.drive.value_counts()"
   ]
  },
  {
   "cell_type": "code",
   "execution_count": 35,
   "metadata": {},
   "outputs": [
    {
     "data": {
      "text/plain": [
       "Front-Wheel Drive             14776\n",
       "Rear-Wheel Drive              14409\n",
       "4-Wheel or All-Wheel Drive     6645\n",
       "All-Wheel Drive                3788\n",
       "4-Wheel Drive                  1788\n",
       "2-Wheel Drive                   507\n",
       "Part-time 4-Wheel Drive         319\n",
       "Name: drive, dtype: int64"
      ]
     },
     "execution_count": 35,
     "metadata": {},
     "output_type": "execute_result"
    }
   ],
   "source": [
    "fueleco.drive.value_counts()"
   ]
  },
  {
   "cell_type": "code",
   "execution_count": 132,
   "metadata": {},
   "outputs": [
    {
     "data": {
      "text/plain": [
       "<AxesSubplot:>"
      ]
     },
     "execution_count": 132,
     "metadata": {},
     "output_type": "execute_result"
    },
    {
     "data": {
      "image/png": "[encoded data removed]",
      "text/plain": [
       "<Figure size 432x288 with 1 Axes>"
      ]
     },
     "metadata": {
      "needs_background": "light"
     },
     "output_type": "display_data"
    }
   ],
   "source": [
    "fueleco.drive.value_counts().plot()"
   ]
  },
  {
   "cell_type": "code",
   "execution_count": 134,
   "metadata": {},
   "outputs": [
    {
     "data": {
      "text/plain": [
       "<AxesSubplot:>"
      ]
     },
     "execution_count": 134,
     "metadata": {},
     "output_type": "execute_result"
    },
    {
     "data": {
      "image/png": "[encoded data removed]",
      "text/plain": [
       "<Figure size 432x288 with 1 Axes>"
      ]
     },
     "metadata": {
      "needs_background": "light"
     },
     "output_type": "display_data"
    }
   ],
   "source": [
    "fueleco.drive.value_counts().plot(kind='bar')"
   ]
  },
  {
   "cell_type": "markdown",
   "metadata": {},
   "source": [
    "fueleco.drive.value_counts().plot(kind='bar')"
   ]
  },
  {
   "cell_type": "code",
   "execution_count": 36,
   "metadata": {},
   "outputs": [
    {
     "data": {
      "text/plain": [
       "<BarContainer object of 7 artists>"
      ]
     },
     "execution_count": 36,
     "metadata": {},
     "output_type": "execute_result"
    },
    {
     "data": {
      "image/png": "[encoded data removed]",
      "text/plain": [
       "<Figure size 720x576 with 1 Axes>"
      ]
     },
     "metadata": {
      "needs_background": "light"
     },
     "output_type": "display_data"
    }
   ],
   "source": [
    "#matplotlib\n",
    "import matplotlib.pyplot as plt\n",
    "#fig : figure 자체를 말하며 ax는 축을 말합니다.\n",
    "fig, ax =plt.subplots(figsize=(10,8))\n",
    "plt.bar(fueleco.drive.value_counts().index,fueleco.drive.value_counts())"
   ]
  },
  {
   "cell_type": "markdown",
   "metadata": {},
   "source": [
    "# 드디어 Seaborn"
   ]
  },
  {
   "cell_type": "code",
   "execution_count": 37,
   "metadata": {},
   "outputs": [],
   "source": [
    "import seaborn as sns"
   ]
  },
  {
   "cell_type": "code",
   "execution_count": 38,
   "metadata": {},
   "outputs": [
    {
     "name": "stderr",
     "output_type": "stream",
     "text": [
      "C:\\Users\\rkdwn\\anaconda3\\lib\\site-packages\\seaborn\\_decorators.py:36: FutureWarning: Pass the following variables as keyword args: x, y. From version 0.12, the only valid positional argument will be `data`, and passing other arguments without an explicit keyword will result in an error or misinterpretation.\n",
      "  warnings.warn(\n"
     ]
    },
    {
     "data": {
      "text/plain": [
       "<AxesSubplot:ylabel='drive'>"
      ]
     },
     "execution_count": 38,
     "metadata": {},
     "output_type": "execute_result"
    },
    {
     "data": {
      "image/png": "[encoded data removed]",
      "text/plain": [
       "<Figure size 432x288 with 1 Axes>"
      ]
     },
     "metadata": {
      "needs_background": "light"
     },
     "output_type": "display_data"
    }
   ],
   "source": [
    "sns.barplot(fueleco.drive.value_counts().index,fueleco.drive.value_counts())"
   ]
  },
  {
   "cell_type": "code",
   "execution_count": 136,
   "metadata": {},
   "outputs": [
    {
     "data": {
      "text/plain": [
       "139"
      ]
     },
     "execution_count": 136,
     "metadata": {},
     "output_type": "execute_result"
    }
   ],
   "source": [
    "len(fueleco.make.unique())"
   ]
  },
  {
   "cell_type": "code",
   "execution_count": 39,
   "metadata": {},
   "outputs": [
    {
     "data": {
      "text/plain": [
       "Chevrolet                           4159\n",
       "Ford                                3508\n",
       "Dodge                               2632\n",
       "GMC                                 2599\n",
       "Toyota                              2189\n",
       "                                    ... \n",
       "E. P. Dutton, Inc.                     1\n",
       "Superior Coaches Div E.p. Dutton       1\n",
       "JBA Motorcars, Inc.                    1\n",
       "Koenigsegg                             1\n",
       "Panos                                  1\n",
       "Name: make, Length: 139, dtype: int64"
      ]
     },
     "execution_count": 39,
     "metadata": {},
     "output_type": "execute_result"
    }
   ],
   "source": [
    "fueleco.make.value_counts()"
   ]
  },
  {
   "cell_type": "markdown",
   "metadata": {},
   "source": [
    "drive는 종류가 6개 뿐이라 간단하지만, 종류가 많은 경우에는 전체 경우를 보는 것이 의미가 없을 수 있습니다.  \n",
    "\n",
    "그럴 땐 최대값 n개를 선택하는 방법을 씁니다.  \n",
    "1개짜리는 그냥 합쳐서 기타 or others로 해주죠\n",
    "top_n=fueleco.make.value_counts().index[:6]"
   ]
  },
  {
   "cell_type": "code",
   "execution_count": 41,
   "metadata": {},
   "outputs": [],
   "source": [
    "top_n=fueleco.make.value_counts().index[:6]"
   ]
  },
  {
   "cell_type": "code",
   "execution_count": 42,
   "metadata": {},
   "outputs": [
    {
     "data": {
      "text/plain": [
       "Index(['Chevrolet', 'Ford', 'Dodge', 'GMC', 'Toyota', 'BMW'], dtype='object')"
      ]
     },
     "execution_count": 42,
     "metadata": {},
     "output_type": "execute_result"
    }
   ],
   "source": [
    "top_n"
   ]
  },
  {
   "cell_type": "markdown",
   "metadata": {},
   "source": [
    "조건식을 한번 더 상기시켜 보겠습니다."
   ]
  },
  {
   "cell_type": "code",
   "execution_count": 43,
   "metadata": {},
   "outputs": [
    {
     "data": {
      "text/plain": [
       "0    0\n",
       "1    0\n",
       "2    0\n",
       "3    4\n",
       "4    5\n",
       "dtype: int64"
      ]
     },
     "execution_count": 43,
     "metadata": {},
     "output_type": "execute_result"
    }
   ],
   "source": [
    "s1=pd.Series([1,2,3,4,5])\n",
    "s1.where(s1>3,0)"
   ]
  },
  {
   "cell_type": "markdown",
   "metadata": {},
   "source": [
    "where는 조건에 맞지 않는(false가 나오는) 값을 다른 값으로 바꾸는 함수입니다.  \n",
    "이런 기법을 masking 이라고 합니다. "
   ]
  },
  {
   "cell_type": "code",
   "execution_count": 46,
   "metadata": {},
   "outputs": [
    {
     "data": {
      "text/plain": [
       "Other        26193\n",
       "Chevrolet     4159\n",
       "Ford          3508\n",
       "Dodge         2632\n",
       "GMC           2599\n",
       "Toyota        2189\n",
       "BMW           2138\n",
       "Name: make, dtype: int64"
      ]
     },
     "execution_count": 46,
     "metadata": {},
     "output_type": "execute_result"
    }
   ],
   "source": [
    "fueleco.make.where(fueleco.make.isin(top_n),'Other').value_counts()"
   ]
  },
  {
   "cell_type": "code",
   "execution_count": 47,
   "metadata": {},
   "outputs": [
    {
     "data": {
      "text/plain": [
       "Other        26193\n",
       "Chevrolet     4159\n",
       "Ford          3508\n",
       "Dodge         2632\n",
       "GMC           2599\n",
       "Toyota        2189\n",
       "BMW           2138\n",
       "Name: make, dtype: int64"
      ]
     },
     "execution_count": 47,
     "metadata": {},
     "output_type": "execute_result"
    }
   ],
   "source": [
    "(\n",
    "    fueleco.assign(make=fueleco.make.where(fueleco.make.isin(top_n),'Other'))\n",
    "    .make.value_counts()\n",
    ")"
   ]
  },
  {
   "cell_type": "code",
   "execution_count": 48,
   "metadata": {},
   "outputs": [
    {
     "data": {
      "text/plain": [
       "<AxesSubplot:>"
      ]
     },
     "execution_count": 48,
     "metadata": {},
     "output_type": "execute_result"
    },
    {
     "data": {
      "image/png": "[encoded data removed]",
      "text/plain": [
       "<Figure size 720x576 with 1 Axes>"
      ]
     },
     "metadata": {
      "needs_background": "light"
     },
     "output_type": "display_data"
    }
   ],
   "source": [
    "import matplotlib.pyplot as plt\n",
    "fig, ax=plt.subplots(figsize=(10,8))\n",
    "top_n=fueleco.make.value_counts().index[:6]\n",
    "(\n",
    "    fueleco.assign(\n",
    "    make=fueleco.make.where(\n",
    "    fueleco.make.isin(top_n),'Other'))\n",
    "    .make.value_counts()[1:]#other를 빼고 그려보자.\n",
    "    .plot.bar(ax=ax) #내가 저 캔버스에 그릴거야.ax=ax\n",
    ")\n",
    "#plot(kind='bar')=plot.bar"
   ]
  },
  {
   "cell_type": "code",
   "execution_count": 49,
   "metadata": {},
   "outputs": [
    {
     "data": {
      "text/plain": [
       "<AxesSubplot:xlabel='count', ylabel='make'>"
      ]
     },
     "execution_count": 49,
     "metadata": {},
     "output_type": "execute_result"
    },
    {
     "data": {
      "image/png": "[encoded data removed]",
      "text/plain": [
       "<Figure size 720x576 with 1 Axes>"
      ]
     },
     "metadata": {
      "needs_background": "light"
     },
     "output_type": "display_data"
    }
   ],
   "source": [
    "import seaborn as sns #관용적으로 sns라고 쓰죠\n",
    "\n",
    "fig,ax=plt.subplots(figsize=(10,8))\n",
    "top_n=fueleco.make.value_counts().index[:6]\n",
    "# = matplot=countplot\n",
    "sns.countplot(y='make',\n",
    "             data=(fueleco.assign(\n",
    "             make=fueleco.make.where(fueleco.make.isin(top_n),'Other'))\n",
    "                  )\n",
    "             )"
   ]
  },
  {
   "cell_type": "markdown",
   "metadata": {},
   "source": [
    "make는 na값이 없지만, 많은 경우 na 값을 가진 칼럼을 갖을 수도 있겠죠?  \n",
    "drive를 보도록 하겠습니다.  "
   ]
  },
  {
   "cell_type": "code",
   "execution_count": 50,
   "metadata": {},
   "outputs": [
    {
     "data": {
      "text/plain": [
       "1186"
      ]
     },
     "execution_count": 50,
     "metadata": {},
     "output_type": "execute_result"
    }
   ],
   "source": [
    "fueleco.drive.isna().sum()"
   ]
  },
  {
   "cell_type": "markdown",
   "metadata": {},
   "source": [
    "value_counts 에서 dropna=False 를 주면, na값을 다른 값의 수와 비교하기 쉽습니다.  "
   ]
  },
  {
   "cell_type": "code",
   "execution_count": 51,
   "metadata": {},
   "outputs": [
    {
     "data": {
      "text/plain": [
       "Front-Wheel Drive             14776\n",
       "Rear-Wheel Drive              14409\n",
       "4-Wheel or All-Wheel Drive     6645\n",
       "All-Wheel Drive                3788\n",
       "4-Wheel Drive                  1788\n",
       "NaN                            1186\n",
       "2-Wheel Drive                   507\n",
       "Part-time 4-Wheel Drive         319\n",
       "Name: drive, dtype: int64"
      ]
     },
     "execution_count": 51,
     "metadata": {},
     "output_type": "execute_result"
    }
   ],
   "source": [
    "fueleco.drive.value_counts(dropna=False)"
   ]
  },
  {
   "cell_type": "markdown",
   "metadata": {},
   "source": [
    "간단한 플록인 경우에는 plt나 sns을 사용하지 않고, pandas의 plot을 사용합니다.  사실 이 plot함수고 plt를 이용하긴 하지만 매우 간편하니까요"
   ]
  },
  {
   "cell_type": "code",
   "execution_count": 52,
   "metadata": {},
   "outputs": [
    {
     "data": {
      "text/plain": [
       "<AxesSubplot:>"
      ]
     },
     "execution_count": 52,
     "metadata": {},
     "output_type": "execute_result"
    },
    {
     "data": {
      "image/png": "[encoded data removed]",
      "text/plain": [
       "<Figure size 432x288 with 1 Axes>"
      ]
     },
     "metadata": {
      "needs_background": "light"
     },
     "output_type": "display_data"
    }
   ],
   "source": [
    "fueleco.drive.value_counts(dropna=False).plot(kind='bar')"
   ]
  },
  {
   "cell_type": "markdown",
   "metadata": {},
   "source": [
    "# Object 형태->수치형?  \n",
    "rangeA는 object 형태인데, 값을 확인해보면 그런 것 같지 않습니다. rangeA열을 보겠습니다. "
   ]
  },
  {
   "cell_type": "code",
   "execution_count": 53,
   "metadata": {},
   "outputs": [
    {
     "data": {
      "text/plain": [
       "NaN            41692\n",
       "290               74\n",
       "270               58\n",
       "280               56\n",
       "310               41\n",
       "               ...  \n",
       "289/430            1\n",
       "230/270/270        1\n",
       "256                1\n",
       "240-420            1\n",
       "140                1\n",
       "Name: rangeA, Length: 236, dtype: int64"
      ]
     },
     "execution_count": 53,
     "metadata": {},
     "output_type": "execute_result"
    }
   ],
   "source": [
    "fueleco.rangeA.value_counts(dropna=False)"
   ]
  },
  {
   "cell_type": "markdown",
   "metadata": {},
   "source": [
    "240-420 은 240빼기 420이 아니라 240~420 입니다.  \n",
    "위를 보니 230/350 같은 요상한 것들이 있네요. NA 값도 많구요.  \n",
    "값안테 숫자가 아닌 것을 찾기 위해서 정규 표현식을 써보겠습니다. \n",
    "\n",
    "^는 not의 의미입니다. 그러니까 숫자와 .을 뺀 문자가 들어있으면 보여줘! 란 것이죠."
   ]
  },
  {
   "cell_type": "code",
   "execution_count": 138,
   "metadata": {},
   "outputs": [
    {
     "data": {
      "text/plain": [
       "/    323\n",
       "-     71\n",
       "dtype: int64"
      ]
     },
     "execution_count": 138,
     "metadata": {},
     "output_type": "execute_result"
    }
   ],
   "source": [
    "(\n",
    "    #rangeA의 string에서 뭔가를 찾아낼건데, 즉 문자만 찾아내겠다는 거죠 \n",
    "fueleco.rangeA.str.extract(r'([^0-9.])')\n",
    ".dropna() #na값 버립니다.\n",
    "    #.apply(lambda row:''.join(row,axis=1)\n",
    ".value_counts()\n",
    ")"
   ]
  },
  {
   "cell_type": "markdown",
   "metadata": {},
   "source": [
    "type을 apply해서 각 값마다 data type 확인하겠습니다. -> set으로 묶어 중복되지 않게 보는것입니다. "
   ]
  },
  {
   "cell_type": "code",
   "execution_count": 140,
   "metadata": {},
   "outputs": [
    {
     "data": {
      "text/plain": [
       "0        <class 'float'>\n",
       "1        <class 'float'>\n",
       "2        <class 'float'>\n",
       "3        <class 'float'>\n",
       "4        <class 'float'>\n",
       "              ...       \n",
       "43413    <class 'float'>\n",
       "43414    <class 'float'>\n",
       "43415    <class 'float'>\n",
       "43416    <class 'float'>\n",
       "43417    <class 'float'>\n",
       "Name: rangeA, Length: 43418, dtype: object"
      ]
     },
     "execution_count": 140,
     "metadata": {},
     "output_type": "execute_result"
    }
   ],
   "source": [
    "fueleco.rangeA.apply(type)\n",
    "#각각의 칸에서 어떤 클래스를 가지고 있는지 검사할 수 있습니다. 대부분이 \n",
    "#float인데 이중 str이있다는거죠. \n",
    "#그래서 set은 집합인데, 중복되는것은 하나로 쳐주죠."
   ]
  },
  {
   "cell_type": "code",
   "execution_count": 56,
   "metadata": {},
   "outputs": [
    {
     "data": {
      "text/plain": [
       "{float, str}"
      ]
     },
     "execution_count": 56,
     "metadata": {},
     "output_type": "execute_result"
    }
   ],
   "source": [
    "set(fueleco.rangeA.apply(type))"
   ]
  },
  {
   "cell_type": "code",
   "execution_count": 57,
   "metadata": {},
   "outputs": [
    {
     "data": {
      "text/plain": [
       "0        <class 'float'>\n",
       "1        <class 'float'>\n",
       "2        <class 'float'>\n",
       "3        <class 'float'>\n",
       "4        <class 'float'>\n",
       "              ...       \n",
       "43413    <class 'float'>\n",
       "43414    <class 'float'>\n",
       "43415    <class 'float'>\n",
       "43416    <class 'float'>\n",
       "43417    <class 'float'>\n",
       "Name: rangeA, Length: 43418, dtype: object"
      ]
     },
     "execution_count": 57,
     "metadata": {},
     "output_type": "execute_result"
    }
   ],
   "source": [
    "fueleco.rangeA.apply(type)"
   ]
  },
  {
   "cell_type": "markdown",
   "metadata": {},
   "source": [
    "그래서 저는 이렇게 바꾸어 줄 것입니다.  \n",
    "30-40 or 200/300/400 같은거를\n",
    "(30+40)/2 해주면 평균이 되겠죠?"
   ]
  },
  {
   "cell_type": "markdown",
   "metadata": {},
   "source": [
    "fuleconomy.gov에 따르면, rangeA값은 두 번째 연료 형식의 연비 범위를 나타낸다고 합니다. 전기나 가스 같은 것을 말하죠.  \n",
    "그러니까 10-15이면 10-15의 연비 범위를 갖는다는 말인데요.  \n",
    "이를 처리하기 위해서 평균을 구하는 것입니다.  \n",
    "~를 /로 변환한 다음, /로 데이터를 나누고, 평균값을 구해보겠습니다.  "
   ]
  },
  {
   "cell_type": "code",
   "execution_count": 141,
   "metadata": {},
   "outputs": [
    {
     "data": {
      "text/plain": [
       "0        0.0\n",
       "1        0.0\n",
       "2        0.0\n",
       "3        0.0\n",
       "4        0.0\n",
       "        ... \n",
       "43413    0.0\n",
       "43414    0.0\n",
       "43415    0.0\n",
       "43416    0.0\n",
       "43417    0.0\n",
       "Length: 43418, dtype: float64"
      ]
     },
     "execution_count": 141,
     "metadata": {},
     "output_type": "execute_result"
    }
   ],
   "source": [
    "(\n",
    "fueleco.rangeA.fillna('0')\n",
    ".str.replace('-','/')\n",
    ".str.split('/',expand=True)\n",
    ".astype(float)\n",
    ".mean(axis=1)\n",
    ")\n",
    "#axis가 0이면 컬럽별로 계산을 해주며\n",
    "#axis가 1이면 행별로 계산을 해줍니다."
   ]
  },
  {
   "cell_type": "markdown",
   "metadata": {},
   "source": [
    "이렇게 수치형으로 바꾼 것도 구간으로 나눠주면 범주형처럼 사용할 수 있습니다.  \n",
    "예를 들어 나이를 20대, 30대, 40대.. 으로 나눈다면 각 그룹을 범주화할 수 있는 것이죠. 판다스에서는 수치의 범주화를 위해 크게 두 함수를 사용합니다.  \n",
    "- cut : 동일한 너비의 구간으로 나누기 \n",
    "- qcut : 분위수를 기준으로 나누기  \n",
    "\n",
    "아래 코드를 보겠습니다.  "
   ]
  },
  {
   "cell_type": "code",
   "execution_count": 60,
   "metadata": {},
   "outputs": [
    {
     "data": {
      "text/plain": [
       "(-0.45, 44.95]     41889\n",
       "(269.7, 314.65]      600\n",
       "(314.65, 359.6]      379\n",
       "(359.6, 404.55]      216\n",
       "(224.75, 269.7]      187\n",
       "(404.55, 449.5]       92\n",
       "(89.9, 134.85]        21\n",
       "(44.95, 89.9]         20\n",
       "(179.8, 224.75]        9\n",
       "(134.85, 179.8]        5\n",
       "dtype: int64"
      ]
     },
     "execution_count": 60,
     "metadata": {},
     "output_type": "execute_result"
    }
   ],
   "source": [
    "(\n",
    "fueleco.rangeA.fillna('0')\n",
    "    .str.replace('-','/')\n",
    "    .str.split('/',expand=True)\n",
    "    .astype(float)\n",
    "    .mean(axis=1)\n",
    "    .pipe(lambda ser_:pd.cut(ser_,10))\n",
    "    .value_counts()\n",
    ")"
   ]
  },
  {
   "cell_type": "markdown",
   "metadata": {},
   "source": [
    "(   \n",
    "\n",
    "fueleco.rangeA.fillna('0')  \n",
    ".str.replace('-','/')  \n",
    ".str.split('/',expand=True)  \n",
    ".astype(float)  \n",
    ".mean(axis=1)  \n",
    ".pipe(lambda ser_:pd.qcut(ser_,10))  \n",
    ".value_counts()  \n",
    ")  \n",
    "0에 속하는 놈들이 엄청 많아서 에러가 뜹니다."
   ]
  },
  {
   "cell_type": "code",
   "execution_count": 146,
   "metadata": {},
   "outputs": [
    {
     "data": {
      "text/plain": [
       "<AxesSubplot:>"
      ]
     },
     "execution_count": 146,
     "metadata": {},
     "output_type": "execute_result"
    },
    {
     "data": {
      "image/png": "[encoded data removed]",
      "text/plain": [
       "<Figure size 432x288 with 1 Axes>"
      ]
     },
     "metadata": {
      "needs_background": "light"
     },
     "output_type": "display_data"
    }
   ],
   "source": [
    "(\n",
    "    fueleco.city08.pipe( #시내 열을 가져와보죠\n",
    "        lambda ser:pd.qcut(ser,q=10)\n",
    "        ).value_counts().sort_index().plot.bar()\n",
    "#인덱스를 한번 sort해주면 더 깔끔해지겠죠.\n",
    ")"
   ]
  },
  {
   "cell_type": "code",
   "execution_count": 62,
   "metadata": {},
   "outputs": [
    {
     "data": {
      "text/plain": [
       "<AxesSubplot:ylabel='Frequency'>"
      ]
     },
     "execution_count": 62,
     "metadata": {},
     "output_type": "execute_result"
    },
    {
     "data": {
      "image/png": "[encoded data removed]",
      "text/plain": [
       "<Figure size 432x288 with 1 Axes>"
      ]
     },
     "metadata": {
      "needs_background": "light"
     },
     "output_type": "display_data"
    }
   ],
   "source": [
    "fueleco.city08.plot.hist()"
   ]
  },
  {
   "cell_type": "markdown",
   "metadata": {},
   "source": [
    "# 연속형 데이터(수치)\n",
    "- 수치-범주의 사이에 있는 데이터도 있습니다.(ex.학년)\n",
    "- 수치를 범주로 만들 수도 있습니다(ex. 구간 나누기 활용)\n",
    "\n",
    "city08(저속 연비)를 보도록하겠습니다. "
   ]
  },
  {
   "cell_type": "code",
   "execution_count": 63,
   "metadata": {},
   "outputs": [
    {
     "data": {
      "text/plain": [
       "0        19\n",
       "1         9\n",
       "2        23\n",
       "3        10\n",
       "4        17\n",
       "         ..\n",
       "43413    19\n",
       "43414    20\n",
       "43415    18\n",
       "43416    18\n",
       "43417    16\n",
       "Name: city08, Length: 43418, dtype: int64"
      ]
     },
     "execution_count": 63,
     "metadata": {},
     "output_type": "execute_result"
    }
   ],
   "source": [
    "fueleco.city08"
   ]
  },
  {
   "cell_type": "markdown",
   "metadata": {},
   "source": [
    "원래 (연속)수치형엔 value_counts가 잘 먹히지 않지만 한번 해보죠."
   ]
  },
  {
   "cell_type": "code",
   "execution_count": 64,
   "metadata": {},
   "outputs": [
    {
     "data": {
      "text/plain": [
       "15     4679\n",
       "18     4197\n",
       "17     4184\n",
       "16     4128\n",
       "19     3188\n",
       "       ... \n",
       "60        1\n",
       "71        1\n",
       "140       1\n",
       "93        1\n",
       "116       1\n",
       "Name: city08, Length: 122, dtype: int64"
      ]
     },
     "execution_count": 64,
     "metadata": {},
     "output_type": "execute_result"
    }
   ],
   "source": [
    "fueleco.city08.value_counts()"
   ]
  },
  {
   "cell_type": "code",
   "execution_count": 147,
   "metadata": {},
   "outputs": [
    {
     "data": {
      "text/plain": [
       "count    43418.000000\n",
       "mean        18.654521\n",
       "std          8.750168\n",
       "min          6.000000\n",
       "25%         15.000000\n",
       "50%         17.000000\n",
       "75%         21.000000\n",
       "max        150.000000\n",
       "Name: city08, dtype: float64"
      ]
     },
     "execution_count": 147,
     "metadata": {},
     "output_type": "execute_result"
    }
   ],
   "source": [
    "fueleco.city08.describe()"
   ]
  },
  {
   "cell_type": "markdown",
   "metadata": {},
   "source": [
    "역시 별로입니다. describe를 해보도록 하겠습니다. "
   ]
  },
  {
   "cell_type": "code",
   "execution_count": 65,
   "metadata": {},
   "outputs": [
    {
     "data": {
      "text/plain": [
       "count    43418.000000\n",
       "mean        18.654521\n",
       "std          8.750168\n",
       "min          6.000000\n",
       "25%         15.000000\n",
       "50%         17.000000\n",
       "75%         21.000000\n",
       "max        150.000000\n",
       "Name: city08, dtype: float64"
      ]
     },
     "execution_count": 65,
     "metadata": {},
     "output_type": "execute_result"
    }
   ],
   "source": [
    "fueleco.city08.describe()"
   ]
  },
  {
   "cell_type": "markdown",
   "metadata": {},
   "source": [
    "na 값은 몇개나 있을까요?"
   ]
  },
  {
   "cell_type": "code",
   "execution_count": 66,
   "metadata": {},
   "outputs": [
    {
     "data": {
      "text/plain": [
       "0"
      ]
     },
     "execution_count": 66,
     "metadata": {},
     "output_type": "execute_result"
    }
   ],
   "source": [
    "fueleco.city08.isna().sum()"
   ]
  },
  {
   "cell_type": "markdown",
   "metadata": {},
   "source": [
    "이렇게 보면 알기가 어려우니, 그림을 그려보겠습니다.  \n",
    "수치형의 경우 histogram을 그려보면 도움이 될것입니다. "
   ]
  },
  {
   "cell_type": "code",
   "execution_count": 67,
   "metadata": {},
   "outputs": [
    {
     "data": {
      "text/plain": [
       "<AxesSubplot:>"
      ]
     },
     "execution_count": 67,
     "metadata": {},
     "output_type": "execute_result"
    },
    {
     "data": {
      "image/png": "[encoded data removed]",
      "text/plain": [
       "<Figure size 720x576 with 1 Axes>"
      ]
     },
     "metadata": {
      "needs_background": "light"
     },
     "output_type": "display_data"
    }
   ],
   "source": [
    "import matplotlib.pyplot as plt  \n",
    "fig,ax=plt.subplots(figsize=(10,8))\n",
    "fueleco.city08.hist(ax=ax)\n",
    "#plt.hist()"
   ]
  },
  {
   "cell_type": "markdown",
   "metadata": {},
   "source": [
    "0~20사이가 너무 두꺼워서 세부적 모양을 보기 어렵군요.  이럴때에는 bin의 개수를 늘리면 도움이 되죠"
   ]
  },
  {
   "cell_type": "code",
   "execution_count": 68,
   "metadata": {},
   "outputs": [
    {
     "data": {
      "text/plain": [
       "<AxesSubplot:>"
      ]
     },
     "execution_count": 68,
     "metadata": {},
     "output_type": "execute_result"
    },
    {
     "data": {
      "image/png": "[encoded data removed]",
      "text/plain": [
       "<Figure size 720x576 with 1 Axes>"
      ]
     },
     "metadata": {
      "needs_background": "light"
     },
     "output_type": "display_data"
    }
   ],
   "source": [
    "fig,ax=plt.subplots(figsize=(10,8))\n",
    "fueleco.city08.hist(ax=ax,bins=100)"
   ]
  },
  {
   "cell_type": "markdown",
   "metadata": {},
   "source": [
    "근데 사실 귀찮으니까 이걸 더 많이쓰죠."
   ]
  },
  {
   "cell_type": "code",
   "execution_count": 69,
   "metadata": {},
   "outputs": [
    {
     "data": {
      "text/plain": [
       "<AxesSubplot:>"
      ]
     },
     "execution_count": 69,
     "metadata": {},
     "output_type": "execute_result"
    },
    {
     "data": {
      "image/png": "[encoded data removed]",
      "text/plain": [
       "<Figure size 432x288 with 1 Axes>"
      ]
     },
     "metadata": {
      "needs_background": "light"
     },
     "output_type": "display_data"
    }
   ],
   "source": [
    "fueleco.city08.hist(bins=30)"
   ]
  },
  {
   "cell_type": "markdown",
   "metadata": {},
   "source": [
    "seaborn을 이용하면 좀 더 예쁜, 다양한 정보가 들어간 그래프를 그릴 수 있습니다. "
   ]
  },
  {
   "cell_type": "code",
   "execution_count": 150,
   "metadata": {},
   "outputs": [
    {
     "data": {
      "text/plain": [
       "<AxesSubplot:xlabel='city08', ylabel='Count'>"
      ]
     },
     "execution_count": 150,
     "metadata": {},
     "output_type": "execute_result"
    },
    {
     "data": {
      "image/png": "[encoded data removed]",
      "text/plain": [
       "<Figure size 720x576 with 1 Axes>"
      ]
     },
     "metadata": {
      "needs_background": "light"
     },
     "output_type": "display_data"
    }
   ],
   "source": [
    "fig,ax=plt.subplots(figsize=(10,8))\n",
    "#sns,distplot(fueleco.city08,ax=ax)\n",
    "sns.histplot(fueleco.city08,ax=ax,binwidth=2)"
   ]
  },
  {
   "cell_type": "code",
   "execution_count": 74,
   "metadata": {},
   "outputs": [
    {
     "data": {
      "text/plain": [
       "<AxesSubplot:xlabel='city08'>"
      ]
     },
     "execution_count": 74,
     "metadata": {},
     "output_type": "execute_result"
    },
    {
     "data": {
      "image/png": "[encoded data removed]",
      "text/plain": [
       "<Figure size 720x576 with 3 Axes>"
      ]
     },
     "metadata": {
      "needs_background": "light"
     },
     "output_type": "display_data"
    }
   ],
   "source": [
    "fig,axs=plt.subplots(nrows=3,figsize=(10,8))\n",
    "sns.boxplot(x=fueleco.city08,ax=axs[0])\n",
    "sns.violinplot(x=fueleco.city08,ax=axs[1])\n",
    "sns.boxenplot(x=fueleco.city08,ax=axs[2])"
   ]
  },
  {
   "cell_type": "markdown",
   "metadata": {},
   "source": [
    "데이터의 정규성을 검증하려면 Scipy의 kstest를 사용합니다.  \n",
    "Scipy는 과학/수학 관련된 파이썬 모듈입니다.  \n",
    "kstest에서 p-value가 0.05 이하라면 데이터는 정규분포가 아닙니다. "
   ]
  },
  {
   "cell_type": "code",
   "execution_count": 75,
   "metadata": {},
   "outputs": [
    {
     "data": {
      "text/plain": [
       "KstestResult(statistic=0.9999999990134123, pvalue=0.0)"
      ]
     },
     "execution_count": 75,
     "metadata": {},
     "output_type": "execute_result"
    }
   ],
   "source": [
    "from scipy import stats\n",
    "stats.kstest(fueleco.city08,cdf='norm')"
   ]
  },
  {
   "cell_type": "code",
   "execution_count": 76,
   "metadata": {},
   "outputs": [
    {
     "data": {
      "text/plain": [
       "((array([-4.15925471, -3.95199683, -3.83894277, ...,  3.83894277,\n",
       "          3.95199683,  4.15925471]),\n",
       "  array([  6,   6,   6, ..., 150, 150, 150], dtype=int64)),\n",
       " (6.229171721346237, 18.65452116633654, 0.7118327651332009))"
      ]
     },
     "execution_count": 76,
     "metadata": {},
     "output_type": "execute_result"
    },
    {
     "data": {
      "image/png": "[encoded data removed]",
      "text/plain": [
       "<Figure size 720x576 with 1 Axes>"
      ]
     },
     "metadata": {
      "needs_background": "light"
     },
     "output_type": "display_data"
    }
   ],
   "source": [
    "fig,ax=plt.subplots(figsize=(10,8))\n",
    "stats.probplot(fueleco.city08,plot=ax)"
   ]
  },
  {
   "cell_type": "markdown",
   "metadata": {},
   "source": [
    "# 5주차 과제  \n",
    "#### fueleco 데이터에 대해 다음을 수행하세요.  "
   ]
  },
  {
   "cell_type": "markdown",
   "metadata": {},
   "source": [
    "#### 1.fuelType1에 대한 그래프를 그리고 분석해보세요.  \n",
    "pandas의 plot 함수 쓰기, matplotlib 사용하기, seaborn 사용하기 의 세가지 버전으로 해보세요."
   ]
  },
  {
   "cell_type": "code",
   "execution_count": 13,
   "metadata": {},
   "outputs": [
    {
     "data": {
      "text/plain": [
       "0        Regular Gasoline\n",
       "1        Regular Gasoline\n",
       "2        Regular Gasoline\n",
       "3        Regular Gasoline\n",
       "4        Premium Gasoline\n",
       "               ...       \n",
       "43413    Regular Gasoline\n",
       "43414    Regular Gasoline\n",
       "43415    Regular Gasoline\n",
       "43416    Regular Gasoline\n",
       "43417    Premium Gasoline\n",
       "Name: fuelType1, Length: 43418, dtype: object"
      ]
     },
     "execution_count": 13,
     "metadata": {},
     "output_type": "execute_result"
    }
   ],
   "source": [
    "fueleco.fuelType1"
   ]
  },
  {
   "cell_type": "markdown",
   "metadata": {},
   "source": [
    "#### 2.수업시간에 만든 top_n을 활용해 make 별 fuelType1을 분석하기 위한 그래프를 그려보세요. (정답은 없으니 여러분이 배운 것을 활용해 보세요.)  \n",
    "hint. countplot에서 hue를 설정해보세요."
   ]
  },
  {
   "cell_type": "code",
   "execution_count": null,
   "metadata": {},
   "outputs": [],
   "source": []
  },
  {
   "cell_type": "markdown",
   "metadata": {},
   "source": [
    "#### 3. year 별 가장 연비가 좋은 차가 무엇인지 궁금합니다.(city08기준)  \n",
    "어떻게 명령을 만들 수 있을까요?(많이 했었죠?)"
   ]
  },
  {
   "cell_type": "markdown",
   "metadata": {},
   "source": [
    "# 6주차"
   ]
  },
  {
   "cell_type": "markdown",
   "metadata": {},
   "source": [
    "# 범주 간 연속값 비교\n",
    "A 지역과 B지역에서 같은 변수를 비교하고 싶을 때, 그래프 두 개를 그려주면 깔끔하겠죠?  \n",
    "여기서는 make별로 city08을 비교해보겠습니다.  \n",
    "예전에 잠깐 등장했던 groupby를 사용합니다.  \n",
    "groupby는 곧 더 자세히 다룰 예정입니다. "
   ]
  },
  {
   "cell_type": "code",
   "execution_count": 77,
   "metadata": {},
   "outputs": [
    {
     "data": {
      "text/html": [
       "<div>\n",
       "<style scoped>\n",
       "    .dataframe tbody tr th:only-of-type {\n",
       "        vertical-align: middle;\n",
       "    }\n",
       "\n",
       "    .dataframe tbody tr th {\n",
       "        vertical-align: top;\n",
       "    }\n",
       "\n",
       "    .dataframe thead th {\n",
       "        text-align: right;\n",
       "    }\n",
       "</style>\n",
       "<table border=\"1\" class=\"dataframe\">\n",
       "  <thead>\n",
       "    <tr style=\"text-align: right;\">\n",
       "      <th></th>\n",
       "      <th>mean</th>\n",
       "      <th>std</th>\n",
       "    </tr>\n",
       "    <tr>\n",
       "      <th>make</th>\n",
       "      <th></th>\n",
       "      <th></th>\n",
       "    </tr>\n",
       "  </thead>\n",
       "  <tbody>\n",
       "    <tr>\n",
       "      <th>BMW</th>\n",
       "      <td>18.561740</td>\n",
       "      <td>9.562551</td>\n",
       "    </tr>\n",
       "    <tr>\n",
       "      <th>Ford</th>\n",
       "      <td>17.298746</td>\n",
       "      <td>7.646095</td>\n",
       "    </tr>\n",
       "    <tr>\n",
       "      <th>Honda</th>\n",
       "      <td>25.105948</td>\n",
       "      <td>10.113860</td>\n",
       "    </tr>\n",
       "    <tr>\n",
       "      <th>Tesla</th>\n",
       "      <td>103.648148</td>\n",
       "      <td>17.129149</td>\n",
       "    </tr>\n",
       "  </tbody>\n",
       "</table>\n",
       "</div>"
      ],
      "text/plain": [
       "             mean        std\n",
       "make                        \n",
       "BMW     18.561740   9.562551\n",
       "Ford    17.298746   7.646095\n",
       "Honda   25.105948  10.113860\n",
       "Tesla  103.648148  17.129149"
      ]
     },
     "execution_count": 77,
     "metadata": {},
     "output_type": "execute_result"
    }
   ],
   "source": [
    "mask=fueleco.make.isin(['Ford','Honda','Tesla','BMW']) #이 네 그룹만 다루죠.\n",
    "fueleco[mask].groupby('make').city08.agg(['mean','std'])#agg로 집계함수를 넘겨줄 수 있습니다. "
   ]
  },
  {
   "cell_type": "code",
   "execution_count": 79,
   "metadata": {},
   "outputs": [
    {
     "data": {
      "text/plain": [
       "<seaborn.axisgrid.FacetGrid at 0x2a552073580>"
      ]
     },
     "execution_count": 79,
     "metadata": {},
     "output_type": "execute_result"
    },
    {
     "data": {
      "image/png": "[encoded data removed]",
      "text/plain": [
       "<Figure size 360x360 with 1 Axes>"
      ]
     },
     "metadata": {
      "needs_background": "light"
     },
     "output_type": "display_data"
    }
   ],
   "source": [
    "#위 결과를 시각화 해보죠\n",
    "sns.catplot(x='make',y='city08',data=fueleco[mask],kind='box')"
   ]
  },
  {
   "cell_type": "markdown",
   "metadata": {},
   "source": [
    "위와 같은 그림을 boxplot 이라고 합니다. (혹은 box-whisker plot)  \n",
    "위의 그림은 변수를 그룹별로 비교하기 쉽다는 장점이 있지만, 각 그룹별 샘플 사이즈는 고려하지 않았다는 단점이 있습니다. 저 네 회사의 정보는 당연히 수가 다르겠죠? "
   ]
  },
  {
   "cell_type": "code",
   "execution_count": 80,
   "metadata": {},
   "outputs": [
    {
     "data": {
      "text/plain": [
       "make\n",
       "BMW      2138\n",
       "Ford     3508\n",
       "Honda    1076\n",
       "Tesla     108\n",
       "Name: city08, dtype: int64"
      ]
     },
     "execution_count": 80,
     "metadata": {},
     "output_type": "execute_result"
    }
   ],
   "source": [
    "fueleco[mask].groupby('make').city08.count()"
   ]
  },
  {
   "cell_type": "markdown",
   "metadata": {},
   "source": [
    "위의 boxplot에서 이 정보를 넣고 싶다면 swarmplot을 추가하는 방법이 있습니다. "
   ]
  },
  {
   "cell_type": "code",
   "execution_count": 82,
   "metadata": {},
   "outputs": [
    {
     "name": "stderr",
     "output_type": "stream",
     "text": [
      "C:\\Users\\rkdwn\\anaconda3\\lib\\site-packages\\seaborn\\categorical.py:1296: UserWarning: 60.3% of the points cannot be placed; you may want to decrease the size of the markers or use stripplot.\n",
      "  warnings.warn(msg, UserWarning)\n",
      "C:\\Users\\rkdwn\\anaconda3\\lib\\site-packages\\seaborn\\categorical.py:1296: UserWarning: 67.8% of the points cannot be placed; you may want to decrease the size of the markers or use stripplot.\n",
      "  warnings.warn(msg, UserWarning)\n",
      "C:\\Users\\rkdwn\\anaconda3\\lib\\site-packages\\seaborn\\categorical.py:1296: UserWarning: 12.6% of the points cannot be placed; you may want to decrease the size of the markers or use stripplot.\n",
      "  warnings.warn(msg, UserWarning)\n"
     ]
    },
    {
     "data": {
      "text/plain": [
       "<AxesSubplot:xlabel='make', ylabel='city08'>"
      ]
     },
     "execution_count": 82,
     "metadata": {},
     "output_type": "execute_result"
    },
    {
     "data": {
      "image/png": "[encoded data removed]",
      "text/plain": [
       "<Figure size 360x360 with 1 Axes>"
      ]
     },
     "metadata": {
      "needs_background": "light"
     },
     "output_type": "display_data"
    }
   ],
   "source": [
    "g=sns.catplot(x='make',y='city08',data=fueleco[mask],kind='box')\n",
    "sns.swarmplot(x='make',y='city08',data=fueleco[mask],color='k',size=1,ax=g.ax)"
   ]
  },
  {
   "cell_type": "markdown",
   "metadata": {},
   "source": [
    "boxplot을 조금 더 활용하면 더 많은 그래프를 손쉽게 그릴 수 있습니다.  \n",
    "col을 설정하면 연도별로 그릴 수 있어요."
   ]
  },
  {
   "cell_type": "code",
   "execution_count": 83,
   "metadata": {},
   "outputs": [
    {
     "data": {
      "text/plain": [
       "<seaborn.axisgrid.FacetGrid at 0x2a55678aa30>"
      ]
     },
     "execution_count": 83,
     "metadata": {},
     "output_type": "execute_result"
    },
    {
     "data": {
      "image/png": "[encoded data removed]",
      "text/plain": [
       "<Figure size 720x720 with 4 Axes>"
      ]
     },
     "metadata": {
      "needs_background": "light"
     },
     "output_type": "display_data"
    }
   ],
   "source": [
    "sns.catplot(\n",
    "x='make',\n",
    "y='city08',\n",
    "data=fueleco[mask],\n",
    "kind='box',\n",
    "col='year',\n",
    "col_order=[2012,2014,2016,2018],#연도의 등장 순서 결정\n",
    "col_wrap=2 #몇 줄로 만들 것인지 결정\n",
    ")"
   ]
  },
  {
   "cell_type": "markdown",
   "metadata": {},
   "source": [
    "하나의 그래프에 색을 추가해서 그리는 법도 있습니다.  \n",
    "이땐, hue를 사용합니다.  "
   ]
  },
  {
   "cell_type": "code",
   "execution_count": 85,
   "metadata": {},
   "outputs": [
    {
     "data": {
      "text/plain": [
       "<seaborn.axisgrid.FacetGrid at 0x2a556ca79d0>"
      ]
     },
     "execution_count": 85,
     "metadata": {},
     "output_type": "execute_result"
    },
    {
     "data": {
      "image/png": "[encoded data removed]",
      "text/plain": [
       "<Figure size 421.5x360 with 1 Axes>"
      ]
     },
     "metadata": {
      "needs_background": "light"
     },
     "output_type": "display_data"
    }
   ],
   "source": [
    "sns.catplot(\n",
    "x='make',\n",
    "y='city08',\n",
    "data=fueleco[mask],\n",
    "kind='box',\n",
    "hue='year',#이부분!!!!!!\n",
    "hue_order=[2012,2014,2016,2018],\n",
    "#height=10,aspect=1 #크기 조절하는 부분\n",
    ")"
   ]
  },
  {
   "cell_type": "markdown",
   "metadata": {},
   "source": [
    "# 두 개의 연속 열을 비교해보겠습니다.  \n",
    "두 개의 연속 열의 관계를 볼 때는 상관관계를 보는 것이 가장 먼저입니다.  \n",
    "상관관계는 상관계수(correlation coefficient)로 확인합니다.  \n",
    "  \n",
    "일반적으로 상관계수라 하면 선형관계를 가정하는 Pearson's Correlation을 의미합니다.   \n",
    "두개의 열(혹은 변수)이 선형적으로 얼마나 같이(혹은 다르게) 변하는지를 보는 것이죠.  \n",
    "\n",
    "값은 -1~1사이이고, -1일때 정바낻로,1일때 정확하게 동일하게 움직입니다. "
   ]
  },
  {
   "cell_type": "markdown",
   "metadata": {},
   "source": [
    "city08과 highway08, city08과 cylinders의 관계를 보겠습니다.  \n",
    "먼저 공분산을 봅니다. "
   ]
  },
  {
   "cell_type": "code",
   "execution_count": 86,
   "metadata": {},
   "outputs": [
    {
     "data": {
      "text/plain": [
       "68.56757352785877"
      ]
     },
     "execution_count": 86,
     "metadata": {},
     "output_type": "execute_result"
    }
   ],
   "source": [
    "fueleco.city08.cov(fueleco.highway08)"
   ]
  },
  {
   "cell_type": "code",
   "execution_count": 87,
   "metadata": {},
   "outputs": [
    {
     "data": {
      "text/plain": [
       "72.87615362639816"
      ]
     },
     "execution_count": 87,
     "metadata": {},
     "output_type": "execute_result"
    }
   ],
   "source": [
    "fueleco.city08.cov(fueleco.comb08)"
   ]
  },
  {
   "cell_type": "code",
   "execution_count": 88,
   "metadata": {},
   "outputs": [
    {
     "data": {
      "text/plain": [
       "-6.167630479647948"
      ]
     },
     "execution_count": 88,
     "metadata": {},
     "output_type": "execute_result"
    }
   ],
   "source": [
    "fueleco.city08.cov(fueleco.cylinders)"
   ]
  },
  {
   "cell_type": "markdown",
   "metadata": {},
   "source": [
    "상관계수는 corr로 구합니다. "
   ]
  },
  {
   "cell_type": "code",
   "execution_count": 89,
   "metadata": {},
   "outputs": [
    {
     "data": {
      "text/plain": [
       "0.9459442223780535"
      ]
     },
     "execution_count": 89,
     "metadata": {},
     "output_type": "execute_result"
    }
   ],
   "source": [
    "fueleco.city08.corr(fueleco.highway08)"
   ]
  },
  {
   "cell_type": "markdown",
   "metadata": {},
   "source": [
    "여러 변수의 corr를 한 번에 그리기 위한 작업"
   ]
  },
  {
   "cell_type": "code",
   "execution_count": 91,
   "metadata": {},
   "outputs": [
    {
     "data": {
      "text/plain": [
       "<AxesSubplot:>"
      ]
     },
     "execution_count": 91,
     "metadata": {},
     "output_type": "execute_result"
    },
    {
     "data": {
      "image/png": "[encoded data removed]",
      "text/plain": [
       "<Figure size 576x576 with 2 Axes>"
      ]
     },
     "metadata": {
      "needs_background": "light"
     },
     "output_type": "display_data"
    }
   ],
   "source": [
    "fig,ax=plt.subplots(figsize=(8,8))\n",
    "corr=fueleco[['city08','highway08','cylinders']].corr()\n",
    "\n",
    "mask=np.zeros_like(corr,dtype=np.bool)\n",
    "mask[np.triu_indices_from(mask)]=True\n",
    "sns.heatmap(\n",
    "corr,\n",
    "mask=mask,\n",
    "fmt='.2f',\n",
    "annot=True,\n",
    "ax=ax,\n",
    "cmap='RdBu',\n",
    "vmin=-1,\n",
    "vmax=1,\n",
    "square=True\n",
    ")"
   ]
  },
  {
   "cell_type": "markdown",
   "metadata": {},
   "source": [
    "만약 선형관계를 확인할 수 없다면, Spearman Correlation을 구하는 것이 방법이 될 수 있습니다.  \n",
    "이 방법은, 단조 상관관계(monotonic)을 가정하기에 선형 관계일 필요가 없습니다.  \n",
    "아래의 코드로 구할 수 있습니다.  \n",
    "|fueleco.city08.corr(fueleco.barrels08,method='spearman')"
   ]
  },
  {
   "cell_type": "markdown",
   "metadata": {},
   "source": [
    "두 개의 변수를 볼 때 가장 많이 쓰는 그림은 산포도(scatter plot)입니다.  \n",
    "관계성과 경향성을 쉽게 확인할 수 있기 때문이죠.  \n",
    "아래를 보겠습니다.  "
   ]
  },
  {
   "cell_type": "code",
   "execution_count": 92,
   "metadata": {},
   "outputs": [
    {
     "data": {
      "text/plain": [
       "<AxesSubplot:xlabel='city08', ylabel='highway08'>"
      ]
     },
     "execution_count": 92,
     "metadata": {},
     "output_type": "execute_result"
    },
    {
     "data": {
      "image/png": "[encoded data removed]",
      "text/plain": [
       "<Figure size 576x576 with 1 Axes>"
      ]
     },
     "metadata": {
      "needs_background": "light"
     },
     "output_type": "display_data"
    }
   ],
   "source": [
    "#산포도를 그려보죠.  \n",
    "fig,ax=plt.subplots(figsize=(8,8))\n",
    "fueleco.plot.scatter(\n",
    "x='city08',\n",
    "y='highway08',\n",
    "alpha=1,\n",
    "ax=ax)"
   ]
  },
  {
   "cell_type": "code",
   "execution_count": 93,
   "metadata": {},
   "outputs": [
    {
     "data": {
      "text/plain": [
       "<AxesSubplot:xlabel='city08', ylabel='cylinders'>"
      ]
     },
     "execution_count": 93,
     "metadata": {},
     "output_type": "execute_result"
    },
    {
     "data": {
      "image/png": "[encoded data removed]",
      "text/plain": [
       "<Figure size 576x576 with 1 Axes>"
      ]
     },
     "metadata": {
      "needs_background": "light"
     },
     "output_type": "display_data"
    }
   ],
   "source": [
    "fig,ax=plt.subplots(figsize=(8,8))\n",
    "fueleco.plot.scatter(\n",
    "x='city08',\n",
    "y='cylinders',\n",
    "alpha=.1,\n",
    "ax=ax\n",
    ")"
   ]
  },
  {
   "cell_type": "code",
   "execution_count": 94,
   "metadata": {},
   "outputs": [
    {
     "data": {
      "text/plain": [
       "<AxesSubplot:xlabel='city08', ylabel='cylinders'>"
      ]
     },
     "execution_count": 94,
     "metadata": {},
     "output_type": "execute_result"
    },
    {
     "data": {
      "image/png": "[encoded data removed]",
      "text/plain": [
       "<Figure size 576x576 with 1 Axes>"
      ]
     },
     "metadata": {
      "needs_background": "light"
     },
     "output_type": "display_data"
    }
   ],
   "source": [
    "fueleco.cylinders.isna().sum()\n",
    "fig,ax=plt.subplots(figsize=(8,8))\n",
    "(\n",
    "fueleco.assign(\n",
    "cylinders=fueleco.cylinders.fillna(0))\n",
    ".plot.scatter(\n",
    "x='city08',y='cylinders',alpha=.1,ax=ax\n",
    ")\n",
    ")"
   ]
  },
  {
   "cell_type": "markdown",
   "metadata": {},
   "source": [
    "상관관계에 회귀선을 추가하고자 sns 를 사용합니다.  "
   ]
  },
  {
   "cell_type": "code",
   "execution_count": 95,
   "metadata": {},
   "outputs": [
    {
     "data": {
      "image/png": "[encoded data removed]",
      "text/plain": [
       "<Figure size 360x360 with 1 Axes>"
      ]
     },
     "metadata": {
      "needs_background": "light"
     },
     "output_type": "display_data"
    }
   ],
   "source": [
    "res = sns.lmplot(\n",
    " x='city08', y='highway08', data=fueleco\n",
    " )"
   ]
  },
  {
   "cell_type": "markdown",
   "metadata": {},
   "source": [
    "여기서도 색을 추가해서 더 다양한 정보를 넣어보도록 하죠."
   ]
  },
  {
   "cell_type": "code",
   "execution_count": 99,
   "metadata": {},
   "outputs": [
    {
     "data": {
      "text/plain": [
       "<seaborn.axisgrid.FacetGrid at 0x2a551af2340>"
      ]
     },
     "execution_count": 99,
     "metadata": {},
     "output_type": "execute_result"
    },
    {
     "data": {
      "image/png": "[encoded data removed]",
      "text/plain": [
       "<Figure size 639.25x576 with 1 Axes>"
      ]
     },
     "metadata": {
      "needs_background": "light"
     },
     "output_type": "display_data"
    }
   ],
   "source": [
    "sns.relplot(\n",
    "x='city08',\n",
    "y='highway08',\n",
    "data=fueleco.assign(\n",
    "cylinders=fueleco.cylinders.fillna(0)\n",
    "),\n",
    "hue='year', #색상을 year에 대해서 바꾸겠습니다.\n",
    "size='barrels08',#점의 사이즈를 barrels08에 대해 바꾸죠.\n",
    "alpha=.5, #투명도를 나타냅니다.\n",
    "height=8 #이건 크기입니다.\n",
    ")"
   ]
  },
  {
   "cell_type": "code",
   "execution_count": 100,
   "metadata": {},
   "outputs": [
    {
     "data": {
      "text/plain": [
       "<seaborn.axisgrid.FacetGrid at 0x2a555a19b50>"
      ]
     },
     "execution_count": 100,
     "metadata": {},
     "output_type": "execute_result"
    },
    {
     "data": {
      "image/png": "[encoded data removed]",
      "text/plain": [
       "<Figure size 1215.25x576 with 2 Axes>"
      ]
     },
     "metadata": {
      "needs_background": "light"
     },
     "output_type": "display_data"
    }
   ],
   "source": [
    "\n",
    "# 여기에 하나 더! 위에서 year로 2 x 2 boxplot 을 그렸듯 동일하게 해보겠습니다.\n",
    "sns.relplot(\n",
    " x='city08',\n",
    " y='highway08',\n",
    " data=fueleco.assign(\n",
    " cylinders=fueleco.cylinders.fillna(0)\n",
    " ),\n",
    " hue='year', # 색상을 year 에 대해서 바꾸겠다\n",
    " size='barrels08', # 점의 사이즈를 barrels08 에 대해 바꾸겠다\n",
    " alpha=.5, #투명도\n",
    " height=8, #크기\n",
    " col='make',\n",
    " col_order=['Ford', 'Tesla']\n",
    "\n",
    ")\n"
   ]
  },
  {
   "cell_type": "markdown",
   "metadata": {},
   "source": [
    "# 두 개의 열 비교 - 범주형  \n",
    "범주형 끼리의 값을 비교할 때엔 앞처럼 산포도를 사용하기 어렵습니다.  \n",
    "보통 count 를 이용해 각 그룹별 비교를 하게 되지요.  \n",
    "이게 무슨 말인지는 아래를 보면서 이해해봅시다.  \n",
    "(참고. 연속형->범주형 변환이 가능하다는 것은 위에서 많이 말했죠?)  "
   ]
  },
  {
   "cell_type": "code",
   "execution_count": 101,
   "metadata": {},
   "outputs": [
    {
     "data": {
      "text/plain": [
       "Compact Cars                          6086\n",
       "Subcompact Cars                       5381\n",
       "Midsize Cars                          5184\n",
       "Large Cars                            2359\n",
       "Standard Pickup Trucks                2354\n",
       "Two Seaters                           2215\n",
       "Sport Utility Vehicle - 4WD           2078\n",
       "Small Station Wagons                  1662\n",
       "Sport Utility Vehicle - 2WD           1627\n",
       "Special Purpose Vehicles              1455\n",
       "Minicompact Cars                      1452\n",
       "Standard Pickup Trucks 2WD            1333\n",
       "Standard Pickup Trucks 4WD            1190\n",
       "Small Sport Utility Vehicle 4WD       1152\n",
       "Vans                                  1141\n",
       "Standard Sport Utility Vehicle 4WD     911\n",
       "Small Sport Utility Vehicle 2WD        759\n",
       "Special Purpose Vehicle 2WD            698\n",
       "Midsize-Large Station Wagons           656\n",
       "Midsize Station Wagons                 566\n",
       "Small Pickup Trucks                    538\n",
       "Small Pickup Trucks 2WD                485\n",
       "Vans, Cargo Type                       438\n",
       "Minivan - 2WD                          377\n",
       "Standard Sport Utility Vehicle 2WD     334\n",
       "Special Purpose Vehicle 4WD            326\n",
       "Vans, Passenger Type                   321\n",
       "Small Pickup Trucks 4WD                276\n",
       "Minivan - 4WD                           53\n",
       "Standard Pickup Trucks/2wd               4\n",
       "Special Purpose Vehicles/2wd             2\n",
       "Special Purpose Vehicles/4wd             2\n",
       "Vans Passenger                           2\n",
       "Special Purpose Vehicle                  1\n",
       "Name: VClass, dtype: int64"
      ]
     },
     "execution_count": 101,
     "metadata": {},
     "output_type": "execute_result"
    }
   ],
   "source": [
    "fueleco.VClass.value_counts()"
   ]
  },
  {
   "cell_type": "code",
   "execution_count": 102,
   "metadata": {},
   "outputs": [
    {
     "data": {
      "text/plain": [
       "0     True\n",
       "1     True\n",
       "2    False\n",
       "3     True\n",
       "dtype: bool"
      ]
     },
     "execution_count": 102,
     "metadata": {},
     "output_type": "execute_result"
    }
   ],
   "source": [
    "s1 = pd.Series([True, True, False, False])\n",
    "s2 = pd.Series([True, False, False, True])\n",
    "s1 | s2"
   ]
  },
  {
   "cell_type": "code",
   "execution_count": 109,
   "metadata": {},
   "outputs": [],
   "source": [
    "#아래 함수는 VClass 를\n",
    "def generalize(ser, match_name, default):\n",
    "    seen = None # other 를 만들기 위한 변수\n",
    "    for match,name in match_name:\n",
    "        mask=ser.str.contains(match)\n",
    "        \n",
    "        if seen is None:\n",
    "            seen=mask\n",
    "        else:\n",
    "            seen |= mask\n",
    "        ser=ser.where(~mask,name)\n",
    "            \n",
    "    ser=ser.where(seen,default)\n",
    "    return ser\n",
    "\n",
    "makes=['Ford','Tesla','BMW','Toyota']\n",
    "\n",
    "data = fueleco[fueleco.make.isin(makes)].assign(\n",
    "     SClass=lambda df_: generalize(df_.VClass,\n",
    "                                     [('Seaters', 'Car'),\n",
    "                                     ('Car', 'Car'),\n",
    "                                     ('Utility', 'SUV'),\n",
    "                                     ('Truck', 'Truck'),\n",
    "                                     ('Van', 'Van'),\n",
    "                                     ('van', 'Van'),\n",
    "                                     ('Wagon', 'Wagon'),\n",
    "                                     ],\n",
    "                                    'other')\n",
    ")"
   ]
  },
  {
   "cell_type": "code",
   "execution_count": 110,
   "metadata": {},
   "outputs": [
    {
     "data": {
      "text/html": [
       "<div>\n",
       "<style scoped>\n",
       "    .dataframe tbody tr th:only-of-type {\n",
       "        vertical-align: middle;\n",
       "    }\n",
       "\n",
       "    .dataframe tbody tr th {\n",
       "        vertical-align: top;\n",
       "    }\n",
       "\n",
       "    .dataframe thead th {\n",
       "        text-align: right;\n",
       "    }\n",
       "</style>\n",
       "<table border=\"1\" class=\"dataframe\">\n",
       "  <thead>\n",
       "    <tr style=\"text-align: right;\">\n",
       "      <th>SClass</th>\n",
       "      <th>Car</th>\n",
       "      <th>SUV</th>\n",
       "      <th>Truck</th>\n",
       "      <th>Van</th>\n",
       "      <th>Wagon</th>\n",
       "      <th>other</th>\n",
       "    </tr>\n",
       "    <tr>\n",
       "      <th>make</th>\n",
       "      <th></th>\n",
       "      <th></th>\n",
       "      <th></th>\n",
       "      <th></th>\n",
       "      <th></th>\n",
       "      <th></th>\n",
       "    </tr>\n",
       "  </thead>\n",
       "  <tbody>\n",
       "    <tr>\n",
       "      <th>BMW</th>\n",
       "      <td>1821.0</td>\n",
       "      <td>224.0</td>\n",
       "      <td>NaN</td>\n",
       "      <td>NaN</td>\n",
       "      <td>93.0</td>\n",
       "      <td>NaN</td>\n",
       "    </tr>\n",
       "    <tr>\n",
       "      <th>Ford</th>\n",
       "      <td>1171.0</td>\n",
       "      <td>464.0</td>\n",
       "      <td>1116.0</td>\n",
       "      <td>339.0</td>\n",
       "      <td>160.0</td>\n",
       "      <td>258.0</td>\n",
       "    </tr>\n",
       "    <tr>\n",
       "      <th>Tesla</th>\n",
       "      <td>76.0</td>\n",
       "      <td>32.0</td>\n",
       "      <td>NaN</td>\n",
       "      <td>NaN</td>\n",
       "      <td>NaN</td>\n",
       "      <td>NaN</td>\n",
       "    </tr>\n",
       "    <tr>\n",
       "      <th>Toyota</th>\n",
       "      <td>877.0</td>\n",
       "      <td>442.0</td>\n",
       "      <td>513.0</td>\n",
       "      <td>102.0</td>\n",
       "      <td>132.0</td>\n",
       "      <td>123.0</td>\n",
       "    </tr>\n",
       "  </tbody>\n",
       "</table>\n",
       "</div>"
      ],
      "text/plain": [
       "SClass     Car    SUV   Truck    Van  Wagon  other\n",
       "make                                              \n",
       "BMW     1821.0  224.0     NaN    NaN   93.0    NaN\n",
       "Ford    1171.0  464.0  1116.0  339.0  160.0  258.0\n",
       "Tesla     76.0   32.0     NaN    NaN    NaN    NaN\n",
       "Toyota   877.0  442.0   513.0  102.0  132.0  123.0"
      ]
     },
     "execution_count": 110,
     "metadata": {},
     "output_type": "execute_result"
    }
   ],
   "source": [
    "data.groupby(['make', 'SClass']).size().unstack()"
   ]
  },
  {
   "cell_type": "code",
   "execution_count": 111,
   "metadata": {},
   "outputs": [
    {
     "data": {
      "text/html": [
       "<div>\n",
       "<style scoped>\n",
       "    .dataframe tbody tr th:only-of-type {\n",
       "        vertical-align: middle;\n",
       "    }\n",
       "\n",
       "    .dataframe tbody tr th {\n",
       "        vertical-align: top;\n",
       "    }\n",
       "\n",
       "    .dataframe thead th {\n",
       "        text-align: right;\n",
       "    }\n",
       "</style>\n",
       "<table border=\"1\" class=\"dataframe\">\n",
       "  <thead>\n",
       "    <tr style=\"text-align: right;\">\n",
       "      <th>SClass</th>\n",
       "      <th>Car</th>\n",
       "      <th>SUV</th>\n",
       "      <th>Truck</th>\n",
       "      <th>Van</th>\n",
       "      <th>Wagon</th>\n",
       "      <th>other</th>\n",
       "    </tr>\n",
       "    <tr>\n",
       "      <th>make</th>\n",
       "      <th></th>\n",
       "      <th></th>\n",
       "      <th></th>\n",
       "      <th></th>\n",
       "      <th></th>\n",
       "      <th></th>\n",
       "    </tr>\n",
       "  </thead>\n",
       "  <tbody>\n",
       "    <tr>\n",
       "      <th>BMW</th>\n",
       "      <td>1821</td>\n",
       "      <td>224</td>\n",
       "      <td>0</td>\n",
       "      <td>0</td>\n",
       "      <td>93</td>\n",
       "      <td>0</td>\n",
       "    </tr>\n",
       "    <tr>\n",
       "      <th>Ford</th>\n",
       "      <td>1171</td>\n",
       "      <td>464</td>\n",
       "      <td>1116</td>\n",
       "      <td>339</td>\n",
       "      <td>160</td>\n",
       "      <td>258</td>\n",
       "    </tr>\n",
       "    <tr>\n",
       "      <th>Tesla</th>\n",
       "      <td>76</td>\n",
       "      <td>32</td>\n",
       "      <td>0</td>\n",
       "      <td>0</td>\n",
       "      <td>0</td>\n",
       "      <td>0</td>\n",
       "    </tr>\n",
       "    <tr>\n",
       "      <th>Toyota</th>\n",
       "      <td>877</td>\n",
       "      <td>442</td>\n",
       "      <td>513</td>\n",
       "      <td>102</td>\n",
       "      <td>132</td>\n",
       "      <td>123</td>\n",
       "    </tr>\n",
       "  </tbody>\n",
       "</table>\n",
       "</div>"
      ],
      "text/plain": [
       "SClass   Car  SUV  Truck  Van  Wagon  other\n",
       "make                                       \n",
       "BMW     1821  224      0    0     93      0\n",
       "Ford    1171  464   1116  339    160    258\n",
       "Tesla     76   32      0    0      0      0\n",
       "Toyota   877  442    513  102    132    123"
      ]
     },
     "execution_count": 111,
     "metadata": {},
     "output_type": "execute_result"
    }
   ],
   "source": [
    "# 같은 결과지만 조금 더 쉬운 방법\n",
    "pd.crosstab(data.make, data.SClass)"
   ]
  },
  {
   "cell_type": "code",
   "execution_count": 112,
   "metadata": {},
   "outputs": [
    {
     "data": {
      "text/html": [
       "<div>\n",
       "<style scoped>\n",
       "    .dataframe tbody tr th:only-of-type {\n",
       "        vertical-align: middle;\n",
       "    }\n",
       "\n",
       "    .dataframe tbody tr th {\n",
       "        vertical-align: top;\n",
       "    }\n",
       "\n",
       "    .dataframe thead tr th {\n",
       "        text-align: left;\n",
       "    }\n",
       "\n",
       "    .dataframe thead tr:last-of-type th {\n",
       "        text-align: right;\n",
       "    }\n",
       "</style>\n",
       "<table border=\"1\" class=\"dataframe\">\n",
       "  <thead>\n",
       "    <tr>\n",
       "      <th></th>\n",
       "      <th>SClass</th>\n",
       "      <th colspan=\"7\" halign=\"left\">Car</th>\n",
       "      <th colspan=\"3\" halign=\"left\">SUV</th>\n",
       "      <th>...</th>\n",
       "      <th colspan=\"4\" halign=\"left\">Van</th>\n",
       "      <th colspan=\"3\" halign=\"left\">Wagon</th>\n",
       "      <th colspan=\"3\" halign=\"left\">other</th>\n",
       "    </tr>\n",
       "    <tr>\n",
       "      <th></th>\n",
       "      <th>VClass</th>\n",
       "      <th>Compact Cars</th>\n",
       "      <th>Large Cars</th>\n",
       "      <th>Midsize Cars</th>\n",
       "      <th>Minicompact Cars</th>\n",
       "      <th>Subcompact Cars</th>\n",
       "      <th>Two Seaters</th>\n",
       "      <th>Vans, Cargo Type</th>\n",
       "      <th>Small Sport Utility Vehicle 2WD</th>\n",
       "      <th>Small Sport Utility Vehicle 4WD</th>\n",
       "      <th>Sport Utility Vehicle - 2WD</th>\n",
       "      <th>...</th>\n",
       "      <th>Minivan - 2WD</th>\n",
       "      <th>Minivan - 4WD</th>\n",
       "      <th>Vans</th>\n",
       "      <th>Vans, Passenger Type</th>\n",
       "      <th>Midsize Station Wagons</th>\n",
       "      <th>Midsize-Large Station Wagons</th>\n",
       "      <th>Small Station Wagons</th>\n",
       "      <th>Special Purpose Vehicle 2WD</th>\n",
       "      <th>Special Purpose Vehicle 4WD</th>\n",
       "      <th>Special Purpose Vehicles</th>\n",
       "    </tr>\n",
       "    <tr>\n",
       "      <th>year</th>\n",
       "      <th>make</th>\n",
       "      <th></th>\n",
       "      <th></th>\n",
       "      <th></th>\n",
       "      <th></th>\n",
       "      <th></th>\n",
       "      <th></th>\n",
       "      <th></th>\n",
       "      <th></th>\n",
       "      <th></th>\n",
       "      <th></th>\n",
       "      <th></th>\n",
       "      <th></th>\n",
       "      <th></th>\n",
       "      <th></th>\n",
       "      <th></th>\n",
       "      <th></th>\n",
       "      <th></th>\n",
       "      <th></th>\n",
       "      <th></th>\n",
       "      <th></th>\n",
       "      <th></th>\n",
       "    </tr>\n",
       "  </thead>\n",
       "  <tbody>\n",
       "    <tr>\n",
       "      <th rowspan=\"3\" valign=\"top\">1984</th>\n",
       "      <th>BMW</th>\n",
       "      <td>6</td>\n",
       "      <td>0</td>\n",
       "      <td>0</td>\n",
       "      <td>0</td>\n",
       "      <td>10</td>\n",
       "      <td>0</td>\n",
       "      <td>0</td>\n",
       "      <td>0</td>\n",
       "      <td>0</td>\n",
       "      <td>0</td>\n",
       "      <td>...</td>\n",
       "      <td>0</td>\n",
       "      <td>0</td>\n",
       "      <td>0</td>\n",
       "      <td>0</td>\n",
       "      <td>0</td>\n",
       "      <td>0</td>\n",
       "      <td>0</td>\n",
       "      <td>0</td>\n",
       "      <td>0</td>\n",
       "      <td>0</td>\n",
       "    </tr>\n",
       "    <tr>\n",
       "      <th>Ford</th>\n",
       "      <td>33</td>\n",
       "      <td>3</td>\n",
       "      <td>9</td>\n",
       "      <td>0</td>\n",
       "      <td>14</td>\n",
       "      <td>6</td>\n",
       "      <td>26</td>\n",
       "      <td>0</td>\n",
       "      <td>0</td>\n",
       "      <td>0</td>\n",
       "      <td>...</td>\n",
       "      <td>0</td>\n",
       "      <td>0</td>\n",
       "      <td>0</td>\n",
       "      <td>12</td>\n",
       "      <td>5</td>\n",
       "      <td>2</td>\n",
       "      <td>12</td>\n",
       "      <td>0</td>\n",
       "      <td>21</td>\n",
       "      <td>6</td>\n",
       "    </tr>\n",
       "    <tr>\n",
       "      <th>Toyota</th>\n",
       "      <td>13</td>\n",
       "      <td>0</td>\n",
       "      <td>0</td>\n",
       "      <td>3</td>\n",
       "      <td>22</td>\n",
       "      <td>0</td>\n",
       "      <td>4</td>\n",
       "      <td>0</td>\n",
       "      <td>0</td>\n",
       "      <td>0</td>\n",
       "      <td>...</td>\n",
       "      <td>0</td>\n",
       "      <td>0</td>\n",
       "      <td>0</td>\n",
       "      <td>4</td>\n",
       "      <td>0</td>\n",
       "      <td>0</td>\n",
       "      <td>10</td>\n",
       "      <td>0</td>\n",
       "      <td>3</td>\n",
       "      <td>2</td>\n",
       "    </tr>\n",
       "    <tr>\n",
       "      <th rowspan=\"2\" valign=\"top\">1985</th>\n",
       "      <th>BMW</th>\n",
       "      <td>7</td>\n",
       "      <td>0</td>\n",
       "      <td>0</td>\n",
       "      <td>0</td>\n",
       "      <td>6</td>\n",
       "      <td>0</td>\n",
       "      <td>0</td>\n",
       "      <td>0</td>\n",
       "      <td>0</td>\n",
       "      <td>0</td>\n",
       "      <td>...</td>\n",
       "      <td>0</td>\n",
       "      <td>0</td>\n",
       "      <td>0</td>\n",
       "      <td>0</td>\n",
       "      <td>0</td>\n",
       "      <td>0</td>\n",
       "      <td>0</td>\n",
       "      <td>0</td>\n",
       "      <td>0</td>\n",
       "      <td>0</td>\n",
       "    </tr>\n",
       "    <tr>\n",
       "      <th>Ford</th>\n",
       "      <td>31</td>\n",
       "      <td>2</td>\n",
       "      <td>5</td>\n",
       "      <td>0</td>\n",
       "      <td>13</td>\n",
       "      <td>3</td>\n",
       "      <td>0</td>\n",
       "      <td>0</td>\n",
       "      <td>0</td>\n",
       "      <td>0</td>\n",
       "      <td>...</td>\n",
       "      <td>0</td>\n",
       "      <td>0</td>\n",
       "      <td>26</td>\n",
       "      <td>0</td>\n",
       "      <td>0</td>\n",
       "      <td>3</td>\n",
       "      <td>13</td>\n",
       "      <td>5</td>\n",
       "      <td>9</td>\n",
       "      <td>6</td>\n",
       "    </tr>\n",
       "    <tr>\n",
       "      <th>...</th>\n",
       "      <th>...</th>\n",
       "      <td>...</td>\n",
       "      <td>...</td>\n",
       "      <td>...</td>\n",
       "      <td>...</td>\n",
       "      <td>...</td>\n",
       "      <td>...</td>\n",
       "      <td>...</td>\n",
       "      <td>...</td>\n",
       "      <td>...</td>\n",
       "      <td>...</td>\n",
       "      <td>...</td>\n",
       "      <td>...</td>\n",
       "      <td>...</td>\n",
       "      <td>...</td>\n",
       "      <td>...</td>\n",
       "      <td>...</td>\n",
       "      <td>...</td>\n",
       "      <td>...</td>\n",
       "      <td>...</td>\n",
       "      <td>...</td>\n",
       "      <td>...</td>\n",
       "    </tr>\n",
       "    <tr>\n",
       "      <th rowspan=\"4\" valign=\"top\">2021</th>\n",
       "      <th>BMW</th>\n",
       "      <td>13</td>\n",
       "      <td>8</td>\n",
       "      <td>15</td>\n",
       "      <td>0</td>\n",
       "      <td>32</td>\n",
       "      <td>2</td>\n",
       "      <td>0</td>\n",
       "      <td>1</td>\n",
       "      <td>9</td>\n",
       "      <td>0</td>\n",
       "      <td>...</td>\n",
       "      <td>0</td>\n",
       "      <td>0</td>\n",
       "      <td>0</td>\n",
       "      <td>0</td>\n",
       "      <td>0</td>\n",
       "      <td>0</td>\n",
       "      <td>0</td>\n",
       "      <td>0</td>\n",
       "      <td>0</td>\n",
       "      <td>0</td>\n",
       "    </tr>\n",
       "    <tr>\n",
       "      <th>Ford</th>\n",
       "      <td>0</td>\n",
       "      <td>0</td>\n",
       "      <td>0</td>\n",
       "      <td>0</td>\n",
       "      <td>16</td>\n",
       "      <td>1</td>\n",
       "      <td>0</td>\n",
       "      <td>4</td>\n",
       "      <td>9</td>\n",
       "      <td>0</td>\n",
       "      <td>...</td>\n",
       "      <td>0</td>\n",
       "      <td>0</td>\n",
       "      <td>0</td>\n",
       "      <td>2</td>\n",
       "      <td>0</td>\n",
       "      <td>0</td>\n",
       "      <td>5</td>\n",
       "      <td>8</td>\n",
       "      <td>0</td>\n",
       "      <td>0</td>\n",
       "    </tr>\n",
       "    <tr>\n",
       "      <th>Tesla</th>\n",
       "      <td>0</td>\n",
       "      <td>2</td>\n",
       "      <td>3</td>\n",
       "      <td>0</td>\n",
       "      <td>0</td>\n",
       "      <td>0</td>\n",
       "      <td>0</td>\n",
       "      <td>0</td>\n",
       "      <td>2</td>\n",
       "      <td>0</td>\n",
       "      <td>...</td>\n",
       "      <td>0</td>\n",
       "      <td>0</td>\n",
       "      <td>0</td>\n",
       "      <td>0</td>\n",
       "      <td>0</td>\n",
       "      <td>0</td>\n",
       "      <td>0</td>\n",
       "      <td>0</td>\n",
       "      <td>0</td>\n",
       "      <td>0</td>\n",
       "    </tr>\n",
       "    <tr>\n",
       "      <th>Toyota</th>\n",
       "      <td>13</td>\n",
       "      <td>0</td>\n",
       "      <td>19</td>\n",
       "      <td>0</td>\n",
       "      <td>0</td>\n",
       "      <td>2</td>\n",
       "      <td>0</td>\n",
       "      <td>5</td>\n",
       "      <td>8</td>\n",
       "      <td>0</td>\n",
       "      <td>...</td>\n",
       "      <td>1</td>\n",
       "      <td>1</td>\n",
       "      <td>0</td>\n",
       "      <td>0</td>\n",
       "      <td>0</td>\n",
       "      <td>0</td>\n",
       "      <td>0</td>\n",
       "      <td>0</td>\n",
       "      <td>0</td>\n",
       "      <td>0</td>\n",
       "    </tr>\n",
       "    <tr>\n",
       "      <th>2022</th>\n",
       "      <th>BMW</th>\n",
       "      <td>0</td>\n",
       "      <td>2</td>\n",
       "      <td>6</td>\n",
       "      <td>0</td>\n",
       "      <td>4</td>\n",
       "      <td>0</td>\n",
       "      <td>0</td>\n",
       "      <td>0</td>\n",
       "      <td>0</td>\n",
       "      <td>0</td>\n",
       "      <td>...</td>\n",
       "      <td>0</td>\n",
       "      <td>0</td>\n",
       "      <td>0</td>\n",
       "      <td>0</td>\n",
       "      <td>0</td>\n",
       "      <td>0</td>\n",
       "      <td>0</td>\n",
       "      <td>0</td>\n",
       "      <td>0</td>\n",
       "      <td>0</td>\n",
       "    </tr>\n",
       "  </tbody>\n",
       "</table>\n",
       "<p>125 rows × 29 columns</p>\n",
       "</div>"
      ],
      "text/plain": [
       "SClass               Car                                           \\\n",
       "VClass      Compact Cars Large Cars Midsize Cars Minicompact Cars   \n",
       "year make                                                           \n",
       "1984 BMW               6          0            0                0   \n",
       "     Ford             33          3            9                0   \n",
       "     Toyota           13          0            0                3   \n",
       "1985 BMW               7          0            0                0   \n",
       "     Ford             31          2            5                0   \n",
       "...                  ...        ...          ...              ...   \n",
       "2021 BMW              13          8           15                0   \n",
       "     Ford              0          0            0                0   \n",
       "     Tesla             0          2            3                0   \n",
       "     Toyota           13          0           19                0   \n",
       "2022 BMW               0          2            6                0   \n",
       "\n",
       "SClass                                                    \\\n",
       "VClass      Subcompact Cars Two Seaters Vans, Cargo Type   \n",
       "year make                                                  \n",
       "1984 BMW                 10           0                0   \n",
       "     Ford                14           6               26   \n",
       "     Toyota              22           0                4   \n",
       "1985 BMW                  6           0                0   \n",
       "     Ford                13           3                0   \n",
       "...                     ...         ...              ...   \n",
       "2021 BMW                 32           2                0   \n",
       "     Ford                16           1                0   \n",
       "     Tesla                0           0                0   \n",
       "     Toyota               0           2                0   \n",
       "2022 BMW                  4           0                0   \n",
       "\n",
       "SClass                                  SUV                                  \\\n",
       "VClass      Small Sport Utility Vehicle 2WD Small Sport Utility Vehicle 4WD   \n",
       "year make                                                                     \n",
       "1984 BMW                                  0                               0   \n",
       "     Ford                                 0                               0   \n",
       "     Toyota                               0                               0   \n",
       "1985 BMW                                  0                               0   \n",
       "     Ford                                 0                               0   \n",
       "...                                     ...                             ...   \n",
       "2021 BMW                                  1                               9   \n",
       "     Ford                                 4                               9   \n",
       "     Tesla                                0                               2   \n",
       "     Toyota                               5                               8   \n",
       "2022 BMW                                  0                               0   \n",
       "\n",
       "SClass                                   ...           Van                     \\\n",
       "VClass      Sport Utility Vehicle - 2WD  ... Minivan - 2WD Minivan - 4WD Vans   \n",
       "year make                                ...                                    \n",
       "1984 BMW                              0  ...             0             0    0   \n",
       "     Ford                             0  ...             0             0    0   \n",
       "     Toyota                           0  ...             0             0    0   \n",
       "1985 BMW                              0  ...             0             0    0   \n",
       "     Ford                             0  ...             0             0   26   \n",
       "...                                 ...  ...           ...           ...  ...   \n",
       "2021 BMW                              0  ...             0             0    0   \n",
       "     Ford                             0  ...             0             0    0   \n",
       "     Tesla                            0  ...             0             0    0   \n",
       "     Toyota                           0  ...             1             1    0   \n",
       "2022 BMW                              0  ...             0             0    0   \n",
       "\n",
       "SClass                                            Wagon  \\\n",
       "VClass      Vans, Passenger Type Midsize Station Wagons   \n",
       "year make                                                 \n",
       "1984 BMW                       0                      0   \n",
       "     Ford                     12                      5   \n",
       "     Toyota                    4                      0   \n",
       "1985 BMW                       0                      0   \n",
       "     Ford                      0                      0   \n",
       "...                          ...                    ...   \n",
       "2021 BMW                       0                      0   \n",
       "     Ford                      2                      0   \n",
       "     Tesla                     0                      0   \n",
       "     Toyota                    0                      0   \n",
       "2022 BMW                       0                      0   \n",
       "\n",
       "SClass                                                         \\\n",
       "VClass      Midsize-Large Station Wagons Small Station Wagons   \n",
       "year make                                                       \n",
       "1984 BMW                               0                    0   \n",
       "     Ford                              2                   12   \n",
       "     Toyota                            0                   10   \n",
       "1985 BMW                               0                    0   \n",
       "     Ford                              3                   13   \n",
       "...                                  ...                  ...   \n",
       "2021 BMW                               0                    0   \n",
       "     Ford                              0                    5   \n",
       "     Tesla                             0                    0   \n",
       "     Toyota                            0                    0   \n",
       "2022 BMW                               0                    0   \n",
       "\n",
       "SClass                            other                              \\\n",
       "VClass      Special Purpose Vehicle 2WD Special Purpose Vehicle 4WD   \n",
       "year make                                                             \n",
       "1984 BMW                              0                           0   \n",
       "     Ford                             0                          21   \n",
       "     Toyota                           0                           3   \n",
       "1985 BMW                              0                           0   \n",
       "     Ford                             5                           9   \n",
       "...                                 ...                         ...   \n",
       "2021 BMW                              0                           0   \n",
       "     Ford                             8                           0   \n",
       "     Tesla                            0                           0   \n",
       "     Toyota                           0                           0   \n",
       "2022 BMW                              0                           0   \n",
       "\n",
       "SClass                                \n",
       "VClass      Special Purpose Vehicles  \n",
       "year make                             \n",
       "1984 BMW                           0  \n",
       "     Ford                          6  \n",
       "     Toyota                        2  \n",
       "1985 BMW                           0  \n",
       "     Ford                          6  \n",
       "...                              ...  \n",
       "2021 BMW                           0  \n",
       "     Ford                          0  \n",
       "     Tesla                         0  \n",
       "     Toyota                        0  \n",
       "2022 BMW                           0  \n",
       "\n",
       "[125 rows x 29 columns]"
      ]
     },
     "execution_count": 112,
     "metadata": {},
     "output_type": "execute_result"
    }
   ],
   "source": [
    "# 차원(year)를 추가\n",
    "pd.crosstab([data.year, data.make], [data.SClass, data.VClass])"
   ]
  },
  {
   "cell_type": "markdown",
   "metadata": {},
   "source": [
    "p251 에 Cramer's V 가 나옵니다. 범주 간 상관관계를 볼 때 사용하는데,\n",
    "조금 어려운 통계 내용이니 간단히만 다루겠습니다.\n"
   ]
  },
  {
   "cell_type": "code",
   "execution_count": 115,
   "metadata": {},
   "outputs": [
    {
     "data": {
      "text/plain": [
       "0.28631881837106693"
      ]
     },
     "execution_count": 115,
     "metadata": {},
     "output_type": "execute_result"
    }
   ],
   "source": [
    "import scipy.stats as ss\n",
    "\n",
    "def cramers_v(x,y):\n",
    "    confusion_matrix=pd.crosstab(x,y)\n",
    "    chi2=ss.chi2_contingency(confusion_matrix)[0]\n",
    "    n=confusion_matrix.sum().sum()\n",
    "    phi2=chi2/n\n",
    "    r,k=confusion_matrix.shape\n",
    "    \n",
    "    phi2corr=max(0,phi2-((k-1)*(r-1))/(n-1))\n",
    "    \n",
    "    rcorr=r-((r-1)**2)/(n-1)\n",
    "    kcorr=k-((k-1)**2)/(n-1)\n",
    "    return np.sqrt(phi2corr/min((kcorr-1),(rcorr-1)))\n",
    "\n",
    "cramers_v(data.make,data.SClass)"
   ]
  },
  {
   "cell_type": "code",
   "execution_count": 116,
   "metadata": {},
   "outputs": [
    {
     "data": {
      "text/plain": [
       "0.28631881837106693"
      ]
     },
     "execution_count": 116,
     "metadata": {},
     "output_type": "execute_result"
    }
   ],
   "source": [
    "data.make.corr(data.SClass, cramers_v)\n"
   ]
  },
  {
   "cell_type": "code",
   "execution_count": 117,
   "metadata": {},
   "outputs": [
    {
     "data": {
      "text/plain": [
       "<AxesSubplot:xlabel='make'>"
      ]
     },
     "execution_count": 117,
     "metadata": {},
     "output_type": "execute_result"
    },
    {
     "data": {
      "image/png": "[encoded data removed]",
      "text/plain": [
       "<Figure size 720x576 with 1 Axes>"
      ]
     },
     "metadata": {
      "needs_background": "light"
     },
     "output_type": "display_data"
    }
   ],
   "source": [
    "# crosstab 을 시각화합니다.\n",
    "fig, ax = plt.subplots(figsize=(10, 8))\n",
    "(\n",
    " data.pipe(lambda df_: pd.crosstab(df_.make, df_.SClass))\n",
    " .plot.bar(ax=ax)\n",
    ")\n"
   ]
  },
  {
   "cell_type": "code",
   "execution_count": 118,
   "metadata": {},
   "outputs": [
    {
     "data": {
      "text/plain": [
       "<seaborn.axisgrid.FacetGrid at 0x2a558ca4f10>"
      ]
     },
     "execution_count": 118,
     "metadata": {},
     "output_type": "execute_result"
    },
    {
     "data": {
      "image/png": "[encoded data removed]",
      "text/plain": [
       "<Figure size 430.125x360 with 1 Axes>"
      ]
     },
     "metadata": {
      "needs_background": "light"
     },
     "output_type": "display_data"
    }
   ],
   "source": [
    "# seaborn 을 이용하면 조금 더 깔끔해집니다.\n",
    "sns.catplot(\n",
    " kind='count', x='make', hue='SClass', data=data\n",
    ")\n"
   ]
  },
  {
   "cell_type": "code",
   "execution_count": 119,
   "metadata": {},
   "outputs": [
    {
     "data": {
      "text/plain": [
       "<AxesSubplot:xlabel='make'>"
      ]
     },
     "execution_count": 119,
     "metadata": {},
     "output_type": "execute_result"
    },
    {
     "data": {
      "image/png": "[encoded data removed]",
      "text/plain": [
       "<Figure size 720x576 with 1 Axes>"
      ]
     },
     "metadata": {
      "needs_background": "light"
     },
     "output_type": "display_data"
    }
   ],
   "source": [
    "# 상대적 비율 비교를 위해 크기를 고정시킨 stacked bar graph 도 있습니다.\n",
    "fig, ax = plt.subplots(figsize=(10, 8))\n",
    "(\n",
    " data.pipe(\n",
    " lambda df_: pd.crosstab(df_.make, df_.SClass)\n",
    " )\n",
    " .pipe(lambda df_: df_.div(df_.sum(axis=1), axis=0))\n",
    " .plot.bar(stacked=True, ax=ax)\n",
    ")"
   ]
  },
  {
   "cell_type": "code",
   "execution_count": 120,
   "metadata": {},
   "outputs": [
    {
     "data": {
      "text/plain": [
       "<AxesSubplot:xlabel='make', ylabel='count'>"
      ]
     },
     "execution_count": 120,
     "metadata": {},
     "output_type": "execute_result"
    },
    {
     "data": {
      "image/png": "[encoded data removed]",
      "text/plain": [
       "<Figure size 720x576 with 1 Axes>"
      ]
     },
     "metadata": {
      "needs_background": "light"
     },
     "output_type": "display_data"
    }
   ],
   "source": [
    "\n",
    "# 이런 것도 가능해요.\n",
    "fig, ax = plt.subplots(figsize=(10, 8))\n",
    "sns.countplot(\n",
    " x='make',\n",
    " hue='SClass',\n",
    " data=data,\n",
    " dodge=False\n",
    ")\n"
   ]
  },
  {
   "cell_type": "code",
   "execution_count": 121,
   "metadata": {},
   "outputs": [
    {
     "ename": "ModuleNotFoundError",
     "evalue": "No module named 'pandas_profiling'",
     "output_type": "error",
     "traceback": [
      "\u001b[1;31m---------------------------------------------------------------------------\u001b[0m",
      "\u001b[1;31mModuleNotFoundError\u001b[0m                       Traceback (most recent call last)",
      "\u001b[1;32m<ipython-input-121-bc8c1a52141e>\u001b[0m in \u001b[0;36m<module>\u001b[1;34m\u001b[0m\n\u001b[1;32m----> 1\u001b[1;33m \u001b[1;32mimport\u001b[0m \u001b[0mpandas_profiling\u001b[0m \u001b[1;32mas\u001b[0m \u001b[0mpp\u001b[0m\u001b[1;33m\u001b[0m\u001b[1;33m\u001b[0m\u001b[0m\n\u001b[0m\u001b[0;32m      2\u001b[0m \u001b[0mreport\u001b[0m \u001b[1;33m=\u001b[0m \u001b[0mpp\u001b[0m\u001b[1;33m.\u001b[0m\u001b[0mProfileReport\u001b[0m\u001b[1;33m(\u001b[0m\u001b[0mfueleco\u001b[0m\u001b[1;33m)\u001b[0m\u001b[1;33m\u001b[0m\u001b[1;33m\u001b[0m\u001b[0m\n",
      "\u001b[1;31mModuleNotFoundError\u001b[0m: No module named 'pandas_profiling'"
     ]
    }
   ],
   "source": [
    "import pandas_profiling as pp\n",
    "report = pp.ProfileReport(fueleco)"
   ]
  },
  {
   "cell_type": "code",
   "execution_count": null,
   "metadata": {},
   "outputs": [],
   "source": [
    "report.to_file('test.html')\n"
   ]
  }
 ],
 "metadata": {
  "kernelspec": {
   "display_name": "Python 3",
   "language": "python",
   "name": "python3"
  },
  "language_info": {
   "codemirror_mode": {
    "name": "ipython",
    "version": 3
   },
   "file_extension": ".py",
   "mimetype": "text/x-python",
   "name": "python",
   "nbconvert_exporter": "python",
   "pygments_lexer": "ipython3",
   "version": "3.8.5"
  }
 },
 "nbformat": 4,
 "nbformat_minor": 4
}
