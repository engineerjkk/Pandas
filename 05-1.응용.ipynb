{
 "cells": [
  {
   "cell_type": "markdown",
   "metadata": {},
   "source": [
    "# 5주차 과제  \n",
    "#### fueleco 데이터에 대해 다음을 수행하세요.  "
   ]
  },
  {
   "cell_type": "code",
   "execution_count": 1,
   "metadata": {},
   "outputs": [],
   "source": [
    "import pandas as pd\n",
    "import numpy as np\n",
    "\n"
   ]
  },
  {
   "cell_type": "code",
   "execution_count": 2,
   "metadata": {},
   "outputs": [
    {
     "name": "stderr",
     "output_type": "stream",
     "text": [
      "C:\\Users\\rkdwn\\anaconda3\\lib\\site-packages\\IPython\\core\\interactiveshell.py:3146: DtypeWarning: Columns (70,71,72,73,74,76,79) have mixed types.Specify dtype option on import or set low_memory=False.\n",
      "  has_raised = await self.run_ast_nodes(code_ast.body, cell_name,\n"
     ]
    },
    {
     "data": {
      "text/html": [
       "<div>\n",
       "<style scoped>\n",
       "    .dataframe tbody tr th:only-of-type {\n",
       "        vertical-align: middle;\n",
       "    }\n",
       "\n",
       "    .dataframe tbody tr th {\n",
       "        vertical-align: top;\n",
       "    }\n",
       "\n",
       "    .dataframe thead th {\n",
       "        text-align: right;\n",
       "    }\n",
       "</style>\n",
       "<table border=\"1\" class=\"dataframe\">\n",
       "  <thead>\n",
       "    <tr style=\"text-align: right;\">\n",
       "      <th></th>\n",
       "      <th>barrels08</th>\n",
       "      <th>barrelsA08</th>\n",
       "      <th>charge120</th>\n",
       "      <th>charge240</th>\n",
       "      <th>city08</th>\n",
       "      <th>city08U</th>\n",
       "      <th>cityA08</th>\n",
       "      <th>cityA08U</th>\n",
       "      <th>cityCD</th>\n",
       "      <th>cityE</th>\n",
       "      <th>...</th>\n",
       "      <th>mfrCode</th>\n",
       "      <th>c240Dscr</th>\n",
       "      <th>charge240b</th>\n",
       "      <th>c240bDscr</th>\n",
       "      <th>createdOn</th>\n",
       "      <th>modifiedOn</th>\n",
       "      <th>startStop</th>\n",
       "      <th>phevCity</th>\n",
       "      <th>phevHwy</th>\n",
       "      <th>phevComb</th>\n",
       "    </tr>\n",
       "  </thead>\n",
       "  <tbody>\n",
       "    <tr>\n",
       "      <th>0</th>\n",
       "      <td>15.695714</td>\n",
       "      <td>0.0</td>\n",
       "      <td>0.0</td>\n",
       "      <td>0.0</td>\n",
       "      <td>19</td>\n",
       "      <td>0.0</td>\n",
       "      <td>0</td>\n",
       "      <td>0.0</td>\n",
       "      <td>0.0</td>\n",
       "      <td>0.0</td>\n",
       "      <td>...</td>\n",
       "      <td>NaN</td>\n",
       "      <td>NaN</td>\n",
       "      <td>0.0</td>\n",
       "      <td>NaN</td>\n",
       "      <td>Tue Jan 01 00:00:00 EST 2013</td>\n",
       "      <td>Tue Jan 01 00:00:00 EST 2013</td>\n",
       "      <td>NaN</td>\n",
       "      <td>0</td>\n",
       "      <td>0</td>\n",
       "      <td>0</td>\n",
       "    </tr>\n",
       "    <tr>\n",
       "      <th>1</th>\n",
       "      <td>29.964545</td>\n",
       "      <td>0.0</td>\n",
       "      <td>0.0</td>\n",
       "      <td>0.0</td>\n",
       "      <td>9</td>\n",
       "      <td>0.0</td>\n",
       "      <td>0</td>\n",
       "      <td>0.0</td>\n",
       "      <td>0.0</td>\n",
       "      <td>0.0</td>\n",
       "      <td>...</td>\n",
       "      <td>NaN</td>\n",
       "      <td>NaN</td>\n",
       "      <td>0.0</td>\n",
       "      <td>NaN</td>\n",
       "      <td>Tue Jan 01 00:00:00 EST 2013</td>\n",
       "      <td>Tue Jan 01 00:00:00 EST 2013</td>\n",
       "      <td>NaN</td>\n",
       "      <td>0</td>\n",
       "      <td>0</td>\n",
       "      <td>0</td>\n",
       "    </tr>\n",
       "    <tr>\n",
       "      <th>2</th>\n",
       "      <td>12.207778</td>\n",
       "      <td>0.0</td>\n",
       "      <td>0.0</td>\n",
       "      <td>0.0</td>\n",
       "      <td>23</td>\n",
       "      <td>0.0</td>\n",
       "      <td>0</td>\n",
       "      <td>0.0</td>\n",
       "      <td>0.0</td>\n",
       "      <td>0.0</td>\n",
       "      <td>...</td>\n",
       "      <td>NaN</td>\n",
       "      <td>NaN</td>\n",
       "      <td>0.0</td>\n",
       "      <td>NaN</td>\n",
       "      <td>Tue Jan 01 00:00:00 EST 2013</td>\n",
       "      <td>Tue Jan 01 00:00:00 EST 2013</td>\n",
       "      <td>NaN</td>\n",
       "      <td>0</td>\n",
       "      <td>0</td>\n",
       "      <td>0</td>\n",
       "    </tr>\n",
       "    <tr>\n",
       "      <th>3</th>\n",
       "      <td>29.964545</td>\n",
       "      <td>0.0</td>\n",
       "      <td>0.0</td>\n",
       "      <td>0.0</td>\n",
       "      <td>10</td>\n",
       "      <td>0.0</td>\n",
       "      <td>0</td>\n",
       "      <td>0.0</td>\n",
       "      <td>0.0</td>\n",
       "      <td>0.0</td>\n",
       "      <td>...</td>\n",
       "      <td>NaN</td>\n",
       "      <td>NaN</td>\n",
       "      <td>0.0</td>\n",
       "      <td>NaN</td>\n",
       "      <td>Tue Jan 01 00:00:00 EST 2013</td>\n",
       "      <td>Tue Jan 01 00:00:00 EST 2013</td>\n",
       "      <td>NaN</td>\n",
       "      <td>0</td>\n",
       "      <td>0</td>\n",
       "      <td>0</td>\n",
       "    </tr>\n",
       "    <tr>\n",
       "      <th>4</th>\n",
       "      <td>17.347895</td>\n",
       "      <td>0.0</td>\n",
       "      <td>0.0</td>\n",
       "      <td>0.0</td>\n",
       "      <td>17</td>\n",
       "      <td>0.0</td>\n",
       "      <td>0</td>\n",
       "      <td>0.0</td>\n",
       "      <td>0.0</td>\n",
       "      <td>0.0</td>\n",
       "      <td>...</td>\n",
       "      <td>NaN</td>\n",
       "      <td>NaN</td>\n",
       "      <td>0.0</td>\n",
       "      <td>NaN</td>\n",
       "      <td>Tue Jan 01 00:00:00 EST 2013</td>\n",
       "      <td>Tue Jan 01 00:00:00 EST 2013</td>\n",
       "      <td>NaN</td>\n",
       "      <td>0</td>\n",
       "      <td>0</td>\n",
       "      <td>0</td>\n",
       "    </tr>\n",
       "    <tr>\n",
       "      <th>...</th>\n",
       "      <td>...</td>\n",
       "      <td>...</td>\n",
       "      <td>...</td>\n",
       "      <td>...</td>\n",
       "      <td>...</td>\n",
       "      <td>...</td>\n",
       "      <td>...</td>\n",
       "      <td>...</td>\n",
       "      <td>...</td>\n",
       "      <td>...</td>\n",
       "      <td>...</td>\n",
       "      <td>...</td>\n",
       "      <td>...</td>\n",
       "      <td>...</td>\n",
       "      <td>...</td>\n",
       "      <td>...</td>\n",
       "      <td>...</td>\n",
       "      <td>...</td>\n",
       "      <td>...</td>\n",
       "      <td>...</td>\n",
       "      <td>...</td>\n",
       "    </tr>\n",
       "    <tr>\n",
       "      <th>43413</th>\n",
       "      <td>14.982273</td>\n",
       "      <td>0.0</td>\n",
       "      <td>0.0</td>\n",
       "      <td>0.0</td>\n",
       "      <td>19</td>\n",
       "      <td>0.0</td>\n",
       "      <td>0</td>\n",
       "      <td>0.0</td>\n",
       "      <td>0.0</td>\n",
       "      <td>0.0</td>\n",
       "      <td>...</td>\n",
       "      <td>NaN</td>\n",
       "      <td>NaN</td>\n",
       "      <td>0.0</td>\n",
       "      <td>NaN</td>\n",
       "      <td>Tue Jan 01 00:00:00 EST 2013</td>\n",
       "      <td>Tue Jan 01 00:00:00 EST 2013</td>\n",
       "      <td>NaN</td>\n",
       "      <td>0</td>\n",
       "      <td>0</td>\n",
       "      <td>0</td>\n",
       "    </tr>\n",
       "    <tr>\n",
       "      <th>43414</th>\n",
       "      <td>14.330870</td>\n",
       "      <td>0.0</td>\n",
       "      <td>0.0</td>\n",
       "      <td>0.0</td>\n",
       "      <td>20</td>\n",
       "      <td>0.0</td>\n",
       "      <td>0</td>\n",
       "      <td>0.0</td>\n",
       "      <td>0.0</td>\n",
       "      <td>0.0</td>\n",
       "      <td>...</td>\n",
       "      <td>NaN</td>\n",
       "      <td>NaN</td>\n",
       "      <td>0.0</td>\n",
       "      <td>NaN</td>\n",
       "      <td>Tue Jan 01 00:00:00 EST 2013</td>\n",
       "      <td>Tue Jan 01 00:00:00 EST 2013</td>\n",
       "      <td>NaN</td>\n",
       "      <td>0</td>\n",
       "      <td>0</td>\n",
       "      <td>0</td>\n",
       "    </tr>\n",
       "    <tr>\n",
       "      <th>43415</th>\n",
       "      <td>15.695714</td>\n",
       "      <td>0.0</td>\n",
       "      <td>0.0</td>\n",
       "      <td>0.0</td>\n",
       "      <td>18</td>\n",
       "      <td>0.0</td>\n",
       "      <td>0</td>\n",
       "      <td>0.0</td>\n",
       "      <td>0.0</td>\n",
       "      <td>0.0</td>\n",
       "      <td>...</td>\n",
       "      <td>NaN</td>\n",
       "      <td>NaN</td>\n",
       "      <td>0.0</td>\n",
       "      <td>NaN</td>\n",
       "      <td>Tue Jan 01 00:00:00 EST 2013</td>\n",
       "      <td>Tue Jan 01 00:00:00 EST 2013</td>\n",
       "      <td>NaN</td>\n",
       "      <td>0</td>\n",
       "      <td>0</td>\n",
       "      <td>0</td>\n",
       "    </tr>\n",
       "    <tr>\n",
       "      <th>43416</th>\n",
       "      <td>15.695714</td>\n",
       "      <td>0.0</td>\n",
       "      <td>0.0</td>\n",
       "      <td>0.0</td>\n",
       "      <td>18</td>\n",
       "      <td>0.0</td>\n",
       "      <td>0</td>\n",
       "      <td>0.0</td>\n",
       "      <td>0.0</td>\n",
       "      <td>0.0</td>\n",
       "      <td>...</td>\n",
       "      <td>NaN</td>\n",
       "      <td>NaN</td>\n",
       "      <td>0.0</td>\n",
       "      <td>NaN</td>\n",
       "      <td>Tue Jan 01 00:00:00 EST 2013</td>\n",
       "      <td>Tue Jan 01 00:00:00 EST 2013</td>\n",
       "      <td>NaN</td>\n",
       "      <td>0</td>\n",
       "      <td>0</td>\n",
       "      <td>0</td>\n",
       "    </tr>\n",
       "    <tr>\n",
       "      <th>43417</th>\n",
       "      <td>18.311667</td>\n",
       "      <td>0.0</td>\n",
       "      <td>0.0</td>\n",
       "      <td>0.0</td>\n",
       "      <td>16</td>\n",
       "      <td>0.0</td>\n",
       "      <td>0</td>\n",
       "      <td>0.0</td>\n",
       "      <td>0.0</td>\n",
       "      <td>0.0</td>\n",
       "      <td>...</td>\n",
       "      <td>NaN</td>\n",
       "      <td>NaN</td>\n",
       "      <td>0.0</td>\n",
       "      <td>NaN</td>\n",
       "      <td>Tue Jan 01 00:00:00 EST 2013</td>\n",
       "      <td>Tue Jan 01 00:00:00 EST 2013</td>\n",
       "      <td>NaN</td>\n",
       "      <td>0</td>\n",
       "      <td>0</td>\n",
       "      <td>0</td>\n",
       "    </tr>\n",
       "  </tbody>\n",
       "</table>\n",
       "<p>43418 rows × 83 columns</p>\n",
       "</div>"
      ],
      "text/plain": [
       "       barrels08  barrelsA08  charge120  charge240  city08  city08U  cityA08  \\\n",
       "0      15.695714         0.0        0.0        0.0      19      0.0        0   \n",
       "1      29.964545         0.0        0.0        0.0       9      0.0        0   \n",
       "2      12.207778         0.0        0.0        0.0      23      0.0        0   \n",
       "3      29.964545         0.0        0.0        0.0      10      0.0        0   \n",
       "4      17.347895         0.0        0.0        0.0      17      0.0        0   \n",
       "...          ...         ...        ...        ...     ...      ...      ...   \n",
       "43413  14.982273         0.0        0.0        0.0      19      0.0        0   \n",
       "43414  14.330870         0.0        0.0        0.0      20      0.0        0   \n",
       "43415  15.695714         0.0        0.0        0.0      18      0.0        0   \n",
       "43416  15.695714         0.0        0.0        0.0      18      0.0        0   \n",
       "43417  18.311667         0.0        0.0        0.0      16      0.0        0   \n",
       "\n",
       "       cityA08U  cityCD  cityE  ...  mfrCode  c240Dscr  charge240b  c240bDscr  \\\n",
       "0           0.0     0.0    0.0  ...      NaN       NaN         0.0        NaN   \n",
       "1           0.0     0.0    0.0  ...      NaN       NaN         0.0        NaN   \n",
       "2           0.0     0.0    0.0  ...      NaN       NaN         0.0        NaN   \n",
       "3           0.0     0.0    0.0  ...      NaN       NaN         0.0        NaN   \n",
       "4           0.0     0.0    0.0  ...      NaN       NaN         0.0        NaN   \n",
       "...         ...     ...    ...  ...      ...       ...         ...        ...   \n",
       "43413       0.0     0.0    0.0  ...      NaN       NaN         0.0        NaN   \n",
       "43414       0.0     0.0    0.0  ...      NaN       NaN         0.0        NaN   \n",
       "43415       0.0     0.0    0.0  ...      NaN       NaN         0.0        NaN   \n",
       "43416       0.0     0.0    0.0  ...      NaN       NaN         0.0        NaN   \n",
       "43417       0.0     0.0    0.0  ...      NaN       NaN         0.0        NaN   \n",
       "\n",
       "                          createdOn                    modifiedOn  startStop  \\\n",
       "0      Tue Jan 01 00:00:00 EST 2013  Tue Jan 01 00:00:00 EST 2013        NaN   \n",
       "1      Tue Jan 01 00:00:00 EST 2013  Tue Jan 01 00:00:00 EST 2013        NaN   \n",
       "2      Tue Jan 01 00:00:00 EST 2013  Tue Jan 01 00:00:00 EST 2013        NaN   \n",
       "3      Tue Jan 01 00:00:00 EST 2013  Tue Jan 01 00:00:00 EST 2013        NaN   \n",
       "4      Tue Jan 01 00:00:00 EST 2013  Tue Jan 01 00:00:00 EST 2013        NaN   \n",
       "...                             ...                           ...        ...   \n",
       "43413  Tue Jan 01 00:00:00 EST 2013  Tue Jan 01 00:00:00 EST 2013        NaN   \n",
       "43414  Tue Jan 01 00:00:00 EST 2013  Tue Jan 01 00:00:00 EST 2013        NaN   \n",
       "43415  Tue Jan 01 00:00:00 EST 2013  Tue Jan 01 00:00:00 EST 2013        NaN   \n",
       "43416  Tue Jan 01 00:00:00 EST 2013  Tue Jan 01 00:00:00 EST 2013        NaN   \n",
       "43417  Tue Jan 01 00:00:00 EST 2013  Tue Jan 01 00:00:00 EST 2013        NaN   \n",
       "\n",
       "       phevCity  phevHwy  phevComb  \n",
       "0             0        0         0  \n",
       "1             0        0         0  \n",
       "2             0        0         0  \n",
       "3             0        0         0  \n",
       "4             0        0         0  \n",
       "...         ...      ...       ...  \n",
       "43413         0        0         0  \n",
       "43414         0        0         0  \n",
       "43415         0        0         0  \n",
       "43416         0        0         0  \n",
       "43417         0        0         0  \n",
       "\n",
       "[43418 rows x 83 columns]"
      ]
     },
     "execution_count": 2,
     "metadata": {},
     "output_type": "execute_result"
    }
   ],
   "source": [
    "fueleco=pd.read_csv('data/vehicles.csv.zip')\n",
    "fueleco"
   ]
  },
  {
   "cell_type": "code",
   "execution_count": 29,
   "metadata": {},
   "outputs": [
    {
     "data": {
      "text/plain": [
       "0        19\n",
       "1         9\n",
       "2        23\n",
       "3        10\n",
       "4        17\n",
       "         ..\n",
       "43413    19\n",
       "43414    20\n",
       "43415    18\n",
       "43416    18\n",
       "43417    16\n",
       "Name: city08, Length: 43418, dtype: int64"
      ]
     },
     "execution_count": 29,
     "metadata": {},
     "output_type": "execute_result"
    }
   ],
   "source": [
    "fueleco.city08"
   ]
  },
  {
   "cell_type": "markdown",
   "metadata": {},
   "source": [
    "#### 1.fuelType1에 대한 그래프를 그리고 분석해보세요.  \n",
    "pandas의 plot 함수 쓰기, matplotlib 사용하기, seaborn 사용하기 의 세가지 버전으로 해보세요."
   ]
  },
  {
   "cell_type": "markdown",
   "metadata": {},
   "source": [
    "fuleType은 종류가 6가지 이군요."
   ]
  },
  {
   "cell_type": "code",
   "execution_count": 3,
   "metadata": {},
   "outputs": [
    {
     "data": {
      "text/plain": [
       "6"
      ]
     },
     "execution_count": 3,
     "metadata": {},
     "output_type": "execute_result"
    }
   ],
   "source": [
    "len(fueleco.fuelType1.unique())"
   ]
  },
  {
   "cell_type": "markdown",
   "metadata": {},
   "source": [
    "위에서 살펴본 6종류의 fuleType은 얼마나 사용되는지 확인해보겠습니다."
   ]
  },
  {
   "cell_type": "code",
   "execution_count": 4,
   "metadata": {},
   "outputs": [
    {
     "data": {
      "text/plain": [
       "Regular Gasoline     28828\n",
       "Premium Gasoline     12921\n",
       "Diesel                1203\n",
       "Electricity            276\n",
       "Midgrade Gasoline      130\n",
       "Natural Gas             60\n",
       "Name: fuelType1, dtype: int64"
      ]
     },
     "execution_count": 4,
     "metadata": {},
     "output_type": "execute_result"
    }
   ],
   "source": [
    "fueleco.fuelType1.value_counts()"
   ]
  },
  {
   "cell_type": "markdown",
   "metadata": {},
   "source": [
    "결측치는 없으니 추가 작업은 필요가 없겠습니다"
   ]
  },
  {
   "cell_type": "code",
   "execution_count": 5,
   "metadata": {},
   "outputs": [
    {
     "data": {
      "text/plain": [
       "0"
      ]
     },
     "execution_count": 5,
     "metadata": {},
     "output_type": "execute_result"
    }
   ],
   "source": [
    "fueleco.fuelType1.isna().sum()"
   ]
  },
  {
   "cell_type": "code",
   "execution_count": 6,
   "metadata": {},
   "outputs": [],
   "source": [
    "import matplotlib.pyplot as plt"
   ]
  },
  {
   "cell_type": "markdown",
   "metadata": {},
   "source": [
    "먼저 판다스로 확인해 보겠습니다.가솔린을 쓰는 차량이 압도적으로 많습니다."
   ]
  },
  {
   "cell_type": "code",
   "execution_count": 7,
   "metadata": {},
   "outputs": [
    {
     "data": {
      "text/plain": [
       "<AxesSubplot:>"
      ]
     },
     "execution_count": 7,
     "metadata": {},
     "output_type": "execute_result"
    },
    {
     "data": {
      "image/png": "[encoded data removed]",
      "text/plain": [
       "<Figure size 432x288 with 1 Axes>"
      ]
     },
     "metadata": {
      "needs_background": "light"
     },
     "output_type": "display_data"
    }
   ],
   "source": [
    "fueleco.fuelType1.value_counts().plot(kind='bar')"
   ]
  },
  {
   "cell_type": "markdown",
   "metadata": {},
   "source": [
    "이번엔 matplotlib를 통해 확인해 보겠습니다."
   ]
  },
  {
   "cell_type": "code",
   "execution_count": 25,
   "metadata": {},
   "outputs": [
    {
     "data": {
      "image/png": "[encoded data removed]",
      "text/plain": [
       "<Figure size 432x288 with 1 Axes>"
      ]
     },
     "metadata": {
      "needs_background": "light"
     },
     "output_type": "display_data"
    }
   ],
   "source": [
    "\n",
    "plt.bar(fueleco.fuelType1.value_counts().index,fueleco.fuelType1.value_counts())\n",
    "plt.xticks(rotation=45)\n",
    "plt.show()"
   ]
  },
  {
   "cell_type": "code",
   "execution_count": 9,
   "metadata": {},
   "outputs": [],
   "source": [
    "import seaborn as sns"
   ]
  },
  {
   "cell_type": "markdown",
   "metadata": {},
   "source": [
    "seaborn을 통해 더욱더 보기좋은 그래프를 그려보겠습니다."
   ]
  },
  {
   "cell_type": "code",
   "execution_count": 28,
   "metadata": {},
   "outputs": [
    {
     "name": "stderr",
     "output_type": "stream",
     "text": [
      "C:\\Users\\rkdwn\\anaconda3\\lib\\site-packages\\seaborn\\_decorators.py:36: FutureWarning: Pass the following variables as keyword args: x, y. From version 0.12, the only valid positional argument will be `data`, and passing other arguments without an explicit keyword will result in an error or misinterpretation.\n",
      "  warnings.warn(\n"
     ]
    },
    {
     "data": {
      "image/png": "[encoded data removed]",
      "text/plain": [
       "<Figure size 432x288 with 1 Axes>"
      ]
     },
     "metadata": {
      "needs_background": "light"
     },
     "output_type": "display_data"
    }
   ],
   "source": [
    "s=sns.barplot(fueleco.fuelType1.value_counts().index,fueleco.fuelType1.value_counts())\n",
    "s.set_xticklabels(s.get_xticklabels(),rotation=45)\n",
    "plt.show()"
   ]
  },
  {
   "cell_type": "markdown",
   "metadata": {},
   "source": [
    "#### 2.수업시간에 만든 top_n을 활용해 make 별 fuelType1을 분석하기 위한 그래프를 그려보세요. (정답은 없으니 여러분이 배운 것을 활용해 보세요.)  \n",
    "hint. countplot에서 hue를 설정해보세요."
   ]
  },
  {
   "cell_type": "code",
   "execution_count": 11,
   "metadata": {},
   "outputs": [
    {
     "data": {
      "text/plain": [
       "Index(['Chevrolet', 'Ford', 'Dodge', 'GMC', 'Toyota', 'BMW'], dtype='object')"
      ]
     },
     "execution_count": 11,
     "metadata": {},
     "output_type": "execute_result"
    }
   ],
   "source": [
    "top_n=fueleco.make.value_counts().index[:6]\n",
    "top_n"
   ]
  },
  {
   "cell_type": "markdown",
   "metadata": {},
   "source": [
    "나머지 자잘한 make들은 모두 더하고 주요 6 make만 추가로 확인해 보았습니다.   \n",
    "모두 대체로 가솔린차량을 많이쓰는군요.  \n",
    "BMW차량만 유독 프리미엄 가솔린을 더 많이 사용한다는 것이 눈에 띕니다."
   ]
  },
  {
   "cell_type": "code",
   "execution_count": 14,
   "metadata": {},
   "outputs": [
    {
     "data": {
      "image/png": "[encoded data removed]",
      "text/plain": [
       "<Figure size 432x288 with 1 Axes>"
      ]
     },
     "metadata": {
      "needs_background": "light"
     },
     "output_type": "display_data"
    }
   ],
   "source": [
    "g=sns.countplot(y=\"make\",hue=\"fuelType1\",\n",
    "                data=(fueleco.assign(make=fueleco.make.\n",
    "                where(fueleco.make.isin(top_n),'Other'))))\n",
    "g.set_yticklabels(g.get_yticklabels(),rotation=45)\n",
    "plt.show()"
   ]
  },
  {
   "cell_type": "markdown",
   "metadata": {},
   "source": [
    "포드의 연료타입을 분석해보자.!"
   ]
  },
  {
   "cell_type": "code",
   "execution_count": 12,
   "metadata": {},
   "outputs": [
    {
     "ename": "NameError",
     "evalue": "name 'top_n2' is not defined",
     "output_type": "error",
     "traceback": [
      "\u001b[1;31m---------------------------------------------------------------------------\u001b[0m",
      "\u001b[1;31mNameError\u001b[0m                                 Traceback (most recent call last)",
      "\u001b[1;32m<ipython-input-12-80a6545c881e>\u001b[0m in \u001b[0;36m<module>\u001b[1;34m\u001b[0m\n\u001b[1;32m----> 1\u001b[1;33m \u001b[0mtop_n2\u001b[0m\u001b[1;33m.\u001b[0m\u001b[0mT\u001b[0m\u001b[1;33m\u001b[0m\u001b[1;33m\u001b[0m\u001b[0m\n\u001b[0m",
      "\u001b[1;31mNameError\u001b[0m: name 'top_n2' is not defined"
     ]
    }
   ],
   "source": [
    "top_n2.T"
   ]
  },
  {
   "cell_type": "code",
   "execution_count": null,
   "metadata": {},
   "outputs": [],
   "source": [
    "fig, ax=plt.subplots(figsize=(10,8))\n",
    "top_n=fueleco.make.value_counts().index[:6]\n",
    "(\n",
    "    fueleco.assign(\n",
    "    make=fueleco.make.where(\n",
    "    fueleco.make.isin(top_n),'Other'))\n",
    "    .make.value_counts()[1:]#other를 빼고 그려보자.\n",
    "    .plot.bar(ax=ax) #내가 저 캔버스에 그릴거야.ax=ax\n",
    ")\n",
    "#plot(kind='bar')=plot.bar"
   ]
  },
  {
   "cell_type": "code",
   "execution_count": 13,
   "metadata": {},
   "outputs": [
    {
     "data": {
      "text/plain": [
       "Other        26193\n",
       "Chevrolet     4159\n",
       "Ford          3508\n",
       "Dodge         2632\n",
       "GMC           2599\n",
       "Toyota        2189\n",
       "BMW           2138\n",
       "Name: make, dtype: int64"
      ]
     },
     "execution_count": 13,
     "metadata": {},
     "output_type": "execute_result"
    }
   ],
   "source": [
    "(\n",
    "fueleco.assign(make=fueleco.make.where(fueleco.make.isin(top_n),'Other'))\n",
    "    .make.value_counts()\n",
    ")"
   ]
  },
  {
   "cell_type": "markdown",
   "metadata": {},
   "source": [
    "#### 3. year 별 가장 연비가 좋은 차가 무엇인지 궁금합니다.(city08기준)  \n",
    "어떻게 명령을 만들 수 있을까요?(많이 했었죠?)"
   ]
  },
  {
   "cell_type": "markdown",
   "metadata": {},
   "source": [
    "시간이 흐를수록 연비가 점점 높아지고 있습니다.\n",
    "가장 연비가 좋은 모델은 2021년에 출시된 Model 3 Standard Range Plus RWD 입니다.  \n",
    "아직 2022년이 오지않았으니 22년 데이터는 최댓값이 38인데 이건 좀더 기다려보아야 겠습니다."
   ]
  },
  {
   "cell_type": "code",
   "execution_count": 30,
   "metadata": {},
   "outputs": [
    {
     "data": {
      "text/html": [
       "<div>\n",
       "<style scoped>\n",
       "    .dataframe tbody tr th:only-of-type {\n",
       "        vertical-align: middle;\n",
       "    }\n",
       "\n",
       "    .dataframe tbody tr th {\n",
       "        vertical-align: top;\n",
       "    }\n",
       "\n",
       "    .dataframe thead th {\n",
       "        text-align: right;\n",
       "    }\n",
       "</style>\n",
       "<table border=\"1\" class=\"dataframe\">\n",
       "  <thead>\n",
       "    <tr style=\"text-align: right;\">\n",
       "      <th></th>\n",
       "      <th>year</th>\n",
       "      <th>city08</th>\n",
       "      <th>model</th>\n",
       "    </tr>\n",
       "  </thead>\n",
       "  <tbody>\n",
       "    <tr>\n",
       "      <th>18226</th>\n",
       "      <td>1984</td>\n",
       "      <td>38</td>\n",
       "      <td>Civic CRX</td>\n",
       "    </tr>\n",
       "    <tr>\n",
       "      <th>8888</th>\n",
       "      <td>1985</td>\n",
       "      <td>40</td>\n",
       "      <td>Civic CRX HF</td>\n",
       "    </tr>\n",
       "    <tr>\n",
       "      <th>8112</th>\n",
       "      <td>1986</td>\n",
       "      <td>44</td>\n",
       "      <td>Sprint ER</td>\n",
       "    </tr>\n",
       "    <tr>\n",
       "      <th>21275</th>\n",
       "      <td>1987</td>\n",
       "      <td>44</td>\n",
       "      <td>Sprint ER</td>\n",
       "    </tr>\n",
       "    <tr>\n",
       "      <th>34744</th>\n",
       "      <td>1988</td>\n",
       "      <td>44</td>\n",
       "      <td>Sprint Metro</td>\n",
       "    </tr>\n",
       "    <tr>\n",
       "      <th>38288</th>\n",
       "      <td>1989</td>\n",
       "      <td>43</td>\n",
       "      <td>Metro</td>\n",
       "    </tr>\n",
       "    <tr>\n",
       "      <th>39549</th>\n",
       "      <td>1990</td>\n",
       "      <td>43</td>\n",
       "      <td>Metro XFI</td>\n",
       "    </tr>\n",
       "    <tr>\n",
       "      <th>40762</th>\n",
       "      <td>1991</td>\n",
       "      <td>43</td>\n",
       "      <td>Metro XFI</td>\n",
       "    </tr>\n",
       "    <tr>\n",
       "      <th>41980</th>\n",
       "      <td>1992</td>\n",
       "      <td>43</td>\n",
       "      <td>Metro XFI</td>\n",
       "    </tr>\n",
       "    <tr>\n",
       "      <th>43158</th>\n",
       "      <td>1993</td>\n",
       "      <td>43</td>\n",
       "      <td>Metro XFI</td>\n",
       "    </tr>\n",
       "    <tr>\n",
       "      <th>825</th>\n",
       "      <td>1994</td>\n",
       "      <td>43</td>\n",
       "      <td>Metro XFI</td>\n",
       "    </tr>\n",
       "    <tr>\n",
       "      <th>1895</th>\n",
       "      <td>1995</td>\n",
       "      <td>39</td>\n",
       "      <td>Civic HB VX</td>\n",
       "    </tr>\n",
       "    <tr>\n",
       "      <th>2895</th>\n",
       "      <td>1996</td>\n",
       "      <td>37</td>\n",
       "      <td>Metro</td>\n",
       "    </tr>\n",
       "    <tr>\n",
       "      <th>3720</th>\n",
       "      <td>1997</td>\n",
       "      <td>37</td>\n",
       "      <td>Metro</td>\n",
       "    </tr>\n",
       "    <tr>\n",
       "      <th>23028</th>\n",
       "      <td>1998</td>\n",
       "      <td>52</td>\n",
       "      <td>S10 Electric</td>\n",
       "    </tr>\n",
       "    <tr>\n",
       "      <th>23019</th>\n",
       "      <td>1999</td>\n",
       "      <td>79</td>\n",
       "      <td>EV1</td>\n",
       "    </tr>\n",
       "    <tr>\n",
       "      <th>7138</th>\n",
       "      <td>2000</td>\n",
       "      <td>81</td>\n",
       "      <td>Altra EV</td>\n",
       "    </tr>\n",
       "    <tr>\n",
       "      <th>8147</th>\n",
       "      <td>2001</td>\n",
       "      <td>84</td>\n",
       "      <td>Hyper-Mini</td>\n",
       "    </tr>\n",
       "    <tr>\n",
       "      <th>9212</th>\n",
       "      <td>2002</td>\n",
       "      <td>87</td>\n",
       "      <td>RAV4 EV</td>\n",
       "    </tr>\n",
       "    <tr>\n",
       "      <th>10329</th>\n",
       "      <td>2003</td>\n",
       "      <td>87</td>\n",
       "      <td>RAV4 EV</td>\n",
       "    </tr>\n",
       "    <tr>\n",
       "      <th>10397</th>\n",
       "      <td>2004</td>\n",
       "      <td>48</td>\n",
       "      <td>Insight</td>\n",
       "    </tr>\n",
       "    <tr>\n",
       "      <th>11644</th>\n",
       "      <td>2005</td>\n",
       "      <td>48</td>\n",
       "      <td>Insight</td>\n",
       "    </tr>\n",
       "    <tr>\n",
       "      <th>12923</th>\n",
       "      <td>2006</td>\n",
       "      <td>48</td>\n",
       "      <td>Insight</td>\n",
       "    </tr>\n",
       "    <tr>\n",
       "      <th>14956</th>\n",
       "      <td>2007</td>\n",
       "      <td>48</td>\n",
       "      <td>Prius</td>\n",
       "    </tr>\n",
       "    <tr>\n",
       "      <th>23030</th>\n",
       "      <td>2008</td>\n",
       "      <td>102</td>\n",
       "      <td>MiniE</td>\n",
       "    </tr>\n",
       "    <tr>\n",
       "      <th>17582</th>\n",
       "      <td>2009</td>\n",
       "      <td>48</td>\n",
       "      <td>Prius</td>\n",
       "    </tr>\n",
       "    <tr>\n",
       "      <th>18067</th>\n",
       "      <td>2010</td>\n",
       "      <td>51</td>\n",
       "      <td>Prius</td>\n",
       "    </tr>\n",
       "    <tr>\n",
       "      <th>24456</th>\n",
       "      <td>2011</td>\n",
       "      <td>107</td>\n",
       "      <td>Active E</td>\n",
       "    </tr>\n",
       "    <tr>\n",
       "      <th>23796</th>\n",
       "      <td>2012</td>\n",
       "      <td>126</td>\n",
       "      <td>i-MiEV</td>\n",
       "    </tr>\n",
       "    <tr>\n",
       "      <th>25598</th>\n",
       "      <td>2013</td>\n",
       "      <td>138</td>\n",
       "      <td>iQ EV</td>\n",
       "    </tr>\n",
       "    <tr>\n",
       "      <th>27678</th>\n",
       "      <td>2014</td>\n",
       "      <td>137</td>\n",
       "      <td>i3 BEV</td>\n",
       "    </tr>\n",
       "    <tr>\n",
       "      <th>28570</th>\n",
       "      <td>2015</td>\n",
       "      <td>137</td>\n",
       "      <td>i3 BEV</td>\n",
       "    </tr>\n",
       "    <tr>\n",
       "      <th>29882</th>\n",
       "      <td>2016</td>\n",
       "      <td>137</td>\n",
       "      <td>i3 BEV</td>\n",
       "    </tr>\n",
       "    <tr>\n",
       "      <th>31227</th>\n",
       "      <td>2017</td>\n",
       "      <td>150</td>\n",
       "      <td>Ioniq Electric</td>\n",
       "    </tr>\n",
       "    <tr>\n",
       "      <th>32570</th>\n",
       "      <td>2018</td>\n",
       "      <td>150</td>\n",
       "      <td>Ioniq Electric</td>\n",
       "    </tr>\n",
       "    <tr>\n",
       "      <th>33394</th>\n",
       "      <td>2019</td>\n",
       "      <td>150</td>\n",
       "      <td>Ioniq Electric</td>\n",
       "    </tr>\n",
       "    <tr>\n",
       "      <th>35478</th>\n",
       "      <td>2020</td>\n",
       "      <td>148</td>\n",
       "      <td>Model 3 Standard Range Plus</td>\n",
       "    </tr>\n",
       "    <tr>\n",
       "      <th>37178</th>\n",
       "      <td>2021</td>\n",
       "      <td>150</td>\n",
       "      <td>Model 3 Standard Range Plus RWD</td>\n",
       "    </tr>\n",
       "    <tr>\n",
       "      <th>37155</th>\n",
       "      <td>2022</td>\n",
       "      <td>38</td>\n",
       "      <td>Tucson Hybrid Blue</td>\n",
       "    </tr>\n",
       "  </tbody>\n",
       "</table>\n",
       "</div>"
      ],
      "text/plain": [
       "       year  city08                            model\n",
       "18226  1984      38                        Civic CRX\n",
       "8888   1985      40                     Civic CRX HF\n",
       "8112   1986      44                        Sprint ER\n",
       "21275  1987      44                        Sprint ER\n",
       "34744  1988      44                     Sprint Metro\n",
       "38288  1989      43                            Metro\n",
       "39549  1990      43                        Metro XFI\n",
       "40762  1991      43                        Metro XFI\n",
       "41980  1992      43                        Metro XFI\n",
       "43158  1993      43                        Metro XFI\n",
       "825    1994      43                        Metro XFI\n",
       "1895   1995      39                      Civic HB VX\n",
       "2895   1996      37                            Metro\n",
       "3720   1997      37                            Metro\n",
       "23028  1998      52                     S10 Electric\n",
       "23019  1999      79                              EV1\n",
       "7138   2000      81                         Altra EV\n",
       "8147   2001      84                       Hyper-Mini\n",
       "9212   2002      87                          RAV4 EV\n",
       "10329  2003      87                          RAV4 EV\n",
       "10397  2004      48                          Insight\n",
       "11644  2005      48                          Insight\n",
       "12923  2006      48                          Insight\n",
       "14956  2007      48                            Prius\n",
       "23030  2008     102                            MiniE\n",
       "17582  2009      48                            Prius\n",
       "18067  2010      51                            Prius\n",
       "24456  2011     107                         Active E\n",
       "23796  2012     126                           i-MiEV\n",
       "25598  2013     138                            iQ EV\n",
       "27678  2014     137                           i3 BEV\n",
       "28570  2015     137                           i3 BEV\n",
       "29882  2016     137                           i3 BEV\n",
       "31227  2017     150                   Ioniq Electric\n",
       "32570  2018     150                   Ioniq Electric\n",
       "33394  2019     150                   Ioniq Electric\n",
       "35478  2020     148      Model 3 Standard Range Plus\n",
       "37178  2021     150  Model 3 Standard Range Plus RWD\n",
       "37155  2022      38               Tucson Hybrid Blue"
      ]
     },
     "execution_count": 30,
     "metadata": {},
     "output_type": "execute_result"
    }
   ],
   "source": [
    "(\n",
    "fueleco[['year','city08','model']]\n",
    "    .sort_values(['year','city08'],ascending=[True,False])\n",
    "    .drop_duplicates(subset='year')\n",
    ")"
   ]
  },
  {
   "cell_type": "code",
   "execution_count": 16,
   "metadata": {},
   "outputs": [
    {
     "data": {
      "text/plain": [
       "43414    Tue Jan 01 00:00:00 EST 2013\n",
       "43415    Tue Jan 01 00:00:00 EST 2013\n",
       "43416    Tue Jan 01 00:00:00 EST 2013\n",
       "43417    Tue Jan 01 00:00:00 EST 2013\n",
       "Name: createdOn, dtype: object"
      ]
     },
     "execution_count": 16,
     "metadata": {},
     "output_type": "execute_result"
    }
   ],
   "source": [
    "fueleco['createdOn'][-4:]"
   ]
  },
  {
   "cell_type": "code",
   "execution_count": 66,
   "metadata": {},
   "outputs": [
    {
     "data": {
      "text/plain": [
       "Other    10764\n",
       "15        4679\n",
       "18        4197\n",
       "17        4184\n",
       "16        4128\n",
       "19        3188\n",
       "14        3062\n",
       "21        2689\n",
       "20        2485\n",
       "13        2174\n",
       "22        1868\n",
       "Name: city08, dtype: int64"
      ]
     },
     "execution_count": 66,
     "metadata": {},
     "output_type": "execute_result"
    }
   ],
   "source": [
    "fueleco.city08.where(fueleco.city08.isin(top_10),'Other').value_counts()"
   ]
  },
  {
   "cell_type": "code",
   "execution_count": 70,
   "metadata": {},
   "outputs": [
    {
     "data": {
      "text/plain": [
       "<AxesSubplot:>"
      ]
     },
     "execution_count": 70,
     "metadata": {},
     "output_type": "execute_result"
    },
    {
     "data": {
      "image/png": "[encoded data removed]",
      "text/plain": [
       "<Figure size 720x576 with 1 Axes>"
      ]
     },
     "metadata": {
      "needs_background": "light"
     },
     "output_type": "display_data"
    }
   ],
   "source": [
    "fig, ax=plt.subplots(figsize=(10,8))\n",
    "top_10=fueleco.city08.value_counts().index[:6]\n",
    "(\n",
    "    fueleco.assign(\n",
    "    make=fueleco.city08.where(\n",
    "    fueleco.city08.isin(top_10),'Other'))\n",
    "    .make.value_counts()[1:]#other를 빼고 그려보자.\n",
    "    .plot.bar(ax=ax) #내가 저 캔버스에 그릴거야.ax=ax\n",
    ")"
   ]
  },
  {
   "cell_type": "markdown",
   "metadata": {},
   "source": []
  }
 ],
 "metadata": {
  "kernelspec": {
   "display_name": "Python 3",
   "language": "python",
   "name": "python3"
  },
  "language_info": {
   "codemirror_mode": {
    "name": "ipython",
    "version": 3
   },
   "file_extension": ".py",
   "mimetype": "text/x-python",
   "name": "python",
   "nbconvert_exporter": "python",
   "pygments_lexer": "ipython3",
   "version": "3.8.5"
  }
 },
 "nbformat": 4,
 "nbformat_minor": 4
}
