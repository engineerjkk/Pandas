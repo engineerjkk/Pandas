{
 "cells": [
  {
   "cell_type": "markdown",
   "metadata": {},
   "source": [
    "# 201601360 강준구\n",
    "#### 이동통신사의 사용자 데이터를 분석해보겠습니다.  \n",
    "#### 사용자의 가입기간, 데이터사용량, 요금 등 다양한 정보를 활용하여 회사 경영진에게 도움이 되는 데이터 분석 결과를 도출할 것입니다.\n",
    "---"
   ]
  },
  {
   "cell_type": "markdown",
   "metadata": {},
   "source": [
    "### 목표 :\n",
    "#### 1. 중대한 매출을 제공하는 고객 데이터 분석\n",
    "**매출의 상위 25% 고객 데이터 분석해서 못나가게 잡기 !** \n",
    "\n",
    "1. describe로 매출 상위 25%고객 분석 \n",
    " - 상위 10%, 하위 10%로 기준점을 설정했을 경우 값이 작아 분석하기 모호했습니다.\n",
    " - 이러한 이유로 좀더 러프한 결과값 도출을 위해 25%로 설정하였습니다.\n",
    "2. 상위 25%고객의 데이터 사용량 등 분석 \n",
    "---\n",
    "\n",
    "#### 2. 블랙리스트 설정하기\n",
    "1. describe로 매출 하위 25%고객 분석  \n",
    "2. 하위 25%고객의 Callcenters 분석해서 3이상은 필요없는 고객으로 분류 이벤트 등에서 배제.\n",
    "3. 매출도 안나오는 고객이 본사의 노동력을 자주 사용하는경우(콜센터에 전화) 경우 블랙리스트  \n",
    "---\n",
    "#### 3. 데이터를 범주하여 어느 컬럼이 월요금제와 가장 연관관계가 있는지 확인\n",
    "1. 관계가 적은것거나 없는것은 서비스 차원으로 제공\n",
    "2. 관계가 높은것은  금액을 올리거나 지속적인 홍보\n",
    "---\n",
    "#### 4. 이탈안하며 가입갱신을 한 충성 고객 분석\n",
    "1. 이탈률 원인 분석 및 대체 방안 도출\n",
    "1. 현재 고객이 상위 25% 고객이 될 수 있도록 다양한 서비스 제공가이드 제시\n",
    "---\n",
    "#### 5. 딥러닝 모델을 활용한 고객 이탈률 예측"
   ]
  },
  {
   "cell_type": "markdown",
   "metadata": {},
   "source": [
    "# 분석전 결론 예상\n",
    "#### 1. 상위 25%고객은 월요금제에 둔감하여 고객센터에 전화를 잘 안할것이다.\n",
    "#### 2. 상위 25%고객이 월 매출의 절반이상을 차지할 것이다.\n",
    "#### 3. 다른것에 비해 데이터를 많이 사용할수록 월요금이 증가할 것이다."
   ]
  },
  {
   "cell_type": "code",
   "execution_count": 1,
   "metadata": {},
   "outputs": [],
   "source": [
    "import pandas as pd\n",
    "import numpy as np\n",
    "import seaborn as sns\n",
    "import matplotlib.pyplot as plt"
   ]
  },
  {
   "cell_type": "code",
   "execution_count": 2,
   "metadata": {},
   "outputs": [
    {
     "data": {
      "text/html": [
       "<div>\n",
       "<style scoped>\n",
       "    .dataframe tbody tr th:only-of-type {\n",
       "        vertical-align: middle;\n",
       "    }\n",
       "\n",
       "    .dataframe tbody tr th {\n",
       "        vertical-align: top;\n",
       "    }\n",
       "\n",
       "    .dataframe thead th {\n",
       "        text-align: right;\n",
       "    }\n",
       "</style>\n",
       "<table border=\"1\" class=\"dataframe\">\n",
       "  <thead>\n",
       "    <tr style=\"text-align: right;\">\n",
       "      <th></th>\n",
       "      <th>Leave</th>\n",
       "      <th>MemberWeeks</th>\n",
       "      <th>NewContract</th>\n",
       "      <th>IsData</th>\n",
       "      <th>DataAmount</th>\n",
       "      <th>Callcenter</th>\n",
       "      <th>CalMins</th>\n",
       "      <th>CalCounts</th>\n",
       "      <th>MonthlyFee</th>\n",
       "      <th>OverFee</th>\n",
       "      <th>RoamingMin</th>\n",
       "    </tr>\n",
       "  </thead>\n",
       "  <tbody>\n",
       "    <tr>\n",
       "      <th>0</th>\n",
       "      <td>0</td>\n",
       "      <td>128</td>\n",
       "      <td>1</td>\n",
       "      <td>1</td>\n",
       "      <td>2.70</td>\n",
       "      <td>1</td>\n",
       "      <td>265.1</td>\n",
       "      <td>110</td>\n",
       "      <td>89.0</td>\n",
       "      <td>9.87</td>\n",
       "      <td>10.0</td>\n",
       "    </tr>\n",
       "    <tr>\n",
       "      <th>1</th>\n",
       "      <td>0</td>\n",
       "      <td>107</td>\n",
       "      <td>1</td>\n",
       "      <td>1</td>\n",
       "      <td>3.70</td>\n",
       "      <td>1</td>\n",
       "      <td>161.6</td>\n",
       "      <td>123</td>\n",
       "      <td>82.0</td>\n",
       "      <td>9.78</td>\n",
       "      <td>13.7</td>\n",
       "    </tr>\n",
       "    <tr>\n",
       "      <th>2</th>\n",
       "      <td>0</td>\n",
       "      <td>137</td>\n",
       "      <td>1</td>\n",
       "      <td>0</td>\n",
       "      <td>0.00</td>\n",
       "      <td>0</td>\n",
       "      <td>243.4</td>\n",
       "      <td>114</td>\n",
       "      <td>52.0</td>\n",
       "      <td>6.06</td>\n",
       "      <td>12.2</td>\n",
       "    </tr>\n",
       "    <tr>\n",
       "      <th>3</th>\n",
       "      <td>0</td>\n",
       "      <td>84</td>\n",
       "      <td>0</td>\n",
       "      <td>0</td>\n",
       "      <td>0.00</td>\n",
       "      <td>2</td>\n",
       "      <td>299.4</td>\n",
       "      <td>71</td>\n",
       "      <td>57.0</td>\n",
       "      <td>3.10</td>\n",
       "      <td>6.6</td>\n",
       "    </tr>\n",
       "    <tr>\n",
       "      <th>4</th>\n",
       "      <td>0</td>\n",
       "      <td>75</td>\n",
       "      <td>0</td>\n",
       "      <td>0</td>\n",
       "      <td>0.00</td>\n",
       "      <td>3</td>\n",
       "      <td>166.7</td>\n",
       "      <td>113</td>\n",
       "      <td>41.0</td>\n",
       "      <td>7.42</td>\n",
       "      <td>10.1</td>\n",
       "    </tr>\n",
       "    <tr>\n",
       "      <th>...</th>\n",
       "      <td>...</td>\n",
       "      <td>...</td>\n",
       "      <td>...</td>\n",
       "      <td>...</td>\n",
       "      <td>...</td>\n",
       "      <td>...</td>\n",
       "      <td>...</td>\n",
       "      <td>...</td>\n",
       "      <td>...</td>\n",
       "      <td>...</td>\n",
       "      <td>...</td>\n",
       "    </tr>\n",
       "    <tr>\n",
       "      <th>3328</th>\n",
       "      <td>0</td>\n",
       "      <td>192</td>\n",
       "      <td>1</td>\n",
       "      <td>1</td>\n",
       "      <td>2.67</td>\n",
       "      <td>2</td>\n",
       "      <td>156.2</td>\n",
       "      <td>77</td>\n",
       "      <td>71.7</td>\n",
       "      <td>10.78</td>\n",
       "      <td>9.9</td>\n",
       "    </tr>\n",
       "    <tr>\n",
       "      <th>3329</th>\n",
       "      <td>0</td>\n",
       "      <td>68</td>\n",
       "      <td>1</td>\n",
       "      <td>0</td>\n",
       "      <td>0.34</td>\n",
       "      <td>3</td>\n",
       "      <td>231.1</td>\n",
       "      <td>57</td>\n",
       "      <td>56.4</td>\n",
       "      <td>7.67</td>\n",
       "      <td>9.6</td>\n",
       "    </tr>\n",
       "    <tr>\n",
       "      <th>3330</th>\n",
       "      <td>0</td>\n",
       "      <td>28</td>\n",
       "      <td>1</td>\n",
       "      <td>0</td>\n",
       "      <td>0.00</td>\n",
       "      <td>2</td>\n",
       "      <td>180.8</td>\n",
       "      <td>109</td>\n",
       "      <td>56.0</td>\n",
       "      <td>14.44</td>\n",
       "      <td>14.1</td>\n",
       "    </tr>\n",
       "    <tr>\n",
       "      <th>3331</th>\n",
       "      <td>0</td>\n",
       "      <td>184</td>\n",
       "      <td>0</td>\n",
       "      <td>0</td>\n",
       "      <td>0.00</td>\n",
       "      <td>2</td>\n",
       "      <td>213.8</td>\n",
       "      <td>105</td>\n",
       "      <td>50.0</td>\n",
       "      <td>7.98</td>\n",
       "      <td>5.0</td>\n",
       "    </tr>\n",
       "    <tr>\n",
       "      <th>3332</th>\n",
       "      <td>0</td>\n",
       "      <td>74</td>\n",
       "      <td>1</td>\n",
       "      <td>1</td>\n",
       "      <td>3.70</td>\n",
       "      <td>0</td>\n",
       "      <td>234.4</td>\n",
       "      <td>113</td>\n",
       "      <td>100.0</td>\n",
       "      <td>13.30</td>\n",
       "      <td>13.7</td>\n",
       "    </tr>\n",
       "  </tbody>\n",
       "</table>\n",
       "<p>3333 rows × 11 columns</p>\n",
       "</div>"
      ],
      "text/plain": [
       "      Leave  MemberWeeks  NewContract  IsData  DataAmount  Callcenter  \\\n",
       "0         0          128            1       1        2.70           1   \n",
       "1         0          107            1       1        3.70           1   \n",
       "2         0          137            1       0        0.00           0   \n",
       "3         0           84            0       0        0.00           2   \n",
       "4         0           75            0       0        0.00           3   \n",
       "...     ...          ...          ...     ...         ...         ...   \n",
       "3328      0          192            1       1        2.67           2   \n",
       "3329      0           68            1       0        0.34           3   \n",
       "3330      0           28            1       0        0.00           2   \n",
       "3331      0          184            0       0        0.00           2   \n",
       "3332      0           74            1       1        3.70           0   \n",
       "\n",
       "      CalMins  CalCounts  MonthlyFee  OverFee  RoamingMin  \n",
       "0       265.1        110        89.0     9.87        10.0  \n",
       "1       161.6        123        82.0     9.78        13.7  \n",
       "2       243.4        114        52.0     6.06        12.2  \n",
       "3       299.4         71        57.0     3.10         6.6  \n",
       "4       166.7        113        41.0     7.42        10.1  \n",
       "...       ...        ...         ...      ...         ...  \n",
       "3328    156.2         77        71.7    10.78         9.9  \n",
       "3329    231.1         57        56.4     7.67         9.6  \n",
       "3330    180.8        109        56.0    14.44        14.1  \n",
       "3331    213.8        105        50.0     7.98         5.0  \n",
       "3332    234.4        113       100.0    13.30        13.7  \n",
       "\n",
       "[3333 rows x 11 columns]"
      ]
     },
     "execution_count": 2,
     "metadata": {},
     "output_type": "execute_result"
    }
   ],
   "source": [
    "telco=pd.read_csv('telco.csv')\n",
    "telco"
   ]
  },
  {
   "cell_type": "markdown",
   "metadata": {},
   "source": [
    "**딕셔너리** 파일을 생성하여 불러왔습니다."
   ]
  },
  {
   "cell_type": "code",
   "execution_count": 3,
   "metadata": {},
   "outputs": [
    {
     "data": {
      "text/html": [
       "<div>\n",
       "<style scoped>\n",
       "    .dataframe tbody tr th:only-of-type {\n",
       "        vertical-align: middle;\n",
       "    }\n",
       "\n",
       "    .dataframe tbody tr th {\n",
       "        vertical-align: top;\n",
       "    }\n",
       "\n",
       "    .dataframe thead th {\n",
       "        text-align: right;\n",
       "    }\n",
       "</style>\n",
       "<table border=\"1\" class=\"dataframe\">\n",
       "  <thead>\n",
       "    <tr style=\"text-align: right;\">\n",
       "      <th></th>\n",
       "      <th>columns</th>\n",
       "      <th>explain</th>\n",
       "    </tr>\n",
       "  </thead>\n",
       "  <tbody>\n",
       "    <tr>\n",
       "      <th>0</th>\n",
       "      <td>Leave</td>\n",
       "      <td>가입해지여부(1이면 해지)</td>\n",
       "    </tr>\n",
       "    <tr>\n",
       "      <th>1</th>\n",
       "      <td>MemberWeeks</td>\n",
       "      <td>가입기간</td>\n",
       "    </tr>\n",
       "    <tr>\n",
       "      <th>2</th>\n",
       "      <td>NewContract</td>\n",
       "      <td>가입갱신여부(1이면 갱신)</td>\n",
       "    </tr>\n",
       "    <tr>\n",
       "      <th>3</th>\n",
       "      <td>IsData</td>\n",
       "      <td>데이터요금제사용여부(1이면 사용)</td>\n",
       "    </tr>\n",
       "    <tr>\n",
       "      <th>4</th>\n",
       "      <td>DataAmount</td>\n",
       "      <td>데이터사용량(GB)</td>\n",
       "    </tr>\n",
       "    <tr>\n",
       "      <th>5</th>\n",
       "      <td>Callcenter</td>\n",
       "      <td>고객센터전화량</td>\n",
       "    </tr>\n",
       "    <tr>\n",
       "      <th>6</th>\n",
       "      <td>CalMins</td>\n",
       "      <td>월평균전화량(분)</td>\n",
       "    </tr>\n",
       "    <tr>\n",
       "      <th>7</th>\n",
       "      <td>CalCounts</td>\n",
       "      <td>월평균전화수(횟수)</td>\n",
       "    </tr>\n",
       "    <tr>\n",
       "      <th>8</th>\n",
       "      <td>MonthlyFee</td>\n",
       "      <td>월평균요금</td>\n",
       "    </tr>\n",
       "    <tr>\n",
       "      <th>9</th>\n",
       "      <td>OverFee</td>\n",
       "      <td>초과요금</td>\n",
       "    </tr>\n",
       "    <tr>\n",
       "      <th>10</th>\n",
       "      <td>RoamingMin</td>\n",
       "      <td>로밍시간(분)</td>\n",
       "    </tr>\n",
       "  </tbody>\n",
       "</table>\n",
       "</div>"
      ],
      "text/plain": [
       "        columns             explain\n",
       "0         Leave      가입해지여부(1이면 해지)\n",
       "1   MemberWeeks                가입기간\n",
       "2   NewContract      가입갱신여부(1이면 갱신)\n",
       "3        IsData  데이터요금제사용여부(1이면 사용)\n",
       "4    DataAmount          데이터사용량(GB)\n",
       "5    Callcenter             고객센터전화량\n",
       "6       CalMins           월평균전화량(분)\n",
       "7     CalCounts          월평균전화수(횟수)\n",
       "8    MonthlyFee               월평균요금\n",
       "9       OverFee                초과요금\n",
       "10   RoamingMin             로밍시간(분)"
      ]
     },
     "execution_count": 3,
     "metadata": {},
     "output_type": "execute_result"
    }
   ],
   "source": [
    "telco_dictionary=pd.read_csv('telco_dictionary.csv')\n",
    "telco_dictionary"
   ]
  },
  {
   "cell_type": "markdown",
   "metadata": {},
   "source": [
    "# 데이터 전처리"
   ]
  },
  {
   "cell_type": "markdown",
   "metadata": {},
   "source": [
    "**info()** 를 통하여 Dtype과 memory usage를 확인해보겠습니다.  \n",
    "현재 메모리는 286.6KB입니다."
   ]
  },
  {
   "cell_type": "code",
   "execution_count": 4,
   "metadata": {},
   "outputs": [
    {
     "name": "stdout",
     "output_type": "stream",
     "text": [
      "<class 'pandas.core.frame.DataFrame'>\n",
      "RangeIndex: 3333 entries, 0 to 3332\n",
      "Data columns (total 11 columns):\n",
      " #   Column       Non-Null Count  Dtype  \n",
      "---  ------       --------------  -----  \n",
      " 0   Leave        3333 non-null   int64  \n",
      " 1   MemberWeeks  3333 non-null   int64  \n",
      " 2   NewContract  3333 non-null   int64  \n",
      " 3   IsData       3333 non-null   int64  \n",
      " 4   DataAmount   3333 non-null   float64\n",
      " 5   Callcenter   3333 non-null   int64  \n",
      " 6   CalMins      3333 non-null   float64\n",
      " 7   CalCounts    3333 non-null   int64  \n",
      " 8   MonthlyFee   3333 non-null   float64\n",
      " 9   OverFee      3333 non-null   float64\n",
      " 10  RoamingMin   3333 non-null   float64\n",
      "dtypes: float64(5), int64(6)\n",
      "memory usage: 286.6 KB\n"
     ]
    }
   ],
   "source": [
    "telco.info()"
   ]
  },
  {
   "cell_type": "markdown",
   "metadata": {},
   "source": [
    "다시한번 NULL값이 없음을 확인하였습니다."
   ]
  },
  {
   "cell_type": "code",
   "execution_count": 5,
   "metadata": {},
   "outputs": [
    {
     "data": {
      "text/plain": [
       "Leave          0\n",
       "MemberWeeks    0\n",
       "NewContract    0\n",
       "IsData         0\n",
       "DataAmount     0\n",
       "Callcenter     0\n",
       "CalMins        0\n",
       "CalCounts      0\n",
       "MonthlyFee     0\n",
       "OverFee        0\n",
       "RoamingMin     0\n",
       "dtype: int64"
      ]
     },
     "execution_count": 5,
     "metadata": {},
     "output_type": "execute_result"
    }
   ],
   "source": [
    "telco.isna().sum()"
   ]
  },
  {
   "cell_type": "markdown",
   "metadata": {},
   "source": [
    "각각 적절한 Dtype으로 변경하여 줍니다."
   ]
  },
  {
   "cell_type": "code",
   "execution_count": 6,
   "metadata": {},
   "outputs": [],
   "source": [
    "telco['Leave']=telco['Leave'].astype('category')\n",
    "telco['MemberWeeks']=telco['MemberWeeks'].astype('uint8')\n",
    "telco['NewContract']=telco['NewContract'].astype('category')\n",
    "telco['IsData']=telco['IsData'].astype('category')\n",
    "telco['DataAmount']=telco['DataAmount'].astype('float16')\n",
    "telco['Callcenter']=telco['Callcenter'].astype('uint8')\n",
    "telco['CalMins']=telco['CalMins'].astype('float32')\n",
    "telco['CalCounts']=telco['CalCounts'].astype('uint8')\n",
    "telco['MonthlyFee']=telco['MonthlyFee'].astype('float32')\n",
    "telco['OverFee']=telco['OverFee'].astype('float16')\n",
    "telco['RoamingMin']=telco['RoamingMin'].astype('float16')"
   ]
  },
  {
   "cell_type": "code",
   "execution_count": 7,
   "metadata": {},
   "outputs": [
    {
     "name": "stdout",
     "output_type": "stream",
     "text": [
      "<class 'pandas.core.frame.DataFrame'>\n",
      "RangeIndex: 3333 entries, 0 to 3332\n",
      "Data columns (total 11 columns):\n",
      " #   Column       Non-Null Count  Dtype   \n",
      "---  ------       --------------  -----   \n",
      " 0   Leave        3333 non-null   category\n",
      " 1   MemberWeeks  3333 non-null   uint8   \n",
      " 2   NewContract  3333 non-null   category\n",
      " 3   IsData       3333 non-null   category\n",
      " 4   DataAmount   3333 non-null   float16 \n",
      " 5   Callcenter   3333 non-null   uint8   \n",
      " 6   CalMins      3333 non-null   float32 \n",
      " 7   CalCounts    3333 non-null   uint8   \n",
      " 8   MonthlyFee   3333 non-null   float32 \n",
      " 9   OverFee      3333 non-null   float16 \n",
      " 10  RoamingMin   3333 non-null   float16 \n",
      "dtypes: category(3), float16(3), float32(2), uint8(3)\n",
      "memory usage: 65.5 KB\n"
     ]
    }
   ],
   "source": [
    "telco.info()"
   ]
  },
  {
   "cell_type": "markdown",
   "metadata": {},
   "source": [
    "메모리가 22.8%로 절약되었습니다. "
   ]
  },
  {
   "cell_type": "code",
   "execution_count": 8,
   "metadata": {},
   "outputs": [
    {
     "name": "stdout",
     "output_type": "stream",
     "text": [
      "22.854152128401953\n"
     ]
    }
   ],
   "source": [
    "print(65.5/286.6*100)"
   ]
  },
  {
   "cell_type": "markdown",
   "metadata": {},
   "source": [
    "이탈 고객과 현재 고객 분리"
   ]
  },
  {
   "cell_type": "code",
   "execution_count": 9,
   "metadata": {},
   "outputs": [],
   "source": [
    "Out_of_Member=telco[(telco.Leave==1)]\n",
    "Current_Member=telco[(telco.Leave==0)]"
   ]
  },
  {
   "cell_type": "code",
   "execution_count": 10,
   "metadata": {},
   "outputs": [
    {
     "data": {
      "text/html": [
       "<div>\n",
       "<style scoped>\n",
       "    .dataframe tbody tr th:only-of-type {\n",
       "        vertical-align: middle;\n",
       "    }\n",
       "\n",
       "    .dataframe tbody tr th {\n",
       "        vertical-align: top;\n",
       "    }\n",
       "\n",
       "    .dataframe thead th {\n",
       "        text-align: right;\n",
       "    }\n",
       "</style>\n",
       "<table border=\"1\" class=\"dataframe\">\n",
       "  <thead>\n",
       "    <tr style=\"text-align: right;\">\n",
       "      <th></th>\n",
       "      <th>Leave</th>\n",
       "      <th>MemberWeeks</th>\n",
       "      <th>NewContract</th>\n",
       "      <th>IsData</th>\n",
       "      <th>DataAmount</th>\n",
       "      <th>Callcenter</th>\n",
       "      <th>CalMins</th>\n",
       "      <th>CalCounts</th>\n",
       "      <th>MonthlyFee</th>\n",
       "      <th>OverFee</th>\n",
       "      <th>RoamingMin</th>\n",
       "    </tr>\n",
       "  </thead>\n",
       "  <tbody>\n",
       "    <tr>\n",
       "      <th>0</th>\n",
       "      <td>0</td>\n",
       "      <td>128</td>\n",
       "      <td>1</td>\n",
       "      <td>1</td>\n",
       "      <td>2.699219</td>\n",
       "      <td>1</td>\n",
       "      <td>265.100006</td>\n",
       "      <td>110</td>\n",
       "      <td>89.000000</td>\n",
       "      <td>9.867188</td>\n",
       "      <td>10.000000</td>\n",
       "    </tr>\n",
       "    <tr>\n",
       "      <th>1</th>\n",
       "      <td>0</td>\n",
       "      <td>107</td>\n",
       "      <td>1</td>\n",
       "      <td>1</td>\n",
       "      <td>3.699219</td>\n",
       "      <td>1</td>\n",
       "      <td>161.600006</td>\n",
       "      <td>123</td>\n",
       "      <td>82.000000</td>\n",
       "      <td>9.781250</td>\n",
       "      <td>13.703125</td>\n",
       "    </tr>\n",
       "    <tr>\n",
       "      <th>2</th>\n",
       "      <td>0</td>\n",
       "      <td>137</td>\n",
       "      <td>1</td>\n",
       "      <td>0</td>\n",
       "      <td>0.000000</td>\n",
       "      <td>0</td>\n",
       "      <td>243.399994</td>\n",
       "      <td>114</td>\n",
       "      <td>52.000000</td>\n",
       "      <td>6.058594</td>\n",
       "      <td>12.203125</td>\n",
       "    </tr>\n",
       "    <tr>\n",
       "      <th>3</th>\n",
       "      <td>0</td>\n",
       "      <td>84</td>\n",
       "      <td>0</td>\n",
       "      <td>0</td>\n",
       "      <td>0.000000</td>\n",
       "      <td>2</td>\n",
       "      <td>299.399994</td>\n",
       "      <td>71</td>\n",
       "      <td>57.000000</td>\n",
       "      <td>3.099609</td>\n",
       "      <td>6.601562</td>\n",
       "    </tr>\n",
       "    <tr>\n",
       "      <th>4</th>\n",
       "      <td>0</td>\n",
       "      <td>75</td>\n",
       "      <td>0</td>\n",
       "      <td>0</td>\n",
       "      <td>0.000000</td>\n",
       "      <td>3</td>\n",
       "      <td>166.699997</td>\n",
       "      <td>113</td>\n",
       "      <td>41.000000</td>\n",
       "      <td>7.421875</td>\n",
       "      <td>10.101562</td>\n",
       "    </tr>\n",
       "    <tr>\n",
       "      <th>...</th>\n",
       "      <td>...</td>\n",
       "      <td>...</td>\n",
       "      <td>...</td>\n",
       "      <td>...</td>\n",
       "      <td>...</td>\n",
       "      <td>...</td>\n",
       "      <td>...</td>\n",
       "      <td>...</td>\n",
       "      <td>...</td>\n",
       "      <td>...</td>\n",
       "      <td>...</td>\n",
       "    </tr>\n",
       "    <tr>\n",
       "      <th>3328</th>\n",
       "      <td>0</td>\n",
       "      <td>192</td>\n",
       "      <td>1</td>\n",
       "      <td>1</td>\n",
       "      <td>2.669922</td>\n",
       "      <td>2</td>\n",
       "      <td>156.199997</td>\n",
       "      <td>77</td>\n",
       "      <td>71.699997</td>\n",
       "      <td>10.781250</td>\n",
       "      <td>9.898438</td>\n",
       "    </tr>\n",
       "    <tr>\n",
       "      <th>3329</th>\n",
       "      <td>0</td>\n",
       "      <td>68</td>\n",
       "      <td>1</td>\n",
       "      <td>0</td>\n",
       "      <td>0.340088</td>\n",
       "      <td>3</td>\n",
       "      <td>231.100006</td>\n",
       "      <td>57</td>\n",
       "      <td>56.400002</td>\n",
       "      <td>7.671875</td>\n",
       "      <td>9.601562</td>\n",
       "    </tr>\n",
       "    <tr>\n",
       "      <th>3330</th>\n",
       "      <td>0</td>\n",
       "      <td>28</td>\n",
       "      <td>1</td>\n",
       "      <td>0</td>\n",
       "      <td>0.000000</td>\n",
       "      <td>2</td>\n",
       "      <td>180.800003</td>\n",
       "      <td>109</td>\n",
       "      <td>56.000000</td>\n",
       "      <td>14.437500</td>\n",
       "      <td>14.101562</td>\n",
       "    </tr>\n",
       "    <tr>\n",
       "      <th>3331</th>\n",
       "      <td>0</td>\n",
       "      <td>184</td>\n",
       "      <td>0</td>\n",
       "      <td>0</td>\n",
       "      <td>0.000000</td>\n",
       "      <td>2</td>\n",
       "      <td>213.800003</td>\n",
       "      <td>105</td>\n",
       "      <td>50.000000</td>\n",
       "      <td>7.980469</td>\n",
       "      <td>5.000000</td>\n",
       "    </tr>\n",
       "    <tr>\n",
       "      <th>3332</th>\n",
       "      <td>0</td>\n",
       "      <td>74</td>\n",
       "      <td>1</td>\n",
       "      <td>1</td>\n",
       "      <td>3.699219</td>\n",
       "      <td>0</td>\n",
       "      <td>234.399994</td>\n",
       "      <td>113</td>\n",
       "      <td>100.000000</td>\n",
       "      <td>13.296875</td>\n",
       "      <td>13.703125</td>\n",
       "    </tr>\n",
       "  </tbody>\n",
       "</table>\n",
       "<p>2850 rows × 11 columns</p>\n",
       "</div>"
      ],
      "text/plain": [
       "     Leave  MemberWeeks NewContract IsData  DataAmount  Callcenter  \\\n",
       "0        0          128           1      1    2.699219           1   \n",
       "1        0          107           1      1    3.699219           1   \n",
       "2        0          137           1      0    0.000000           0   \n",
       "3        0           84           0      0    0.000000           2   \n",
       "4        0           75           0      0    0.000000           3   \n",
       "...    ...          ...         ...    ...         ...         ...   \n",
       "3328     0          192           1      1    2.669922           2   \n",
       "3329     0           68           1      0    0.340088           3   \n",
       "3330     0           28           1      0    0.000000           2   \n",
       "3331     0          184           0      0    0.000000           2   \n",
       "3332     0           74           1      1    3.699219           0   \n",
       "\n",
       "         CalMins  CalCounts  MonthlyFee    OverFee  RoamingMin  \n",
       "0     265.100006        110   89.000000   9.867188   10.000000  \n",
       "1     161.600006        123   82.000000   9.781250   13.703125  \n",
       "2     243.399994        114   52.000000   6.058594   12.203125  \n",
       "3     299.399994         71   57.000000   3.099609    6.601562  \n",
       "4     166.699997        113   41.000000   7.421875   10.101562  \n",
       "...          ...        ...         ...        ...         ...  \n",
       "3328  156.199997         77   71.699997  10.781250    9.898438  \n",
       "3329  231.100006         57   56.400002   7.671875    9.601562  \n",
       "3330  180.800003        109   56.000000  14.437500   14.101562  \n",
       "3331  213.800003        105   50.000000   7.980469    5.000000  \n",
       "3332  234.399994        113  100.000000  13.296875   13.703125  \n",
       "\n",
       "[2850 rows x 11 columns]"
      ]
     },
     "execution_count": 10,
     "metadata": {},
     "output_type": "execute_result"
    }
   ],
   "source": [
    "Current_Member"
   ]
  },
  {
   "cell_type": "code",
   "execution_count": 11,
   "metadata": {},
   "outputs": [
    {
     "data": {
      "text/html": [
       "<div>\n",
       "<style scoped>\n",
       "    .dataframe tbody tr th:only-of-type {\n",
       "        vertical-align: middle;\n",
       "    }\n",
       "\n",
       "    .dataframe tbody tr th {\n",
       "        vertical-align: top;\n",
       "    }\n",
       "\n",
       "    .dataframe thead th {\n",
       "        text-align: right;\n",
       "    }\n",
       "</style>\n",
       "<table border=\"1\" class=\"dataframe\">\n",
       "  <thead>\n",
       "    <tr style=\"text-align: right;\">\n",
       "      <th></th>\n",
       "      <th>MemberWeeks</th>\n",
       "      <th>DataAmount</th>\n",
       "      <th>Callcenter</th>\n",
       "      <th>CalMins</th>\n",
       "      <th>CalCounts</th>\n",
       "      <th>MonthlyFee</th>\n",
       "      <th>OverFee</th>\n",
       "      <th>RoamingMin</th>\n",
       "    </tr>\n",
       "  </thead>\n",
       "  <tbody>\n",
       "    <tr>\n",
       "      <th>count</th>\n",
       "      <td>3333.000000</td>\n",
       "      <td>3333.000000</td>\n",
       "      <td>3333.000000</td>\n",
       "      <td>3333.000000</td>\n",
       "      <td>3333.000000</td>\n",
       "      <td>3333.000000</td>\n",
       "      <td>3333.000000</td>\n",
       "      <td>3333.000000</td>\n",
       "    </tr>\n",
       "    <tr>\n",
       "      <th>mean</th>\n",
       "      <td>101.064806</td>\n",
       "      <td>0.816895</td>\n",
       "      <td>1.562856</td>\n",
       "      <td>179.775131</td>\n",
       "      <td>100.435644</td>\n",
       "      <td>56.305111</td>\n",
       "      <td>10.054688</td>\n",
       "      <td>10.234375</td>\n",
       "    </tr>\n",
       "    <tr>\n",
       "      <th>std</th>\n",
       "      <td>39.822106</td>\n",
       "      <td>1.273438</td>\n",
       "      <td>1.315491</td>\n",
       "      <td>54.467442</td>\n",
       "      <td>20.069084</td>\n",
       "      <td>16.426031</td>\n",
       "      <td>2.535156</td>\n",
       "      <td>2.791016</td>\n",
       "    </tr>\n",
       "    <tr>\n",
       "      <th>min</th>\n",
       "      <td>1.000000</td>\n",
       "      <td>0.000000</td>\n",
       "      <td>0.000000</td>\n",
       "      <td>0.000000</td>\n",
       "      <td>0.000000</td>\n",
       "      <td>14.000000</td>\n",
       "      <td>0.000000</td>\n",
       "      <td>0.000000</td>\n",
       "    </tr>\n",
       "    <tr>\n",
       "      <th>25%</th>\n",
       "      <td>74.000000</td>\n",
       "      <td>0.000000</td>\n",
       "      <td>1.000000</td>\n",
       "      <td>143.699997</td>\n",
       "      <td>87.000000</td>\n",
       "      <td>45.000000</td>\n",
       "      <td>8.328125</td>\n",
       "      <td>8.500000</td>\n",
       "    </tr>\n",
       "    <tr>\n",
       "      <th>50%</th>\n",
       "      <td>101.000000</td>\n",
       "      <td>0.000000</td>\n",
       "      <td>1.000000</td>\n",
       "      <td>179.399994</td>\n",
       "      <td>101.000000</td>\n",
       "      <td>53.500000</td>\n",
       "      <td>10.070312</td>\n",
       "      <td>10.296875</td>\n",
       "    </tr>\n",
       "    <tr>\n",
       "      <th>75%</th>\n",
       "      <td>127.000000</td>\n",
       "      <td>1.780273</td>\n",
       "      <td>2.000000</td>\n",
       "      <td>216.399994</td>\n",
       "      <td>114.000000</td>\n",
       "      <td>66.199997</td>\n",
       "      <td>11.773438</td>\n",
       "      <td>12.101562</td>\n",
       "    </tr>\n",
       "    <tr>\n",
       "      <th>max</th>\n",
       "      <td>243.000000</td>\n",
       "      <td>5.398438</td>\n",
       "      <td>9.000000</td>\n",
       "      <td>350.799988</td>\n",
       "      <td>165.000000</td>\n",
       "      <td>111.300003</td>\n",
       "      <td>18.187500</td>\n",
       "      <td>20.000000</td>\n",
       "    </tr>\n",
       "  </tbody>\n",
       "</table>\n",
       "</div>"
      ],
      "text/plain": [
       "       MemberWeeks   DataAmount   Callcenter      CalMins    CalCounts  \\\n",
       "count  3333.000000  3333.000000  3333.000000  3333.000000  3333.000000   \n",
       "mean    101.064806     0.816895     1.562856   179.775131   100.435644   \n",
       "std      39.822106     1.273438     1.315491    54.467442    20.069084   \n",
       "min       1.000000     0.000000     0.000000     0.000000     0.000000   \n",
       "25%      74.000000     0.000000     1.000000   143.699997    87.000000   \n",
       "50%     101.000000     0.000000     1.000000   179.399994   101.000000   \n",
       "75%     127.000000     1.780273     2.000000   216.399994   114.000000   \n",
       "max     243.000000     5.398438     9.000000   350.799988   165.000000   \n",
       "\n",
       "        MonthlyFee      OverFee   RoamingMin  \n",
       "count  3333.000000  3333.000000  3333.000000  \n",
       "mean     56.305111    10.054688    10.234375  \n",
       "std      16.426031     2.535156     2.791016  \n",
       "min      14.000000     0.000000     0.000000  \n",
       "25%      45.000000     8.328125     8.500000  \n",
       "50%      53.500000    10.070312    10.296875  \n",
       "75%      66.199997    11.773438    12.101562  \n",
       "max     111.300003    18.187500    20.000000  "
      ]
     },
     "execution_count": 11,
     "metadata": {},
     "output_type": "execute_result"
    }
   ],
   "source": [
    "telco.describe()"
   ]
  },
  {
   "cell_type": "code",
   "execution_count": 12,
   "metadata": {},
   "outputs": [
    {
     "data": {
      "text/html": [
       "<div>\n",
       "<style scoped>\n",
       "    .dataframe tbody tr th:only-of-type {\n",
       "        vertical-align: middle;\n",
       "    }\n",
       "\n",
       "    .dataframe tbody tr th {\n",
       "        vertical-align: top;\n",
       "    }\n",
       "\n",
       "    .dataframe thead th {\n",
       "        text-align: right;\n",
       "    }\n",
       "</style>\n",
       "<table border=\"1\" class=\"dataframe\">\n",
       "  <thead>\n",
       "    <tr style=\"text-align: right;\">\n",
       "      <th></th>\n",
       "      <th>MemberWeeks</th>\n",
       "      <th>DataAmount</th>\n",
       "      <th>Callcenter</th>\n",
       "      <th>CalMins</th>\n",
       "      <th>CalCounts</th>\n",
       "      <th>MonthlyFee</th>\n",
       "      <th>OverFee</th>\n",
       "      <th>RoamingMin</th>\n",
       "    </tr>\n",
       "  </thead>\n",
       "  <tbody>\n",
       "    <tr>\n",
       "      <th>count</th>\n",
       "      <td>2850.000000</td>\n",
       "      <td>2850.000000</td>\n",
       "      <td>2850.000000</td>\n",
       "      <td>2850.000000</td>\n",
       "      <td>2850.000000</td>\n",
       "      <td>2850.000000</td>\n",
       "      <td>2850.000000</td>\n",
       "      <td>2850.000000</td>\n",
       "    </tr>\n",
       "    <tr>\n",
       "      <th>mean</th>\n",
       "      <td>100.793684</td>\n",
       "      <td>0.862305</td>\n",
       "      <td>1.449825</td>\n",
       "      <td>175.175903</td>\n",
       "      <td>100.283158</td>\n",
       "      <td>55.816246</td>\n",
       "      <td>9.953125</td>\n",
       "      <td>10.164062</td>\n",
       "    </tr>\n",
       "    <tr>\n",
       "      <th>std</th>\n",
       "      <td>39.882350</td>\n",
       "      <td>1.286133</td>\n",
       "      <td>1.163883</td>\n",
       "      <td>50.181633</td>\n",
       "      <td>19.801157</td>\n",
       "      <td>16.439007</td>\n",
       "      <td>2.515625</td>\n",
       "      <td>2.785156</td>\n",
       "    </tr>\n",
       "    <tr>\n",
       "      <th>min</th>\n",
       "      <td>1.000000</td>\n",
       "      <td>0.000000</td>\n",
       "      <td>0.000000</td>\n",
       "      <td>0.000000</td>\n",
       "      <td>0.000000</td>\n",
       "      <td>15.700000</td>\n",
       "      <td>0.000000</td>\n",
       "      <td>0.000000</td>\n",
       "    </tr>\n",
       "    <tr>\n",
       "      <th>25%</th>\n",
       "      <td>73.000000</td>\n",
       "      <td>0.000000</td>\n",
       "      <td>1.000000</td>\n",
       "      <td>142.825001</td>\n",
       "      <td>87.000000</td>\n",
       "      <td>45.000000</td>\n",
       "      <td>8.226562</td>\n",
       "      <td>8.398438</td>\n",
       "    </tr>\n",
       "    <tr>\n",
       "      <th>50%</th>\n",
       "      <td>100.000000</td>\n",
       "      <td>0.000000</td>\n",
       "      <td>1.000000</td>\n",
       "      <td>177.199997</td>\n",
       "      <td>100.000000</td>\n",
       "      <td>53.000000</td>\n",
       "      <td>9.976562</td>\n",
       "      <td>10.203125</td>\n",
       "    </tr>\n",
       "    <tr>\n",
       "      <th>75%</th>\n",
       "      <td>127.000000</td>\n",
       "      <td>2.000000</td>\n",
       "      <td>2.000000</td>\n",
       "      <td>210.300003</td>\n",
       "      <td>114.000000</td>\n",
       "      <td>64.674997</td>\n",
       "      <td>11.656250</td>\n",
       "      <td>12.000000</td>\n",
       "    </tr>\n",
       "    <tr>\n",
       "      <th>max</th>\n",
       "      <td>243.000000</td>\n",
       "      <td>4.750000</td>\n",
       "      <td>8.000000</td>\n",
       "      <td>315.600006</td>\n",
       "      <td>163.000000</td>\n",
       "      <td>111.300003</td>\n",
       "      <td>18.093750</td>\n",
       "      <td>18.906250</td>\n",
       "    </tr>\n",
       "  </tbody>\n",
       "</table>\n",
       "</div>"
      ],
      "text/plain": [
       "       MemberWeeks   DataAmount   Callcenter      CalMins    CalCounts  \\\n",
       "count  2850.000000  2850.000000  2850.000000  2850.000000  2850.000000   \n",
       "mean    100.793684     0.862305     1.449825   175.175903   100.283158   \n",
       "std      39.882350     1.286133     1.163883    50.181633    19.801157   \n",
       "min       1.000000     0.000000     0.000000     0.000000     0.000000   \n",
       "25%      73.000000     0.000000     1.000000   142.825001    87.000000   \n",
       "50%     100.000000     0.000000     1.000000   177.199997   100.000000   \n",
       "75%     127.000000     2.000000     2.000000   210.300003   114.000000   \n",
       "max     243.000000     4.750000     8.000000   315.600006   163.000000   \n",
       "\n",
       "        MonthlyFee      OverFee   RoamingMin  \n",
       "count  2850.000000  2850.000000  2850.000000  \n",
       "mean     55.816246     9.953125    10.164062  \n",
       "std      16.439007     2.515625     2.785156  \n",
       "min      15.700000     0.000000     0.000000  \n",
       "25%      45.000000     8.226562     8.398438  \n",
       "50%      53.000000     9.976562    10.203125  \n",
       "75%      64.674997    11.656250    12.000000  \n",
       "max     111.300003    18.093750    18.906250  "
      ]
     },
     "execution_count": 12,
     "metadata": {},
     "output_type": "execute_result"
    }
   ],
   "source": [
    "Current_Member.describe()"
   ]
  },
  {
   "cell_type": "code",
   "execution_count": 13,
   "metadata": {},
   "outputs": [
    {
     "name": "stdout",
     "output_type": "stream",
     "text": [
      "159076.3011\n"
     ]
    }
   ],
   "source": [
    "print(2850*55.816246)"
   ]
  },
  {
   "cell_type": "markdown",
   "metadata": {},
   "source": [
    "# 본격 데이터 분석"
   ]
  },
  {
   "cell_type": "code",
   "execution_count": 14,
   "metadata": {},
   "outputs": [
    {
     "data": {
      "text/html": [
       "<style  type=\"text/css\" >\n",
       "#T_9aaaaf06_cea2_11eb_90e0_94085395cab0row0_col0,#T_9aaaaf06_cea2_11eb_90e0_94085395cab0row1_col0{\n",
       "            background-color:  yellow;\n",
       "        }</style><table id=\"T_9aaaaf06_cea2_11eb_90e0_94085395cab0\" ><thead>    <tr>        <th class=\"blank level0\" ></th>        <th class=\"col_heading level0 col0\" colspan=2>MonthlyFee</th>    </tr>    <tr>        <th class=\"blank level1\" ></th>        <th class=\"col_heading level1 col0\" >sum</th>        <th class=\"col_heading level1 col1\" >mean</th>    </tr>    <tr>        <th class=\"index_name level0\" >Leave</th>        <th class=\"blank\" ></th>        <th class=\"blank\" ></th>    </tr></thead><tbody>\n",
       "                <tr>\n",
       "                        <th id=\"T_9aaaaf06_cea2_11eb_90e0_94085395cab0level0_row0\" class=\"row_heading level0 row0\" >0</th>\n",
       "                        <td id=\"T_9aaaaf06_cea2_11eb_90e0_94085395cab0row0_col0\" class=\"data row0 col0\" >159076.296875</td>\n",
       "                        <td id=\"T_9aaaaf06_cea2_11eb_90e0_94085395cab0row0_col1\" class=\"data row0 col1\" >55.816246</td>\n",
       "            </tr>\n",
       "            <tr>\n",
       "                        <th id=\"T_9aaaaf06_cea2_11eb_90e0_94085395cab0level0_row1\" class=\"row_heading level0 row1\" >1</th>\n",
       "                        <td id=\"T_9aaaaf06_cea2_11eb_90e0_94085395cab0row1_col0\" class=\"data row1 col0\" >28588.800781</td>\n",
       "                        <td id=\"T_9aaaaf06_cea2_11eb_90e0_94085395cab0row1_col1\" class=\"data row1 col1\" >59.190063</td>\n",
       "            </tr>\n",
       "    </tbody></table>"
      ],
      "text/plain": [
       "<pandas.io.formats.style.Styler at 0x129587a7f70>"
      ]
     },
     "execution_count": 14,
     "metadata": {},
     "output_type": "execute_result"
    }
   ],
   "source": [
    "(\n",
    "    telco\n",
    "    .groupby(['Leave'])\n",
    "    [['MonthlyFee']]\n",
    "    .agg(['sum','mean'])\n",
    "    .style.highlight_max(axis=1)\n",
    ")"
   ]
  },
  {
   "cell_type": "markdown",
   "metadata": {},
   "source": [
    "# 1. 중대한 매출을 제공하는 고객 데이터 분석\n",
    "## 매출의 상위 25% 고객 데이터 분석해서 못나가게 하는 가이드 제시!"
   ]
  },
  {
   "cell_type": "markdown",
   "metadata": {},
   "source": [
    "#### 월 요금제 납부 금액 상위 25%와 하위 25% 분리하여 분석해보겠습니다.\n",
    "**가입을 해지하지 않은 현재 고객을 기준**으로 매출 분석을 합니다.  \n",
    "월 요금제를 많이 낸다고 해서 rich이거나 적게내서 poor은 아니지만 변수명은 해당이름으로 사용하겠습니다."
   ]
  },
  {
   "cell_type": "markdown",
   "metadata": {},
   "source": [
    "월 요금 하위 25%는 45달러 미만의 요금을 내며 상위 25%는 66달러 이상의 요금을 내고 있습니다."
   ]
  },
  {
   "cell_type": "code",
   "execution_count": 15,
   "metadata": {},
   "outputs": [
    {
     "data": {
      "text/plain": [
       "count    3333.000000\n",
       "mean       56.305111\n",
       "std        16.426031\n",
       "min        14.000000\n",
       "25%        45.000000\n",
       "50%        53.500000\n",
       "75%        66.199997\n",
       "max       111.300003\n",
       "Name: MonthlyFee, dtype: float64"
      ]
     },
     "execution_count": 15,
     "metadata": {},
     "output_type": "execute_result"
    }
   ],
   "source": [
    "telco['MonthlyFee'].describe()"
   ]
  },
  {
   "cell_type": "markdown",
   "metadata": {},
   "source": [
    "월 요금제 전체 요금은 159,076달러입니다."
   ]
  },
  {
   "cell_type": "code",
   "execution_count": 16,
   "metadata": {},
   "outputs": [
    {
     "name": "stdout",
     "output_type": "stream",
     "text": [
      "159076.3011\n"
     ]
    }
   ],
   "source": [
    "print(2850*55.816246)"
   ]
  },
  {
   "cell_type": "markdown",
   "metadata": {},
   "source": [
    "월 요금제를 많이 낸다고 해서 rich이거나 적게내서 poor은 아니지만 변수명은 해당이름으로 사용하겠습니다."
   ]
  },
  {
   "cell_type": "code",
   "execution_count": 17,
   "metadata": {},
   "outputs": [],
   "source": [
    "Rich_Customer=telco[(telco.MonthlyFee>=64.0)&(telco.Leave==0)]\n",
    "Poor_Customer=telco[(telco.MonthlyFee<=45.0)&(telco.Leave==0)]"
   ]
  },
  {
   "cell_type": "markdown",
   "metadata": {},
   "source": [
    "Rich Customer은 834명이 있습니다."
   ]
  },
  {
   "cell_type": "markdown",
   "metadata": {},
   "source": [
    "상위 25%의 고객은 평균 101.47달러의 요금을 매달 내고있으며 이들이 기여하는 전체 월 요금은 58,378 달러입니다."
   ]
  },
  {
   "cell_type": "code",
   "execution_count": 18,
   "metadata": {},
   "outputs": [
    {
     "data": {
      "text/html": [
       "<div>\n",
       "<style scoped>\n",
       "    .dataframe tbody tr th:only-of-type {\n",
       "        vertical-align: middle;\n",
       "    }\n",
       "\n",
       "    .dataframe tbody tr th {\n",
       "        vertical-align: top;\n",
       "    }\n",
       "\n",
       "    .dataframe thead th {\n",
       "        text-align: right;\n",
       "    }\n",
       "</style>\n",
       "<table border=\"1\" class=\"dataframe\">\n",
       "  <thead>\n",
       "    <tr style=\"text-align: right;\">\n",
       "      <th></th>\n",
       "      <th>MemberWeeks</th>\n",
       "      <th>DataAmount</th>\n",
       "      <th>Callcenter</th>\n",
       "      <th>CalMins</th>\n",
       "      <th>CalCounts</th>\n",
       "      <th>MonthlyFee</th>\n",
       "      <th>OverFee</th>\n",
       "      <th>RoamingMin</th>\n",
       "    </tr>\n",
       "  </thead>\n",
       "  <tbody>\n",
       "    <tr>\n",
       "      <th>count</th>\n",
       "      <td>740.000000</td>\n",
       "      <td>740.000000</td>\n",
       "      <td>740.000000</td>\n",
       "      <td>740.000000</td>\n",
       "      <td>740.000000</td>\n",
       "      <td>740.000000</td>\n",
       "      <td>740.000000</td>\n",
       "      <td>740.000000</td>\n",
       "    </tr>\n",
       "    <tr>\n",
       "      <th>mean</th>\n",
       "      <td>101.472973</td>\n",
       "      <td>2.753906</td>\n",
       "      <td>1.459459</td>\n",
       "      <td>194.636185</td>\n",
       "      <td>99.817568</td>\n",
       "      <td>78.889214</td>\n",
       "      <td>10.453125</td>\n",
       "      <td>10.578125</td>\n",
       "    </tr>\n",
       "    <tr>\n",
       "      <th>std</th>\n",
       "      <td>39.247876</td>\n",
       "      <td>0.855469</td>\n",
       "      <td>1.230963</td>\n",
       "      <td>47.952339</td>\n",
       "      <td>19.859124</td>\n",
       "      <td>10.016573</td>\n",
       "      <td>2.455078</td>\n",
       "      <td>2.500000</td>\n",
       "    </tr>\n",
       "    <tr>\n",
       "      <th>min</th>\n",
       "      <td>1.000000</td>\n",
       "      <td>0.000000</td>\n",
       "      <td>0.000000</td>\n",
       "      <td>58.900002</td>\n",
       "      <td>35.000000</td>\n",
       "      <td>64.000000</td>\n",
       "      <td>3.259766</td>\n",
       "      <td>0.000000</td>\n",
       "    </tr>\n",
       "    <tr>\n",
       "      <th>25%</th>\n",
       "      <td>74.750000</td>\n",
       "      <td>2.320312</td>\n",
       "      <td>1.000000</td>\n",
       "      <td>160.100006</td>\n",
       "      <td>87.000000</td>\n",
       "      <td>70.300003</td>\n",
       "      <td>8.789062</td>\n",
       "      <td>8.898438</td>\n",
       "    </tr>\n",
       "    <tr>\n",
       "      <th>50%</th>\n",
       "      <td>101.000000</td>\n",
       "      <td>2.839844</td>\n",
       "      <td>1.000000</td>\n",
       "      <td>194.349998</td>\n",
       "      <td>100.000000</td>\n",
       "      <td>78.199997</td>\n",
       "      <td>10.523438</td>\n",
       "      <td>10.601562</td>\n",
       "    </tr>\n",
       "    <tr>\n",
       "      <th>75%</th>\n",
       "      <td>127.000000</td>\n",
       "      <td>3.289062</td>\n",
       "      <td>2.000000</td>\n",
       "      <td>225.500000</td>\n",
       "      <td>113.000000</td>\n",
       "      <td>85.624998</td>\n",
       "      <td>12.072266</td>\n",
       "      <td>12.203125</td>\n",
       "    </tr>\n",
       "    <tr>\n",
       "      <th>max</th>\n",
       "      <td>210.000000</td>\n",
       "      <td>4.750000</td>\n",
       "      <td>8.000000</td>\n",
       "      <td>315.600006</td>\n",
       "      <td>158.000000</td>\n",
       "      <td>111.300003</td>\n",
       "      <td>18.093750</td>\n",
       "      <td>17.593750</td>\n",
       "    </tr>\n",
       "  </tbody>\n",
       "</table>\n",
       "</div>"
      ],
      "text/plain": [
       "       MemberWeeks  DataAmount  Callcenter     CalMins   CalCounts  \\\n",
       "count   740.000000  740.000000  740.000000  740.000000  740.000000   \n",
       "mean    101.472973    2.753906    1.459459  194.636185   99.817568   \n",
       "std      39.247876    0.855469    1.230963   47.952339   19.859124   \n",
       "min       1.000000    0.000000    0.000000   58.900002   35.000000   \n",
       "25%      74.750000    2.320312    1.000000  160.100006   87.000000   \n",
       "50%     101.000000    2.839844    1.000000  194.349998  100.000000   \n",
       "75%     127.000000    3.289062    2.000000  225.500000  113.000000   \n",
       "max     210.000000    4.750000    8.000000  315.600006  158.000000   \n",
       "\n",
       "       MonthlyFee     OverFee  RoamingMin  \n",
       "count  740.000000  740.000000  740.000000  \n",
       "mean    78.889214   10.453125   10.578125  \n",
       "std     10.016573    2.455078    2.500000  \n",
       "min     64.000000    3.259766    0.000000  \n",
       "25%     70.300003    8.789062    8.898438  \n",
       "50%     78.199997   10.523438   10.601562  \n",
       "75%     85.624998   12.072266   12.203125  \n",
       "max    111.300003   18.093750   17.593750  "
      ]
     },
     "execution_count": 18,
     "metadata": {},
     "output_type": "execute_result"
    }
   ],
   "source": [
    "Rich_Customer.describe()"
   ]
  },
  {
   "cell_type": "code",
   "execution_count": 19,
   "metadata": {},
   "outputs": [
    {
     "name": "stdout",
     "output_type": "stream",
     "text": [
      "58378.018359999995\n"
     ]
    }
   ],
   "source": [
    "print(740*78.889214)"
   ]
  },
  {
   "cell_type": "markdown",
   "metadata": {},
   "source": [
    "하위 25%의 고객은 평균 100.98달러의 요금을 매달 내고 있으며 이들의 전체 월 요금은 29447.99704달러입니다. "
   ]
  },
  {
   "cell_type": "code",
   "execution_count": 20,
   "metadata": {},
   "outputs": [
    {
     "data": {
      "text/html": [
       "<div>\n",
       "<style scoped>\n",
       "    .dataframe tbody tr th:only-of-type {\n",
       "        vertical-align: middle;\n",
       "    }\n",
       "\n",
       "    .dataframe tbody tr th {\n",
       "        vertical-align: top;\n",
       "    }\n",
       "\n",
       "    .dataframe thead th {\n",
       "        text-align: right;\n",
       "    }\n",
       "</style>\n",
       "<table border=\"1\" class=\"dataframe\">\n",
       "  <thead>\n",
       "    <tr style=\"text-align: right;\">\n",
       "      <th></th>\n",
       "      <th>MemberWeeks</th>\n",
       "      <th>DataAmount</th>\n",
       "      <th>Callcenter</th>\n",
       "      <th>CalMins</th>\n",
       "      <th>CalCounts</th>\n",
       "      <th>MonthlyFee</th>\n",
       "      <th>OverFee</th>\n",
       "      <th>RoamingMin</th>\n",
       "    </tr>\n",
       "  </thead>\n",
       "  <tbody>\n",
       "    <tr>\n",
       "      <th>count</th>\n",
       "      <td>770.000000</td>\n",
       "      <td>770.000000</td>\n",
       "      <td>770.000000</td>\n",
       "      <td>770.000000</td>\n",
       "      <td>770.000000</td>\n",
       "      <td>770.000000</td>\n",
       "      <td>770.000000</td>\n",
       "      <td>770.000000</td>\n",
       "    </tr>\n",
       "    <tr>\n",
       "      <th>mean</th>\n",
       "      <td>100.989610</td>\n",
       "      <td>0.074524</td>\n",
       "      <td>1.340260</td>\n",
       "      <td>128.825790</td>\n",
       "      <td>101.068831</td>\n",
       "      <td>38.244152</td>\n",
       "      <td>8.890625</td>\n",
       "      <td>10.109375</td>\n",
       "    </tr>\n",
       "    <tr>\n",
       "      <th>std</th>\n",
       "      <td>40.317626</td>\n",
       "      <td>0.207031</td>\n",
       "      <td>0.998602</td>\n",
       "      <td>37.048634</td>\n",
       "      <td>20.153873</td>\n",
       "      <td>5.571832</td>\n",
       "      <td>2.445312</td>\n",
       "      <td>2.929688</td>\n",
       "    </tr>\n",
       "    <tr>\n",
       "      <th>min</th>\n",
       "      <td>1.000000</td>\n",
       "      <td>0.000000</td>\n",
       "      <td>0.000000</td>\n",
       "      <td>0.000000</td>\n",
       "      <td>0.000000</td>\n",
       "      <td>15.700000</td>\n",
       "      <td>0.000000</td>\n",
       "      <td>0.000000</td>\n",
       "    </tr>\n",
       "    <tr>\n",
       "      <th>25%</th>\n",
       "      <td>74.000000</td>\n",
       "      <td>0.000000</td>\n",
       "      <td>1.000000</td>\n",
       "      <td>106.099998</td>\n",
       "      <td>88.000000</td>\n",
       "      <td>35.000000</td>\n",
       "      <td>7.218750</td>\n",
       "      <td>8.398438</td>\n",
       "    </tr>\n",
       "    <tr>\n",
       "      <th>50%</th>\n",
       "      <td>99.500000</td>\n",
       "      <td>0.000000</td>\n",
       "      <td>1.000000</td>\n",
       "      <td>133.949997</td>\n",
       "      <td>100.000000</td>\n",
       "      <td>39.650000</td>\n",
       "      <td>8.914062</td>\n",
       "      <td>10.203125</td>\n",
       "    </tr>\n",
       "    <tr>\n",
       "      <th>75%</th>\n",
       "      <td>125.750000</td>\n",
       "      <td>0.000000</td>\n",
       "      <td>2.000000</td>\n",
       "      <td>154.374996</td>\n",
       "      <td>115.000000</td>\n",
       "      <td>42.599998</td>\n",
       "      <td>10.453125</td>\n",
       "      <td>12.000000</td>\n",
       "    </tr>\n",
       "    <tr>\n",
       "      <th>max</th>\n",
       "      <td>243.000000</td>\n",
       "      <td>2.320312</td>\n",
       "      <td>5.000000</td>\n",
       "      <td>227.399994</td>\n",
       "      <td>158.000000</td>\n",
       "      <td>45.000000</td>\n",
       "      <td>16.859375</td>\n",
       "      <td>18.906250</td>\n",
       "    </tr>\n",
       "  </tbody>\n",
       "</table>\n",
       "</div>"
      ],
      "text/plain": [
       "       MemberWeeks  DataAmount  Callcenter     CalMins   CalCounts  \\\n",
       "count   770.000000  770.000000  770.000000  770.000000  770.000000   \n",
       "mean    100.989610    0.074524    1.340260  128.825790  101.068831   \n",
       "std      40.317626    0.207031    0.998602   37.048634   20.153873   \n",
       "min       1.000000    0.000000    0.000000    0.000000    0.000000   \n",
       "25%      74.000000    0.000000    1.000000  106.099998   88.000000   \n",
       "50%      99.500000    0.000000    1.000000  133.949997  100.000000   \n",
       "75%     125.750000    0.000000    2.000000  154.374996  115.000000   \n",
       "max     243.000000    2.320312    5.000000  227.399994  158.000000   \n",
       "\n",
       "       MonthlyFee     OverFee  RoamingMin  \n",
       "count  770.000000  770.000000  770.000000  \n",
       "mean    38.244152    8.890625   10.109375  \n",
       "std      5.571832    2.445312    2.929688  \n",
       "min     15.700000    0.000000    0.000000  \n",
       "25%     35.000000    7.218750    8.398438  \n",
       "50%     39.650000    8.914062   10.203125  \n",
       "75%     42.599998   10.453125   12.000000  \n",
       "max     45.000000   16.859375   18.906250  "
      ]
     },
     "execution_count": 20,
     "metadata": {},
     "output_type": "execute_result"
    }
   ],
   "source": [
    "Poor_Customer.describe()"
   ]
  },
  {
   "cell_type": "code",
   "execution_count": 21,
   "metadata": {},
   "outputs": [
    {
     "name": "stdout",
     "output_type": "stream",
     "text": [
      "29447.99704\n"
     ]
    }
   ],
   "source": [
    "print(770*38.244152)"
   ]
  },
  {
   "cell_type": "code",
   "execution_count": 22,
   "metadata": {},
   "outputs": [
    {
     "name": "stdout",
     "output_type": "stream",
     "text": [
      "71250.30110000001\n"
     ]
    }
   ],
   "source": [
    "print(159076.3011-58378-29448)"
   ]
  },
  {
   "cell_type": "markdown",
   "metadata": {},
   "source": [
    "### 상위 25%의 고객이 36.7%의 매출을 ,\n",
    "### 하위 25%의 고객이 18.5%의 매출에 기여하고 있습니다."
   ]
  },
  {
   "cell_type": "code",
   "execution_count": 23,
   "metadata": {},
   "outputs": [
    {
     "data": {
      "image/png": "[encoded data removed]",
      "text/plain": [
       "<Figure size 432x288 with 1 Axes>"
      ]
     },
     "metadata": {},
     "output_type": "display_data"
    }
   ],
   "source": [
    "ratio = [71250.3,58378,29448]\n",
    "labels = ['Other', 'Rich_Customer', 'Poor_Customer']\n",
    "explode = [0.05, 0.05, 0.05]\n",
    "colors = ['#ff9999', '#ffc000', '#8fd9b6']\n",
    "\n",
    "plt.pie(ratio, labels=labels, autopct='%.1f%%', startangle=260, counterclock=False, explode=explode, shadow=True, colors=colors)\n",
    "plt.show()"
   ]
  },
  {
   "cell_type": "markdown",
   "metadata": {},
   "source": [
    "\n",
    "## Rich_Customer 각각의 데이터들을 분석해 보겠습니다."
   ]
  },
  {
   "cell_type": "markdown",
   "metadata": {},
   "source": [
    "**Rich_Customer** 는 대부분 가입기간이 100주정도 됨을 알 수 있습니다."
   ]
  },
  {
   "cell_type": "code",
   "execution_count": 24,
   "metadata": {},
   "outputs": [
    {
     "data": {
      "text/plain": [
       "<AxesSubplot:xlabel='MemberWeeks', ylabel='Density'>"
      ]
     },
     "execution_count": 24,
     "metadata": {},
     "output_type": "execute_result"
    },
    {
     "data": {
      "image/png": "[encoded data removed]",
      "text/plain": [
       "<Figure size 432x288 with 1 Axes>"
      ]
     },
     "metadata": {
      "needs_background": "light"
     },
     "output_type": "display_data"
    }
   ],
   "source": [
    "sns.kdeplot(Rich_Customer['MemberWeeks'])"
   ]
  },
  {
   "cell_type": "markdown",
   "metadata": {},
   "source": [
    "1. 그래프를 확인하면 좌측 하단인 0 부근에도 어느정도 볼록히 올라와있습니다.  \n",
    "즉, 데이터를 사용하지 않는 Rich Customer은 75명이 있습니다. 이분들은 통화를 많이 하나 봅니다. "
   ]
  },
  {
   "cell_type": "code",
   "execution_count": 25,
   "metadata": {},
   "outputs": [
    {
     "data": {
      "text/plain": [
       "<AxesSubplot:xlabel='DataAmount', ylabel='Density'>"
      ]
     },
     "execution_count": 25,
     "metadata": {},
     "output_type": "execute_result"
    },
    {
     "data": {
      "image/png": "[encoded data removed]",
      "text/plain": [
       "<Figure size 432x288 with 1 Axes>"
      ]
     },
     "metadata": {
      "needs_background": "light"
     },
     "output_type": "display_data"
    }
   ],
   "source": [
    "sns.kdeplot(Rich_Customer['DataAmount'])"
   ]
  },
  {
   "cell_type": "markdown",
   "metadata": {},
   "source": [
    "2. 데이터를 사용하지않은 Rich Customer의 통화량을 분석해보겠습니다."
   ]
  },
  {
   "cell_type": "code",
   "execution_count": 26,
   "metadata": {},
   "outputs": [],
   "source": [
    "(Rich_Customer.DataAmount==0.0).value_counts()\n",
    "NonData_Rich_Customer=Rich_Customer[(Rich_Customer.DataAmount==0.0)]"
   ]
  },
  {
   "cell_type": "markdown",
   "metadata": {},
   "source": [
    "2-1. 데이터 사용하지 않는 Rich Customer의 **평균 통화량은 290분**입니다. \n",
    "**전체 사용자의 평균은 179분**에 비하면 **약 110분**을 한달에 더 통화를 하고 있습니다. "
   ]
  },
  {
   "cell_type": "code",
   "execution_count": 27,
   "metadata": {},
   "outputs": [
    {
     "data": {
      "text/plain": [
       "count    3333.000000\n",
       "mean      179.775131\n",
       "std        54.467442\n",
       "min         0.000000\n",
       "25%       143.699997\n",
       "50%       179.399994\n",
       "75%       216.399994\n",
       "max       350.799988\n",
       "Name: CalMins, dtype: float64"
      ]
     },
     "execution_count": 27,
     "metadata": {},
     "output_type": "execute_result"
    }
   ],
   "source": [
    "telco['CalMins'].describe()"
   ]
  },
  {
   "cell_type": "code",
   "execution_count": 28,
   "metadata": {},
   "outputs": [
    {
     "data": {
      "text/plain": [
       "count     11.000000\n",
       "mean     255.818176\n",
       "std       19.816294\n",
       "min      219.600006\n",
       "25%      246.099998\n",
       "50%      259.899994\n",
       "75%      262.599991\n",
       "max      293.000000\n",
       "Name: CalMins, dtype: float64"
      ]
     },
     "execution_count": 28,
     "metadata": {},
     "output_type": "execute_result"
    }
   ],
   "source": [
    "NonData_Rich_Customer['CalMins'].describe()"
   ]
  },
  {
   "cell_type": "markdown",
   "metadata": {},
   "source": [
    "3. 부자 고객의 월평균전화량(분) \n",
    "- 월 150~ 250분에 많이 몰려있음을 확인할 수 있습니다."
   ]
  },
  {
   "cell_type": "code",
   "execution_count": 29,
   "metadata": {},
   "outputs": [
    {
     "data": {
      "text/plain": [
       "<AxesSubplot:xlabel='CalMins', ylabel='Density'>"
      ]
     },
     "execution_count": 29,
     "metadata": {},
     "output_type": "execute_result"
    },
    {
     "data": {
      "image/png": "[encoded data removed]",
      "text/plain": [
       "<Figure size 432x288 with 1 Axes>"
      ]
     },
     "metadata": {
      "needs_background": "light"
     },
     "output_type": "display_data"
    }
   ],
   "source": [
    "sns.kdeplot(Rich_Customer['CalMins'])"
   ]
  },
  {
   "cell_type": "markdown",
   "metadata": {},
   "source": [
    "4. 부자 고객의 월평균전화 횟수\n",
    "- 80~ 120회에 몰려있음을 확인할 수 있습니다."
   ]
  },
  {
   "cell_type": "code",
   "execution_count": 30,
   "metadata": {},
   "outputs": [
    {
     "data": {
      "text/plain": [
       "<AxesSubplot:xlabel='CalCounts', ylabel='Density'>"
      ]
     },
     "execution_count": 30,
     "metadata": {},
     "output_type": "execute_result"
    },
    {
     "data": {
      "image/png": "[encoded data removed]",
      "text/plain": [
       "<Figure size 432x288 with 1 Axes>"
      ]
     },
     "metadata": {
      "needs_background": "light"
     },
     "output_type": "display_data"
    }
   ],
   "source": [
    "sns.kdeplot(Rich_Customer['CalCounts'])"
   ]
  },
  {
   "cell_type": "markdown",
   "metadata": {},
   "source": [
    "그럼 이제 합리적인 의심이 안들 수 없습니다."
   ]
  },
  {
   "cell_type": "markdown",
   "metadata": {},
   "source": [
    "# Q. 부자 고객은 돈이 많으니 콜센터에 전화를 잘 안할까?\n",
    "A. 확인해보니 평균 1.45회, 1.34회 정도로 **오히려 Rich_customer가 전화를 더 했습니다.**"
   ]
  },
  {
   "cell_type": "code",
   "execution_count": 31,
   "metadata": {},
   "outputs": [
    {
     "data": {
      "text/plain": [
       "count    740.000000\n",
       "mean       1.459459\n",
       "std        1.230963\n",
       "min        0.000000\n",
       "25%        1.000000\n",
       "50%        1.000000\n",
       "75%        2.000000\n",
       "max        8.000000\n",
       "Name: Callcenter, dtype: float64"
      ]
     },
     "execution_count": 31,
     "metadata": {},
     "output_type": "execute_result"
    }
   ],
   "source": [
    "Rich_Customer['Callcenter'].describe()"
   ]
  },
  {
   "cell_type": "code",
   "execution_count": 32,
   "metadata": {},
   "outputs": [
    {
     "data": {
      "text/plain": [
       "count    770.000000\n",
       "mean       1.340260\n",
       "std        0.998602\n",
       "min        0.000000\n",
       "25%        1.000000\n",
       "50%        1.000000\n",
       "75%        2.000000\n",
       "max        5.000000\n",
       "Name: Callcenter, dtype: float64"
      ]
     },
     "execution_count": 32,
     "metadata": {},
     "output_type": "execute_result"
    }
   ],
   "source": [
    "Poor_Customer['Callcenter'].describe()"
   ]
  },
  {
   "cell_type": "code",
   "execution_count": 33,
   "metadata": {},
   "outputs": [],
   "source": [
    "import matplotlib.font_manager as fm\n",
    "font_path = r'C:\\Windows\\Fonts\\batang.ttc'\n",
    "fontprop = fm.FontProperties(fname=font_path, size=18)"
   ]
  },
  {
   "cell_type": "markdown",
   "metadata": {},
   "source": [
    "# 2. 블랙리스트 설정하기\n",
    "고객한테는 죄송한 이야기 이지만 회사의 경영상 어쩔 수 없이 회사 운영에 피해를 주는 고객를 골라내야 합니다.  \n",
    "매달 3회이상 콜센터에 전화하는 Poor Customer를 블랙리스트로 담아보겠습니다."
   ]
  },
  {
   "cell_type": "markdown",
   "metadata": {},
   "source": [
    "월 1회정도 콜센터에 전화하는 빈도수가 가장 많았습니다. 하지만 3회이상 통화하는것은 고객센터 업무에 과부하를 줄 수 있을 것 같습니다."
   ]
  },
  {
   "cell_type": "code",
   "execution_count": 34,
   "metadata": {},
   "outputs": [
    {
     "name": "stderr",
     "output_type": "stream",
     "text": [
      "C:\\Users\\rkdwn\\anaconda3\\lib\\site-packages\\seaborn\\_decorators.py:36: FutureWarning: Pass the following variable as a keyword arg: x. From version 0.12, the only valid positional argument will be `data`, and passing other arguments without an explicit keyword will result in an error or misinterpretation.\n",
      "  warnings.warn(\n"
     ]
    },
    {
     "data": {
      "text/plain": [
       "Text(0.5, 1.0, 'Poor Customer의 콜센터 전화 횟수')"
      ]
     },
     "execution_count": 34,
     "metadata": {},
     "output_type": "execute_result"
    },
    {
     "data": {
      "image/png": "[encoded data removed]",
      "text/plain": [
       "<Figure size 2160x720 with 1 Axes>"
      ]
     },
     "metadata": {
      "needs_background": "light"
     },
     "output_type": "display_data"
    }
   ],
   "source": [
    "plt.rcParams['figure.figsize'] = (30, 10)\n",
    "sns.countplot(Poor_Customer['Callcenter'], palette='YlGnBu')\n",
    "ax = plt.gca()\n",
    "ax.set_title(\"Poor Customer의 콜센터 전화 횟수\",fontproperties=fontprop)"
   ]
  },
  {
   "cell_type": "code",
   "execution_count": 35,
   "metadata": {},
   "outputs": [],
   "source": [
    "#Rich_Customer=telco[(telco.MonthlyFee>=66.2)]\n",
    "Black_List=Poor_Customer[(Poor_Customer.Callcenter==3) | (Poor_Customer.Callcenter==4) | (Poor_Customer.Callcenter==5)|(Poor_Customer.Callcenter==6)|(Poor_Customer.Callcenter==7)|(Poor_Customer.Callcenter==8)|(Poor_Customer.Callcenter==9)]"
   ]
  },
  {
   "cell_type": "markdown",
   "metadata": {},
   "source": [
    "## 블랙 리스트의 전체 요금을 확인해 봅니다.\n",
    "블랙 리스트 : 월요금 하위 25%이면서 한달에 콜센터에 전화 3회 이상"
   ]
  },
  {
   "cell_type": "markdown",
   "metadata": {},
   "source": [
    "블랙리스트는 전체 202명이며 평균 38.2 달러를 납부하고 있습니다.  \n",
    "이들의 전체 요금은 7716.4 달러입니다."
   ]
  },
  {
   "cell_type": "code",
   "execution_count": 36,
   "metadata": {},
   "outputs": [
    {
     "data": {
      "text/plain": [
       "count    114.000000\n",
       "mean      38.224567\n",
       "std        5.637698\n",
       "min       20.000000\n",
       "25%       35.000000\n",
       "50%       39.850000\n",
       "75%       42.000000\n",
       "max       45.000000\n",
       "Name: MonthlyFee, dtype: float64"
      ]
     },
     "execution_count": 36,
     "metadata": {},
     "output_type": "execute_result"
    }
   ],
   "source": [
    "Black_List['MonthlyFee'].describe()"
   ]
  },
  {
   "cell_type": "code",
   "execution_count": 37,
   "metadata": {},
   "outputs": [
    {
     "name": "stdout",
     "output_type": "stream",
     "text": [
      "4354.8\n"
     ]
    }
   ],
   "source": [
    "print(114*38.2)"
   ]
  },
  {
   "cell_type": "markdown",
   "metadata": {},
   "source": [
    "블랙리스트의 매출은 전체의 2.7%정도이니 회사의 발전을 위하여 이정도는 감수해야겠습니다.  \n",
    "이들에게 혜택등을 제공하지 않으면서 다른 업체로 넘어가도록 방치할 수 있습니다."
   ]
  },
  {
   "cell_type": "code",
   "execution_count": 38,
   "metadata": {},
   "outputs": [
    {
     "data": {
      "image/png": "[encoded data removed]",
      "text/plain": [
       "<Figure size 2160x720 with 1 Axes>"
      ]
     },
     "metadata": {},
     "output_type": "display_data"
    }
   ],
   "source": [
    "#ratio = [187664-7716.4,7716.4]\n",
    "ratio=[159076.3011-4354.8,4354.8]\n",
    "labels = ['Total Sales ','Black List']\n",
    "explode = [0,0.10]\n",
    "\n",
    "plt.pie(ratio, labels=labels, autopct='%.1f%%', startangle=150, counterclock=False, explode=explode)\n",
    "plt.show()"
   ]
  },
  {
   "cell_type": "markdown",
   "metadata": {},
   "source": [
    "# 3. 데이터를 범주화하여 어느 컬럼이 월요금제와 가장 연관관계가 있는지 확인  \n",
    "관계가 적은것거나 없는것은 서비스 차원으로 제공  \n",
    "관계가 높은것은 금액을 올리거나 지속적인 홍보  "
   ]
  },
  {
   "cell_type": "markdown",
   "metadata": {},
   "source": [
    "# 3-1. 가입기간 범주화 \n",
    "가입한 기간, 즉, 1년단위로 나누어 가입기간에 따른 매출은 어떻게 기여하고 바뀌는지 보도록 하겠습니다."
   ]
  },
  {
   "cell_type": "code",
   "execution_count": 39,
   "metadata": {},
   "outputs": [
    {
     "data": {
      "text/plain": [
       "count    3333.000000\n",
       "mean      101.064806\n",
       "std        39.822106\n",
       "min         1.000000\n",
       "25%        74.000000\n",
       "50%       101.000000\n",
       "75%       127.000000\n",
       "max       243.000000\n",
       "Name: MemberWeeks, dtype: float64"
      ]
     },
     "execution_count": 39,
     "metadata": {},
     "output_type": "execute_result"
    }
   ],
   "source": [
    "telco.MemberWeeks.describe()"
   ]
  },
  {
   "cell_type": "code",
   "execution_count": 40,
   "metadata": {},
   "outputs": [],
   "source": [
    "telco[\"Member_Year\"]=0"
   ]
  },
  {
   "cell_type": "code",
   "execution_count": 41,
   "metadata": {},
   "outputs": [
    {
     "data": {
      "text/html": [
       "<div>\n",
       "<style scoped>\n",
       "    .dataframe tbody tr th:only-of-type {\n",
       "        vertical-align: middle;\n",
       "    }\n",
       "\n",
       "    .dataframe tbody tr th {\n",
       "        vertical-align: top;\n",
       "    }\n",
       "\n",
       "    .dataframe thead th {\n",
       "        text-align: right;\n",
       "    }\n",
       "</style>\n",
       "<table border=\"1\" class=\"dataframe\">\n",
       "  <thead>\n",
       "    <tr style=\"text-align: right;\">\n",
       "      <th></th>\n",
       "      <th>Leave</th>\n",
       "      <th>MemberWeeks</th>\n",
       "      <th>NewContract</th>\n",
       "      <th>IsData</th>\n",
       "      <th>DataAmount</th>\n",
       "      <th>Callcenter</th>\n",
       "      <th>CalMins</th>\n",
       "      <th>CalCounts</th>\n",
       "      <th>MonthlyFee</th>\n",
       "      <th>OverFee</th>\n",
       "      <th>RoamingMin</th>\n",
       "      <th>Member_Year</th>\n",
       "    </tr>\n",
       "  </thead>\n",
       "  <tbody>\n",
       "    <tr>\n",
       "      <th>0</th>\n",
       "      <td>0</td>\n",
       "      <td>128</td>\n",
       "      <td>1</td>\n",
       "      <td>1</td>\n",
       "      <td>2.699219</td>\n",
       "      <td>1</td>\n",
       "      <td>265.100006</td>\n",
       "      <td>110</td>\n",
       "      <td>89.0</td>\n",
       "      <td>9.867188</td>\n",
       "      <td>10.000000</td>\n",
       "      <td>0</td>\n",
       "    </tr>\n",
       "    <tr>\n",
       "      <th>1</th>\n",
       "      <td>0</td>\n",
       "      <td>107</td>\n",
       "      <td>1</td>\n",
       "      <td>1</td>\n",
       "      <td>3.699219</td>\n",
       "      <td>1</td>\n",
       "      <td>161.600006</td>\n",
       "      <td>123</td>\n",
       "      <td>82.0</td>\n",
       "      <td>9.781250</td>\n",
       "      <td>13.703125</td>\n",
       "      <td>0</td>\n",
       "    </tr>\n",
       "    <tr>\n",
       "      <th>2</th>\n",
       "      <td>0</td>\n",
       "      <td>137</td>\n",
       "      <td>1</td>\n",
       "      <td>0</td>\n",
       "      <td>0.000000</td>\n",
       "      <td>0</td>\n",
       "      <td>243.399994</td>\n",
       "      <td>114</td>\n",
       "      <td>52.0</td>\n",
       "      <td>6.058594</td>\n",
       "      <td>12.203125</td>\n",
       "      <td>0</td>\n",
       "    </tr>\n",
       "    <tr>\n",
       "      <th>3</th>\n",
       "      <td>0</td>\n",
       "      <td>84</td>\n",
       "      <td>0</td>\n",
       "      <td>0</td>\n",
       "      <td>0.000000</td>\n",
       "      <td>2</td>\n",
       "      <td>299.399994</td>\n",
       "      <td>71</td>\n",
       "      <td>57.0</td>\n",
       "      <td>3.099609</td>\n",
       "      <td>6.601562</td>\n",
       "      <td>0</td>\n",
       "    </tr>\n",
       "    <tr>\n",
       "      <th>4</th>\n",
       "      <td>0</td>\n",
       "      <td>75</td>\n",
       "      <td>0</td>\n",
       "      <td>0</td>\n",
       "      <td>0.000000</td>\n",
       "      <td>3</td>\n",
       "      <td>166.699997</td>\n",
       "      <td>113</td>\n",
       "      <td>41.0</td>\n",
       "      <td>7.421875</td>\n",
       "      <td>10.101562</td>\n",
       "      <td>0</td>\n",
       "    </tr>\n",
       "  </tbody>\n",
       "</table>\n",
       "</div>"
      ],
      "text/plain": [
       "  Leave  MemberWeeks NewContract IsData  DataAmount  Callcenter     CalMins  \\\n",
       "0     0          128           1      1    2.699219           1  265.100006   \n",
       "1     0          107           1      1    3.699219           1  161.600006   \n",
       "2     0          137           1      0    0.000000           0  243.399994   \n",
       "3     0           84           0      0    0.000000           2  299.399994   \n",
       "4     0           75           0      0    0.000000           3  166.699997   \n",
       "\n",
       "   CalCounts  MonthlyFee   OverFee  RoamingMin  Member_Year  \n",
       "0        110        89.0  9.867188   10.000000            0  \n",
       "1        123        82.0  9.781250   13.703125            0  \n",
       "2        114        52.0  6.058594   12.203125            0  \n",
       "3         71        57.0  3.099609    6.601562            0  \n",
       "4        113        41.0  7.421875   10.101562            0  "
      ]
     },
     "execution_count": 41,
     "metadata": {},
     "output_type": "execute_result"
    }
   ],
   "source": [
    "telco.head()"
   ]
  },
  {
   "cell_type": "code",
   "execution_count": 42,
   "metadata": {},
   "outputs": [],
   "source": [
    "def Member_Year(telco) :\n",
    "    \n",
    "    if telco[\"MemberWeeks\"] <= 52 :\n",
    "        return 1\n",
    "    elif (telco[\"MemberWeeks\"] > 52) & (telco[\"MemberWeeks\"] <= 104 ):\n",
    "        return 2\n",
    "    elif (telco[\"MemberWeeks\"] > 104) & (telco[\"MemberWeeks\"] <= 156) :\n",
    "        return 3\n",
    "    elif (telco[\"MemberWeeks\"] > 156) & (telco[\"MemberWeeks\"] <= 208) :\n",
    "        return 4\n",
    "    elif telco[\"MemberWeeks\"] > 208 :\n",
    "        return 5\n",
    "telco[\"Member_Year\"] = telco.apply(lambda telco:Member_Year(telco),\n",
    "                                      axis = 1)\n",
    "    "
   ]
  },
  {
   "cell_type": "markdown",
   "metadata": {},
   "source": [
    "### 2년차 고객이 가장 많이 분포되어 있는것을 알 수 있습니다.  \n",
    "따라서 2년차 고객에게 많은 서비스를 제공해 주어야 겠습니다. "
   ]
  },
  {
   "cell_type": "code",
   "execution_count": 43,
   "metadata": {},
   "outputs": [
    {
     "name": "stderr",
     "output_type": "stream",
     "text": [
      "C:\\Users\\rkdwn\\anaconda3\\lib\\site-packages\\seaborn\\_decorators.py:36: FutureWarning: Pass the following variable as a keyword arg: x. From version 0.12, the only valid positional argument will be `data`, and passing other arguments without an explicit keyword will result in an error or misinterpretation.\n",
      "  warnings.warn(\n"
     ]
    },
    {
     "data": {
      "text/plain": [
       "Text(0.5, 1.0, '가입기간 별 고객 수')"
      ]
     },
     "execution_count": 43,
     "metadata": {},
     "output_type": "execute_result"
    },
    {
     "data": {
      "image/png": "[encoded data removed]",
      "text/plain": [
       "<Figure size 2160x720 with 1 Axes>"
      ]
     },
     "metadata": {
      "needs_background": "light"
     },
     "output_type": "display_data"
    }
   ],
   "source": [
    "plt.rcParams['figure.figsize'] = (30, 10)\n",
    "sns.countplot(telco.Member_Year, palette='YlGnBu')\n",
    "#plt.xticks(rotation=45)\n",
    "ax = plt.gca()\n",
    "ax.set_title(\"가입기간 별 고객 수\",fontproperties=fontprop)"
   ]
  },
  {
   "cell_type": "markdown",
   "metadata": {},
   "source": [
    "## 연도별 분포도를 요금제 분포도를 조사해 보았습니다.\n",
    "아래 그래프를 보니 모든 박스가 비슷한 위치에 비슷한 크기로 모여있습니다.  \n",
    "딱히 몇년차 가입자가 요금을 더 많이내고 그런건 아닙니다.    \n",
    "가입연도와 요금제는 관계가 적어보입니다."
   ]
  },
  {
   "cell_type": "code",
   "execution_count": 44,
   "metadata": {},
   "outputs": [
    {
     "ename": "NameError",
     "evalue": "name 'YearAndFee' is not defined",
     "output_type": "error",
     "traceback": [
      "\u001b[1;31m---------------------------------------------------------------------------\u001b[0m",
      "\u001b[1;31mNameError\u001b[0m                                 Traceback (most recent call last)",
      "\u001b[1;32m<ipython-input-44-221eaa07f64f>\u001b[0m in \u001b[0;36m<module>\u001b[1;34m\u001b[0m\n\u001b[1;32m----> 1\u001b[1;33m \u001b[0mg\u001b[0m\u001b[1;33m=\u001b[0m\u001b[0msns\u001b[0m\u001b[1;33m.\u001b[0m\u001b[0mcatplot\u001b[0m\u001b[1;33m(\u001b[0m\u001b[0mx\u001b[0m\u001b[1;33m=\u001b[0m\u001b[1;34m'Member_Year'\u001b[0m\u001b[1;33m,\u001b[0m\u001b[0my\u001b[0m\u001b[1;33m=\u001b[0m\u001b[1;34m'MonthlyFee'\u001b[0m\u001b[1;33m,\u001b[0m\u001b[0mdata\u001b[0m\u001b[1;33m=\u001b[0m\u001b[0mYearAndFee\u001b[0m\u001b[1;33m,\u001b[0m\u001b[0mkind\u001b[0m\u001b[1;33m=\u001b[0m\u001b[1;34m'box'\u001b[0m\u001b[1;33m)\u001b[0m\u001b[1;33m\u001b[0m\u001b[1;33m\u001b[0m\u001b[0m\n\u001b[0m\u001b[0;32m      2\u001b[0m \u001b[0msns\u001b[0m\u001b[1;33m.\u001b[0m\u001b[0mswarmplot\u001b[0m\u001b[1;33m(\u001b[0m\u001b[0mx\u001b[0m\u001b[1;33m=\u001b[0m\u001b[1;34m'Member_Year'\u001b[0m\u001b[1;33m,\u001b[0m\u001b[0my\u001b[0m\u001b[1;33m=\u001b[0m\u001b[1;34m'MonthlyFee'\u001b[0m\u001b[1;33m,\u001b[0m\u001b[0mdata\u001b[0m\u001b[1;33m=\u001b[0m\u001b[0mYearAndFee\u001b[0m\u001b[1;33m,\u001b[0m\u001b[0mcolor\u001b[0m\u001b[1;33m=\u001b[0m\u001b[1;34m'k'\u001b[0m\u001b[1;33m,\u001b[0m\u001b[0msize\u001b[0m\u001b[1;33m=\u001b[0m\u001b[1;36m1\u001b[0m\u001b[1;33m,\u001b[0m\u001b[0max\u001b[0m\u001b[1;33m=\u001b[0m\u001b[0mg\u001b[0m\u001b[1;33m.\u001b[0m\u001b[0max\u001b[0m\u001b[1;33m)\u001b[0m\u001b[1;33m\u001b[0m\u001b[1;33m\u001b[0m\u001b[0m\n",
      "\u001b[1;31mNameError\u001b[0m: name 'YearAndFee' is not defined"
     ]
    }
   ],
   "source": [
    "g=sns.catplot(x='Member_Year',y='MonthlyFee',data=YearAndFee,kind='box')\n",
    "sns.swarmplot(x='Member_Year',y='MonthlyFee',data=YearAndFee,color='k',size=1,ax=g.ax)"
   ]
  },
  {
   "cell_type": "markdown",
   "metadata": {},
   "source": [
    "# 3-2. 콜센터 전화 빈도수와 요금 관계\n",
    "콜센터의 전화 빈도수와 요금도 크게 상관없는 것 같습니다.  \n",
    "9회가 다소 높은 값을 보이긴하지만 매우 작은 숫자라 예외사항으로 보아도 좋을 것 같습니다."
   ]
  },
  {
   "cell_type": "code",
   "execution_count": 45,
   "metadata": {},
   "outputs": [
    {
     "name": "stderr",
     "output_type": "stream",
     "text": [
      "C:\\Users\\rkdwn\\anaconda3\\lib\\site-packages\\seaborn\\categorical.py:1296: UserWarning: 6.5% of the points cannot be placed; you may want to decrease the size of the markers or use stripplot.\n",
      "  warnings.warn(msg, UserWarning)\n"
     ]
    },
    {
     "data": {
      "text/plain": [
       "<AxesSubplot:xlabel='Callcenter', ylabel='MonthlyFee'>"
      ]
     },
     "execution_count": 45,
     "metadata": {},
     "output_type": "execute_result"
    },
    {
     "data": {
      "image/png": "[encoded data removed]",
      "text/plain": [
       "<Figure size 360x360 with 1 Axes>"
      ]
     },
     "metadata": {
      "needs_background": "light"
     },
     "output_type": "display_data"
    }
   ],
   "source": [
    "g=sns.catplot(x='Callcenter',y='MonthlyFee',data=telco,kind='box')\n",
    "sns.swarmplot(x='Callcenter',y='MonthlyFee',data=telco,color='k',size=1,ax=g.ax)"
   ]
  },
  {
   "cell_type": "markdown",
   "metadata": {},
   "source": [
    "# 3-3. 데이터 사용량과 요금 관계"
   ]
  },
  {
   "cell_type": "code",
   "execution_count": 46,
   "metadata": {},
   "outputs": [],
   "source": [
    "telco[\"DataAmount_Category\"]=0"
   ]
  },
  {
   "cell_type": "markdown",
   "metadata": {},
   "source": [
    "데이터 사용량이 0~6G의 범위를 갖도록 하겟습니다."
   ]
  },
  {
   "cell_type": "code",
   "execution_count": 47,
   "metadata": {},
   "outputs": [
    {
     "data": {
      "text/plain": [
       "count    3333.000000\n",
       "mean        0.816895\n",
       "std         1.273438\n",
       "min         0.000000\n",
       "25%         0.000000\n",
       "50%         0.000000\n",
       "75%         1.780273\n",
       "max         5.398438\n",
       "Name: DataAmount, dtype: float64"
      ]
     },
     "execution_count": 47,
     "metadata": {},
     "output_type": "execute_result"
    }
   ],
   "source": [
    "telco['DataAmount'].describe()"
   ]
  },
  {
   "cell_type": "code",
   "execution_count": 48,
   "metadata": {},
   "outputs": [],
   "source": [
    "def DataAmount_Category(telco) :\n",
    "    \n",
    "    if telco[\"DataAmount\"] == 0.0 :\n",
    "        return 0\n",
    "    elif (telco[\"DataAmount\"] > 0) & (telco[\"DataAmount\"] <= 1 ):\n",
    "        return 1\n",
    "    elif (telco[\"DataAmount\"] > 1) & (telco[\"DataAmount\"] <= 2) :\n",
    "        return 2\n",
    "    elif (telco[\"DataAmount\"] > 2) & (telco[\"DataAmount\"] <= 3) :\n",
    "        return 3\n",
    "    elif (telco[\"DataAmount\"] > 3) & (telco[\"DataAmount\"] <= 4) :\n",
    "        return 4\n",
    "    elif (telco[\"DataAmount\"] > 4) & (telco[\"DataAmount\"] <= 5) :\n",
    "        return 5\n",
    "    elif telco[\"DataAmount\"] > 5 :\n",
    "        return 6\n",
    "telco[\"DataAmount_Category\"] = telco.apply(lambda telco:DataAmount_Category(telco),\n",
    "                                      axis = 1)\n",
    "    "
   ]
  },
  {
   "cell_type": "markdown",
   "metadata": {},
   "source": [
    "### 데이터를 많이 사용할 수록 요금을 많이 지불합니다."
   ]
  },
  {
   "cell_type": "code",
   "execution_count": 49,
   "metadata": {},
   "outputs": [
    {
     "name": "stderr",
     "output_type": "stream",
     "text": [
      "C:\\Users\\rkdwn\\anaconda3\\lib\\site-packages\\seaborn\\categorical.py:1296: UserWarning: 31.9% of the points cannot be placed; you may want to decrease the size of the markers or use stripplot.\n",
      "  warnings.warn(msg, UserWarning)\n"
     ]
    },
    {
     "data": {
      "text/plain": [
       "<AxesSubplot:xlabel='DataAmount_Category', ylabel='MonthlyFee'>"
      ]
     },
     "execution_count": 49,
     "metadata": {},
     "output_type": "execute_result"
    },
    {
     "data": {
      "image/png": "[encoded data removed]",
      "text/plain": [
       "<Figure size 360x360 with 1 Axes>"
      ]
     },
     "metadata": {
      "needs_background": "light"
     },
     "output_type": "display_data"
    }
   ],
   "source": [
    "g=sns.catplot(x='DataAmount_Category',y='MonthlyFee',data=telco,kind='box')\n",
    "sns.swarmplot(x='DataAmount_Category',y='MonthlyFee',data=telco,color='k',size=1,ax=g.ax)"
   ]
  },
  {
   "cell_type": "markdown",
   "metadata": {},
   "source": [
    "# 3-4.전화 사용량과 요금 관계"
   ]
  },
  {
   "cell_type": "code",
   "execution_count": 50,
   "metadata": {},
   "outputs": [],
   "source": [
    "telco[\"CalMins_Category\"]=0"
   ]
  },
  {
   "cell_type": "markdown",
   "metadata": {},
   "source": [
    "0~351의 범위를 갖습니다. 따라서 50분 단위로 범주화해 분석을 해보겠습니다."
   ]
  },
  {
   "cell_type": "code",
   "execution_count": 51,
   "metadata": {},
   "outputs": [
    {
     "data": {
      "text/plain": [
       "count    3333.000000\n",
       "mean      179.775131\n",
       "std        54.467442\n",
       "min         0.000000\n",
       "25%       143.699997\n",
       "50%       179.399994\n",
       "75%       216.399994\n",
       "max       350.799988\n",
       "Name: CalMins, dtype: float64"
      ]
     },
     "execution_count": 51,
     "metadata": {},
     "output_type": "execute_result"
    }
   ],
   "source": [
    "telco['CalMins'].describe()"
   ]
  },
  {
   "cell_type": "code",
   "execution_count": 52,
   "metadata": {},
   "outputs": [],
   "source": [
    "def CalMins_Category(telco) :\n",
    "    \n",
    "    if (telco[\"CalMins\"] > 0) & (telco[\"CalMins\"] <= 50 ):\n",
    "        return 50\n",
    "    elif (telco[\"CalMins\"] > 50) & (telco[\"CalMins\"] <= 100) :\n",
    "        return 100\n",
    "    elif (telco[\"CalMins\"] > 100) & (telco[\"CalMins\"] <= 150) :\n",
    "        return 150\n",
    "    elif (telco[\"CalMins\"] > 150) & (telco[\"CalMins\"] <= 200) :\n",
    "        return 200\n",
    "    elif (telco[\"CalMins\"] > 200) & (telco[\"CalMins\"] <= 250) :\n",
    "        return 250\n",
    "    elif (telco[\"CalMins\"] > 250) & (telco[\"CalMins\"] <= 300) :\n",
    "        return 300\n",
    "    elif telco[\"CalMins\"] > 300 :\n",
    "        return 350\n",
    "telco[\"CalMins_Category\"] = telco.apply(lambda telco:CalMins_Category(telco),\n",
    "                                      axis = 1)\n",
    "    "
   ]
  },
  {
   "cell_type": "markdown",
   "metadata": {},
   "source": [
    "## 전화를 많이 사용할 수록 요금을 많이 지불하고 있습니다."
   ]
  },
  {
   "cell_type": "code",
   "execution_count": 53,
   "metadata": {},
   "outputs": [
    {
     "name": "stderr",
     "output_type": "stream",
     "text": [
      "C:\\Users\\rkdwn\\anaconda3\\lib\\site-packages\\seaborn\\categorical.py:1296: UserWarning: 13.1% of the points cannot be placed; you may want to decrease the size of the markers or use stripplot.\n",
      "  warnings.warn(msg, UserWarning)\n",
      "C:\\Users\\rkdwn\\anaconda3\\lib\\site-packages\\seaborn\\categorical.py:1296: UserWarning: 5.7% of the points cannot be placed; you may want to decrease the size of the markers or use stripplot.\n",
      "  warnings.warn(msg, UserWarning)\n"
     ]
    },
    {
     "data": {
      "text/plain": [
       "<AxesSubplot:xlabel='CalMins_Category', ylabel='MonthlyFee'>"
      ]
     },
     "execution_count": 53,
     "metadata": {},
     "output_type": "execute_result"
    },
    {
     "data": {
      "image/png": "[encoded data removed]",
      "text/plain": [
       "<Figure size 360x360 with 1 Axes>"
      ]
     },
     "metadata": {
      "needs_background": "light"
     },
     "output_type": "display_data"
    }
   ],
   "source": [
    "g=sns.catplot(x='CalMins_Category',y='MonthlyFee',data=telco,kind='box')\n",
    "sns.swarmplot(x='CalMins_Category',y='MonthlyFee',data=telco,color='k',size=1,ax=g.ax)"
   ]
  },
  {
   "cell_type": "markdown",
   "metadata": {},
   "source": [
    "# 3-5. 전화 횟수와 요금 관계"
   ]
  },
  {
   "cell_type": "code",
   "execution_count": 54,
   "metadata": {},
   "outputs": [],
   "source": [
    "telco[\"CalCounts_Category\"]=0"
   ]
  },
  {
   "cell_type": "markdown",
   "metadata": {},
   "source": [
    "0~165회에 분포하고 있습니다. 30회 단위로 나누어 보겠습니다."
   ]
  },
  {
   "cell_type": "code",
   "execution_count": 55,
   "metadata": {},
   "outputs": [
    {
     "data": {
      "text/plain": [
       "count    3333.000000\n",
       "mean      100.435644\n",
       "std        20.069084\n",
       "min         0.000000\n",
       "25%        87.000000\n",
       "50%       101.000000\n",
       "75%       114.000000\n",
       "max       165.000000\n",
       "Name: CalCounts, dtype: float64"
      ]
     },
     "execution_count": 55,
     "metadata": {},
     "output_type": "execute_result"
    }
   ],
   "source": [
    "telco['CalCounts'].describe()"
   ]
  },
  {
   "cell_type": "code",
   "execution_count": 56,
   "metadata": {},
   "outputs": [],
   "source": [
    "def CalCounts_Category(telco) :\n",
    "    \n",
    "    if (telco[\"CalCounts\"] > 0) & (telco[\"CalCounts\"] <= 30 ):\n",
    "        return 30\n",
    "    elif (telco[\"CalCounts\"] > 30) & (telco[\"CalCounts\"] <= 60) :\n",
    "        return 60\n",
    "    elif (telco[\"CalCounts\"] > 60) & (telco[\"CalCounts\"] <= 90) :\n",
    "        return 90\n",
    "    elif (telco[\"CalCounts\"] > 90) & (telco[\"CalCounts\"] <= 120) :\n",
    "        return 120\n",
    "    elif (telco[\"CalCounts\"] > 120) & (telco[\"CalCounts\"] <= 150) :\n",
    "        return 150\n",
    "    elif telco[\"CalCounts\"] > 150 :\n",
    "        return 165\n",
    "telco[\"CalCounts_Category\"] = telco.apply(lambda telco:CalCounts_Category(telco),\n",
    "                                      axis = 1)\n",
    "    "
   ]
  },
  {
   "cell_type": "markdown",
   "metadata": {},
   "source": [
    "## 전화 횟수와 요금은 상관이 없습니다. "
   ]
  },
  {
   "cell_type": "code",
   "execution_count": 57,
   "metadata": {},
   "outputs": [
    {
     "data": {
      "text/plain": [
       "<AxesSubplot:xlabel='CalCounts_Category', ylabel='MonthlyFee'>"
      ]
     },
     "execution_count": 57,
     "metadata": {},
     "output_type": "execute_result"
    },
    {
     "data": {
      "image/png": "[encoded data removed]",
      "text/plain": [
       "<Figure size 360x360 with 1 Axes>"
      ]
     },
     "metadata": {
      "needs_background": "light"
     },
     "output_type": "display_data"
    }
   ],
   "source": [
    "g=sns.catplot(x='CalCounts_Category',y='MonthlyFee',data=telco,kind='box')\n",
    "sns.swarmplot(x='CalCounts_Category',y='MonthlyFee',data=telco,color='k',size=1,ax=g.ax)"
   ]
  },
  {
   "cell_type": "markdown",
   "metadata": {},
   "source": [
    "# 3-6. 초과 요금과 요금 관계"
   ]
  },
  {
   "cell_type": "code",
   "execution_count": 58,
   "metadata": {},
   "outputs": [],
   "source": [
    "telco[\"OverFee_Category\"]=0"
   ]
  },
  {
   "cell_type": "markdown",
   "metadata": {},
   "source": [
    "초과 요금의 경우 최소 0~19범위의 값을 가지고 있습니다.\n",
    "초과요금 4달러 단위로 범주화 시켜보겠습니다."
   ]
  },
  {
   "cell_type": "code",
   "execution_count": 59,
   "metadata": {},
   "outputs": [
    {
     "data": {
      "text/plain": [
       "count    3333.000000\n",
       "mean       10.054688\n",
       "std         2.535156\n",
       "min         0.000000\n",
       "25%         8.328125\n",
       "50%        10.070312\n",
       "75%        11.773438\n",
       "max        18.187500\n",
       "Name: OverFee, dtype: float64"
      ]
     },
     "execution_count": 59,
     "metadata": {},
     "output_type": "execute_result"
    }
   ],
   "source": [
    "telco['OverFee'].describe()"
   ]
  },
  {
   "cell_type": "code",
   "execution_count": 60,
   "metadata": {},
   "outputs": [],
   "source": [
    "def OverFee_Category(telco) :\n",
    "    \n",
    "    if (telco[\"OverFee\"] > 0) & (telco[\"OverFee\"] <= 4 ):\n",
    "        return 4\n",
    "    elif (telco[\"OverFee\"] > 4) & (telco[\"OverFee\"] <= 8) :\n",
    "        return 8\n",
    "    elif (telco[\"OverFee\"] > 8) & (telco[\"OverFee\"] <= 12) :\n",
    "        return 12\n",
    "    elif (telco[\"OverFee\"] > 12) & (telco[\"OverFee\"] <= 16) :\n",
    "        return 16 \n",
    "    elif (telco[\"OverFee\"] > 16): \n",
    "        return 20\n",
    "telco[\"OverFee_Category\"] = telco.apply(lambda telco:OverFee_Category(telco),\n",
    "                                      axis = 1)\n",
    "    "
   ]
  },
  {
   "cell_type": "markdown",
   "metadata": {},
   "source": [
    "## 초과요금이 많을수록 월 요금이 다소 증가함을 알 수 있습니다."
   ]
  },
  {
   "cell_type": "code",
   "execution_count": 61,
   "metadata": {},
   "outputs": [
    {
     "data": {
      "text/plain": [
       "<AxesSubplot:xlabel='OverFee_Category', ylabel='MonthlyFee'>"
      ]
     },
     "execution_count": 61,
     "metadata": {},
     "output_type": "execute_result"
    },
    {
     "data": {
      "image/png": "[encoded data removed]",
      "text/plain": [
       "<Figure size 360x360 with 1 Axes>"
      ]
     },
     "metadata": {
      "needs_background": "light"
     },
     "output_type": "display_data"
    }
   ],
   "source": [
    "g=sns.catplot(x='OverFee_Category',y='MonthlyFee',data=telco,kind='box')\n",
    "sns.swarmplot(x='OverFee_Category',y='MonthlyFee',data=telco,color='k',size=1,ax=g.ax)"
   ]
  },
  {
   "cell_type": "markdown",
   "metadata": {},
   "source": [
    "# 3-7. 로밍시간과 요금 관계"
   ]
  },
  {
   "cell_type": "code",
   "execution_count": 62,
   "metadata": {},
   "outputs": [],
   "source": [
    "telco[\"RoamingMin_Category\"]=0"
   ]
  },
  {
   "cell_type": "markdown",
   "metadata": {},
   "source": [
    "0~20분의 값을 가지고 있습니다. 4분을 단위로하여 범주를 나누어 보도록 하겠습니다."
   ]
  },
  {
   "cell_type": "code",
   "execution_count": 63,
   "metadata": {},
   "outputs": [
    {
     "data": {
      "text/plain": [
       "count    3333.000000\n",
       "mean       10.234375\n",
       "std         2.791016\n",
       "min         0.000000\n",
       "25%         8.500000\n",
       "50%        10.296875\n",
       "75%        12.101562\n",
       "max        20.000000\n",
       "Name: RoamingMin, dtype: float64"
      ]
     },
     "execution_count": 63,
     "metadata": {},
     "output_type": "execute_result"
    }
   ],
   "source": [
    "telco['RoamingMin'].describe()"
   ]
  },
  {
   "cell_type": "code",
   "execution_count": 64,
   "metadata": {},
   "outputs": [],
   "source": [
    "def RoamingMin_Category(telco) :\n",
    "    \n",
    "    if (telco[\"RoamingMin\"] > 0) & (telco[\"RoamingMin\"] <= 4 ):\n",
    "        return 4\n",
    "    elif (telco[\"RoamingMin\"] > 4) & (telco[\"RoamingMin\"] <= 8) :\n",
    "        return 8\n",
    "    elif (telco[\"RoamingMin\"] > 8) & (telco[\"RoamingMin\"] <= 12) :\n",
    "        return 12\n",
    "    elif (telco[\"RoamingMin\"] > 12) & (telco[\"RoamingMin\"] <= 16) :\n",
    "        return 16 \n",
    "    elif (telco[\"RoamingMin\"] > 16): \n",
    "        return 20\n",
    "telco[\"RoamingMin_Category\"] = telco.apply(lambda telco:RoamingMin_Category(telco),\n",
    "                                      axis = 1)\n",
    "    "
   ]
  },
  {
   "cell_type": "markdown",
   "metadata": {},
   "source": [
    "로밍시간 역시 조금은 월 요금과 상관이 있지만 큰 관계는 없어보입니다."
   ]
  },
  {
   "cell_type": "code",
   "execution_count": 65,
   "metadata": {},
   "outputs": [
    {
     "data": {
      "text/plain": [
       "<AxesSubplot:xlabel='RoamingMin_Category', ylabel='MonthlyFee'>"
      ]
     },
     "execution_count": 65,
     "metadata": {},
     "output_type": "execute_result"
    },
    {
     "data": {
      "image/png": "[encoded data removed]",
      "text/plain": [
       "<Figure size 360x360 with 1 Axes>"
      ]
     },
     "metadata": {
      "needs_background": "light"
     },
     "output_type": "display_data"
    }
   ],
   "source": [
    "g=sns.catplot(x='RoamingMin_Category',y='MonthlyFee',data=telco,kind='box')\n",
    "sns.swarmplot(x='RoamingMin_Category',y='MonthlyFee',data=telco,color='k',size=1,ax=g.ax)"
   ]
  },
  {
   "cell_type": "markdown",
   "metadata": {},
   "source": [
    "# 4. 이탈안하며 가입갱신을 한 회원 분석"
   ]
  },
  {
   "cell_type": "markdown",
   "metadata": {},
   "source": [
    "# 1. 전체 고객 중 가입 해지 유무 별 월 요금 분석\n",
    "약 **63 달러** 이상에서 좀더 많이 해지했음을 알 수 있습니다."
   ]
  },
  {
   "cell_type": "code",
   "execution_count": 66,
   "metadata": {},
   "outputs": [
    {
     "data": {
      "text/plain": [
       "Text(0.5, 1.0, 'Current Member VS Out of Member')"
      ]
     },
     "execution_count": 66,
     "metadata": {},
     "output_type": "execute_result"
    },
    {
     "data": {
      "image/png": "[encoded data removed]",
      "text/plain": [
       "<Figure size 360x360 with 1 Axes>"
      ]
     },
     "metadata": {
      "needs_background": "light"
     },
     "output_type": "display_data"
    }
   ],
   "source": [
    "g=sns.catplot(x='Leave',y='MonthlyFee',data=telco,kind='box')\n",
    "sns.swarmplot(x='Leave',y='MonthlyFee',data=telco,color='k',size=1,ax=g.ax)\n",
    "plt.title(\"Current Member VS Out of Member\")"
   ]
  },
  {
   "cell_type": "markdown",
   "metadata": {},
   "source": [
    "## 또한 현재 고객 중에서 새 갱신한 고객은 월 요금이 낮은 경향으로 보이고 있습니다."
   ]
  },
  {
   "cell_type": "code",
   "execution_count": 67,
   "metadata": {},
   "outputs": [
    {
     "data": {
      "text/plain": [
       "Text(0.5, 1.0, 'No Contract VS New Contract')"
      ]
     },
     "execution_count": 67,
     "metadata": {},
     "output_type": "execute_result"
    },
    {
     "data": {
      "image/png": "[encoded data removed]",
      "text/plain": [
       "<Figure size 360x360 with 1 Axes>"
      ]
     },
     "metadata": {
      "needs_background": "light"
     },
     "output_type": "display_data"
    }
   ],
   "source": [
    "g=sns.catplot(x='NewContract',y='MonthlyFee',data=Current_Member,kind='box')\n",
    "sns.swarmplot(x='NewContract',y='MonthlyFee',data=Current_Member,color='k',size=1,ax=g.ax)\n",
    "plt.title(\"No Contract VS New Contract\")"
   ]
  },
  {
   "cell_type": "markdown",
   "metadata": {},
   "source": [
    "# 5. 이탈률 예측 딥러닝 모델 만들기"
   ]
  },
  {
   "cell_type": "code",
   "execution_count": 68,
   "metadata": {},
   "outputs": [],
   "source": [
    "import tensorflow as tf"
   ]
  },
  {
   "cell_type": "markdown",
   "metadata": {},
   "source": [
    "**정답 데이터인 Y**에는 이탈 Category를 넣습니다."
   ]
  },
  {
   "cell_type": "code",
   "execution_count": 69,
   "metadata": {},
   "outputs": [
    {
     "name": "stdout",
     "output_type": "stream",
     "text": [
      "[0, 0, 0, 0, 0, ..., 0, 0, 0, 0, 0]\n",
      "Length: 3333\n",
      "Categories (2, int64): [0, 1]\n"
     ]
    }
   ],
   "source": [
    "yData=telco['Leave'].values \n",
    "print(yData)"
   ]
  },
  {
   "cell_type": "markdown",
   "metadata": {},
   "source": [
    "**x 데이터**에는 가입기간, 갱신여부, 데이터 사용유무, 데이터 사용량, 고객센터 전화 횟수, 전화시간, 전화 횟수, 월 요금, 초과요금, 로밍 요금 모두를 넣어주었습니다."
   ]
  },
  {
   "cell_type": "code",
   "execution_count": 70,
   "metadata": {},
   "outputs": [],
   "source": [
    "xData=[]\n",
    "for i,rows in telco.iterrows():\n",
    "    xData.append([rows['MemberWeeks'],rows['NewContract'],rows['IsData'],rows['DataAmount'],rows['Callcenter'],rows['CalMins'],rows['CalCounts'],rows['MonthlyFee'],rows['OverFee'],rows['RoamingMin']])"
   ]
  },
  {
   "cell_type": "markdown",
   "metadata": {},
   "source": [
    "여기서 **Sequential**을 쓰면 신경망 레이어들을 쉽게 만들 수 있습니다.  \n",
    "\n",
    "각각의 레이어의 **64**와 **128**, 활성함수는 **tanh**를 넣었습니다. 마지막 노드에는 활성함수로 **sigmoid**를 넣었습니다.  \n",
    "컴파일 할땐 **Optimizer**에는 **Adam**을, **Loss에는 Binary crossentropy**, **Metrics**에는 **Accuracy**를 넣어줍니다.  \n",
    "x엔 학습데이터를 y엔 정답을 넣어주고 **Epoch**는 **1000회**를 넣었습니다.  "
   ]
  },
  {
   "cell_type": "code",
   "execution_count": 71,
   "metadata": {},
   "outputs": [
    {
     "name": "stdout",
     "output_type": "stream",
     "text": [
      "Epoch 1/1000\n",
      "105/105 [==============================] - 1s 1ms/step - loss: 0.4259 - accuracy: 0.8519\n",
      "Epoch 2/1000\n",
      "105/105 [==============================] - 0s 1ms/step - loss: 0.4276 - accuracy: 0.8508\n",
      "Epoch 3/1000\n",
      "105/105 [==============================] - 0s 1ms/step - loss: 0.4082 - accuracy: 0.8493\n",
      "Epoch 4/1000\n",
      "105/105 [==============================] - 0s 1ms/step - loss: 0.3910 - accuracy: 0.8593\n",
      "Epoch 5/1000\n",
      "105/105 [==============================] - 0s 1ms/step - loss: 0.4083 - accuracy: 0.8495\n",
      "Epoch 6/1000\n",
      "105/105 [==============================] - 0s 1ms/step - loss: 0.3965 - accuracy: 0.8555\n",
      "Epoch 7/1000\n",
      "105/105 [==============================] - 0s 1ms/step - loss: 0.3887 - accuracy: 0.8560\n",
      "Epoch 8/1000\n",
      "105/105 [==============================] - 0s 1ms/step - loss: 0.3836 - accuracy: 0.8628\n",
      "Epoch 9/1000\n",
      "105/105 [==============================] - 0s 1ms/step - loss: 0.3867 - accuracy: 0.8538\n",
      "Epoch 10/1000\n",
      "105/105 [==============================] - 0s 1ms/step - loss: 0.3750 - accuracy: 0.8624\n",
      "Epoch 11/1000\n",
      "105/105 [==============================] - 0s 1ms/step - loss: 0.3909 - accuracy: 0.8549\n",
      "Epoch 12/1000\n",
      "105/105 [==============================] - 0s 1ms/step - loss: 0.3927 - accuracy: 0.8526\n",
      "Epoch 13/1000\n",
      "105/105 [==============================] - 0s 1ms/step - loss: 0.3847 - accuracy: 0.8548\n",
      "Epoch 14/1000\n",
      "105/105 [==============================] - 0s 1ms/step - loss: 0.3747 - accuracy: 0.8599\n",
      "Epoch 15/1000\n",
      "105/105 [==============================] - 0s 1ms/step - loss: 0.3630 - accuracy: 0.8661\n",
      "Epoch 16/1000\n",
      "105/105 [==============================] - 0s 1ms/step - loss: 0.3637 - accuracy: 0.8640\n",
      "Epoch 17/1000\n",
      "105/105 [==============================] - 0s 1ms/step - loss: 0.3758 - accuracy: 0.8565\n",
      "Epoch 18/1000\n",
      "105/105 [==============================] - 0s 1ms/step - loss: 0.3659 - accuracy: 0.8645\n",
      "Epoch 19/1000\n",
      "105/105 [==============================] - 0s 1ms/step - loss: 0.3754 - accuracy: 0.8557\n",
      "Epoch 20/1000\n",
      "105/105 [==============================] - 0s 1ms/step - loss: 0.3601 - accuracy: 0.8536\n",
      "Epoch 21/1000\n",
      "105/105 [==============================] - 0s 1ms/step - loss: 0.3705 - accuracy: 0.8561\n",
      "Epoch 22/1000\n",
      "105/105 [==============================] - 0s 1ms/step - loss: 0.3648 - accuracy: 0.8616\n",
      "Epoch 23/1000\n",
      "105/105 [==============================] - 0s 1ms/step - loss: 0.3688 - accuracy: 0.8593\n",
      "Epoch 24/1000\n",
      "105/105 [==============================] - 0s 1ms/step - loss: 0.4037 - accuracy: 0.8262\n",
      "Epoch 25/1000\n",
      "105/105 [==============================] - 0s 1ms/step - loss: 0.3602 - accuracy: 0.8561\n",
      "Epoch 26/1000\n",
      "105/105 [==============================] - 0s 1ms/step - loss: 0.3431 - accuracy: 0.8649\n",
      "Epoch 27/1000\n",
      "105/105 [==============================] - 0s 1ms/step - loss: 0.3501 - accuracy: 0.8557\n",
      "Epoch 28/1000\n",
      "105/105 [==============================] - 0s 1ms/step - loss: 0.3567 - accuracy: 0.8563\n",
      "Epoch 29/1000\n",
      "105/105 [==============================] - 0s 1ms/step - loss: 0.3325 - accuracy: 0.8644\n",
      "Epoch 30/1000\n",
      "105/105 [==============================] - 0s 1ms/step - loss: 0.3249 - accuracy: 0.8797\n",
      "Epoch 31/1000\n",
      "105/105 [==============================] - 0s 1ms/step - loss: 0.3538 - accuracy: 0.8547\n",
      "Epoch 32/1000\n",
      "105/105 [==============================] - 0s 1ms/step - loss: 0.3203 - accuracy: 0.8740\n",
      "Epoch 33/1000\n",
      "105/105 [==============================] - 0s 1ms/step - loss: 0.3577 - accuracy: 0.8613\n",
      "Epoch 34/1000\n",
      "105/105 [==============================] - 0s 1ms/step - loss: 0.3188 - accuracy: 0.8733\n",
      "Epoch 35/1000\n",
      "105/105 [==============================] - 0s 2ms/step - loss: 0.3229 - accuracy: 0.8747\n",
      "Epoch 36/1000\n",
      "105/105 [==============================] - 0s 1ms/step - loss: 0.3202 - accuracy: 0.8766\n",
      "Epoch 37/1000\n",
      "105/105 [==============================] - 0s 1ms/step - loss: 0.3142 - accuracy: 0.8718\n",
      "Epoch 38/1000\n",
      "105/105 [==============================] - 0s 1ms/step - loss: 0.3163 - accuracy: 0.8724\n",
      "Epoch 39/1000\n",
      "105/105 [==============================] - 0s 1ms/step - loss: 0.2947 - accuracy: 0.8805\n",
      "Epoch 40/1000\n",
      "105/105 [==============================] - 0s 1ms/step - loss: 0.3182 - accuracy: 0.8790\n",
      "Epoch 41/1000\n",
      "105/105 [==============================] - 0s 1ms/step - loss: 0.3029 - accuracy: 0.8788\n",
      "Epoch 42/1000\n",
      "105/105 [==============================] - 0s 1ms/step - loss: 0.2864 - accuracy: 0.8871\n",
      "Epoch 43/1000\n",
      "105/105 [==============================] - 0s 1ms/step - loss: 0.2976 - accuracy: 0.8773\n",
      "Epoch 44/1000\n",
      "105/105 [==============================] - 0s 1ms/step - loss: 0.2894 - accuracy: 0.8854\n",
      "Epoch 45/1000\n",
      "105/105 [==============================] - 0s 1ms/step - loss: 0.2944 - accuracy: 0.8854\n",
      "Epoch 46/1000\n",
      "105/105 [==============================] - 0s 1ms/step - loss: 0.2928 - accuracy: 0.8783\n",
      "Epoch 47/1000\n",
      "105/105 [==============================] - 0s 1ms/step - loss: 0.3019 - accuracy: 0.8797\n",
      "Epoch 48/1000\n",
      "105/105 [==============================] - 0s 1ms/step - loss: 0.2796 - accuracy: 0.8862\n",
      "Epoch 49/1000\n",
      "105/105 [==============================] - 0s 1ms/step - loss: 0.2865 - accuracy: 0.8835\n",
      "Epoch 50/1000\n",
      "105/105 [==============================] - 0s 1ms/step - loss: 0.2847 - accuracy: 0.8808\n",
      "Epoch 51/1000\n",
      "105/105 [==============================] - 0s 1ms/step - loss: 0.2815 - accuracy: 0.8838\n",
      "Epoch 52/1000\n",
      "105/105 [==============================] - 0s 1ms/step - loss: 0.3006 - accuracy: 0.8665\n",
      "Epoch 53/1000\n",
      "105/105 [==============================] - 0s 1ms/step - loss: 0.2931 - accuracy: 0.8839\n",
      "Epoch 54/1000\n",
      "105/105 [==============================] - 0s 1ms/step - loss: 0.2833 - accuracy: 0.8895\n",
      "Epoch 55/1000\n",
      "105/105 [==============================] - 0s 1ms/step - loss: 0.2920 - accuracy: 0.8785\n",
      "Epoch 56/1000\n",
      "105/105 [==============================] - 0s 1ms/step - loss: 0.2766 - accuracy: 0.8787\n",
      "Epoch 57/1000\n",
      "105/105 [==============================] - 0s 1ms/step - loss: 0.2953 - accuracy: 0.8730\n",
      "Epoch 58/1000\n",
      "105/105 [==============================] - 0s 1ms/step - loss: 0.3108 - accuracy: 0.8691\n",
      "Epoch 59/1000\n",
      "105/105 [==============================] - 0s 1ms/step - loss: 0.2668 - accuracy: 0.8918\n",
      "Epoch 60/1000\n",
      "105/105 [==============================] - 0s 1ms/step - loss: 0.2763 - accuracy: 0.8788\n",
      "Epoch 61/1000\n",
      "105/105 [==============================] - 0s 1ms/step - loss: 0.2818 - accuracy: 0.8701\n",
      "Epoch 62/1000\n",
      "105/105 [==============================] - 0s 1ms/step - loss: 0.2695 - accuracy: 0.8852\n",
      "Epoch 63/1000\n",
      "105/105 [==============================] - 0s 991us/step - loss: 0.2714 - accuracy: 0.8866\n",
      "Epoch 64/1000\n",
      "105/105 [==============================] - 0s 1ms/step - loss: 0.2673 - accuracy: 0.8886\n",
      "Epoch 65/1000\n",
      "105/105 [==============================] - 0s 1ms/step - loss: 0.2716 - accuracy: 0.8827\n",
      "Epoch 66/1000\n",
      "105/105 [==============================] - 0s 1ms/step - loss: 0.2576 - accuracy: 0.8923\n",
      "Epoch 67/1000\n",
      "105/105 [==============================] - 0s 1ms/step - loss: 0.2754 - accuracy: 0.8820\n",
      "Epoch 68/1000\n",
      "105/105 [==============================] - 0s 1ms/step - loss: 0.2671 - accuracy: 0.8837\n",
      "Epoch 69/1000\n",
      "105/105 [==============================] - 0s 1ms/step - loss: 0.2704 - accuracy: 0.8848\n",
      "Epoch 70/1000\n",
      "105/105 [==============================] - 0s 1ms/step - loss: 0.2601 - accuracy: 0.8878\n",
      "Epoch 71/1000\n",
      "105/105 [==============================] - 0s 1ms/step - loss: 0.2632 - accuracy: 0.8845\n",
      "Epoch 72/1000\n",
      "105/105 [==============================] - 0s 1ms/step - loss: 0.2600 - accuracy: 0.8933\n",
      "Epoch 73/1000\n",
      "105/105 [==============================] - 0s 1ms/step - loss: 0.2488 - accuracy: 0.8963\n",
      "Epoch 74/1000\n",
      "105/105 [==============================] - 0s 1ms/step - loss: 0.2610 - accuracy: 0.8854\n",
      "Epoch 75/1000\n",
      "105/105 [==============================] - 0s 1ms/step - loss: 0.2632 - accuracy: 0.8950\n",
      "Epoch 76/1000\n",
      "105/105 [==============================] - 0s 1ms/step - loss: 0.2446 - accuracy: 0.8989\n",
      "Epoch 77/1000\n",
      "105/105 [==============================] - 0s 1ms/step - loss: 0.2779 - accuracy: 0.8876\n",
      "Epoch 78/1000\n",
      "105/105 [==============================] - 0s 1ms/step - loss: 0.2430 - accuracy: 0.9017\n",
      "Epoch 79/1000\n",
      "105/105 [==============================] - 0s 1ms/step - loss: 0.2464 - accuracy: 0.8946\n",
      "Epoch 80/1000\n"
     ]
    },
    {
     "name": "stdout",
     "output_type": "stream",
     "text": [
      "105/105 [==============================] - 0s 1ms/step - loss: 0.2832 - accuracy: 0.8765\n",
      "Epoch 81/1000\n",
      "105/105 [==============================] - 0s 1ms/step - loss: 0.2588 - accuracy: 0.8832\n",
      "Epoch 82/1000\n",
      "105/105 [==============================] - 0s 1ms/step - loss: 0.2529 - accuracy: 0.8956\n",
      "Epoch 83/1000\n",
      "105/105 [==============================] - 0s 1ms/step - loss: 0.2675 - accuracy: 0.8909\n",
      "Epoch 84/1000\n",
      "105/105 [==============================] - 0s 1ms/step - loss: 0.2491 - accuracy: 0.8949\n",
      "Epoch 85/1000\n",
      "105/105 [==============================] - 0s 1ms/step - loss: 0.2465 - accuracy: 0.8980\n",
      "Epoch 86/1000\n",
      "105/105 [==============================] - 0s 1ms/step - loss: 0.2425 - accuracy: 0.8979\n",
      "Epoch 87/1000\n",
      "105/105 [==============================] - 0s 1ms/step - loss: 0.2644 - accuracy: 0.8957\n",
      "Epoch 88/1000\n",
      "105/105 [==============================] - 0s 1ms/step - loss: 0.2666 - accuracy: 0.8898\n",
      "Epoch 89/1000\n",
      "105/105 [==============================] - 0s 1ms/step - loss: 0.2595 - accuracy: 0.8809\n",
      "Epoch 90/1000\n",
      "105/105 [==============================] - 0s 1ms/step - loss: 0.2638 - accuracy: 0.8856\n",
      "Epoch 91/1000\n",
      "105/105 [==============================] - 0s 1ms/step - loss: 0.2479 - accuracy: 0.9012\n",
      "Epoch 92/1000\n",
      "105/105 [==============================] - 0s 1ms/step - loss: 0.2563 - accuracy: 0.8956\n",
      "Epoch 93/1000\n",
      "105/105 [==============================] - 0s 1ms/step - loss: 0.2449 - accuracy: 0.8966\n",
      "Epoch 94/1000\n",
      "105/105 [==============================] - 0s 1ms/step - loss: 0.2613 - accuracy: 0.8933\n",
      "Epoch 95/1000\n",
      "105/105 [==============================] - 0s 1ms/step - loss: 0.2479 - accuracy: 0.8951\n",
      "Epoch 96/1000\n",
      "105/105 [==============================] - ETA: 0s - loss: 0.2524 - accuracy: 0.88 - 0s 1ms/step - loss: 0.2508 - accuracy: 0.8901\n",
      "Epoch 97/1000\n",
      "105/105 [==============================] - 0s 1ms/step - loss: 0.2349 - accuracy: 0.8970\n",
      "Epoch 98/1000\n",
      "105/105 [==============================] - 0s 1ms/step - loss: 0.2439 - accuracy: 0.8956\n",
      "Epoch 99/1000\n",
      "105/105 [==============================] - 0s 914us/step - loss: 0.2403 - accuracy: 0.9042\n",
      "Epoch 100/1000\n",
      "105/105 [==============================] - 0s 943us/step - loss: 0.2489 - accuracy: 0.8926\n",
      "Epoch 101/1000\n",
      "105/105 [==============================] - 0s 952us/step - loss: 0.2372 - accuracy: 0.8990\n",
      "Epoch 102/1000\n",
      "105/105 [==============================] - 0s 952us/step - loss: 0.2471 - accuracy: 0.8948\n",
      "Epoch 103/1000\n",
      "105/105 [==============================] - 0s 1ms/step - loss: 0.2498 - accuracy: 0.8986\n",
      "Epoch 104/1000\n",
      "105/105 [==============================] - 0s 1ms/step - loss: 0.2435 - accuracy: 0.8866\n",
      "Epoch 105/1000\n",
      "105/105 [==============================] - 0s 1ms/step - loss: 0.2618 - accuracy: 0.8858\n",
      "Epoch 106/1000\n",
      "105/105 [==============================] - 0s 1ms/step - loss: 0.2230 - accuracy: 0.9054\n",
      "Epoch 107/1000\n",
      "105/105 [==============================] - 0s 1ms/step - loss: 0.2344 - accuracy: 0.9021\n",
      "Epoch 108/1000\n",
      "105/105 [==============================] - 0s 1ms/step - loss: 0.2418 - accuracy: 0.8945\n",
      "Epoch 109/1000\n",
      "105/105 [==============================] - 0s 1ms/step - loss: 0.2429 - accuracy: 0.8965\n",
      "Epoch 110/1000\n",
      "105/105 [==============================] - 0s 1ms/step - loss: 0.2764 - accuracy: 0.8797\n",
      "Epoch 111/1000\n",
      "105/105 [==============================] - 0s 1ms/step - loss: 0.2164 - accuracy: 0.9054\n",
      "Epoch 112/1000\n",
      "105/105 [==============================] - 0s 1ms/step - loss: 0.2179 - accuracy: 0.9019\n",
      "Epoch 113/1000\n",
      "105/105 [==============================] - 0s 1ms/step - loss: 0.2360 - accuracy: 0.9029\n",
      "Epoch 114/1000\n",
      "105/105 [==============================] - 0s 1ms/step - loss: 0.2311 - accuracy: 0.9093\n",
      "Epoch 115/1000\n",
      "105/105 [==============================] - 0s 1ms/step - loss: 0.2433 - accuracy: 0.9002\n",
      "Epoch 116/1000\n",
      "105/105 [==============================] - 0s 1ms/step - loss: 0.2216 - accuracy: 0.9026\n",
      "Epoch 117/1000\n",
      "105/105 [==============================] - 0s 943us/step - loss: 0.2356 - accuracy: 0.9046\n",
      "Epoch 118/1000\n",
      "105/105 [==============================] - 0s 1ms/step - loss: 0.2474 - accuracy: 0.8973\n",
      "Epoch 119/1000\n",
      "105/105 [==============================] - 0s 1ms/step - loss: 0.2622 - accuracy: 0.8897\n",
      "Epoch 120/1000\n",
      "105/105 [==============================] - 0s 1ms/step - loss: 0.2355 - accuracy: 0.8990\n",
      "Epoch 121/1000\n",
      "105/105 [==============================] - 0s 1ms/step - loss: 0.2574 - accuracy: 0.8864\n",
      "Epoch 122/1000\n",
      "105/105 [==============================] - 0s 1ms/step - loss: 0.2516 - accuracy: 0.8949\n",
      "Epoch 123/1000\n",
      "105/105 [==============================] - 0s 991us/step - loss: 0.2417 - accuracy: 0.8998\n",
      "Epoch 124/1000\n",
      "105/105 [==============================] - 0s 981us/step - loss: 0.2536 - accuracy: 0.8933\n",
      "Epoch 125/1000\n",
      "105/105 [==============================] - 0s 1ms/step - loss: 0.2428 - accuracy: 0.9007\n",
      "Epoch 126/1000\n",
      "105/105 [==============================] - 0s 1ms/step - loss: 0.2184 - accuracy: 0.9086\n",
      "Epoch 127/1000\n",
      "105/105 [==============================] - 0s 962us/step - loss: 0.2378 - accuracy: 0.9023\n",
      "Epoch 128/1000\n",
      "105/105 [==============================] - 0s 1ms/step - loss: 0.2071 - accuracy: 0.9136\n",
      "Epoch 129/1000\n",
      "105/105 [==============================] - 0s 1ms/step - loss: 0.2458 - accuracy: 0.9010\n",
      "Epoch 130/1000\n",
      "105/105 [==============================] - 0s 1ms/step - loss: 0.2320 - accuracy: 0.9021\n",
      "Epoch 131/1000\n",
      "105/105 [==============================] - 0s 1ms/step - loss: 0.2663 - accuracy: 0.8812\n",
      "Epoch 132/1000\n",
      "105/105 [==============================] - 0s 1ms/step - loss: 0.2395 - accuracy: 0.8988\n",
      "Epoch 133/1000\n",
      "105/105 [==============================] - 0s 1ms/step - loss: 0.2625 - accuracy: 0.8924\n",
      "Epoch 134/1000\n",
      "105/105 [==============================] - 0s 1ms/step - loss: 0.2276 - accuracy: 0.8964\n",
      "Epoch 135/1000\n",
      "105/105 [==============================] - 0s 1ms/step - loss: 0.2179 - accuracy: 0.9089\n",
      "Epoch 136/1000\n",
      "105/105 [==============================] - 0s 1ms/step - loss: 0.2492 - accuracy: 0.8952\n",
      "Epoch 137/1000\n",
      "105/105 [==============================] - 0s 1ms/step - loss: 0.2278 - accuracy: 0.9078\n",
      "Epoch 138/1000\n",
      "105/105 [==============================] - 0s 1ms/step - loss: 0.2425 - accuracy: 0.8988\n",
      "Epoch 139/1000\n",
      "105/105 [==============================] - 0s 1ms/step - loss: 0.2668 - accuracy: 0.8887: 0s - loss: 0.2810 - accuracy: 0.\n",
      "Epoch 140/1000\n",
      "105/105 [==============================] - 0s 1ms/step - loss: 0.2342 - accuracy: 0.8980\n",
      "Epoch 141/1000\n",
      "105/105 [==============================] - 0s 1ms/step - loss: 0.2270 - accuracy: 0.9043\n",
      "Epoch 142/1000\n",
      "105/105 [==============================] - 0s 1ms/step - loss: 0.2165 - accuracy: 0.9115\n",
      "Epoch 143/1000\n",
      "105/105 [==============================] - 0s 1ms/step - loss: 0.2533 - accuracy: 0.8874\n",
      "Epoch 144/1000\n",
      "105/105 [==============================] - 0s 1ms/step - loss: 0.2158 - accuracy: 0.9164\n",
      "Epoch 145/1000\n",
      "105/105 [==============================] - 0s 1ms/step - loss: 0.2506 - accuracy: 0.8971\n",
      "Epoch 146/1000\n",
      "105/105 [==============================] - 0s 1ms/step - loss: 0.2308 - accuracy: 0.8986\n",
      "Epoch 147/1000\n",
      "105/105 [==============================] - 0s 1ms/step - loss: 0.2442 - accuracy: 0.9054\n",
      "Epoch 148/1000\n",
      "105/105 [==============================] - 0s 1ms/step - loss: 0.2235 - accuracy: 0.9090\n",
      "Epoch 149/1000\n",
      "105/105 [==============================] - 0s 1ms/step - loss: 0.2332 - accuracy: 0.9040\n",
      "Epoch 150/1000\n",
      "105/105 [==============================] - 0s 1ms/step - loss: 0.2309 - accuracy: 0.9049\n",
      "Epoch 151/1000\n",
      "105/105 [==============================] - 0s 1ms/step - loss: 0.2226 - accuracy: 0.9071\n",
      "Epoch 152/1000\n",
      "105/105 [==============================] - 0s 1ms/step - loss: 0.2431 - accuracy: 0.9016\n",
      "Epoch 153/1000\n",
      "105/105 [==============================] - 0s 1ms/step - loss: 0.2404 - accuracy: 0.9005\n",
      "Epoch 154/1000\n",
      "105/105 [==============================] - 0s 1ms/step - loss: 0.2233 - accuracy: 0.9064\n",
      "Epoch 155/1000\n",
      "105/105 [==============================] - 0s 1ms/step - loss: 0.2250 - accuracy: 0.8995\n",
      "Epoch 156/1000\n",
      "105/105 [==============================] - 0s 1ms/step - loss: 0.2122 - accuracy: 0.9093\n",
      "Epoch 157/1000\n",
      "105/105 [==============================] - 0s 1ms/step - loss: 0.2466 - accuracy: 0.8934\n",
      "Epoch 158/1000\n"
     ]
    },
    {
     "name": "stdout",
     "output_type": "stream",
     "text": [
      "105/105 [==============================] - 0s 1ms/step - loss: 0.2513 - accuracy: 0.8910\n",
      "Epoch 159/1000\n",
      "105/105 [==============================] - 0s 952us/step - loss: 0.2218 - accuracy: 0.9057\n",
      "Epoch 160/1000\n",
      "105/105 [==============================] - 0s 943us/step - loss: 0.2387 - accuracy: 0.9004\n",
      "Epoch 161/1000\n",
      "105/105 [==============================] - 0s 1ms/step - loss: 0.2253 - accuracy: 0.9145\n",
      "Epoch 162/1000\n",
      "105/105 [==============================] - 0s 1ms/step - loss: 0.2454 - accuracy: 0.8984\n",
      "Epoch 163/1000\n",
      "105/105 [==============================] - 0s 1ms/step - loss: 0.2290 - accuracy: 0.8998\n",
      "Epoch 164/1000\n",
      "105/105 [==============================] - 0s 1ms/step - loss: 0.2295 - accuracy: 0.9044\n",
      "Epoch 165/1000\n",
      "105/105 [==============================] - 0s 1ms/step - loss: 0.2257 - accuracy: 0.9066\n",
      "Epoch 166/1000\n",
      "105/105 [==============================] - 0s 1ms/step - loss: 0.2315 - accuracy: 0.9027\n",
      "Epoch 167/1000\n",
      "105/105 [==============================] - 0s 1ms/step - loss: 0.2017 - accuracy: 0.9182\n",
      "Epoch 168/1000\n",
      "105/105 [==============================] - 0s 1ms/step - loss: 0.2457 - accuracy: 0.8931\n",
      "Epoch 169/1000\n",
      "105/105 [==============================] - 0s 1ms/step - loss: 0.2223 - accuracy: 0.9105\n",
      "Epoch 170/1000\n",
      "105/105 [==============================] - 0s 1ms/step - loss: 0.2236 - accuracy: 0.9045\n",
      "Epoch 171/1000\n",
      "105/105 [==============================] - 0s 952us/step - loss: 0.2193 - accuracy: 0.9023\n",
      "Epoch 172/1000\n",
      "105/105 [==============================] - 0s 952us/step - loss: 0.2259 - accuracy: 0.9036\n",
      "Epoch 173/1000\n",
      "105/105 [==============================] - 0s 952us/step - loss: 0.2199 - accuracy: 0.9159\n",
      "Epoch 174/1000\n",
      "105/105 [==============================] - 0s 1ms/step - loss: 0.2189 - accuracy: 0.9044\n",
      "Epoch 175/1000\n",
      "105/105 [==============================] - 0s 1ms/step - loss: 0.2415 - accuracy: 0.9058\n",
      "Epoch 176/1000\n",
      "105/105 [==============================] - 0s 1ms/step - loss: 0.2413 - accuracy: 0.9069\n",
      "Epoch 177/1000\n",
      "105/105 [==============================] - 0s 1ms/step - loss: 0.2452 - accuracy: 0.8999\n",
      "Epoch 178/1000\n",
      "105/105 [==============================] - 0s 1ms/step - loss: 0.2226 - accuracy: 0.9068\n",
      "Epoch 179/1000\n",
      "105/105 [==============================] - 0s 1ms/step - loss: 0.2185 - accuracy: 0.9022\n",
      "Epoch 180/1000\n",
      "105/105 [==============================] - 0s 1ms/step - loss: 0.2328 - accuracy: 0.9032\n",
      "Epoch 181/1000\n",
      "105/105 [==============================] - 0s 1ms/step - loss: 0.2240 - accuracy: 0.9161\n",
      "Epoch 182/1000\n",
      "105/105 [==============================] - 0s 1ms/step - loss: 0.2522 - accuracy: 0.8967\n",
      "Epoch 183/1000\n",
      "105/105 [==============================] - 0s 952us/step - loss: 0.2404 - accuracy: 0.8968\n",
      "Epoch 184/1000\n",
      "105/105 [==============================] - 0s 1ms/step - loss: 0.2156 - accuracy: 0.9080\n",
      "Epoch 185/1000\n",
      "105/105 [==============================] - 0s 1ms/step - loss: 0.2054 - accuracy: 0.9147\n",
      "Epoch 186/1000\n",
      "105/105 [==============================] - 0s 1ms/step - loss: 0.2319 - accuracy: 0.9056\n",
      "Epoch 187/1000\n",
      "105/105 [==============================] - 0s 1ms/step - loss: 0.2498 - accuracy: 0.9033\n",
      "Epoch 188/1000\n",
      "105/105 [==============================] - 0s 1ms/step - loss: 0.2193 - accuracy: 0.9083\n",
      "Epoch 189/1000\n",
      "105/105 [==============================] - 0s 1ms/step - loss: 0.2167 - accuracy: 0.9104\n",
      "Epoch 190/1000\n",
      "105/105 [==============================] - 0s 1ms/step - loss: 0.2355 - accuracy: 0.9043\n",
      "Epoch 191/1000\n",
      "105/105 [==============================] - 0s 1ms/step - loss: 0.2215 - accuracy: 0.9137\n",
      "Epoch 192/1000\n",
      "105/105 [==============================] - 0s 1ms/step - loss: 0.2322 - accuracy: 0.9025\n",
      "Epoch 193/1000\n",
      "105/105 [==============================] - 0s 1ms/step - loss: 0.2007 - accuracy: 0.9171\n",
      "Epoch 194/1000\n",
      "105/105 [==============================] - 0s 1ms/step - loss: 0.2329 - accuracy: 0.9081\n",
      "Epoch 195/1000\n",
      "105/105 [==============================] - 0s 1ms/step - loss: 0.2807 - accuracy: 0.8736\n",
      "Epoch 196/1000\n",
      "105/105 [==============================] - 0s 1ms/step - loss: 0.2023 - accuracy: 0.9170\n",
      "Epoch 197/1000\n",
      "105/105 [==============================] - 0s 1ms/step - loss: 0.2238 - accuracy: 0.9142\n",
      "Epoch 198/1000\n",
      "105/105 [==============================] - 0s 1ms/step - loss: 0.2337 - accuracy: 0.9057\n",
      "Epoch 199/1000\n",
      "105/105 [==============================] - 0s 1ms/step - loss: 0.2323 - accuracy: 0.9073\n",
      "Epoch 200/1000\n",
      "105/105 [==============================] - 0s 1ms/step - loss: 0.2249 - accuracy: 0.9011\n",
      "Epoch 201/1000\n",
      "105/105 [==============================] - 0s 1ms/step - loss: 0.2273 - accuracy: 0.9095\n",
      "Epoch 202/1000\n",
      "105/105 [==============================] - 0s 1ms/step - loss: 0.2140 - accuracy: 0.9192\n",
      "Epoch 203/1000\n",
      "105/105 [==============================] - 0s 1ms/step - loss: 0.2271 - accuracy: 0.8972\n",
      "Epoch 204/1000\n",
      "105/105 [==============================] - 0s 1ms/step - loss: 0.2191 - accuracy: 0.9072\n",
      "Epoch 205/1000\n",
      "105/105 [==============================] - 0s 1ms/step - loss: 0.2258 - accuracy: 0.9098\n",
      "Epoch 206/1000\n",
      "105/105 [==============================] - 0s 1ms/step - loss: 0.1991 - accuracy: 0.9253\n",
      "Epoch 207/1000\n",
      "105/105 [==============================] - 0s 1ms/step - loss: 0.2096 - accuracy: 0.9151\n",
      "Epoch 208/1000\n",
      "105/105 [==============================] - 0s 981us/step - loss: 0.2296 - accuracy: 0.9008\n",
      "Epoch 209/1000\n",
      "105/105 [==============================] - 0s 971us/step - loss: 0.2013 - accuracy: 0.9194\n",
      "Epoch 210/1000\n",
      "105/105 [==============================] - 0s 1ms/step - loss: 0.2028 - accuracy: 0.9213\n",
      "Epoch 211/1000\n",
      "105/105 [==============================] - 0s 1ms/step - loss: 0.2137 - accuracy: 0.9121\n",
      "Epoch 212/1000\n",
      "105/105 [==============================] - 0s 1ms/step - loss: 0.2138 - accuracy: 0.9095\n",
      "Epoch 213/1000\n",
      "105/105 [==============================] - 0s 1ms/step - loss: 0.2045 - accuracy: 0.9137\n",
      "Epoch 214/1000\n",
      "105/105 [==============================] - 0s 1ms/step - loss: 0.2303 - accuracy: 0.9018\n",
      "Epoch 215/1000\n",
      "105/105 [==============================] - 0s 1ms/step - loss: 0.2229 - accuracy: 0.9118\n",
      "Epoch 216/1000\n",
      "105/105 [==============================] - 0s 1ms/step - loss: 0.2211 - accuracy: 0.9112\n",
      "Epoch 217/1000\n",
      "105/105 [==============================] - 0s 1ms/step - loss: 0.2177 - accuracy: 0.9113\n",
      "Epoch 218/1000\n",
      "105/105 [==============================] - 0s 1ms/step - loss: 0.2259 - accuracy: 0.9083\n",
      "Epoch 219/1000\n",
      "105/105 [==============================] - 0s 1ms/step - loss: 0.2482 - accuracy: 0.9041\n",
      "Epoch 220/1000\n",
      "105/105 [==============================] - 0s 1ms/step - loss: 0.2181 - accuracy: 0.9149\n",
      "Epoch 221/1000\n",
      "105/105 [==============================] - 0s 1ms/step - loss: 0.2348 - accuracy: 0.9057\n",
      "Epoch 222/1000\n",
      "105/105 [==============================] - 0s 1ms/step - loss: 0.2178 - accuracy: 0.9091\n",
      "Epoch 223/1000\n",
      "105/105 [==============================] - 0s 1ms/step - loss: 0.2283 - accuracy: 0.9011\n",
      "Epoch 224/1000\n",
      "105/105 [==============================] - 0s 1ms/step - loss: 0.2063 - accuracy: 0.9180\n",
      "Epoch 225/1000\n",
      "105/105 [==============================] - 0s 1ms/step - loss: 0.2037 - accuracy: 0.9238\n",
      "Epoch 226/1000\n",
      "105/105 [==============================] - 0s 1ms/step - loss: 0.2155 - accuracy: 0.9118\n",
      "Epoch 227/1000\n",
      "105/105 [==============================] - 0s 1ms/step - loss: 0.2714 - accuracy: 0.8845\n",
      "Epoch 228/1000\n",
      "105/105 [==============================] - 0s 952us/step - loss: 0.2001 - accuracy: 0.9185\n",
      "Epoch 229/1000\n",
      "105/105 [==============================] - 0s 991us/step - loss: 0.2265 - accuracy: 0.9046\n",
      "Epoch 230/1000\n",
      "105/105 [==============================] - 0s 991us/step - loss: 0.2033 - accuracy: 0.9217\n",
      "Epoch 231/1000\n",
      "105/105 [==============================] - 0s 1ms/step - loss: 0.2223 - accuracy: 0.9079\n",
      "Epoch 232/1000\n",
      "105/105 [==============================] - 0s 962us/step - loss: 0.2117 - accuracy: 0.9178\n",
      "Epoch 233/1000\n",
      "105/105 [==============================] - 0s 952us/step - loss: 0.2018 - accuracy: 0.9199\n",
      "Epoch 234/1000\n",
      "105/105 [==============================] - 0s 991us/step - loss: 0.2174 - accuracy: 0.9162\n",
      "Epoch 235/1000\n",
      "105/105 [==============================] - 0s 1ms/step - loss: 0.2039 - accuracy: 0.9179\n",
      "Epoch 236/1000\n"
     ]
    },
    {
     "name": "stdout",
     "output_type": "stream",
     "text": [
      "105/105 [==============================] - 0s 1ms/step - loss: 0.2232 - accuracy: 0.9128\n",
      "Epoch 237/1000\n",
      "105/105 [==============================] - 0s 1ms/step - loss: 0.2189 - accuracy: 0.9159\n",
      "Epoch 238/1000\n",
      "105/105 [==============================] - 0s 991us/step - loss: 0.2061 - accuracy: 0.9169\n",
      "Epoch 239/1000\n",
      "105/105 [==============================] - 0s 991us/step - loss: 0.2025 - accuracy: 0.9200\n",
      "Epoch 240/1000\n",
      "105/105 [==============================] - 0s 1ms/step - loss: 0.2059 - accuracy: 0.9177\n",
      "Epoch 241/1000\n",
      "105/105 [==============================] - 0s 991us/step - loss: 0.2222 - accuracy: 0.9100\n",
      "Epoch 242/1000\n",
      "105/105 [==============================] - 0s 1ms/step - loss: 0.2044 - accuracy: 0.9207\n",
      "Epoch 243/1000\n",
      "105/105 [==============================] - 0s 1ms/step - loss: 0.2131 - accuracy: 0.9101\n",
      "Epoch 244/1000\n",
      "105/105 [==============================] - 0s 1ms/step - loss: 0.2273 - accuracy: 0.9035\n",
      "Epoch 245/1000\n",
      "105/105 [==============================] - 0s 1ms/step - loss: 0.1908 - accuracy: 0.9191\n",
      "Epoch 246/1000\n",
      "105/105 [==============================] - 0s 1ms/step - loss: 0.1888 - accuracy: 0.9221\n",
      "Epoch 247/1000\n",
      "105/105 [==============================] - 0s 1ms/step - loss: 0.2114 - accuracy: 0.9082\n",
      "Epoch 248/1000\n",
      "105/105 [==============================] - 0s 1ms/step - loss: 0.2712 - accuracy: 0.8949\n",
      "Epoch 249/1000\n",
      "105/105 [==============================] - 0s 1ms/step - loss: 0.1963 - accuracy: 0.9219\n",
      "Epoch 250/1000\n",
      "105/105 [==============================] - 0s 1ms/step - loss: 0.1951 - accuracy: 0.9233\n",
      "Epoch 251/1000\n",
      "105/105 [==============================] - 0s 1ms/step - loss: 0.2018 - accuracy: 0.9168\n",
      "Epoch 252/1000\n",
      "105/105 [==============================] - 0s 1ms/step - loss: 0.2196 - accuracy: 0.9036\n",
      "Epoch 253/1000\n",
      "105/105 [==============================] - 0s 1ms/step - loss: 0.2376 - accuracy: 0.8970\n",
      "Epoch 254/1000\n",
      "105/105 [==============================] - 0s 1ms/step - loss: 0.1998 - accuracy: 0.9118\n",
      "Epoch 255/1000\n",
      "105/105 [==============================] - 0s 1ms/step - loss: 0.1908 - accuracy: 0.9245\n",
      "Epoch 256/1000\n",
      "105/105 [==============================] - 0s 981us/step - loss: 0.1885 - accuracy: 0.9241\n",
      "Epoch 257/1000\n",
      "105/105 [==============================] - 0s 1ms/step - loss: 0.2376 - accuracy: 0.9013\n",
      "Epoch 258/1000\n",
      "105/105 [==============================] - 0s 1ms/step - loss: 0.2141 - accuracy: 0.9120\n",
      "Epoch 259/1000\n",
      "105/105 [==============================] - 0s 1ms/step - loss: 0.2252 - accuracy: 0.9195\n",
      "Epoch 260/1000\n",
      "105/105 [==============================] - 0s 1ms/step - loss: 0.2054 - accuracy: 0.9185\n",
      "Epoch 261/1000\n",
      "105/105 [==============================] - 0s 1ms/step - loss: 0.2150 - accuracy: 0.9113\n",
      "Epoch 262/1000\n",
      "105/105 [==============================] - 0s 1ms/step - loss: 0.2332 - accuracy: 0.9025\n",
      "Epoch 263/1000\n",
      "105/105 [==============================] - 0s 1ms/step - loss: 0.2185 - accuracy: 0.9127\n",
      "Epoch 264/1000\n",
      "105/105 [==============================] - 0s 1ms/step - loss: 0.2221 - accuracy: 0.9033\n",
      "Epoch 265/1000\n",
      "105/105 [==============================] - 0s 1ms/step - loss: 0.1881 - accuracy: 0.9231\n",
      "Epoch 266/1000\n",
      "105/105 [==============================] - 0s 1ms/step - loss: 0.2005 - accuracy: 0.9136\n",
      "Epoch 267/1000\n",
      "105/105 [==============================] - 0s 1ms/step - loss: 0.1903 - accuracy: 0.9310\n",
      "Epoch 268/1000\n",
      "105/105 [==============================] - 0s 1ms/step - loss: 0.2148 - accuracy: 0.9114\n",
      "Epoch 269/1000\n",
      "105/105 [==============================] - 0s 1ms/step - loss: 0.1927 - accuracy: 0.9230\n",
      "Epoch 270/1000\n",
      "105/105 [==============================] - 0s 1ms/step - loss: 0.2277 - accuracy: 0.9023: 0s - loss: 0.2392 - accuracy: 0.\n",
      "Epoch 271/1000\n",
      "105/105 [==============================] - 0s 1ms/step - loss: 0.2233 - accuracy: 0.9152\n",
      "Epoch 272/1000\n",
      "105/105 [==============================] - 0s 1ms/step - loss: 0.1910 - accuracy: 0.9249\n",
      "Epoch 273/1000\n",
      "105/105 [==============================] - 0s 1ms/step - loss: 0.2079 - accuracy: 0.9089\n",
      "Epoch 274/1000\n",
      "105/105 [==============================] - 0s 1ms/step - loss: 0.1958 - accuracy: 0.9241\n",
      "Epoch 275/1000\n",
      "105/105 [==============================] - 0s 1ms/step - loss: 0.2141 - accuracy: 0.9126\n",
      "Epoch 276/1000\n",
      "105/105 [==============================] - 0s 981us/step - loss: 0.2071 - accuracy: 0.9191\n",
      "Epoch 277/1000\n",
      "105/105 [==============================] - 0s 952us/step - loss: 0.1923 - accuracy: 0.9281\n",
      "Epoch 278/1000\n",
      "105/105 [==============================] - 0s 1ms/step - loss: 0.2216 - accuracy: 0.9075\n",
      "Epoch 279/1000\n",
      "105/105 [==============================] - 0s 981us/step - loss: 0.2048 - accuracy: 0.9174\n",
      "Epoch 280/1000\n",
      "105/105 [==============================] - 0s 1ms/step - loss: 0.2048 - accuracy: 0.9162\n",
      "Epoch 281/1000\n",
      "105/105 [==============================] - 0s 933us/step - loss: 0.2033 - accuracy: 0.9166\n",
      "Epoch 282/1000\n",
      "105/105 [==============================] - 0s 1ms/step - loss: 0.2026 - accuracy: 0.9145\n",
      "Epoch 283/1000\n",
      "105/105 [==============================] - 0s 962us/step - loss: 0.2130 - accuracy: 0.9120\n",
      "Epoch 284/1000\n",
      "105/105 [==============================] - 0s 991us/step - loss: 0.2101 - accuracy: 0.9042\n",
      "Epoch 285/1000\n",
      "105/105 [==============================] - 0s 1ms/step - loss: 0.1973 - accuracy: 0.9215\n",
      "Epoch 286/1000\n",
      "105/105 [==============================] - 0s 1ms/step - loss: 0.1990 - accuracy: 0.9199\n",
      "Epoch 287/1000\n",
      "105/105 [==============================] - 0s 1ms/step - loss: 0.2125 - accuracy: 0.9163\n",
      "Epoch 288/1000\n",
      "105/105 [==============================] - 0s 1ms/step - loss: 0.2023 - accuracy: 0.9168\n",
      "Epoch 289/1000\n",
      "105/105 [==============================] - 0s 1ms/step - loss: 0.2003 - accuracy: 0.9233\n",
      "Epoch 290/1000\n",
      "105/105 [==============================] - 0s 1ms/step - loss: 0.1928 - accuracy: 0.9246\n",
      "Epoch 291/1000\n",
      "105/105 [==============================] - 0s 1ms/step - loss: 0.2040 - accuracy: 0.9205\n",
      "Epoch 292/1000\n",
      "105/105 [==============================] - 0s 1ms/step - loss: 0.1986 - accuracy: 0.9230\n",
      "Epoch 293/1000\n",
      "105/105 [==============================] - 0s 1ms/step - loss: 0.2243 - accuracy: 0.9094\n",
      "Epoch 294/1000\n",
      "105/105 [==============================] - 0s 1ms/step - loss: 0.1889 - accuracy: 0.9221\n",
      "Epoch 295/1000\n",
      "105/105 [==============================] - 0s 1ms/step - loss: 0.2067 - accuracy: 0.9180\n",
      "Epoch 296/1000\n",
      "105/105 [==============================] - 0s 1ms/step - loss: 0.2206 - accuracy: 0.9105\n",
      "Epoch 297/1000\n",
      "105/105 [==============================] - 0s 1ms/step - loss: 0.1859 - accuracy: 0.9233\n",
      "Epoch 298/1000\n",
      "105/105 [==============================] - 0s 1ms/step - loss: 0.2144 - accuracy: 0.9111\n",
      "Epoch 299/1000\n",
      "105/105 [==============================] - 0s 1ms/step - loss: 0.2079 - accuracy: 0.9138\n",
      "Epoch 300/1000\n",
      "105/105 [==============================] - 0s 1ms/step - loss: 0.1917 - accuracy: 0.9197\n",
      "Epoch 301/1000\n",
      "105/105 [==============================] - 0s 1ms/step - loss: 0.1975 - accuracy: 0.9146\n",
      "Epoch 302/1000\n",
      "105/105 [==============================] - 0s 1ms/step - loss: 0.1987 - accuracy: 0.9172\n",
      "Epoch 303/1000\n",
      "105/105 [==============================] - 0s 1ms/step - loss: 0.2200 - accuracy: 0.9102\n",
      "Epoch 304/1000\n",
      "105/105 [==============================] - 0s 1ms/step - loss: 0.2053 - accuracy: 0.9189\n",
      "Epoch 305/1000\n",
      "105/105 [==============================] - 0s 981us/step - loss: 0.2016 - accuracy: 0.9212\n",
      "Epoch 306/1000\n",
      "105/105 [==============================] - 0s 1ms/step - loss: 0.2122 - accuracy: 0.9138\n",
      "Epoch 307/1000\n",
      "105/105 [==============================] - 0s 1ms/step - loss: 0.2160 - accuracy: 0.9200\n",
      "Epoch 308/1000\n",
      "105/105 [==============================] - 0s 1ms/step - loss: 0.2009 - accuracy: 0.9203\n",
      "Epoch 309/1000\n",
      "105/105 [==============================] - 0s 1ms/step - loss: 0.2034 - accuracy: 0.9195\n",
      "Epoch 310/1000\n",
      "105/105 [==============================] - 0s 952us/step - loss: 0.2065 - accuracy: 0.9134\n",
      "Epoch 311/1000\n",
      "105/105 [==============================] - 0s 991us/step - loss: 0.2065 - accuracy: 0.9140\n",
      "Epoch 312/1000\n",
      "105/105 [==============================] - 0s 1ms/step - loss: 0.2370 - accuracy: 0.8981\n",
      "Epoch 313/1000\n",
      "105/105 [==============================] - 0s 981us/step - loss: 0.1956 - accuracy: 0.9211\n",
      "Epoch 314/1000\n"
     ]
    },
    {
     "name": "stdout",
     "output_type": "stream",
     "text": [
      "105/105 [==============================] - 0s 1ms/step - loss: 0.2106 - accuracy: 0.9100\n",
      "Epoch 315/1000\n",
      "105/105 [==============================] - 0s 952us/step - loss: 0.2195 - accuracy: 0.9100\n",
      "Epoch 316/1000\n",
      "105/105 [==============================] - 0s 991us/step - loss: 0.1970 - accuracy: 0.9158\n",
      "Epoch 317/1000\n",
      "105/105 [==============================] - 0s 981us/step - loss: 0.2082 - accuracy: 0.9121\n",
      "Epoch 318/1000\n",
      "105/105 [==============================] - 0s 943us/step - loss: 0.2068 - accuracy: 0.9098\n",
      "Epoch 319/1000\n",
      "105/105 [==============================] - 0s 1ms/step - loss: 0.2116 - accuracy: 0.9090\n",
      "Epoch 320/1000\n",
      "105/105 [==============================] - 0s 1ms/step - loss: 0.2006 - accuracy: 0.9220\n",
      "Epoch 321/1000\n",
      "105/105 [==============================] - 0s 1ms/step - loss: 0.2350 - accuracy: 0.9025\n",
      "Epoch 322/1000\n",
      "105/105 [==============================] - 0s 1ms/step - loss: 0.2062 - accuracy: 0.9123\n",
      "Epoch 323/1000\n",
      "105/105 [==============================] - 0s 1ms/step - loss: 0.2008 - accuracy: 0.9267\n",
      "Epoch 324/1000\n",
      "105/105 [==============================] - 0s 1ms/step - loss: 0.1926 - accuracy: 0.9241\n",
      "Epoch 325/1000\n",
      "105/105 [==============================] - 0s 1ms/step - loss: 0.1839 - accuracy: 0.9214\n",
      "Epoch 326/1000\n",
      "105/105 [==============================] - 0s 1ms/step - loss: 0.1948 - accuracy: 0.9200\n",
      "Epoch 327/1000\n",
      "105/105 [==============================] - 0s 1ms/step - loss: 0.2046 - accuracy: 0.9199\n",
      "Epoch 328/1000\n",
      "105/105 [==============================] - 0s 981us/step - loss: 0.1966 - accuracy: 0.9192\n",
      "Epoch 329/1000\n",
      "105/105 [==============================] - 0s 1ms/step - loss: 0.2154 - accuracy: 0.9129\n",
      "Epoch 330/1000\n",
      "105/105 [==============================] - 0s 981us/step - loss: 0.1905 - accuracy: 0.9249\n",
      "Epoch 331/1000\n",
      "105/105 [==============================] - 0s 1ms/step - loss: 0.2015 - accuracy: 0.9186\n",
      "Epoch 332/1000\n",
      "105/105 [==============================] - 0s 981us/step - loss: 0.1855 - accuracy: 0.9237\n",
      "Epoch 333/1000\n",
      "105/105 [==============================] - 0s 1ms/step - loss: 0.1950 - accuracy: 0.9204\n",
      "Epoch 334/1000\n",
      "105/105 [==============================] - 0s 1ms/step - loss: 0.2016 - accuracy: 0.9218\n",
      "Epoch 335/1000\n",
      "105/105 [==============================] - 0s 1ms/step - loss: 0.1909 - accuracy: 0.9198\n",
      "Epoch 336/1000\n",
      "105/105 [==============================] - 0s 1ms/step - loss: 0.1937 - accuracy: 0.9206\n",
      "Epoch 337/1000\n",
      "105/105 [==============================] - 0s 1ms/step - loss: 0.1897 - accuracy: 0.9247\n",
      "Epoch 338/1000\n",
      "105/105 [==============================] - 0s 1ms/step - loss: 0.1939 - accuracy: 0.9208\n",
      "Epoch 339/1000\n",
      "105/105 [==============================] - 0s 1ms/step - loss: 0.1898 - accuracy: 0.9249\n",
      "Epoch 340/1000\n",
      "105/105 [==============================] - 0s 1ms/step - loss: 0.2046 - accuracy: 0.9176\n",
      "Epoch 341/1000\n",
      "105/105 [==============================] - 0s 1ms/step - loss: 0.1956 - accuracy: 0.9221\n",
      "Epoch 342/1000\n",
      "105/105 [==============================] - 0s 1ms/step - loss: 0.2017 - accuracy: 0.9166\n",
      "Epoch 343/1000\n",
      "105/105 [==============================] - 0s 1ms/step - loss: 0.1872 - accuracy: 0.9267\n",
      "Epoch 344/1000\n",
      "105/105 [==============================] - 0s 1ms/step - loss: 0.1919 - accuracy: 0.9207\n",
      "Epoch 345/1000\n",
      "105/105 [==============================] - 0s 1ms/step - loss: 0.2489 - accuracy: 0.9054\n",
      "Epoch 346/1000\n",
      "105/105 [==============================] - 0s 1ms/step - loss: 0.1839 - accuracy: 0.9254\n",
      "Epoch 347/1000\n",
      "105/105 [==============================] - 0s 1ms/step - loss: 0.1834 - accuracy: 0.9277\n",
      "Epoch 348/1000\n",
      "105/105 [==============================] - 0s 1ms/step - loss: 0.1911 - accuracy: 0.9149\n",
      "Epoch 349/1000\n",
      "105/105 [==============================] - 0s 1ms/step - loss: 0.1814 - accuracy: 0.9298\n",
      "Epoch 350/1000\n",
      "105/105 [==============================] - 0s 1ms/step - loss: 0.1949 - accuracy: 0.9248\n",
      "Epoch 351/1000\n",
      "105/105 [==============================] - 0s 1ms/step - loss: 0.2071 - accuracy: 0.9103\n",
      "Epoch 352/1000\n",
      "105/105 [==============================] - 0s 1ms/step - loss: 0.1893 - accuracy: 0.9230\n",
      "Epoch 353/1000\n",
      "105/105 [==============================] - 0s 991us/step - loss: 0.1803 - accuracy: 0.9314\n",
      "Epoch 354/1000\n",
      "105/105 [==============================] - 0s 1ms/step - loss: 0.2019 - accuracy: 0.9142\n",
      "Epoch 355/1000\n",
      "105/105 [==============================] - 0s 1ms/step - loss: 0.1828 - accuracy: 0.9218\n",
      "Epoch 356/1000\n",
      "105/105 [==============================] - 0s 1ms/step - loss: 0.1835 - accuracy: 0.9307\n",
      "Epoch 357/1000\n",
      "105/105 [==============================] - 0s 1ms/step - loss: 0.2002 - accuracy: 0.9191\n",
      "Epoch 358/1000\n",
      "105/105 [==============================] - 0s 1ms/step - loss: 0.1905 - accuracy: 0.9291\n",
      "Epoch 359/1000\n",
      "105/105 [==============================] - 0s 1ms/step - loss: 0.1802 - accuracy: 0.9245\n",
      "Epoch 360/1000\n",
      "105/105 [==============================] - 0s 1ms/step - loss: 0.1801 - accuracy: 0.9316\n",
      "Epoch 361/1000\n",
      "105/105 [==============================] - 0s 1ms/step - loss: 0.1823 - accuracy: 0.9291\n",
      "Epoch 362/1000\n",
      "105/105 [==============================] - 0s 1ms/step - loss: 0.1796 - accuracy: 0.9237\n",
      "Epoch 363/1000\n",
      "105/105 [==============================] - 0s 1ms/step - loss: 0.1927 - accuracy: 0.9237\n",
      "Epoch 364/1000\n",
      "105/105 [==============================] - 0s 1ms/step - loss: 0.1881 - accuracy: 0.9210\n",
      "Epoch 365/1000\n",
      "105/105 [==============================] - 0s 1ms/step - loss: 0.1797 - accuracy: 0.9276\n",
      "Epoch 366/1000\n",
      "105/105 [==============================] - 0s 1ms/step - loss: 0.1639 - accuracy: 0.9360\n",
      "Epoch 367/1000\n",
      "105/105 [==============================] - 0s 1ms/step - loss: 0.2278 - accuracy: 0.8951\n",
      "Epoch 368/1000\n",
      "105/105 [==============================] - 0s 1ms/step - loss: 0.1877 - accuracy: 0.9282\n",
      "Epoch 369/1000\n",
      "105/105 [==============================] - 0s 1ms/step - loss: 0.2216 - accuracy: 0.9139\n",
      "Epoch 370/1000\n",
      "105/105 [==============================] - 0s 1ms/step - loss: 0.1829 - accuracy: 0.9230: 0s - loss: 0.1758 - accuracy: 0.\n",
      "Epoch 371/1000\n",
      "105/105 [==============================] - 0s 1ms/step - loss: 0.2029 - accuracy: 0.9113\n",
      "Epoch 372/1000\n",
      "105/105 [==============================] - 0s 1ms/step - loss: 0.2004 - accuracy: 0.9185\n",
      "Epoch 373/1000\n",
      "105/105 [==============================] - 0s 1ms/step - loss: 0.2205 - accuracy: 0.9108\n",
      "Epoch 374/1000\n",
      "105/105 [==============================] - 0s 1ms/step - loss: 0.1870 - accuracy: 0.9236\n",
      "Epoch 375/1000\n",
      "105/105 [==============================] - 0s 1ms/step - loss: 0.2013 - accuracy: 0.9192\n",
      "Epoch 376/1000\n",
      "105/105 [==============================] - 0s 1ms/step - loss: 0.1920 - accuracy: 0.9231\n",
      "Epoch 377/1000\n",
      "105/105 [==============================] - 0s 1ms/step - loss: 0.1756 - accuracy: 0.9348\n",
      "Epoch 378/1000\n",
      "105/105 [==============================] - 0s 1ms/step - loss: 0.1799 - accuracy: 0.9250\n",
      "Epoch 379/1000\n",
      "105/105 [==============================] - 0s 1ms/step - loss: 0.1869 - accuracy: 0.9191\n",
      "Epoch 380/1000\n",
      "105/105 [==============================] - 0s 1ms/step - loss: 0.2216 - accuracy: 0.9137\n",
      "Epoch 381/1000\n",
      "105/105 [==============================] - 0s 1ms/step - loss: 0.2065 - accuracy: 0.9154\n",
      "Epoch 382/1000\n",
      "105/105 [==============================] - 0s 1ms/step - loss: 0.1750 - accuracy: 0.9263\n",
      "Epoch 383/1000\n",
      "105/105 [==============================] - 0s 1ms/step - loss: 0.1748 - accuracy: 0.9332\n",
      "Epoch 384/1000\n",
      "105/105 [==============================] - 0s 1ms/step - loss: 0.1973 - accuracy: 0.9170\n",
      "Epoch 385/1000\n",
      "105/105 [==============================] - 0s 1ms/step - loss: 0.1951 - accuracy: 0.9196\n",
      "Epoch 386/1000\n",
      "105/105 [==============================] - 0s 1ms/step - loss: 0.1809 - accuracy: 0.9307\n",
      "Epoch 387/1000\n",
      "105/105 [==============================] - 0s 971us/step - loss: 0.1792 - accuracy: 0.9203\n",
      "Epoch 388/1000\n",
      "105/105 [==============================] - 0s 1ms/step - loss: 0.2139 - accuracy: 0.9106\n",
      "Epoch 389/1000\n",
      "105/105 [==============================] - 0s 1ms/step - loss: 0.1864 - accuracy: 0.9215\n",
      "Epoch 390/1000\n",
      "105/105 [==============================] - 0s 1ms/step - loss: 0.1852 - accuracy: 0.9298\n",
      "Epoch 391/1000\n",
      "105/105 [==============================] - 0s 1ms/step - loss: 0.1915 - accuracy: 0.9170\n",
      "Epoch 392/1000\n"
     ]
    },
    {
     "name": "stdout",
     "output_type": "stream",
     "text": [
      "105/105 [==============================] - 0s 1ms/step - loss: 0.1818 - accuracy: 0.9247\n",
      "Epoch 393/1000\n",
      "105/105 [==============================] - 0s 1ms/step - loss: 0.1969 - accuracy: 0.9186\n",
      "Epoch 394/1000\n",
      "105/105 [==============================] - 0s 1ms/step - loss: 0.1749 - accuracy: 0.9267\n",
      "Epoch 395/1000\n",
      "105/105 [==============================] - 0s 1ms/step - loss: 0.1990 - accuracy: 0.9157\n",
      "Epoch 396/1000\n",
      "105/105 [==============================] - 0s 1ms/step - loss: 0.1829 - accuracy: 0.9305\n",
      "Epoch 397/1000\n",
      "105/105 [==============================] - 0s 1ms/step - loss: 0.1649 - accuracy: 0.9336\n",
      "Epoch 398/1000\n",
      "105/105 [==============================] - 0s 1ms/step - loss: 0.1824 - accuracy: 0.9325\n",
      "Epoch 399/1000\n",
      "105/105 [==============================] - 0s 1ms/step - loss: 0.1939 - accuracy: 0.9247\n",
      "Epoch 400/1000\n",
      "105/105 [==============================] - 0s 1ms/step - loss: 0.1718 - accuracy: 0.9364\n",
      "Epoch 401/1000\n",
      "105/105 [==============================] - 0s 1ms/step - loss: 0.1875 - accuracy: 0.9279\n",
      "Epoch 402/1000\n",
      "105/105 [==============================] - 0s 1ms/step - loss: 0.1751 - accuracy: 0.9309\n",
      "Epoch 403/1000\n",
      "105/105 [==============================] - 0s 1ms/step - loss: 0.1842 - accuracy: 0.9262\n",
      "Epoch 404/1000\n",
      "105/105 [==============================] - 0s 1ms/step - loss: 0.1927 - accuracy: 0.9250\n",
      "Epoch 405/1000\n",
      "105/105 [==============================] - 0s 1ms/step - loss: 0.1791 - accuracy: 0.9307\n",
      "Epoch 406/1000\n",
      "105/105 [==============================] - 0s 1ms/step - loss: 0.1824 - accuracy: 0.9225\n",
      "Epoch 407/1000\n",
      "105/105 [==============================] - 0s 1ms/step - loss: 0.1796 - accuracy: 0.9227\n",
      "Epoch 408/1000\n",
      "105/105 [==============================] - 0s 1ms/step - loss: 0.1850 - accuracy: 0.9271\n",
      "Epoch 409/1000\n",
      "105/105 [==============================] - 0s 1ms/step - loss: 0.1741 - accuracy: 0.9344\n",
      "Epoch 410/1000\n",
      "105/105 [==============================] - 0s 1ms/step - loss: 0.1741 - accuracy: 0.9373\n",
      "Epoch 411/1000\n",
      "105/105 [==============================] - 0s 1ms/step - loss: 0.1603 - accuracy: 0.9379\n",
      "Epoch 412/1000\n",
      "105/105 [==============================] - 0s 1ms/step - loss: 0.1787 - accuracy: 0.9304\n",
      "Epoch 413/1000\n",
      "105/105 [==============================] - 0s 1ms/step - loss: 0.1822 - accuracy: 0.9320\n",
      "Epoch 414/1000\n",
      "105/105 [==============================] - 0s 1ms/step - loss: 0.1928 - accuracy: 0.9235\n",
      "Epoch 415/1000\n",
      "105/105 [==============================] - 0s 1ms/step - loss: 0.1808 - accuracy: 0.9300\n",
      "Epoch 416/1000\n",
      "105/105 [==============================] - 0s 1ms/step - loss: 0.1961 - accuracy: 0.9151\n",
      "Epoch 417/1000\n",
      "105/105 [==============================] - 0s 991us/step - loss: 0.1601 - accuracy: 0.9386\n",
      "Epoch 418/1000\n",
      "105/105 [==============================] - 0s 1ms/step - loss: 0.1877 - accuracy: 0.9242\n",
      "Epoch 419/1000\n",
      "105/105 [==============================] - 0s 1ms/step - loss: 0.1793 - accuracy: 0.9236\n",
      "Epoch 420/1000\n",
      "105/105 [==============================] - 0s 1ms/step - loss: 0.1839 - accuracy: 0.9232\n",
      "Epoch 421/1000\n",
      "105/105 [==============================] - 0s 1ms/step - loss: 0.1530 - accuracy: 0.9366\n",
      "Epoch 422/1000\n",
      "105/105 [==============================] - 0s 1ms/step - loss: 0.1750 - accuracy: 0.9271\n",
      "Epoch 423/1000\n",
      "105/105 [==============================] - 0s 981us/step - loss: 0.1857 - accuracy: 0.9211\n",
      "Epoch 424/1000\n",
      "105/105 [==============================] - 0s 1ms/step - loss: 0.1734 - accuracy: 0.9282\n",
      "Epoch 425/1000\n",
      "105/105 [==============================] - 0s 1ms/step - loss: 0.1838 - accuracy: 0.9280\n",
      "Epoch 426/1000\n",
      "105/105 [==============================] - 0s 1ms/step - loss: 0.1726 - accuracy: 0.9269\n",
      "Epoch 427/1000\n",
      "105/105 [==============================] - 0s 1ms/step - loss: 0.1688 - accuracy: 0.9334\n",
      "Epoch 428/1000\n",
      "105/105 [==============================] - 0s 1ms/step - loss: 0.1786 - accuracy: 0.9331\n",
      "Epoch 429/1000\n",
      "105/105 [==============================] - 0s 1ms/step - loss: 0.1949 - accuracy: 0.9239\n",
      "Epoch 430/1000\n",
      "105/105 [==============================] - 0s 1ms/step - loss: 0.2006 - accuracy: 0.9141\n",
      "Epoch 431/1000\n",
      "105/105 [==============================] - 0s 1ms/step - loss: 0.1821 - accuracy: 0.9347\n",
      "Epoch 432/1000\n",
      "105/105 [==============================] - 0s 1ms/step - loss: 0.1951 - accuracy: 0.9195\n",
      "Epoch 433/1000\n",
      "105/105 [==============================] - 0s 1ms/step - loss: 0.1804 - accuracy: 0.9325\n",
      "Epoch 434/1000\n",
      "105/105 [==============================] - 0s 1ms/step - loss: 0.1841 - accuracy: 0.9295\n",
      "Epoch 435/1000\n",
      "105/105 [==============================] - 0s 1ms/step - loss: 0.1664 - accuracy: 0.9349\n",
      "Epoch 436/1000\n",
      "105/105 [==============================] - 0s 1ms/step - loss: 0.1831 - accuracy: 0.9223\n",
      "Epoch 437/1000\n",
      "105/105 [==============================] - 0s 1ms/step - loss: 0.1782 - accuracy: 0.9324\n",
      "Epoch 438/1000\n",
      "105/105 [==============================] - 0s 1ms/step - loss: 0.1752 - accuracy: 0.9277\n",
      "Epoch 439/1000\n",
      "105/105 [==============================] - 0s 1ms/step - loss: 0.1803 - accuracy: 0.9231\n",
      "Epoch 440/1000\n",
      "105/105 [==============================] - 0s 1ms/step - loss: 0.1923 - accuracy: 0.9262\n",
      "Epoch 441/1000\n",
      "105/105 [==============================] - 0s 991us/step - loss: 0.1843 - accuracy: 0.9277\n",
      "Epoch 442/1000\n",
      "105/105 [==============================] - 0s 1ms/step - loss: 0.1753 - accuracy: 0.9331\n",
      "Epoch 443/1000\n",
      "105/105 [==============================] - 0s 1ms/step - loss: 0.1924 - accuracy: 0.9199\n",
      "Epoch 444/1000\n",
      "105/105 [==============================] - 0s 952us/step - loss: 0.1703 - accuracy: 0.9317\n",
      "Epoch 445/1000\n",
      "105/105 [==============================] - 0s 981us/step - loss: 0.2055 - accuracy: 0.9156\n",
      "Epoch 446/1000\n",
      "105/105 [==============================] - 0s 1ms/step - loss: 0.1668 - accuracy: 0.9378\n",
      "Epoch 447/1000\n",
      "105/105 [==============================] - 0s 943us/step - loss: 0.1699 - accuracy: 0.9362\n",
      "Epoch 448/1000\n",
      "105/105 [==============================] - 0s 1ms/step - loss: 0.1644 - accuracy: 0.9347\n",
      "Epoch 449/1000\n",
      "105/105 [==============================] - 0s 971us/step - loss: 0.1853 - accuracy: 0.9240\n",
      "Epoch 450/1000\n",
      "105/105 [==============================] - 0s 1ms/step - loss: 0.2051 - accuracy: 0.9056\n",
      "Epoch 451/1000\n",
      "105/105 [==============================] - 0s 1ms/step - loss: 0.1658 - accuracy: 0.9316\n",
      "Epoch 452/1000\n",
      "105/105 [==============================] - 0s 1ms/step - loss: 0.1974 - accuracy: 0.9198\n",
      "Epoch 453/1000\n",
      "105/105 [==============================] - 0s 981us/step - loss: 0.1806 - accuracy: 0.9251\n",
      "Epoch 454/1000\n",
      "105/105 [==============================] - 0s 1ms/step - loss: 0.1715 - accuracy: 0.9293\n",
      "Epoch 455/1000\n",
      "105/105 [==============================] - 0s 1ms/step - loss: 0.1963 - accuracy: 0.9187\n",
      "Epoch 456/1000\n",
      "105/105 [==============================] - 0s 1ms/step - loss: 0.1855 - accuracy: 0.9218\n",
      "Epoch 457/1000\n",
      "105/105 [==============================] - 0s 1ms/step - loss: 0.1663 - accuracy: 0.9343\n",
      "Epoch 458/1000\n",
      "105/105 [==============================] - 0s 1ms/step - loss: 0.1757 - accuracy: 0.9287\n",
      "Epoch 459/1000\n",
      "105/105 [==============================] - 0s 1ms/step - loss: 0.1718 - accuracy: 0.9298\n",
      "Epoch 460/1000\n",
      "105/105 [==============================] - 0s 1ms/step - loss: 0.1818 - accuracy: 0.9282\n",
      "Epoch 461/1000\n",
      "105/105 [==============================] - 0s 981us/step - loss: 0.1751 - accuracy: 0.9274\n",
      "Epoch 462/1000\n",
      "105/105 [==============================] - 0s 1ms/step - loss: 0.1983 - accuracy: 0.9229\n",
      "Epoch 463/1000\n",
      "105/105 [==============================] - 0s 952us/step - loss: 0.1777 - accuracy: 0.9337\n",
      "Epoch 464/1000\n",
      "105/105 [==============================] - 0s 1ms/step - loss: 0.1657 - accuracy: 0.9333\n",
      "Epoch 465/1000\n",
      "105/105 [==============================] - 0s 1ms/step - loss: 0.1927 - accuracy: 0.9167\n",
      "Epoch 466/1000\n",
      "105/105 [==============================] - 0s 1ms/step - loss: 0.1701 - accuracy: 0.9331\n",
      "Epoch 467/1000\n",
      "105/105 [==============================] - 0s 1ms/step - loss: 0.1662 - accuracy: 0.9345\n",
      "Epoch 468/1000\n",
      "105/105 [==============================] - 0s 1ms/step - loss: 0.1630 - accuracy: 0.9366\n",
      "Epoch 469/1000\n",
      "105/105 [==============================] - 0s 1ms/step - loss: 0.1814 - accuracy: 0.9290\n",
      "Epoch 470/1000\n"
     ]
    },
    {
     "name": "stdout",
     "output_type": "stream",
     "text": [
      "105/105 [==============================] - 0s 1ms/step - loss: 0.1719 - accuracy: 0.9338\n",
      "Epoch 471/1000\n",
      "105/105 [==============================] - 0s 1ms/step - loss: 0.1843 - accuracy: 0.9226\n",
      "Epoch 472/1000\n",
      "105/105 [==============================] - 0s 1ms/step - loss: 0.1748 - accuracy: 0.9238\n",
      "Epoch 473/1000\n",
      "105/105 [==============================] - 0s 1ms/step - loss: 0.1773 - accuracy: 0.9283\n",
      "Epoch 474/1000\n",
      "105/105 [==============================] - 0s 1ms/step - loss: 0.1898 - accuracy: 0.9257\n",
      "Epoch 475/1000\n",
      "105/105 [==============================] - 0s 1ms/step - loss: 0.1715 - accuracy: 0.9306\n",
      "Epoch 476/1000\n",
      "105/105 [==============================] - 0s 1ms/step - loss: 0.1740 - accuracy: 0.9282\n",
      "Epoch 477/1000\n",
      "105/105 [==============================] - 0s 1ms/step - loss: 0.1733 - accuracy: 0.9303\n",
      "Epoch 478/1000\n",
      "105/105 [==============================] - 0s 1ms/step - loss: 0.1743 - accuracy: 0.9340\n",
      "Epoch 479/1000\n",
      "105/105 [==============================] - 0s 1ms/step - loss: 0.1911 - accuracy: 0.9233\n",
      "Epoch 480/1000\n",
      "105/105 [==============================] - 0s 1ms/step - loss: 0.1910 - accuracy: 0.9221\n",
      "Epoch 481/1000\n",
      "105/105 [==============================] - 0s 1ms/step - loss: 0.1535 - accuracy: 0.9403\n",
      "Epoch 482/1000\n",
      "105/105 [==============================] - 0s 952us/step - loss: 0.1759 - accuracy: 0.9328\n",
      "Epoch 483/1000\n",
      "105/105 [==============================] - 0s 1ms/step - loss: 0.1618 - accuracy: 0.9354\n",
      "Epoch 484/1000\n",
      "105/105 [==============================] - 0s 1ms/step - loss: 0.1889 - accuracy: 0.9208\n",
      "Epoch 485/1000\n",
      "105/105 [==============================] - 0s 1ms/step - loss: 0.1744 - accuracy: 0.9260\n",
      "Epoch 486/1000\n",
      "105/105 [==============================] - 0s 1ms/step - loss: 0.1673 - accuracy: 0.9360\n",
      "Epoch 487/1000\n",
      "105/105 [==============================] - 0s 1ms/step - loss: 0.1778 - accuracy: 0.9273\n",
      "Epoch 488/1000\n",
      "105/105 [==============================] - 0s 1ms/step - loss: 0.1636 - accuracy: 0.9368\n",
      "Epoch 489/1000\n",
      "105/105 [==============================] - 0s 1ms/step - loss: 0.1744 - accuracy: 0.9225\n",
      "Epoch 490/1000\n",
      "105/105 [==============================] - 0s 991us/step - loss: 0.1735 - accuracy: 0.9296\n",
      "Epoch 491/1000\n",
      "105/105 [==============================] - 0s 1ms/step - loss: 0.2233 - accuracy: 0.9009\n",
      "Epoch 492/1000\n",
      "105/105 [==============================] - 0s 1ms/step - loss: 0.1679 - accuracy: 0.9280\n",
      "Epoch 493/1000\n",
      "105/105 [==============================] - 0s 1ms/step - loss: 0.1626 - accuracy: 0.9358\n",
      "Epoch 494/1000\n",
      "105/105 [==============================] - 0s 1ms/step - loss: 0.1601 - accuracy: 0.9332\n",
      "Epoch 495/1000\n",
      "105/105 [==============================] - 0s 1ms/step - loss: 0.1942 - accuracy: 0.9191\n",
      "Epoch 496/1000\n",
      "105/105 [==============================] - ETA: 0s - loss: 0.1617 - accuracy: 0.93 - 0s 1ms/step - loss: 0.1623 - accuracy: 0.9360\n",
      "Epoch 497/1000\n",
      "105/105 [==============================] - 0s 1ms/step - loss: 0.1682 - accuracy: 0.9297\n",
      "Epoch 498/1000\n",
      "105/105 [==============================] - 0s 1ms/step - loss: 0.1748 - accuracy: 0.9281\n",
      "Epoch 499/1000\n",
      "105/105 [==============================] - 0s 1ms/step - loss: 0.1609 - accuracy: 0.9371\n",
      "Epoch 500/1000\n",
      "105/105 [==============================] - 0s 1ms/step - loss: 0.1788 - accuracy: 0.9290\n",
      "Epoch 501/1000\n",
      "105/105 [==============================] - 0s 1ms/step - loss: 0.1779 - accuracy: 0.9300\n",
      "Epoch 502/1000\n",
      "105/105 [==============================] - 0s 1ms/step - loss: 0.1585 - accuracy: 0.9345\n",
      "Epoch 503/1000\n",
      "105/105 [==============================] - 0s 1ms/step - loss: 0.1684 - accuracy: 0.9279\n",
      "Epoch 504/1000\n",
      "105/105 [==============================] - 0s 1ms/step - loss: 0.1761 - accuracy: 0.9344\n",
      "Epoch 505/1000\n",
      "105/105 [==============================] - 0s 1ms/step - loss: 0.1618 - accuracy: 0.9371\n",
      "Epoch 506/1000\n",
      "105/105 [==============================] - ETA: 0s - loss: 0.1750 - accuracy: 0.92 - 0s 1ms/step - loss: 0.1747 - accuracy: 0.9258\n",
      "Epoch 507/1000\n",
      "105/105 [==============================] - 0s 1ms/step - loss: 0.1556 - accuracy: 0.9406\n",
      "Epoch 508/1000\n",
      "105/105 [==============================] - 0s 1ms/step - loss: 0.1761 - accuracy: 0.9287\n",
      "Epoch 509/1000\n",
      "105/105 [==============================] - 0s 1ms/step - loss: 0.1730 - accuracy: 0.9294\n",
      "Epoch 510/1000\n",
      "105/105 [==============================] - 0s 1ms/step - loss: 0.2283 - accuracy: 0.9075\n",
      "Epoch 511/1000\n",
      "105/105 [==============================] - 0s 1ms/step - loss: 0.1598 - accuracy: 0.9326\n",
      "Epoch 512/1000\n",
      "105/105 [==============================] - 0s 1ms/step - loss: 0.2019 - accuracy: 0.9300\n",
      "Epoch 513/1000\n",
      "105/105 [==============================] - 0s 1ms/step - loss: 0.1868 - accuracy: 0.9267\n",
      "Epoch 514/1000\n",
      "105/105 [==============================] - 0s 1ms/step - loss: 0.1578 - accuracy: 0.9411\n",
      "Epoch 515/1000\n",
      "105/105 [==============================] - 0s 1ms/step - loss: 0.1935 - accuracy: 0.9159\n",
      "Epoch 516/1000\n",
      "105/105 [==============================] - 0s 1ms/step - loss: 0.1717 - accuracy: 0.9246\n",
      "Epoch 517/1000\n",
      "105/105 [==============================] - 0s 1ms/step - loss: 0.2092 - accuracy: 0.9144\n",
      "Epoch 518/1000\n",
      "105/105 [==============================] - 0s 1ms/step - loss: 0.1623 - accuracy: 0.9334\n",
      "Epoch 519/1000\n",
      "105/105 [==============================] - 0s 1ms/step - loss: 0.1705 - accuracy: 0.9310\n",
      "Epoch 520/1000\n",
      "105/105 [==============================] - 0s 991us/step - loss: 0.1601 - accuracy: 0.9344\n",
      "Epoch 521/1000\n",
      "105/105 [==============================] - 0s 981us/step - loss: 0.1664 - accuracy: 0.9312\n",
      "Epoch 522/1000\n",
      "105/105 [==============================] - 0s 1ms/step - loss: 0.1635 - accuracy: 0.9357\n",
      "Epoch 523/1000\n",
      "105/105 [==============================] - 0s 981us/step - loss: 0.2063 - accuracy: 0.9198\n",
      "Epoch 524/1000\n",
      "105/105 [==============================] - 0s 1ms/step - loss: 0.1602 - accuracy: 0.9372\n",
      "Epoch 525/1000\n",
      "105/105 [==============================] - 0s 1ms/step - loss: 0.1558 - accuracy: 0.9408\n",
      "Epoch 526/1000\n",
      "105/105 [==============================] - 0s 991us/step - loss: 0.1821 - accuracy: 0.9229\n",
      "Epoch 527/1000\n",
      "105/105 [==============================] - 0s 1ms/step - loss: 0.1631 - accuracy: 0.9319\n",
      "Epoch 528/1000\n",
      "105/105 [==============================] - 0s 1ms/step - loss: 0.1890 - accuracy: 0.9236\n",
      "Epoch 529/1000\n",
      "105/105 [==============================] - 0s 952us/step - loss: 0.1656 - accuracy: 0.9341\n",
      "Epoch 530/1000\n",
      "105/105 [==============================] - 0s 952us/step - loss: 0.1637 - accuracy: 0.9299\n",
      "Epoch 531/1000\n",
      "105/105 [==============================] - 0s 1ms/step - loss: 0.1580 - accuracy: 0.9317\n",
      "Epoch 532/1000\n",
      "105/105 [==============================] - 0s 1ms/step - loss: 0.1685 - accuracy: 0.9309\n",
      "Epoch 533/1000\n",
      "105/105 [==============================] - 0s 1ms/step - loss: 0.1581 - accuracy: 0.9379\n",
      "Epoch 534/1000\n",
      "105/105 [==============================] - 0s 1ms/step - loss: 0.1572 - accuracy: 0.9395\n",
      "Epoch 535/1000\n",
      "105/105 [==============================] - 0s 1ms/step - loss: 0.1738 - accuracy: 0.9265\n",
      "Epoch 536/1000\n",
      "105/105 [==============================] - 0s 1ms/step - loss: 0.1696 - accuracy: 0.9367\n",
      "Epoch 537/1000\n",
      "105/105 [==============================] - 0s 1ms/step - loss: 0.1697 - accuracy: 0.9300\n",
      "Epoch 538/1000\n",
      "105/105 [==============================] - 0s 1ms/step - loss: 0.1642 - accuracy: 0.9327\n",
      "Epoch 539/1000\n",
      "105/105 [==============================] - 0s 1ms/step - loss: 0.2116 - accuracy: 0.9179\n",
      "Epoch 540/1000\n",
      "105/105 [==============================] - 0s 1ms/step - loss: 0.1946 - accuracy: 0.9190\n",
      "Epoch 541/1000\n",
      "105/105 [==============================] - 0s 1ms/step - loss: 0.1508 - accuracy: 0.9446\n",
      "Epoch 542/1000\n",
      "105/105 [==============================] - 0s 1ms/step - loss: 0.1585 - accuracy: 0.9383\n",
      "Epoch 543/1000\n",
      "105/105 [==============================] - 0s 1ms/step - loss: 0.1861 - accuracy: 0.9207\n",
      "Epoch 544/1000\n",
      "105/105 [==============================] - 0s 1ms/step - loss: 0.1701 - accuracy: 0.9324\n",
      "Epoch 545/1000\n",
      "105/105 [==============================] - 0s 1ms/step - loss: 0.1842 - accuracy: 0.9258\n",
      "Epoch 546/1000\n",
      "105/105 [==============================] - 0s 1ms/step - loss: 0.1732 - accuracy: 0.9246\n",
      "Epoch 547/1000\n",
      "105/105 [==============================] - 0s 1ms/step - loss: 0.1531 - accuracy: 0.9363\n"
     ]
    },
    {
     "name": "stdout",
     "output_type": "stream",
     "text": [
      "Epoch 548/1000\n",
      "105/105 [==============================] - 0s 1ms/step - loss: 0.1500 - accuracy: 0.9371\n",
      "Epoch 549/1000\n",
      "105/105 [==============================] - 0s 1ms/step - loss: 0.1667 - accuracy: 0.9330\n",
      "Epoch 550/1000\n",
      "105/105 [==============================] - 0s 1ms/step - loss: 0.1827 - accuracy: 0.9269\n",
      "Epoch 551/1000\n",
      "105/105 [==============================] - 0s 1ms/step - loss: 0.1556 - accuracy: 0.9342\n",
      "Epoch 552/1000\n",
      "105/105 [==============================] - 0s 1ms/step - loss: 0.1723 - accuracy: 0.9302\n",
      "Epoch 553/1000\n",
      "105/105 [==============================] - 0s 1ms/step - loss: 0.1885 - accuracy: 0.9221\n",
      "Epoch 554/1000\n",
      "105/105 [==============================] - 0s 1ms/step - loss: 0.1572 - accuracy: 0.9400\n",
      "Epoch 555/1000\n",
      "105/105 [==============================] - 0s 1ms/step - loss: 0.1812 - accuracy: 0.9262\n",
      "Epoch 556/1000\n",
      "105/105 [==============================] - 0s 1ms/step - loss: 0.1552 - accuracy: 0.9384\n",
      "Epoch 557/1000\n",
      "105/105 [==============================] - 0s 1ms/step - loss: 0.1631 - accuracy: 0.9338\n",
      "Epoch 558/1000\n",
      "105/105 [==============================] - 0s 1ms/step - loss: 0.1566 - accuracy: 0.9451\n",
      "Epoch 559/1000\n",
      "105/105 [==============================] - 0s 1ms/step - loss: 0.1599 - accuracy: 0.9308\n",
      "Epoch 560/1000\n",
      "105/105 [==============================] - 0s 1ms/step - loss: 0.2068 - accuracy: 0.9186\n",
      "Epoch 561/1000\n",
      "105/105 [==============================] - 0s 1ms/step - loss: 0.1698 - accuracy: 0.9349\n",
      "Epoch 562/1000\n",
      "105/105 [==============================] - 0s 1ms/step - loss: 0.1645 - accuracy: 0.9332\n",
      "Epoch 563/1000\n",
      "105/105 [==============================] - 0s 1ms/step - loss: 0.1395 - accuracy: 0.9428\n",
      "Epoch 564/1000\n",
      "105/105 [==============================] - 0s 1ms/step - loss: 0.1687 - accuracy: 0.9293\n",
      "Epoch 565/1000\n",
      "105/105 [==============================] - 0s 1ms/step - loss: 0.1556 - accuracy: 0.9356\n",
      "Epoch 566/1000\n",
      "105/105 [==============================] - 0s 1ms/step - loss: 0.1543 - accuracy: 0.9342\n",
      "Epoch 567/1000\n",
      "105/105 [==============================] - 0s 1ms/step - loss: 0.1534 - accuracy: 0.9394\n",
      "Epoch 568/1000\n",
      "105/105 [==============================] - 0s 1ms/step - loss: 0.1795 - accuracy: 0.9187\n",
      "Epoch 569/1000\n",
      "105/105 [==============================] - 0s 1ms/step - loss: 0.1789 - accuracy: 0.9266\n",
      "Epoch 570/1000\n",
      "105/105 [==============================] - 0s 1ms/step - loss: 0.1538 - accuracy: 0.9415\n",
      "Epoch 571/1000\n",
      "105/105 [==============================] - 0s 1ms/step - loss: 0.1953 - accuracy: 0.9172\n",
      "Epoch 572/1000\n",
      "105/105 [==============================] - 0s 1ms/step - loss: 0.1537 - accuracy: 0.9348\n",
      "Epoch 573/1000\n",
      "105/105 [==============================] - 0s 1ms/step - loss: 0.1544 - accuracy: 0.9355\n",
      "Epoch 574/1000\n",
      "105/105 [==============================] - 0s 1ms/step - loss: 0.1613 - accuracy: 0.9369\n",
      "Epoch 575/1000\n",
      "105/105 [==============================] - 0s 1ms/step - loss: 0.1710 - accuracy: 0.9331\n",
      "Epoch 576/1000\n",
      "105/105 [==============================] - 0s 1ms/step - loss: 0.1520 - accuracy: 0.9351\n",
      "Epoch 577/1000\n",
      "105/105 [==============================] - 0s 1ms/step - loss: 0.1592 - accuracy: 0.9373\n",
      "Epoch 578/1000\n",
      "105/105 [==============================] - 0s 1ms/step - loss: 0.1584 - accuracy: 0.9323\n",
      "Epoch 579/1000\n",
      "105/105 [==============================] - 0s 1ms/step - loss: 0.1504 - accuracy: 0.9331\n",
      "Epoch 580/1000\n",
      "105/105 [==============================] - 0s 1ms/step - loss: 0.1584 - accuracy: 0.9347\n",
      "Epoch 581/1000\n",
      "105/105 [==============================] - 0s 1ms/step - loss: 0.1594 - accuracy: 0.9299\n",
      "Epoch 582/1000\n",
      "105/105 [==============================] - 0s 1ms/step - loss: 0.1517 - accuracy: 0.9351\n",
      "Epoch 583/1000\n",
      "105/105 [==============================] - 0s 1ms/step - loss: 0.1507 - accuracy: 0.9370\n",
      "Epoch 584/1000\n",
      "105/105 [==============================] - 0s 1ms/step - loss: 0.1717 - accuracy: 0.9311\n",
      "Epoch 585/1000\n",
      "105/105 [==============================] - 0s 1ms/step - loss: 0.1864 - accuracy: 0.9267\n",
      "Epoch 586/1000\n",
      "105/105 [==============================] - 0s 1ms/step - loss: 0.1470 - accuracy: 0.9467\n",
      "Epoch 587/1000\n",
      "105/105 [==============================] - 0s 1ms/step - loss: 0.1708 - accuracy: 0.9211\n",
      "Epoch 588/1000\n",
      "105/105 [==============================] - 0s 1ms/step - loss: 0.1649 - accuracy: 0.9329\n",
      "Epoch 589/1000\n",
      "105/105 [==============================] - 0s 1ms/step - loss: 0.1602 - accuracy: 0.9352\n",
      "Epoch 590/1000\n",
      "105/105 [==============================] - 0s 1ms/step - loss: 0.1612 - accuracy: 0.9309\n",
      "Epoch 591/1000\n",
      "105/105 [==============================] - 0s 1ms/step - loss: 0.1834 - accuracy: 0.9248\n",
      "Epoch 592/1000\n",
      "105/105 [==============================] - 0s 1ms/step - loss: 0.1656 - accuracy: 0.9304\n",
      "Epoch 593/1000\n",
      "105/105 [==============================] - 0s 1ms/step - loss: 0.1730 - accuracy: 0.9310\n",
      "Epoch 594/1000\n",
      "105/105 [==============================] - 0s 1ms/step - loss: 0.1607 - accuracy: 0.9389\n",
      "Epoch 595/1000\n",
      "105/105 [==============================] - 0s 991us/step - loss: 0.1723 - accuracy: 0.9305\n",
      "Epoch 596/1000\n",
      "105/105 [==============================] - 0s 1ms/step - loss: 0.1536 - accuracy: 0.9378\n",
      "Epoch 597/1000\n",
      "105/105 [==============================] - 0s 1ms/step - loss: 0.1867 - accuracy: 0.9230\n",
      "Epoch 598/1000\n",
      "105/105 [==============================] - 0s 1ms/step - loss: 0.1950 - accuracy: 0.9231\n",
      "Epoch 599/1000\n",
      "105/105 [==============================] - 0s 1ms/step - loss: 0.1644 - accuracy: 0.9320\n",
      "Epoch 600/1000\n",
      "105/105 [==============================] - 0s 1ms/step - loss: 0.1559 - accuracy: 0.9385\n",
      "Epoch 601/1000\n",
      "105/105 [==============================] - 0s 1ms/step - loss: 0.1401 - accuracy: 0.9446\n",
      "Epoch 602/1000\n",
      "105/105 [==============================] - 0s 1ms/step - loss: 0.1589 - accuracy: 0.9357\n",
      "Epoch 603/1000\n",
      "105/105 [==============================] - 0s 1ms/step - loss: 0.1488 - accuracy: 0.9374\n",
      "Epoch 604/1000\n",
      "105/105 [==============================] - 0s 1ms/step - loss: 0.1642 - accuracy: 0.9333\n",
      "Epoch 605/1000\n",
      "105/105 [==============================] - 0s 1ms/step - loss: 0.1895 - accuracy: 0.9185\n",
      "Epoch 606/1000\n",
      "105/105 [==============================] - 0s 981us/step - loss: 0.1427 - accuracy: 0.9424\n",
      "Epoch 607/1000\n",
      "105/105 [==============================] - 0s 971us/step - loss: 0.1791 - accuracy: 0.9221\n",
      "Epoch 608/1000\n",
      "105/105 [==============================] - 0s 991us/step - loss: 0.1518 - accuracy: 0.9407\n",
      "Epoch 609/1000\n",
      "105/105 [==============================] - 0s 1ms/step - loss: 0.1672 - accuracy: 0.9270\n",
      "Epoch 610/1000\n",
      "105/105 [==============================] - 0s 1ms/step - loss: 0.1614 - accuracy: 0.9373\n",
      "Epoch 611/1000\n",
      "105/105 [==============================] - 0s 1ms/step - loss: 0.1568 - accuracy: 0.9347\n",
      "Epoch 612/1000\n",
      "105/105 [==============================] - 0s 1ms/step - loss: 0.1409 - accuracy: 0.9422\n",
      "Epoch 613/1000\n",
      "105/105 [==============================] - 0s 2ms/step - loss: 0.1539 - accuracy: 0.9297\n",
      "Epoch 614/1000\n",
      "105/105 [==============================] - 0s 1ms/step - loss: 0.1651 - accuracy: 0.9318\n",
      "Epoch 615/1000\n",
      "105/105 [==============================] - 0s 2ms/step - loss: 0.2070 - accuracy: 0.9114\n",
      "Epoch 616/1000\n",
      "105/105 [==============================] - 0s 1ms/step - loss: 0.1369 - accuracy: 0.9445\n",
      "Epoch 617/1000\n",
      "105/105 [==============================] - 0s 1ms/step - loss: 0.1826 - accuracy: 0.9279\n",
      "Epoch 618/1000\n",
      "105/105 [==============================] - 0s 1ms/step - loss: 0.1543 - accuracy: 0.9396\n",
      "Epoch 619/1000\n",
      "105/105 [==============================] - 0s 1ms/step - loss: 0.1442 - accuracy: 0.9422\n",
      "Epoch 620/1000\n",
      "105/105 [==============================] - 0s 1ms/step - loss: 0.1413 - accuracy: 0.9484\n",
      "Epoch 621/1000\n",
      "105/105 [==============================] - 0s 1ms/step - loss: 0.1681 - accuracy: 0.9323\n",
      "Epoch 622/1000\n",
      "105/105 [==============================] - 0s 1ms/step - loss: 0.1567 - accuracy: 0.9379\n",
      "Epoch 623/1000\n",
      "105/105 [==============================] - 0s 1ms/step - loss: 0.1532 - accuracy: 0.9366\n",
      "Epoch 624/1000\n",
      "105/105 [==============================] - 0s 1ms/step - loss: 0.1732 - accuracy: 0.9248\n",
      "Epoch 625/1000\n",
      "105/105 [==============================] - 0s 1ms/step - loss: 0.1505 - accuracy: 0.9367\n",
      "Epoch 626/1000\n"
     ]
    },
    {
     "name": "stdout",
     "output_type": "stream",
     "text": [
      "105/105 [==============================] - 0s 1ms/step - loss: 0.1662 - accuracy: 0.9336\n",
      "Epoch 627/1000\n",
      "105/105 [==============================] - 0s 1ms/step - loss: 0.1482 - accuracy: 0.9388\n",
      "Epoch 628/1000\n",
      "105/105 [==============================] - 0s 981us/step - loss: 0.1533 - accuracy: 0.9392\n",
      "Epoch 629/1000\n",
      "105/105 [==============================] - 0s 1ms/step - loss: 0.1778 - accuracy: 0.9271\n",
      "Epoch 630/1000\n",
      "105/105 [==============================] - 0s 1ms/step - loss: 0.1704 - accuracy: 0.9348\n",
      "Epoch 631/1000\n",
      "105/105 [==============================] - 0s 991us/step - loss: 0.1622 - accuracy: 0.9348\n",
      "Epoch 632/1000\n",
      "105/105 [==============================] - 0s 991us/step - loss: 0.1591 - accuracy: 0.9366\n",
      "Epoch 633/1000\n",
      "105/105 [==============================] - 0s 1ms/step - loss: 0.1440 - accuracy: 0.9428\n",
      "Epoch 634/1000\n",
      "105/105 [==============================] - 0s 1ms/step - loss: 0.1536 - accuracy: 0.9362\n",
      "Epoch 635/1000\n",
      "105/105 [==============================] - 0s 1ms/step - loss: 0.1709 - accuracy: 0.9297\n",
      "Epoch 636/1000\n",
      "105/105 [==============================] - 0s 1ms/step - loss: 0.1503 - accuracy: 0.9437\n",
      "Epoch 637/1000\n",
      "105/105 [==============================] - 0s 1ms/step - loss: 0.1688 - accuracy: 0.9306\n",
      "Epoch 638/1000\n",
      "105/105 [==============================] - 0s 1ms/step - loss: 0.1429 - accuracy: 0.9422\n",
      "Epoch 639/1000\n",
      "105/105 [==============================] - 0s 1ms/step - loss: 0.1476 - accuracy: 0.9427\n",
      "Epoch 640/1000\n",
      "105/105 [==============================] - 0s 1ms/step - loss: 0.1882 - accuracy: 0.9208\n",
      "Epoch 641/1000\n",
      "105/105 [==============================] - 0s 1ms/step - loss: 0.1445 - accuracy: 0.9418\n",
      "Epoch 642/1000\n",
      "105/105 [==============================] - 0s 1ms/step - loss: 0.1632 - accuracy: 0.9290\n",
      "Epoch 643/1000\n",
      "105/105 [==============================] - 0s 1ms/step - loss: 0.1678 - accuracy: 0.9291\n",
      "Epoch 644/1000\n",
      "105/105 [==============================] - 0s 1ms/step - loss: 0.1636 - accuracy: 0.9326\n",
      "Epoch 645/1000\n",
      "105/105 [==============================] - 0s 1ms/step - loss: 0.1506 - accuracy: 0.9339\n",
      "Epoch 646/1000\n",
      "105/105 [==============================] - 0s 1ms/step - loss: 0.1685 - accuracy: 0.9253\n",
      "Epoch 647/1000\n",
      "105/105 [==============================] - 0s 1ms/step - loss: 0.1559 - accuracy: 0.9358\n",
      "Epoch 648/1000\n",
      "105/105 [==============================] - 0s 971us/step - loss: 0.1632 - accuracy: 0.9345\n",
      "Epoch 649/1000\n",
      "105/105 [==============================] - 0s 1ms/step - loss: 0.1602 - accuracy: 0.9362\n",
      "Epoch 650/1000\n",
      "105/105 [==============================] - 0s 1ms/step - loss: 0.1630 - accuracy: 0.9315\n",
      "Epoch 651/1000\n",
      "105/105 [==============================] - 0s 1ms/step - loss: 0.1425 - accuracy: 0.9444\n",
      "Epoch 652/1000\n",
      "105/105 [==============================] - 0s 1ms/step - loss: 0.2315 - accuracy: 0.8968\n",
      "Epoch 653/1000\n",
      "105/105 [==============================] - 0s 1ms/step - loss: 0.1570 - accuracy: 0.9402\n",
      "Epoch 654/1000\n",
      "105/105 [==============================] - 0s 1ms/step - loss: 0.1774 - accuracy: 0.9205\n",
      "Epoch 655/1000\n",
      "105/105 [==============================] - 0s 1ms/step - loss: 0.1411 - accuracy: 0.9444\n",
      "Epoch 656/1000\n",
      "105/105 [==============================] - 0s 1ms/step - loss: 0.1492 - accuracy: 0.9406\n",
      "Epoch 657/1000\n",
      "105/105 [==============================] - 0s 1ms/step - loss: 0.1639 - accuracy: 0.9352\n",
      "Epoch 658/1000\n",
      "105/105 [==============================] - 0s 1ms/step - loss: 0.1628 - accuracy: 0.9351\n",
      "Epoch 659/1000\n",
      "105/105 [==============================] - 0s 1ms/step - loss: 0.1553 - accuracy: 0.9377\n",
      "Epoch 660/1000\n",
      "105/105 [==============================] - 0s 1ms/step - loss: 0.1437 - accuracy: 0.9394\n",
      "Epoch 661/1000\n",
      "105/105 [==============================] - 0s 1ms/step - loss: 0.1644 - accuracy: 0.9315\n",
      "Epoch 662/1000\n",
      "105/105 [==============================] - 0s 1ms/step - loss: 0.1501 - accuracy: 0.9400\n",
      "Epoch 663/1000\n",
      "105/105 [==============================] - 0s 991us/step - loss: 0.1589 - accuracy: 0.9364\n",
      "Epoch 664/1000\n",
      "105/105 [==============================] - 0s 1ms/step - loss: 0.1524 - accuracy: 0.9366\n",
      "Epoch 665/1000\n",
      "105/105 [==============================] - 0s 1ms/step - loss: 0.1462 - accuracy: 0.9340\n",
      "Epoch 666/1000\n",
      "105/105 [==============================] - 0s 1ms/step - loss: 0.1422 - accuracy: 0.9398\n",
      "Epoch 667/1000\n",
      "105/105 [==============================] - 0s 1ms/step - loss: 0.1606 - accuracy: 0.9324: 0s - loss: 0.1599 - accuracy: 0.93\n",
      "Epoch 668/1000\n",
      "105/105 [==============================] - 0s 1ms/step - loss: 0.1606 - accuracy: 0.9334\n",
      "Epoch 669/1000\n",
      "105/105 [==============================] - 0s 971us/step - loss: 0.1454 - accuracy: 0.9448\n",
      "Epoch 670/1000\n",
      "105/105 [==============================] - 0s 1ms/step - loss: 0.1479 - accuracy: 0.9341\n",
      "Epoch 671/1000\n",
      "105/105 [==============================] - 0s 1ms/step - loss: 0.1517 - accuracy: 0.9369\n",
      "Epoch 672/1000\n",
      "105/105 [==============================] - 0s 1ms/step - loss: 0.1556 - accuracy: 0.9382\n",
      "Epoch 673/1000\n",
      "105/105 [==============================] - 0s 1ms/step - loss: 0.1632 - accuracy: 0.9339\n",
      "Epoch 674/1000\n",
      "105/105 [==============================] - 0s 1ms/step - loss: 0.1882 - accuracy: 0.9211\n",
      "Epoch 675/1000\n",
      "105/105 [==============================] - 0s 1ms/step - loss: 0.1755 - accuracy: 0.9258\n",
      "Epoch 676/1000\n",
      "105/105 [==============================] - 0s 1ms/step - loss: 0.1517 - accuracy: 0.9328\n",
      "Epoch 677/1000\n",
      "105/105 [==============================] - 0s 1ms/step - loss: 0.2006 - accuracy: 0.9229\n",
      "Epoch 678/1000\n",
      "105/105 [==============================] - 0s 1ms/step - loss: 0.1759 - accuracy: 0.9301\n",
      "Epoch 679/1000\n",
      "105/105 [==============================] - 0s 1ms/step - loss: 0.1370 - accuracy: 0.9432\n",
      "Epoch 680/1000\n",
      "105/105 [==============================] - 0s 1ms/step - loss: 0.1413 - accuracy: 0.9510\n",
      "Epoch 681/1000\n",
      "105/105 [==============================] - 0s 1ms/step - loss: 0.1560 - accuracy: 0.9300\n",
      "Epoch 682/1000\n",
      "105/105 [==============================] - 0s 1ms/step - loss: 0.1959 - accuracy: 0.9184\n",
      "Epoch 683/1000\n",
      "105/105 [==============================] - 0s 1ms/step - loss: 0.1564 - accuracy: 0.9353\n",
      "Epoch 684/1000\n",
      "105/105 [==============================] - 0s 1ms/step - loss: 0.1471 - accuracy: 0.9371\n",
      "Epoch 685/1000\n",
      "105/105 [==============================] - 0s 1ms/step - loss: 0.1356 - accuracy: 0.9463\n",
      "Epoch 686/1000\n",
      "105/105 [==============================] - 0s 1ms/step - loss: 0.1508 - accuracy: 0.9401\n",
      "Epoch 687/1000\n",
      "105/105 [==============================] - 0s 1ms/step - loss: 0.1521 - accuracy: 0.9372\n",
      "Epoch 688/1000\n",
      "105/105 [==============================] - 0s 1ms/step - loss: 0.1375 - accuracy: 0.9475\n",
      "Epoch 689/1000\n",
      "105/105 [==============================] - 0s 1ms/step - loss: 0.1567 - accuracy: 0.9314\n",
      "Epoch 690/1000\n",
      "105/105 [==============================] - 0s 1ms/step - loss: 0.1480 - accuracy: 0.9368\n",
      "Epoch 691/1000\n",
      "105/105 [==============================] - 0s 1ms/step - loss: 0.1479 - accuracy: 0.9434\n",
      "Epoch 692/1000\n",
      "105/105 [==============================] - 0s 1ms/step - loss: 0.1427 - accuracy: 0.9396\n",
      "Epoch 693/1000\n",
      "105/105 [==============================] - 0s 1ms/step - loss: 0.1598 - accuracy: 0.9376\n",
      "Epoch 694/1000\n",
      "105/105 [==============================] - 0s 1ms/step - loss: 0.1616 - accuracy: 0.9377\n",
      "Epoch 695/1000\n",
      "105/105 [==============================] - 0s 1ms/step - loss: 0.1659 - accuracy: 0.9271\n",
      "Epoch 696/1000\n",
      "105/105 [==============================] - 0s 1ms/step - loss: 0.2826 - accuracy: 0.8963\n",
      "Epoch 697/1000\n",
      "105/105 [==============================] - 0s 1ms/step - loss: 0.2640 - accuracy: 0.8931\n",
      "Epoch 698/1000\n",
      "105/105 [==============================] - 0s 1ms/step - loss: 0.2308 - accuracy: 0.9073\n",
      "Epoch 699/1000\n",
      "105/105 [==============================] - 0s 1ms/step - loss: 0.2293 - accuracy: 0.9127\n",
      "Epoch 700/1000\n",
      "105/105 [==============================] - 0s 1ms/step - loss: 0.1814 - accuracy: 0.9252\n",
      "Epoch 701/1000\n",
      "105/105 [==============================] - 0s 1ms/step - loss: 0.1616 - accuracy: 0.9355\n",
      "Epoch 702/1000\n",
      "105/105 [==============================] - 0s 1ms/step - loss: 0.1375 - accuracy: 0.9459\n",
      "Epoch 703/1000\n",
      "105/105 [==============================] - 0s 1ms/step - loss: 0.1535 - accuracy: 0.9329\n",
      "Epoch 704/1000\n"
     ]
    },
    {
     "name": "stdout",
     "output_type": "stream",
     "text": [
      "105/105 [==============================] - 0s 1ms/step - loss: 0.1640 - accuracy: 0.9327\n",
      "Epoch 705/1000\n",
      "105/105 [==============================] - 0s 1ms/step - loss: 0.1522 - accuracy: 0.9388\n",
      "Epoch 706/1000\n",
      "105/105 [==============================] - 0s 1ms/step - loss: 0.1458 - accuracy: 0.9456\n",
      "Epoch 707/1000\n",
      "105/105 [==============================] - 0s 1ms/step - loss: 0.1420 - accuracy: 0.9388\n",
      "Epoch 708/1000\n",
      "105/105 [==============================] - 0s 1ms/step - loss: 0.1466 - accuracy: 0.9413\n",
      "Epoch 709/1000\n",
      "105/105 [==============================] - 0s 1ms/step - loss: 0.1469 - accuracy: 0.9410\n",
      "Epoch 710/1000\n",
      "105/105 [==============================] - 0s 1ms/step - loss: 0.1413 - accuracy: 0.9386\n",
      "Epoch 711/1000\n",
      "105/105 [==============================] - 0s 1ms/step - loss: 0.1424 - accuracy: 0.9341\n",
      "Epoch 712/1000\n",
      "105/105 [==============================] - 0s 1ms/step - loss: 0.1481 - accuracy: 0.9405\n",
      "Epoch 713/1000\n",
      "105/105 [==============================] - 0s 1ms/step - loss: 0.1458 - accuracy: 0.9420\n",
      "Epoch 714/1000\n",
      "105/105 [==============================] - 0s 1ms/step - loss: 0.1546 - accuracy: 0.9344\n",
      "Epoch 715/1000\n",
      "105/105 [==============================] - 0s 1ms/step - loss: 0.1432 - accuracy: 0.9428\n",
      "Epoch 716/1000\n",
      "105/105 [==============================] - 0s 1ms/step - loss: 0.1447 - accuracy: 0.9399\n",
      "Epoch 717/1000\n",
      "105/105 [==============================] - 0s 1ms/step - loss: 0.1401 - accuracy: 0.9460\n",
      "Epoch 718/1000\n",
      "105/105 [==============================] - 0s 1ms/step - loss: 0.1538 - accuracy: 0.9369\n",
      "Epoch 719/1000\n",
      "105/105 [==============================] - 0s 1ms/step - loss: 0.1620 - accuracy: 0.9287\n",
      "Epoch 720/1000\n",
      "105/105 [==============================] - 0s 1ms/step - loss: 0.1447 - accuracy: 0.9415\n",
      "Epoch 721/1000\n",
      "105/105 [==============================] - 0s 1ms/step - loss: 0.1473 - accuracy: 0.9361\n",
      "Epoch 722/1000\n",
      "105/105 [==============================] - 0s 1ms/step - loss: 0.1564 - accuracy: 0.9358\n",
      "Epoch 723/1000\n",
      "105/105 [==============================] - 0s 1ms/step - loss: 0.1493 - accuracy: 0.9315\n",
      "Epoch 724/1000\n",
      "105/105 [==============================] - 0s 1ms/step - loss: 0.1690 - accuracy: 0.9315\n",
      "Epoch 725/1000\n",
      "105/105 [==============================] - 0s 1ms/step - loss: 0.1767 - accuracy: 0.9316\n",
      "Epoch 726/1000\n",
      "105/105 [==============================] - 0s 1ms/step - loss: 0.1647 - accuracy: 0.9258\n",
      "Epoch 727/1000\n",
      "105/105 [==============================] - 0s 1ms/step - loss: 0.1518 - accuracy: 0.9351\n",
      "Epoch 728/1000\n",
      "105/105 [==============================] - 0s 981us/step - loss: 0.1397 - accuracy: 0.9379\n",
      "Epoch 729/1000\n",
      "105/105 [==============================] - 0s 1ms/step - loss: 0.1811 - accuracy: 0.9193\n",
      "Epoch 730/1000\n",
      "105/105 [==============================] - 0s 1ms/step - loss: 0.1390 - accuracy: 0.9406\n",
      "Epoch 731/1000\n",
      "105/105 [==============================] - 0s 1ms/step - loss: 0.1448 - accuracy: 0.9349: 0s - loss: 0.1517 - accuracy: 0.\n",
      "Epoch 732/1000\n",
      "105/105 [==============================] - 0s 1ms/step - loss: 0.1499 - accuracy: 0.9378\n",
      "Epoch 733/1000\n",
      "105/105 [==============================] - 0s 1ms/step - loss: 0.1531 - accuracy: 0.9349\n",
      "Epoch 734/1000\n",
      "105/105 [==============================] - 0s 1ms/step - loss: 0.1366 - accuracy: 0.9387: 0s - loss: 0.1198 - accuracy: 0.\n",
      "Epoch 735/1000\n",
      "105/105 [==============================] - 0s 1ms/step - loss: 0.1349 - accuracy: 0.9435\n",
      "Epoch 736/1000\n",
      "105/105 [==============================] - 0s 1ms/step - loss: 0.1308 - accuracy: 0.9409\n",
      "Epoch 737/1000\n",
      "105/105 [==============================] - 0s 1ms/step - loss: 0.1607 - accuracy: 0.9311\n",
      "Epoch 738/1000\n",
      "105/105 [==============================] - 0s 1ms/step - loss: 0.1513 - accuracy: 0.9371\n",
      "Epoch 739/1000\n",
      "105/105 [==============================] - 0s 1ms/step - loss: 0.1468 - accuracy: 0.9323\n",
      "Epoch 740/1000\n",
      "105/105 [==============================] - 0s 1ms/step - loss: 0.1628 - accuracy: 0.9377\n",
      "Epoch 741/1000\n",
      "105/105 [==============================] - 0s 1ms/step - loss: 0.1465 - accuracy: 0.9401\n",
      "Epoch 742/1000\n",
      "105/105 [==============================] - 0s 1ms/step - loss: 0.1621 - accuracy: 0.9319\n",
      "Epoch 743/1000\n",
      "105/105 [==============================] - 0s 1ms/step - loss: 0.1582 - accuracy: 0.9365\n",
      "Epoch 744/1000\n",
      "105/105 [==============================] - 0s 981us/step - loss: 0.1453 - accuracy: 0.9363\n",
      "Epoch 745/1000\n",
      "105/105 [==============================] - 0s 1ms/step - loss: 0.1228 - accuracy: 0.9507\n",
      "Epoch 746/1000\n",
      "105/105 [==============================] - 0s 1ms/step - loss: 0.1479 - accuracy: 0.9354\n",
      "Epoch 747/1000\n",
      "105/105 [==============================] - 0s 981us/step - loss: 0.1600 - accuracy: 0.9312\n",
      "Epoch 748/1000\n",
      "105/105 [==============================] - 0s 1ms/step - loss: 0.1528 - accuracy: 0.9372\n",
      "Epoch 749/1000\n",
      "105/105 [==============================] - 0s 1ms/step - loss: 0.1328 - accuracy: 0.9446\n",
      "Epoch 750/1000\n",
      "105/105 [==============================] - 0s 1ms/step - loss: 0.1526 - accuracy: 0.9321\n",
      "Epoch 751/1000\n",
      "105/105 [==============================] - 0s 1ms/step - loss: 0.1368 - accuracy: 0.9420\n",
      "Epoch 752/1000\n",
      "105/105 [==============================] - 0s 1ms/step - loss: 0.1526 - accuracy: 0.9334\n",
      "Epoch 753/1000\n",
      "105/105 [==============================] - 0s 1ms/step - loss: 0.1499 - accuracy: 0.9382\n",
      "Epoch 754/1000\n",
      "105/105 [==============================] - 0s 1ms/step - loss: 0.1307 - accuracy: 0.9468\n",
      "Epoch 755/1000\n",
      "105/105 [==============================] - 0s 1ms/step - loss: 0.1329 - accuracy: 0.9432\n",
      "Epoch 756/1000\n",
      "105/105 [==============================] - 0s 1ms/step - loss: 0.1473 - accuracy: 0.9406\n",
      "Epoch 757/1000\n",
      "105/105 [==============================] - 0s 1ms/step - loss: 0.1462 - accuracy: 0.9406\n",
      "Epoch 758/1000\n",
      "105/105 [==============================] - 0s 1ms/step - loss: 0.1330 - accuracy: 0.9390\n",
      "Epoch 759/1000\n",
      "105/105 [==============================] - 0s 1ms/step - loss: 0.1505 - accuracy: 0.9385\n",
      "Epoch 760/1000\n",
      "105/105 [==============================] - 0s 1ms/step - loss: 0.1496 - accuracy: 0.9374\n",
      "Epoch 761/1000\n",
      "105/105 [==============================] - 0s 1ms/step - loss: 0.1652 - accuracy: 0.9401\n",
      "Epoch 762/1000\n",
      "105/105 [==============================] - 0s 1ms/step - loss: 0.1628 - accuracy: 0.9287\n",
      "Epoch 763/1000\n",
      "105/105 [==============================] - 0s 1ms/step - loss: 0.1487 - accuracy: 0.9329\n",
      "Epoch 764/1000\n",
      "105/105 [==============================] - 0s 1ms/step - loss: 0.1395 - accuracy: 0.9430\n",
      "Epoch 765/1000\n",
      "105/105 [==============================] - 0s 1ms/step - loss: 0.1542 - accuracy: 0.9355\n",
      "Epoch 766/1000\n",
      "105/105 [==============================] - 0s 1ms/step - loss: 0.1502 - accuracy: 0.9380\n",
      "Epoch 767/1000\n",
      "105/105 [==============================] - 0s 1ms/step - loss: 0.1241 - accuracy: 0.9464\n",
      "Epoch 768/1000\n",
      "105/105 [==============================] - 0s 1ms/step - loss: 0.1380 - accuracy: 0.9418\n",
      "Epoch 769/1000\n",
      "105/105 [==============================] - 0s 1ms/step - loss: 0.1731 - accuracy: 0.9308\n",
      "Epoch 770/1000\n",
      "105/105 [==============================] - 0s 1ms/step - loss: 0.1535 - accuracy: 0.9358\n",
      "Epoch 771/1000\n",
      "105/105 [==============================] - 0s 1ms/step - loss: 0.1477 - accuracy: 0.9422\n",
      "Epoch 772/1000\n",
      "105/105 [==============================] - 0s 991us/step - loss: 0.1305 - accuracy: 0.9441\n",
      "Epoch 773/1000\n",
      "105/105 [==============================] - 0s 1ms/step - loss: 0.1373 - accuracy: 0.9446\n",
      "Epoch 774/1000\n",
      "105/105 [==============================] - 0s 1ms/step - loss: 0.1462 - accuracy: 0.9337\n",
      "Epoch 775/1000\n",
      "105/105 [==============================] - 0s 1ms/step - loss: 0.1565 - accuracy: 0.9316\n",
      "Epoch 776/1000\n",
      "105/105 [==============================] - 0s 1ms/step - loss: 0.1600 - accuracy: 0.9321\n",
      "Epoch 777/1000\n",
      "105/105 [==============================] - 0s 1ms/step - loss: 0.1470 - accuracy: 0.9404\n",
      "Epoch 778/1000\n",
      "105/105 [==============================] - 0s 971us/step - loss: 0.1362 - accuracy: 0.9423\n",
      "Epoch 779/1000\n",
      "105/105 [==============================] - 0s 1ms/step - loss: 0.1725 - accuracy: 0.9277\n",
      "Epoch 780/1000\n",
      "105/105 [==============================] - 0s 1ms/step - loss: 0.1108 - accuracy: 0.9553\n",
      "Epoch 781/1000\n",
      "105/105 [==============================] - 0s 1ms/step - loss: 0.1438 - accuracy: 0.9385\n",
      "Epoch 782/1000\n"
     ]
    },
    {
     "name": "stdout",
     "output_type": "stream",
     "text": [
      "105/105 [==============================] - 0s 991us/step - loss: 0.1234 - accuracy: 0.9474\n",
      "Epoch 783/1000\n",
      "105/105 [==============================] - 0s 1ms/step - loss: 0.1656 - accuracy: 0.9325\n",
      "Epoch 784/1000\n",
      "105/105 [==============================] - 0s 1ms/step - loss: 0.1355 - accuracy: 0.9451\n",
      "Epoch 785/1000\n",
      "105/105 [==============================] - 0s 1ms/step - loss: 0.1384 - accuracy: 0.9397\n",
      "Epoch 786/1000\n",
      "105/105 [==============================] - 0s 1ms/step - loss: 0.1443 - accuracy: 0.9386\n",
      "Epoch 787/1000\n",
      "105/105 [==============================] - 0s 1ms/step - loss: 0.2424 - accuracy: 0.9003\n",
      "Epoch 788/1000\n",
      "105/105 [==============================] - 0s 1ms/step - loss: 0.1623 - accuracy: 0.9285\n",
      "Epoch 789/1000\n",
      "105/105 [==============================] - 0s 1ms/step - loss: 0.1457 - accuracy: 0.9377\n",
      "Epoch 790/1000\n",
      "105/105 [==============================] - 0s 1ms/step - loss: 0.1166 - accuracy: 0.9552\n",
      "Epoch 791/1000\n",
      "105/105 [==============================] - 0s 1ms/step - loss: 0.1329 - accuracy: 0.9457\n",
      "Epoch 792/1000\n",
      "105/105 [==============================] - 0s 981us/step - loss: 0.1279 - accuracy: 0.9518\n",
      "Epoch 793/1000\n",
      "105/105 [==============================] - 0s 943us/step - loss: 0.1406 - accuracy: 0.9430\n",
      "Epoch 794/1000\n",
      "105/105 [==============================] - 0s 952us/step - loss: 0.1244 - accuracy: 0.9464\n",
      "Epoch 795/1000\n",
      "105/105 [==============================] - 0s 1ms/step - loss: 0.1503 - accuracy: 0.9337\n",
      "Epoch 796/1000\n",
      "105/105 [==============================] - 0s 1ms/step - loss: 0.1288 - accuracy: 0.9518\n",
      "Epoch 797/1000\n",
      "105/105 [==============================] - 0s 1ms/step - loss: 0.1550 - accuracy: 0.9294\n",
      "Epoch 798/1000\n",
      "105/105 [==============================] - 0s 1ms/step - loss: 0.1369 - accuracy: 0.9405\n",
      "Epoch 799/1000\n",
      "105/105 [==============================] - 0s 1ms/step - loss: 0.1484 - accuracy: 0.9349\n",
      "Epoch 800/1000\n",
      "105/105 [==============================] - 0s 1ms/step - loss: 0.1432 - accuracy: 0.9399\n",
      "Epoch 801/1000\n",
      "105/105 [==============================] - 0s 1ms/step - loss: 0.1586 - accuracy: 0.9299\n",
      "Epoch 802/1000\n",
      "105/105 [==============================] - 0s 1ms/step - loss: 0.1264 - accuracy: 0.9504\n",
      "Epoch 803/1000\n",
      "105/105 [==============================] - 0s 1ms/step - loss: 0.1345 - accuracy: 0.9435\n",
      "Epoch 804/1000\n",
      "105/105 [==============================] - 0s 1ms/step - loss: 0.1472 - accuracy: 0.9414\n",
      "Epoch 805/1000\n",
      "105/105 [==============================] - 0s 1ms/step - loss: 0.1696 - accuracy: 0.9280: 0s - loss: 0.1844 - accuracy: 0.\n",
      "Epoch 806/1000\n",
      "105/105 [==============================] - 0s 1ms/step - loss: 0.1461 - accuracy: 0.9341\n",
      "Epoch 807/1000\n",
      "105/105 [==============================] - 0s 1ms/step - loss: 0.1444 - accuracy: 0.9418\n",
      "Epoch 808/1000\n",
      "105/105 [==============================] - 0s 1ms/step - loss: 0.1504 - accuracy: 0.9326\n",
      "Epoch 809/1000\n",
      "105/105 [==============================] - 0s 1ms/step - loss: 0.1436 - accuracy: 0.9328\n",
      "Epoch 810/1000\n",
      "105/105 [==============================] - 0s 1ms/step - loss: 0.1475 - accuracy: 0.9369\n",
      "Epoch 811/1000\n",
      "105/105 [==============================] - 0s 1ms/step - loss: 0.1283 - accuracy: 0.9484\n",
      "Epoch 812/1000\n",
      "105/105 [==============================] - 0s 1ms/step - loss: 0.1534 - accuracy: 0.9355\n",
      "Epoch 813/1000\n",
      "105/105 [==============================] - 0s 1ms/step - loss: 0.1305 - accuracy: 0.9487\n",
      "Epoch 814/1000\n",
      "105/105 [==============================] - 0s 1ms/step - loss: 0.1666 - accuracy: 0.9298\n",
      "Epoch 815/1000\n",
      "105/105 [==============================] - 0s 1ms/step - loss: 0.1165 - accuracy: 0.9559\n",
      "Epoch 816/1000\n",
      "105/105 [==============================] - 0s 962us/step - loss: 0.1589 - accuracy: 0.9284\n",
      "Epoch 817/1000\n",
      "105/105 [==============================] - 0s 1ms/step - loss: 0.1351 - accuracy: 0.9415\n",
      "Epoch 818/1000\n",
      "105/105 [==============================] - 0s 1ms/step - loss: 0.1452 - accuracy: 0.9401\n",
      "Epoch 819/1000\n",
      "105/105 [==============================] - 0s 1ms/step - loss: 0.1391 - accuracy: 0.9450\n",
      "Epoch 820/1000\n",
      "105/105 [==============================] - 0s 1ms/step - loss: 0.1388 - accuracy: 0.9426\n",
      "Epoch 821/1000\n",
      "105/105 [==============================] - 0s 1ms/step - loss: 0.1566 - accuracy: 0.9343\n",
      "Epoch 822/1000\n",
      "105/105 [==============================] - 0s 1ms/step - loss: 0.1191 - accuracy: 0.9546\n",
      "Epoch 823/1000\n",
      "105/105 [==============================] - 0s 1ms/step - loss: 0.1625 - accuracy: 0.9308\n",
      "Epoch 824/1000\n",
      "105/105 [==============================] - 0s 2ms/step - loss: 0.1269 - accuracy: 0.9468\n",
      "Epoch 825/1000\n",
      "105/105 [==============================] - 0s 1ms/step - loss: 0.1346 - accuracy: 0.9479\n",
      "Epoch 826/1000\n",
      "105/105 [==============================] - 0s 1ms/step - loss: 0.1222 - accuracy: 0.9479\n",
      "Epoch 827/1000\n",
      "105/105 [==============================] - 0s 1ms/step - loss: 0.1264 - accuracy: 0.9460\n",
      "Epoch 828/1000\n",
      "105/105 [==============================] - 0s 1ms/step - loss: 0.1347 - accuracy: 0.9430\n",
      "Epoch 829/1000\n",
      "105/105 [==============================] - 0s 1ms/step - loss: 0.1333 - accuracy: 0.9426\n",
      "Epoch 830/1000\n",
      "105/105 [==============================] - 0s 1ms/step - loss: 0.1440 - accuracy: 0.9377\n",
      "Epoch 831/1000\n",
      "105/105 [==============================] - ETA: 0s - loss: 0.1629 - accuracy: 0.93 - 0s 2ms/step - loss: 0.1631 - accuracy: 0.9326\n",
      "Epoch 832/1000\n",
      "105/105 [==============================] - 0s 1ms/step - loss: 0.1391 - accuracy: 0.9424\n",
      "Epoch 833/1000\n",
      "105/105 [==============================] - 0s 1ms/step - loss: 0.1246 - accuracy: 0.9475\n",
      "Epoch 834/1000\n",
      "105/105 [==============================] - 0s 1ms/step - loss: 0.1550 - accuracy: 0.9295\n",
      "Epoch 835/1000\n",
      "105/105 [==============================] - 0s 1ms/step - loss: 0.1509 - accuracy: 0.9456\n",
      "Epoch 836/1000\n",
      "105/105 [==============================] - 0s 1ms/step - loss: 0.1295 - accuracy: 0.9476\n",
      "Epoch 837/1000\n",
      "105/105 [==============================] - 0s 1ms/step - loss: 0.1562 - accuracy: 0.9281\n",
      "Epoch 838/1000\n",
      "105/105 [==============================] - 0s 1ms/step - loss: 0.1343 - accuracy: 0.9411\n",
      "Epoch 839/1000\n",
      "105/105 [==============================] - 0s 1ms/step - loss: 0.1363 - accuracy: 0.9476\n",
      "Epoch 840/1000\n",
      "105/105 [==============================] - 0s 1ms/step - loss: 0.1259 - accuracy: 0.9451\n",
      "Epoch 841/1000\n",
      "105/105 [==============================] - 0s 1ms/step - loss: 0.1283 - accuracy: 0.9451\n",
      "Epoch 842/1000\n",
      "105/105 [==============================] - 0s 1ms/step - loss: 0.2210 - accuracy: 0.9174\n",
      "Epoch 843/1000\n",
      "105/105 [==============================] - 0s 1ms/step - loss: 0.1486 - accuracy: 0.9372\n",
      "Epoch 844/1000\n",
      "105/105 [==============================] - 0s 1ms/step - loss: 0.1417 - accuracy: 0.9355\n",
      "Epoch 845/1000\n",
      "105/105 [==============================] - 0s 1ms/step - loss: 0.1164 - accuracy: 0.9466\n",
      "Epoch 846/1000\n",
      "105/105 [==============================] - 0s 1ms/step - loss: 0.1382 - accuracy: 0.9456\n",
      "Epoch 847/1000\n",
      "105/105 [==============================] - 0s 1ms/step - loss: 0.1174 - accuracy: 0.9496\n",
      "Epoch 848/1000\n",
      "105/105 [==============================] - 0s 1ms/step - loss: 0.1365 - accuracy: 0.9329\n",
      "Epoch 849/1000\n",
      "105/105 [==============================] - 0s 1ms/step - loss: 0.1282 - accuracy: 0.9472\n",
      "Epoch 850/1000\n",
      "105/105 [==============================] - 0s 1ms/step - loss: 0.1453 - accuracy: 0.9410\n",
      "Epoch 851/1000\n",
      "105/105 [==============================] - 0s 1ms/step - loss: 0.1359 - accuracy: 0.9363\n",
      "Epoch 852/1000\n",
      "105/105 [==============================] - 0s 1ms/step - loss: 0.1267 - accuracy: 0.9429\n",
      "Epoch 853/1000\n",
      "105/105 [==============================] - 0s 2ms/step - loss: 0.1347 - accuracy: 0.9369\n",
      "Epoch 854/1000\n",
      "105/105 [==============================] - 0s 1ms/step - loss: 0.1487 - accuracy: 0.9405\n",
      "Epoch 855/1000\n",
      "105/105 [==============================] - 0s 1ms/step - loss: 0.1390 - accuracy: 0.9403\n",
      "Epoch 856/1000\n",
      "105/105 [==============================] - 0s 1ms/step - loss: 0.1298 - accuracy: 0.9466\n",
      "Epoch 857/1000\n",
      "105/105 [==============================] - 0s 1ms/step - loss: 0.1322 - accuracy: 0.9408\n",
      "Epoch 858/1000\n",
      "105/105 [==============================] - 0s 1ms/step - loss: 0.1441 - accuracy: 0.9345\n",
      "Epoch 859/1000\n",
      "105/105 [==============================] - 0s 1ms/step - loss: 0.1378 - accuracy: 0.9434\n",
      "Epoch 860/1000\n"
     ]
    },
    {
     "name": "stdout",
     "output_type": "stream",
     "text": [
      "105/105 [==============================] - 0s 1ms/step - loss: 0.1331 - accuracy: 0.9403\n",
      "Epoch 861/1000\n",
      "105/105 [==============================] - 0s 1ms/step - loss: 0.1308 - accuracy: 0.9430\n",
      "Epoch 862/1000\n",
      "105/105 [==============================] - 0s 981us/step - loss: 0.1355 - accuracy: 0.9423\n",
      "Epoch 863/1000\n",
      "105/105 [==============================] - 0s 991us/step - loss: 0.1385 - accuracy: 0.9412\n",
      "Epoch 864/1000\n",
      "105/105 [==============================] - 0s 1ms/step - loss: 0.1210 - accuracy: 0.9474\n",
      "Epoch 865/1000\n",
      "105/105 [==============================] - 0s 2ms/step - loss: 0.1425 - accuracy: 0.9406\n",
      "Epoch 866/1000\n",
      "105/105 [==============================] - 0s 1ms/step - loss: 0.1385 - accuracy: 0.9366\n",
      "Epoch 867/1000\n",
      "105/105 [==============================] - 0s 1ms/step - loss: 0.1567 - accuracy: 0.9340\n",
      "Epoch 868/1000\n",
      "105/105 [==============================] - 0s 1ms/step - loss: 0.1195 - accuracy: 0.9568\n",
      "Epoch 869/1000\n",
      "105/105 [==============================] - 0s 1ms/step - loss: 0.1441 - accuracy: 0.9388\n",
      "Epoch 870/1000\n",
      "105/105 [==============================] - 0s 981us/step - loss: 0.1222 - accuracy: 0.9490\n",
      "Epoch 871/1000\n",
      "105/105 [==============================] - 0s 1ms/step - loss: 0.1434 - accuracy: 0.9416\n",
      "Epoch 872/1000\n",
      "105/105 [==============================] - 0s 1ms/step - loss: 0.1514 - accuracy: 0.9362\n",
      "Epoch 873/1000\n",
      "105/105 [==============================] - 0s 1ms/step - loss: 0.1453 - accuracy: 0.9442\n",
      "Epoch 874/1000\n",
      "105/105 [==============================] - 0s 1ms/step - loss: 0.1277 - accuracy: 0.9454\n",
      "Epoch 875/1000\n",
      "105/105 [==============================] - 0s 1ms/step - loss: 0.1241 - accuracy: 0.9484\n",
      "Epoch 876/1000\n",
      "105/105 [==============================] - 0s 1ms/step - loss: 0.1118 - accuracy: 0.9586\n",
      "Epoch 877/1000\n",
      "105/105 [==============================] - 0s 1ms/step - loss: 0.1320 - accuracy: 0.9485\n",
      "Epoch 878/1000\n",
      "105/105 [==============================] - 0s 1ms/step - loss: 0.1475 - accuracy: 0.9423\n",
      "Epoch 879/1000\n",
      "105/105 [==============================] - 0s 1ms/step - loss: 0.1606 - accuracy: 0.9372\n",
      "Epoch 880/1000\n",
      "105/105 [==============================] - 0s 1ms/step - loss: 0.1586 - accuracy: 0.9334\n",
      "Epoch 881/1000\n",
      "105/105 [==============================] - 0s 1ms/step - loss: 0.1518 - accuracy: 0.9369\n",
      "Epoch 882/1000\n",
      "105/105 [==============================] - 0s 1ms/step - loss: 0.1370 - accuracy: 0.9412\n",
      "Epoch 883/1000\n",
      "105/105 [==============================] - 0s 1ms/step - loss: 0.1298 - accuracy: 0.9480\n",
      "Epoch 884/1000\n",
      "105/105 [==============================] - 0s 1ms/step - loss: 0.1759 - accuracy: 0.9246\n",
      "Epoch 885/1000\n",
      "105/105 [==============================] - 0s 1ms/step - loss: 0.1307 - accuracy: 0.9398\n",
      "Epoch 886/1000\n",
      "105/105 [==============================] - 0s 1ms/step - loss: 0.1329 - accuracy: 0.9440\n",
      "Epoch 887/1000\n",
      "105/105 [==============================] - 0s 1ms/step - loss: 0.1355 - accuracy: 0.9381\n",
      "Epoch 888/1000\n",
      "105/105 [==============================] - 0s 1ms/step - loss: 0.1099 - accuracy: 0.9546\n",
      "Epoch 889/1000\n",
      "105/105 [==============================] - 0s 1ms/step - loss: 0.1211 - accuracy: 0.9507\n",
      "Epoch 890/1000\n",
      "105/105 [==============================] - 0s 1ms/step - loss: 0.1521 - accuracy: 0.9369\n",
      "Epoch 891/1000\n",
      "105/105 [==============================] - 0s 1ms/step - loss: 0.1367 - accuracy: 0.9378\n",
      "Epoch 892/1000\n",
      "105/105 [==============================] - 0s 1ms/step - loss: 0.1348 - accuracy: 0.9455\n",
      "Epoch 893/1000\n",
      "105/105 [==============================] - 0s 1ms/step - loss: 0.1297 - accuracy: 0.9496\n",
      "Epoch 894/1000\n",
      "105/105 [==============================] - 0s 1ms/step - loss: 0.1381 - accuracy: 0.9427\n",
      "Epoch 895/1000\n",
      "105/105 [==============================] - 0s 1ms/step - loss: 0.1292 - accuracy: 0.9412\n",
      "Epoch 896/1000\n",
      "105/105 [==============================] - 0s 1ms/step - loss: 0.1383 - accuracy: 0.9403\n",
      "Epoch 897/1000\n",
      "105/105 [==============================] - 0s 1ms/step - loss: 0.1186 - accuracy: 0.9453\n",
      "Epoch 898/1000\n",
      "105/105 [==============================] - 0s 1ms/step - loss: 0.1110 - accuracy: 0.9506\n",
      "Epoch 899/1000\n",
      "105/105 [==============================] - 0s 1ms/step - loss: 0.1080 - accuracy: 0.9549\n",
      "Epoch 900/1000\n",
      "105/105 [==============================] - 0s 1ms/step - loss: 0.1307 - accuracy: 0.9438\n",
      "Epoch 901/1000\n",
      "105/105 [==============================] - 0s 1ms/step - loss: 0.1440 - accuracy: 0.9397\n",
      "Epoch 902/1000\n",
      "105/105 [==============================] - 0s 1ms/step - loss: 0.1647 - accuracy: 0.9315\n",
      "Epoch 903/1000\n",
      "105/105 [==============================] - 0s 1ms/step - loss: 0.1346 - accuracy: 0.9452\n",
      "Epoch 904/1000\n",
      "105/105 [==============================] - 0s 1ms/step - loss: 0.1384 - accuracy: 0.9395\n",
      "Epoch 905/1000\n",
      "105/105 [==============================] - 0s 1ms/step - loss: 0.1203 - accuracy: 0.9508\n",
      "Epoch 906/1000\n",
      "105/105 [==============================] - 0s 1ms/step - loss: 0.1333 - accuracy: 0.9442\n",
      "Epoch 907/1000\n",
      "105/105 [==============================] - 0s 1ms/step - loss: 0.1275 - accuracy: 0.9446\n",
      "Epoch 908/1000\n",
      "105/105 [==============================] - 0s 1ms/step - loss: 0.1279 - accuracy: 0.9397\n",
      "Epoch 909/1000\n",
      "105/105 [==============================] - 0s 1ms/step - loss: 0.1317 - accuracy: 0.9449\n",
      "Epoch 910/1000\n",
      "105/105 [==============================] - 0s 1ms/step - loss: 0.1202 - accuracy: 0.9510\n",
      "Epoch 911/1000\n",
      "105/105 [==============================] - 0s 1ms/step - loss: 0.1301 - accuracy: 0.9425\n",
      "Epoch 912/1000\n",
      "105/105 [==============================] - 0s 1ms/step - loss: 0.1284 - accuracy: 0.9432\n",
      "Epoch 913/1000\n",
      "105/105 [==============================] - 0s 1ms/step - loss: 0.1214 - accuracy: 0.9480\n",
      "Epoch 914/1000\n",
      "105/105 [==============================] - 0s 1ms/step - loss: 0.1260 - accuracy: 0.9479\n",
      "Epoch 915/1000\n",
      "105/105 [==============================] - 0s 1ms/step - loss: 0.1185 - accuracy: 0.9468\n",
      "Epoch 916/1000\n",
      "105/105 [==============================] - 0s 1ms/step - loss: 0.1564 - accuracy: 0.9321\n",
      "Epoch 917/1000\n",
      "105/105 [==============================] - 0s 1ms/step - loss: 0.1435 - accuracy: 0.9391\n",
      "Epoch 918/1000\n",
      "105/105 [==============================] - 0s 1ms/step - loss: 0.1442 - accuracy: 0.9389\n",
      "Epoch 919/1000\n",
      "105/105 [==============================] - 0s 1ms/step - loss: 0.1360 - accuracy: 0.9445\n",
      "Epoch 920/1000\n",
      "105/105 [==============================] - 0s 1ms/step - loss: 0.1330 - accuracy: 0.9462\n",
      "Epoch 921/1000\n",
      "105/105 [==============================] - 0s 2ms/step - loss: 0.1274 - accuracy: 0.9501\n",
      "Epoch 922/1000\n",
      "105/105 [==============================] - 0s 1ms/step - loss: 0.1161 - accuracy: 0.9503\n",
      "Epoch 923/1000\n",
      "105/105 [==============================] - 0s 1ms/step - loss: 0.1213 - accuracy: 0.9495\n",
      "Epoch 924/1000\n",
      "105/105 [==============================] - 0s 1ms/step - loss: 0.1596 - accuracy: 0.9282\n",
      "Epoch 925/1000\n",
      "105/105 [==============================] - 0s 1ms/step - loss: 0.1323 - accuracy: 0.9452\n",
      "Epoch 926/1000\n",
      "105/105 [==============================] - 0s 1ms/step - loss: 0.1223 - accuracy: 0.9503\n",
      "Epoch 927/1000\n",
      "105/105 [==============================] - 0s 1ms/step - loss: 0.1329 - accuracy: 0.9409\n",
      "Epoch 928/1000\n",
      "105/105 [==============================] - 0s 1ms/step - loss: 0.1195 - accuracy: 0.9486\n",
      "Epoch 929/1000\n",
      "105/105 [==============================] - 0s 1ms/step - loss: 0.1159 - accuracy: 0.9512\n",
      "Epoch 930/1000\n",
      "105/105 [==============================] - 0s 1ms/step - loss: 0.1275 - accuracy: 0.9496\n",
      "Epoch 931/1000\n",
      "105/105 [==============================] - 0s 1ms/step - loss: 0.1238 - accuracy: 0.9497\n",
      "Epoch 932/1000\n",
      "105/105 [==============================] - 0s 1ms/step - loss: 0.1600 - accuracy: 0.9335\n",
      "Epoch 933/1000\n",
      "105/105 [==============================] - 0s 952us/step - loss: 0.1228 - accuracy: 0.9473\n",
      "Epoch 934/1000\n",
      "105/105 [==============================] - 0s 1ms/step - loss: 0.1209 - accuracy: 0.9444\n",
      "Epoch 935/1000\n",
      "105/105 [==============================] - 0s 1ms/step - loss: 0.1272 - accuracy: 0.9466\n",
      "Epoch 936/1000\n",
      "105/105 [==============================] - 0s 1ms/step - loss: 0.1328 - accuracy: 0.9457\n",
      "Epoch 937/1000\n",
      "105/105 [==============================] - 0s 991us/step - loss: 0.1466 - accuracy: 0.9368\n",
      "Epoch 938/1000\n"
     ]
    },
    {
     "name": "stdout",
     "output_type": "stream",
     "text": [
      "105/105 [==============================] - 0s 1ms/step - loss: 0.1242 - accuracy: 0.9491\n",
      "Epoch 939/1000\n",
      "105/105 [==============================] - 0s 1ms/step - loss: 0.1470 - accuracy: 0.9373\n",
      "Epoch 940/1000\n",
      "105/105 [==============================] - 0s 952us/step - loss: 0.1171 - accuracy: 0.9507\n",
      "Epoch 941/1000\n",
      "105/105 [==============================] - 0s 1ms/step - loss: 0.1116 - accuracy: 0.9508\n",
      "Epoch 942/1000\n",
      "105/105 [==============================] - 0s 981us/step - loss: 0.1162 - accuracy: 0.9450\n",
      "Epoch 943/1000\n",
      "105/105 [==============================] - 0s 991us/step - loss: 0.1522 - accuracy: 0.9282\n",
      "Epoch 944/1000\n",
      "105/105 [==============================] - 0s 991us/step - loss: 0.1452 - accuracy: 0.9438\n",
      "Epoch 945/1000\n",
      "105/105 [==============================] - 0s 991us/step - loss: 0.1190 - accuracy: 0.9582\n",
      "Epoch 946/1000\n",
      "105/105 [==============================] - 0s 981us/step - loss: 0.1282 - accuracy: 0.9473\n",
      "Epoch 947/1000\n",
      "105/105 [==============================] - 0s 1ms/step - loss: 0.1165 - accuracy: 0.9477\n",
      "Epoch 948/1000\n",
      "105/105 [==============================] - 0s 1ms/step - loss: 0.1485 - accuracy: 0.9384\n",
      "Epoch 949/1000\n",
      "105/105 [==============================] - 0s 981us/step - loss: 0.1248 - accuracy: 0.9517\n",
      "Epoch 950/1000\n",
      "105/105 [==============================] - 0s 1ms/step - loss: 0.1291 - accuracy: 0.9416\n",
      "Epoch 951/1000\n",
      "105/105 [==============================] - 0s 1ms/step - loss: 0.1474 - accuracy: 0.9327\n",
      "Epoch 952/1000\n",
      "105/105 [==============================] - 0s 1ms/step - loss: 0.1327 - accuracy: 0.9442\n",
      "Epoch 953/1000\n",
      "105/105 [==============================] - 0s 1ms/step - loss: 0.1058 - accuracy: 0.9581\n",
      "Epoch 954/1000\n",
      "105/105 [==============================] - 0s 1ms/step - loss: 0.1093 - accuracy: 0.9557\n",
      "Epoch 955/1000\n",
      "105/105 [==============================] - 0s 981us/step - loss: 0.1109 - accuracy: 0.9571\n",
      "Epoch 956/1000\n",
      "105/105 [==============================] - 0s 1ms/step - loss: 0.1357 - accuracy: 0.9384\n",
      "Epoch 957/1000\n",
      "105/105 [==============================] - 0s 991us/step - loss: 0.1224 - accuracy: 0.9462\n",
      "Epoch 958/1000\n",
      "105/105 [==============================] - 0s 1ms/step - loss: 0.1244 - accuracy: 0.9449\n",
      "Epoch 959/1000\n",
      "105/105 [==============================] - 0s 1ms/step - loss: 0.1555 - accuracy: 0.9428\n",
      "Epoch 960/1000\n",
      "105/105 [==============================] - 0s 1ms/step - loss: 0.1229 - accuracy: 0.9480\n",
      "Epoch 961/1000\n",
      "105/105 [==============================] - 0s 1ms/step - loss: 0.1411 - accuracy: 0.9386\n",
      "Epoch 962/1000\n",
      "105/105 [==============================] - 0s 952us/step - loss: 0.1231 - accuracy: 0.9499\n",
      "Epoch 963/1000\n",
      "105/105 [==============================] - 0s 1ms/step - loss: 0.1205 - accuracy: 0.9522\n",
      "Epoch 964/1000\n",
      "105/105 [==============================] - 0s 1ms/step - loss: 0.1341 - accuracy: 0.9452\n",
      "Epoch 965/1000\n",
      "105/105 [==============================] - 0s 971us/step - loss: 0.1593 - accuracy: 0.9315\n",
      "Epoch 966/1000\n",
      "105/105 [==============================] - 0s 1ms/step - loss: 0.1430 - accuracy: 0.9383\n",
      "Epoch 967/1000\n",
      "105/105 [==============================] - 0s 1ms/step - loss: 0.1249 - accuracy: 0.9475\n",
      "Epoch 968/1000\n",
      "105/105 [==============================] - 0s 981us/step - loss: 0.1263 - accuracy: 0.9456\n",
      "Epoch 969/1000\n",
      "105/105 [==============================] - 0s 1ms/step - loss: 0.1136 - accuracy: 0.9539\n",
      "Epoch 970/1000\n",
      "105/105 [==============================] - 0s 1ms/step - loss: 0.1180 - accuracy: 0.9505\n",
      "Epoch 971/1000\n",
      "105/105 [==============================] - 0s 1ms/step - loss: 0.1202 - accuracy: 0.9540\n",
      "Epoch 972/1000\n",
      "105/105 [==============================] - 0s 952us/step - loss: 0.1728 - accuracy: 0.9262\n",
      "Epoch 973/1000\n",
      "105/105 [==============================] - 0s 1ms/step - loss: 0.1354 - accuracy: 0.9427\n",
      "Epoch 974/1000\n",
      "105/105 [==============================] - 0s 1ms/step - loss: 0.1160 - accuracy: 0.9507\n",
      "Epoch 975/1000\n",
      "105/105 [==============================] - 0s 1ms/step - loss: 0.1158 - accuracy: 0.9512\n",
      "Epoch 976/1000\n",
      "105/105 [==============================] - 0s 1ms/step - loss: 0.1293 - accuracy: 0.9443\n",
      "Epoch 977/1000\n",
      "105/105 [==============================] - 0s 1ms/step - loss: 0.1711 - accuracy: 0.9378\n",
      "Epoch 978/1000\n",
      "105/105 [==============================] - 0s 1ms/step - loss: 0.1429 - accuracy: 0.9441\n",
      "Epoch 979/1000\n",
      "105/105 [==============================] - 0s 1ms/step - loss: 0.1190 - accuracy: 0.9480\n",
      "Epoch 980/1000\n",
      "105/105 [==============================] - 0s 1ms/step - loss: 0.1117 - accuracy: 0.9545\n",
      "Epoch 981/1000\n",
      "105/105 [==============================] - 0s 1ms/step - loss: 0.1136 - accuracy: 0.9562\n",
      "Epoch 982/1000\n",
      "105/105 [==============================] - 0s 1ms/step - loss: 0.1195 - accuracy: 0.9451\n",
      "Epoch 983/1000\n",
      "105/105 [==============================] - 0s 1ms/step - loss: 0.1296 - accuracy: 0.9443\n",
      "Epoch 984/1000\n",
      "105/105 [==============================] - 0s 1ms/step - loss: 0.1609 - accuracy: 0.9359\n",
      "Epoch 985/1000\n",
      "105/105 [==============================] - 0s 1ms/step - loss: 0.1139 - accuracy: 0.9482\n",
      "Epoch 986/1000\n",
      "105/105 [==============================] - 0s 1ms/step - loss: 0.1085 - accuracy: 0.9542\n",
      "Epoch 987/1000\n",
      "105/105 [==============================] - 0s 1ms/step - loss: 0.1237 - accuracy: 0.9482\n",
      "Epoch 988/1000\n",
      "105/105 [==============================] - 0s 1ms/step - loss: 0.1233 - accuracy: 0.9480\n",
      "Epoch 989/1000\n",
      "105/105 [==============================] - 0s 1ms/step - loss: 0.1329 - accuracy: 0.9384\n",
      "Epoch 990/1000\n",
      "105/105 [==============================] - 0s 981us/step - loss: 0.1282 - accuracy: 0.9433\n",
      "Epoch 991/1000\n",
      "105/105 [==============================] - 0s 991us/step - loss: 0.1265 - accuracy: 0.9488\n",
      "Epoch 992/1000\n",
      "105/105 [==============================] - 0s 1ms/step - loss: 0.1271 - accuracy: 0.9477\n",
      "Epoch 993/1000\n",
      "105/105 [==============================] - 0s 1ms/step - loss: 0.1134 - accuracy: 0.9463\n",
      "Epoch 994/1000\n",
      "105/105 [==============================] - 0s 1ms/step - loss: 0.1409 - accuracy: 0.9370\n",
      "Epoch 995/1000\n",
      "105/105 [==============================] - 0s 1ms/step - loss: 0.1489 - accuracy: 0.9369\n",
      "Epoch 996/1000\n",
      "105/105 [==============================] - 0s 1ms/step - loss: 0.1683 - accuracy: 0.9288\n",
      "Epoch 997/1000\n",
      "105/105 [==============================] - 0s 1ms/step - loss: 0.1379 - accuracy: 0.9421\n",
      "Epoch 998/1000\n",
      "105/105 [==============================] - 0s 1ms/step - loss: 0.1118 - accuracy: 0.9498\n",
      "Epoch 999/1000\n",
      "105/105 [==============================] - 0s 991us/step - loss: 0.1182 - accuracy: 0.9501\n",
      "Epoch 1000/1000\n",
      "105/105 [==============================] - 0s 1ms/step - loss: 0.1320 - accuracy: 0.9457\n"
     ]
    },
    {
     "data": {
      "text/plain": [
       "<tensorflow.python.keras.callbacks.History at 0x12961d04a30>"
      ]
     },
     "execution_count": 71,
     "metadata": {},
     "output_type": "execute_result"
    }
   ],
   "source": [
    "model=tf.keras.models.Sequential([\n",
    "    tf.keras.layers.Dense(64,activation='tanh'),\n",
    "    tf.keras.layers.Dense(128,activation='tanh'),\n",
    "    tf.keras.layers.Dense(1,activation='sigmoid'),\n",
    "])\n",
    "\n",
    "model.compile(optimizer='adam',loss='binary_crossentropy',metrics=['accuracy'])\n",
    "\n",
    "model.fit(np.array(xData),np.array(yData),epochs=1000)"
   ]
  },
  {
   "cell_type": "markdown",
   "metadata": {},
   "source": [
    "#### 고객 정보 입력받기"
   ]
  },
  {
   "cell_type": "code",
   "execution_count": 73,
   "metadata": {},
   "outputs": [
    {
     "name": "stdout",
     "output_type": "stream",
     "text": [
      "1.가입 기간을 입력하세요 (주 단위): 77\n",
      "2.신규 갱신 여부를 입력하세요. 갱신은 1, 아니면 0 입력 1\n",
      "3.데이터 사용 여부를 입력하세요 (사용은 1, 아니면 0): 0\n",
      "4.데이터 사용량을 반올림해서 입력하세요. (소수점 첫째 자리에서 반올림) (단위 G): 0\n",
      "5.콜센터에 전화 횟수를 입력하세요: 5\n",
      "6.전화한 시간을 입력하세요. (소수점 첫재 짜리에서 반올림) (단위 : 분): 63\n",
      "7.전화 횟수를 입력하세요: 89\n",
      "8.한달 요금을 입력하세요. 소수점 첫째 자리에서 반올림: 26\n",
      "9.초과요금을 입력하세요 (소수점 첫째 자리에서 반올림): 9\n",
      "10로밍 요금을 입력하세요: 6\n"
     ]
    }
   ],
   "source": [
    "MemberWeek = int(input('1.가입 기간을 입력하세요 (주 단위): '))\n",
    "NewConstract = int(input('2.신규 갱신 여부를 입력하세요. 갱신은 1, 아니면 0 입력 '))\n",
    "IsData = int(input('3.데이터 사용 여부를 입력하세요 (사용은 1, 아니면 0): '))\n",
    "DataAmount = int(input('4.데이터 사용량을 반올림해서 입력하세요. (소수점 첫째 자리에서 반올림) (단위 G): '))\n",
    "Callcenter = int(input('5.콜센터에 전화 횟수를 입력하세요: '))\n",
    "CalMins = int(input('6.전화한 시간을 입력하세요. (소수점 첫재 짜리에서 반올림) (단위 : 분): '))\n",
    "CalCounts = int(input('7.전화 횟수를 입력하세요: '))\n",
    "MonthlyFee = int(input('8.한달 요금을 입력하세요. 소수점 첫째 자리에서 반올림: '))\n",
    "OverFee = int(input('9.초과요금을 입력하세요 (소수점 첫째 자리에서 반올림): '))\n",
    "RoamingMin = int(input('10로밍 요금을 입력하세요: '))"
   ]
  },
  {
   "cell_type": "code",
   "execution_count": 74,
   "metadata": {},
   "outputs": [
    {
     "name": "stdout",
     "output_type": "stream",
     "text": [
      "[[0.9999399]]\n"
     ]
    }
   ],
   "source": [
    "predict =model.predict([[MemberWeek,NewConstract,IsData,DataAmount,Callcenter,CalMins,CalCounts,MonthlyFee,OverFee,RoamingMin]])\n",
    "print(predict)"
   ]
  },
  {
   "cell_type": "code",
   "execution_count": 75,
   "metadata": {},
   "outputs": [],
   "source": [
    "predict=predict*100"
   ]
  },
  {
   "cell_type": "markdown",
   "metadata": {},
   "source": [
    "#### 도출한 확률값을 이용한 함수 생성"
   ]
  },
  {
   "cell_type": "code",
   "execution_count": 76,
   "metadata": {},
   "outputs": [],
   "source": [
    "def Result(predict) :   \n",
    "    if (predict > 0.0) & (predict <= 20) :\n",
    "        return print(\"이탈지수 :\",predict,\", 장기 멤버으로 예측된 고객입니다. 안전합니다.\")\n",
    "    elif (predict > 20) & (predict <= 40) :\n",
    "        return print(\"이탈지수 :\",predict,\", 장기 멤버 가능성이 있는 고객입니다.\")\n",
    "    elif (predict > 40) & (predict <= 60) :\n",
    "        return print(\"이탈지수 :\",predict,\", 이탈 징후가 보이기 시작했습니다.\")\n",
    "    elif (predict > 60) & (predict <= 80) :\n",
    "        return print(\"이탈지수 :\",predict,\", 이탈 가능성이 있는 고객입니다. 지켜보세요\")\n",
    "    elif (predict > 80) & (predict <= 100) :\n",
    "        return print(\"이탈지수 :\",predict,\", 곧 이탈할 고객입니다. 주의하세요\") "
   ]
  },
  {
   "cell_type": "markdown",
   "metadata": {},
   "source": [
    "# 현재 고객의 이탈 예측 값 도출"
   ]
  },
  {
   "cell_type": "code",
   "execution_count": 77,
   "metadata": {},
   "outputs": [
    {
     "name": "stdout",
     "output_type": "stream",
     "text": [
      "이탈지수 : [[99.99399]] , 곧 이탈할 고객입니다. 주의하세요\n"
     ]
    }
   ],
   "source": [
    "Result(predict)"
   ]
  },
  {
   "cell_type": "markdown",
   "metadata": {},
   "source": [
    "# 결론과 가이드 제시\n",
    "\n",
    "\n",
    "**1.** 전화 시간과 데이터 사용량은 월 요금과 큰 관계가 높은 반면,  \n",
    "가입기간, 콜센터 전화수, 전화횟수와는 관계가 없다.  \n",
    "초과 요금과 로밍시간은 월 요금과 아주 약간의 관계가 있으나 미약하다.  \n",
    "\n",
    "-> 고객이 전화를 오래하고 데이터를 많이 쓰도록 해야한다.\n",
    "\n",
    "-> 데이터 가입하지 않은 사람에게는 **가입을 하도록 유도**하고\n",
    "**통화를 오래**하도록 해야한다.\n",
    "\n",
    "->  초과요금과 로밍요금은 월 요금제와 큰 차이가 없으니 서비스로 제공하는 정도는 고려하되  \n",
    "데이터와 전화요금을 올리는 서비스도 좋을 것 같다.\n",
    "\n",
    "**2.** 초반의 요금을 많이내는 사람에게 초과 요금과 로밍요금같은 효과미미한 서비스를 무료로 제공해주면서  맴버쉽 기간을 늘려야할 것이다.  \n",
    "특히 위 데이터 분석에서 **2년차 이후 감소하는 경향**이 있으므로 2년차 때 고객을 잘 케어해야한다.\n",
    "\n",
    "**3.** 요금을 적게내면서 고객센터에 전화를 많이하는 사람을 **블랙리스트**로 관리했다.  \n",
    "위 블랙리스트 들에게 해지를 유도하는 것이 회사 이익의 좋은 방향일 수 있다.\n",
    "\n",
    "하지만 위 분석결과 **약 63$ 부근에서 해지하는 경향**을 보여주었다.   \n",
    "-> 비싼요금을 낼 수록 이탈률이 증가하므로 **Trade Off 관계** 를 잘 고려해야 한다.\n"
   ]
  },
  {
   "cell_type": "markdown",
   "metadata": {},
   "source": [
    "# 어려웠던 점\n"
   ]
  },
  {
   "cell_type": "markdown",
   "metadata": {},
   "source": [
    "데이터가 국내인지 외국인지 알수없었고, 외국데이터라면 그 나라의 문화 등을 고려해야 할텐데 그 점을 고려하지 못했다.  \n",
    "따라서 어떠한 좋은 서비스를 제공해 수 있을지 난해한 점이 있었다."
   ]
  },
  {
   "cell_type": "markdown",
   "metadata": {},
   "source": [
    "# 마무리 하며..\n",
    "#### 데이터 분석하기전 결과 예측을 아래와 같이 하였었습니다.\n",
    " 1. 상위 25%고객은 월요금제에 둔감하여 고객센터에 전화를 잘 안할것이다.\n",
    " 2. 상위 25%고객이 월 매출의 절반이상을 차지할 것이다.\n",
    " 3. 다른것에 비해 데이터를 많이 사용할수록 월요금이 증가할 것이다.\n",
    "\n",
    "예상대로 데이터를 많이 사용할수록 월 요금이 증가하하기도 했지만    \n",
    "오히려 상위 고객이 고객센터에 전화를 좀 더 하였고, 매출도 지배할정도로 차지하진 않았습니다.    \n",
    "\n",
    "추가로 분석하다보니 예상치못하게 호기심이 생겨서 더 분석해 좋은 결과를 도출하기도 했습니다.     \n",
    "ex) 딥러닝 모델을 활용해 고객 이탈 확률 예측  \n",
    " \n",
    "수업시간에 배운 내용을 토대로 데이터 전처리부터 분석, 시각화 등을 활용할 수 있던 좋은 기회였습니다.  \n",
    "\n",
    "한학기 알찬 강의 덕분에 많은 것을 배웠습니다. 한학기 정말 수고많으셨습니다.   \n",
    "감사합니다.  \n",
    "\n",
    "강준구 올림. 2021.06.16\n"
   ]
  },
  {
   "cell_type": "code",
   "execution_count": null,
   "metadata": {},
   "outputs": [],
   "source": []
  }
 ],
 "metadata": {
  "kernelspec": {
   "display_name": "Python 3",
   "language": "python",
   "name": "python3"
  },
  "language_info": {
   "codemirror_mode": {
    "name": "ipython",
    "version": 3
   },
   "file_extension": ".py",
   "mimetype": "text/x-python",
   "name": "python",
   "nbconvert_exporter": "python",
   "pygments_lexer": "ipython3",
   "version": "3.8.5"
  }
 },
 "nbformat": 4,
 "nbformat_minor": 4
}
